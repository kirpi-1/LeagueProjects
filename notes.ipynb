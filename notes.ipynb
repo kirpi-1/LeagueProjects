{
 "cells": [
  {
   "cell_type": "code",
   "execution_count": 1,
   "id": "85a1df0b-9577-43f6-afe0-a2dfe6760e8a",
   "metadata": {},
   "outputs": [],
   "source": [
    "import sys\n",
    "from utils import apikey, rate, payload, regions\n",
    "import utils\n",
    "import os, sys, signal, threading\n",
    "import requests\n",
    "import json\n",
    "import time\n",
    "import pandas as pd\n",
    "import sqlite3\n"
   ]
  },
  {
   "cell_type": "code",
   "execution_count": 13,
   "id": "df5131f7-36fd-4c0c-ba9e-577f0c20a847",
   "metadata": {},
   "outputs": [
    {
     "data": {
      "text/plain": [
       "{'X-Riot-Token': 'RGAPI-abc8d04b-22f3-4e9e-ae31-bce0ca4b4f36'}"
      ]
     },
     "execution_count": 13,
     "metadata": {},
     "output_type": "execute_result"
    }
   ],
   "source": [
    "payload"
   ]
  },
  {
   "cell_type": "code",
   "execution_count": 61,
   "id": "142bef11-71f8-4278-b949-0e0b8ebf5eba",
   "metadata": {},
   "outputs": [],
   "source": [
    "region = 'jp1'\n",
    "queues = ['RANKED_SOLO_5x5']\n",
    "queue = 'RANKED_SOLO_5x5'\n",
    "baseurl = f'https://{region}.api.riotgames.com'\n",
    "leagues = ['IRON', 'BRONZE', 'SILVER', 'GOLD', 'PLATINUM', 'EMERALD', 'DIAMOND']\n",
    "divisions = ['I','II','III','IV','V']\n",
    "endpoints = {}\n",
    "expert_endpoints = {\n",
    "    'CHALLENGER':f'/lol/league/v4/challengerleagues/by-queue/{queue}',\n",
    "    'GRANDMASTER':f'/lol/league/v4/grandmasterleagues/by-queue/{queue}',\n",
    "    'MASTER':f'/lol/league/v4/masterleagues/by-queue/{queue}'\n",
    "}\n",
    "for league in leagues:\n",
    "    for division in divisions:\t\t\t\t\n",
    "        endpoints[league+\" \"+division] = f'/lol/league/v4/entries/{queue}/{league}/{division}'\n",
    "# add '?page={page}'\n"
   ]
  },
  {
   "cell_type": "code",
   "execution_count": 57,
   "id": "5b64c3f8-a286-4c11-bea6-a0624d408991",
   "metadata": {},
   "outputs": [
    {
     "name": "stdout",
     "output_type": "stream",
     "text": [
      "Finished page 019\r"
     ]
    }
   ],
   "source": [
    "all_data = list()\n",
    "for key in endpoints.keys():\n",
    "    print(f\"Starting {key}\")\n",
    "    l = endpoints[key]\n",
    "    quit = False\n",
    "    page = 1\n",
    "    while not quit:    \n",
    "        quit = True\n",
    "        url = baseurl+l\n",
    "        if key not in ['CHALLENGER', 'GRANDMASTER', 'MASTER']:\n",
    "            url+=f\"?page={page}\"\n",
    "            quit = False          \n",
    "        resp = requests.get(url, headers=payload)\n",
    "        if resp.ok:\n",
    "            data = json.loads(resp.content)\n",
    "            if len(data)>0:                        \n",
    "                quit = False\n",
    "                print(f\"Finished page {page:03d}\", end='\\r')\n",
    "                all_data += data\n",
    "                page+=1\n",
    "                time.sleep(1/rate)\n",
    "            else:\n",
    "                quit = True            \n",
    "df = pd.DataFrame(all_data)"
   ]
  },
  {
   "cell_type": "code",
   "execution_count": 59,
   "id": "0e0e1bd1-b8b4-421f-a1ff-074de12b52e9",
   "metadata": {},
   "outputs": [],
   "source": [
    "df = pd.DataFrame(all_data)"
   ]
  },
  {
   "cell_type": "code",
   "execution_count": 73,
   "id": "128e5ac7-ba28-4537-b5e6-78bb276a8335",
   "metadata": {},
   "outputs": [
    {
     "data": {
      "text/plain": [
       "leagueId        object\n",
       "queueType       object\n",
       "tier            object\n",
       "rank            object\n",
       "summonerId      object\n",
       "summonerName    object\n",
       "leaguePoints     int64\n",
       "wins             int64\n",
       "losses           int64\n",
       "veteran           bool\n",
       "inactive          bool\n",
       "freshBlood        bool\n",
       "hotStreak         bool\n",
       "dtype: object"
      ]
     },
     "execution_count": 73,
     "metadata": {},
     "output_type": "execute_result"
    }
   ],
   "source": [
    "df.dtypes"
   ]
  },
  {
   "cell_type": "code",
   "execution_count": 74,
   "id": "9e2feaf8-3520-4764-aa90-7620f3defc1b",
   "metadata": {},
   "outputs": [],
   "source": []
  },
  {
   "cell_type": "code",
   "execution_count": 3,
   "id": "f143340e-d28d-403c-8972-349d4940c74e",
   "metadata": {
    "scrolled": true
   },
   "outputs": [],
   "source": [
    "con = sqlite3.connect(\"data/data.db\") \n",
    "cur = con.cursor()\n",
    "query = '''\n",
    "CREATE TABLE summoners(\n",
    "    summonerId string, \n",
    "    summonerName string, \n",
    "    tier string, \n",
    "    rank string, \n",
    "    region string)\n",
    "'''\n",
    "cur.execute(query)\n",
    "con.commit()\n",
    "con.close()"
   ]
  },
  {
   "cell_type": "code",
   "execution_count": 10,
   "id": "04be6c32-69fb-41a2-94a9-0906065ba2df",
   "metadata": {},
   "outputs": [],
   "source": [
    "con = sqlite3.connect(\"data/data.db\") \n",
    "cur = con.cursor()\n",
    "query = '''\n",
    "ALTER TABLE summoners ADD accountId string\n",
    "'''\n",
    "cur.execute(query)\n",
    "con.commit()\n",
    "con.close()"
   ]
  },
  {
   "cell_type": "code",
   "execution_count": 11,
   "id": "e4dc05a4-0408-44d0-9de5-fed78181b8cd",
   "metadata": {},
   "outputs": [],
   "source": [
    "con = sqlite3.connect(\"data/data.db\")\n",
    "cur = con.cursor()\n",
    "query = \"PRAGMA table_info(summoners);\"\n",
    "res = cur.execute(query)\n"
   ]
  },
  {
   "cell_type": "code",
   "execution_count": 12,
   "id": "cb86d747-b4cd-4090-add1-3cfc11655939",
   "metadata": {},
   "outputs": [
    {
     "data": {
      "text/plain": [
       "<sqlite3.Cursor at 0x205ff999340>"
      ]
     },
     "execution_count": 12,
     "metadata": {},
     "output_type": "execute_result"
    }
   ],
   "source": [
    "res"
   ]
  },
  {
   "cell_type": "code",
   "execution_count": 13,
   "id": "05d40d83-91fc-44d6-9129-b2b29ebd967f",
   "metadata": {},
   "outputs": [
    {
     "data": {
      "text/plain": [
       "[(0, 'summonerId', 'string', 0, None, 0),\n",
       " (1, 'summonerName', 'string', 0, None, 0),\n",
       " (2, 'tier', 'string', 0, None, 0),\n",
       " (3, 'rank', 'string', 0, None, 0),\n",
       " (4, 'region', 'string', 0, None, 0),\n",
       " (5, 'puuid', 'string', 0, None, 0),\n",
       " (6, 'accountId', 'string', 0, None, 0)]"
      ]
     },
     "execution_count": 13,
     "metadata": {},
     "output_type": "execute_result"
    }
   ],
   "source": [
    "res.fetchall()"
   ]
  },
  {
   "cell_type": "code",
   "execution_count": 14,
   "id": "74aeb88c-53d2-48c5-b24b-6bca7f771a5a",
   "metadata": {},
   "outputs": [],
   "source": [
    "con.commit()\n",
    "con.close()"
   ]
  },
  {
   "cell_type": "code",
   "execution_count": null,
   "id": "99240e6e-b279-44fa-8b50-325d9e64c192",
   "metadata": {},
   "outputs": [],
   "source": []
  }
 ],
 "metadata": {
  "kernelspec": {
   "display_name": "Python 3 (ipykernel)",
   "language": "python",
   "name": "python3"
  },
  "language_info": {
   "codemirror_mode": {
    "name": "ipython",
    "version": 3
   },
   "file_extension": ".py",
   "mimetype": "text/x-python",
   "name": "python",
   "nbconvert_exporter": "python",
   "pygments_lexer": "ipython3",
   "version": "3.11.2"
  }
 },
 "nbformat": 4,
 "nbformat_minor": 5
}
