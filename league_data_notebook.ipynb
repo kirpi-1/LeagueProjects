{
 "cells": [
  {
   "cell_type": "code",
   "execution_count": 80,
   "metadata": {},
   "outputs": [],
   "source": [
    "import requests\n",
    "import json\n",
    "import pandas as pd\n",
    "import time\n",
    "from IPython.display import clear_output, display\n",
    "import sys\n",
    "import random\n",
    "import numpy as np\n",
    "import os\n",
    "import sqlite3\n",
    "# Strategy\n",
    "# get list of players\n",
    "# from list of players, get list of games\n",
    "# from list of games, get game stats\n",
    "from utils import apikey, payload, rate, regions\n",
    "\n",
    "def write_list(l, filename):\n",
    "\tfilename = add_txt_ext(filename)\n",
    "\tif os.path.dirname(filename)!='':\n",
    "\t\tos.makedirs(os.path.dirname(filename), exist_ok=True)\n",
    "\twith open(filename,'w',encoding='utf-8',errors='ignore') as f:\n",
    "\t\tfor item in l:\n",
    "\t\t\tf.write(str(item)+'\\n')\n",
    "\n",
    "def load_list(filename):\n",
    "\tout = []\n",
    "\twith open(filename,'r', encoding='utf-8', errors ='ignore') as f:\n",
    "\t\tl = f.readline()\n",
    "\t\twhile l!=\"\":\n",
    "\t\t\tl = l.strip()\n",
    "\t\t\tout.append(l)\n",
    "\t\t\tl = f.readline()\n",
    "\treturn out\n",
    "def append_to_file(val, filename):\n",
    "\tfilename = add_txt_ext(filename)\n",
    "\tif os.path.dirname(filename)!='':\n",
    "\t\tos.makedirs(os.path.dirname(filename), exist_ok=True)\n",
    "\twith open(filename, 'a',encoding='utf-8',errors='ignore') as f:\n",
    "\t\tif type(val)==type(list()):\n",
    "\t\t\tfor v in val:\n",
    "\t\t\t\tf.write(str(v)+\"\\n\")\n",
    "\t\telse:\n",
    "\t\t\tf.write(str(val)+\"\\n\")\n",
    "def add_txt_ext(filename):\n",
    "\tpath,ext = os.path.splitext(filename)\n",
    "\tif ext != \"txt\":\n",
    "\t\tfilename = path+\".txt\"\n",
    "\treturn filename"
   ]
  },
  {
   "cell_type": "code",
   "execution_count": 142,
   "metadata": {},
   "outputs": [
    {
     "data": {
      "text/plain": [
       "[{'leagueId': 'e9535aff-8d6f-4d83-aa68-be700453edf8',\n",
       "  'queueType': 'RANKED_SOLO_5x5',\n",
       "  'tier': 'PLATINUM',\n",
       "  'rank': 'I',\n",
       "  'summonerId': 'NFBhoMN_-HiwlJUc3OXWC296oimfQALs0hHaBtaAnnplalol',\n",
       "  'summonerName': 'xTc4',\n",
       "  'leaguePoints': 75,\n",
       "  'wins': 99,\n",
       "  'losses': 95,\n",
       "  'veteran': False,\n",
       "  'inactive': False,\n",
       "  'freshBlood': False,\n",
       "  'hotStreak': False},\n",
       " {'leagueId': 'e068725c-8658-497c-97b7-102f423737e0',\n",
       "  'queueType': 'RANKED_SOLO_5x5',\n",
       "  'tier': 'PLATINUM',\n",
       "  'rank': 'I',\n",
       "  'summonerId': 'PpVDo1HuQsxs7719ikjocj1d6ohItOppp5C6JxhPhT_I0Kui',\n",
       "  'summonerName': 'cleborp100',\n",
       "  'leaguePoints': 75,\n",
       "  'wins': 510,\n",
       "  'losses': 512,\n",
       "  'veteran': True,\n",
       "  'inactive': False,\n",
       "  'freshBlood': False,\n",
       "  'hotStreak': True},\n",
       " {'leagueId': 'ced18464-d729-4402-8f39-7f7e43c53865',\n",
       "  'queueType': 'RANKED_SOLO_5x5',\n",
       "  'tier': 'PLATINUM',\n",
       "  'rank': 'I',\n",
       "  'summonerId': 'rb80K8G_Zp3ruUqKwnsl5TSpulFJqXlRGSiMATEizssPt3gd',\n",
       "  'summonerName': 'Violence Li',\n",
       "  'leaguePoints': 75,\n",
       "  'wins': 148,\n",
       "  'losses': 112,\n",
       "  'veteran': False,\n",
       "  'inactive': False,\n",
       "  'freshBlood': False,\n",
       "  'hotStreak': False},\n",
       " {'leagueId': '5bc80f3d-d247-4beb-a9ca-27acb9847e1b',\n",
       "  'queueType': 'RANKED_SOLO_5x5',\n",
       "  'tier': 'PLATINUM',\n",
       "  'rank': 'I',\n",
       "  'summonerId': 'qIshgtLGGY9NOIj7e8TVwoSfTATgwFiqFRxARikIjSByI2O_',\n",
       "  'summonerName': 'JudgeJudySmurfin',\n",
       "  'leaguePoints': 0,\n",
       "  'wins': 12,\n",
       "  'losses': 10,\n",
       "  'veteran': False,\n",
       "  'inactive': False,\n",
       "  'freshBlood': False,\n",
       "  'hotStreak': False},\n",
       " {'leagueId': '5760a640-7af9-4935-bbb8-6f3ed3ecd6bf',\n",
       "  'queueType': 'RANKED_SOLO_5x5',\n",
       "  'tier': 'PLATINUM',\n",
       "  'rank': 'I',\n",
       "  'summonerId': 'v3gsz6gGJq7FMtwRMnW_hm9bsBMJH18smhcgvkovzMXXzffx',\n",
       "  'summonerName': 'Dàncer',\n",
       "  'leaguePoints': 9,\n",
       "  'wins': 6,\n",
       "  'losses': 10,\n",
       "  'veteran': False,\n",
       "  'inactive': False,\n",
       "  'freshBlood': False,\n",
       "  'hotStreak': False},\n",
       " {'leagueId': 'd3bf1a6e-612c-48a4-a057-c688d65bc538',\n",
       "  'queueType': 'RANKED_SOLO_5x5',\n",
       "  'tier': 'PLATINUM',\n",
       "  'rank': 'I',\n",
       "  'summonerId': 'Eu5K9Z56OyoH5MTRLpToHtFtvOAX2vU-BzdUYPKlJ9UO96H0',\n",
       "  'summonerName': 'SEASON8WOW',\n",
       "  'leaguePoints': 75,\n",
       "  'wins': 62,\n",
       "  'losses': 60,\n",
       "  'veteran': False,\n",
       "  'inactive': False,\n",
       "  'freshBlood': False,\n",
       "  'hotStreak': False},\n",
       " {'leagueId': '4d0bd898-8165-41e9-8a61-5ecb92de2f0f',\n",
       "  'queueType': 'RANKED_SOLO_5x5',\n",
       "  'tier': 'PLATINUM',\n",
       "  'rank': 'I',\n",
       "  'summonerId': 'YKCBAgV0E9IrEs9t3CWeN4jsU_yskKT5QbEbYtfrS7FtQ_f_',\n",
       "  'summonerName': 'ATB Storm',\n",
       "  'leaguePoints': 100,\n",
       "  'wins': 280,\n",
       "  'losses': 241,\n",
       "  'veteran': False,\n",
       "  'inactive': False,\n",
       "  'freshBlood': False,\n",
       "  'hotStreak': True,\n",
       "  'miniSeries': {'target': 3, 'wins': 0, 'losses': 0, 'progress': 'NNNNN'}},\n",
       " {'leagueId': '4d51937f-1e3d-4115-b7f5-2e915258b465',\n",
       "  'queueType': 'RANKED_SOLO_5x5',\n",
       "  'tier': 'PLATINUM',\n",
       "  'rank': 'I',\n",
       "  'summonerId': 'MkQZh_b1KnNNd1N6nhDuTpYAWWLElA_lLBn5onste8y4ClGl',\n",
       "  'summonerName': 'theeggrollpimp69',\n",
       "  'leaguePoints': 75,\n",
       "  'wins': 72,\n",
       "  'losses': 64,\n",
       "  'veteran': False,\n",
       "  'inactive': False,\n",
       "  'freshBlood': False,\n",
       "  'hotStreak': False},\n",
       " {'leagueId': 'a75a0447-38f9-4556-b4c0-78f47958e2f8',\n",
       "  'queueType': 'RANKED_SOLO_5x5',\n",
       "  'tier': 'PLATINUM',\n",
       "  'rank': 'I',\n",
       "  'summonerId': '-4mvD2tmYfdqkIMwlAB4VqZejkOrA_ZN_Q_kfXnnPUhX2glF',\n",
       "  'summonerName': 'Annie xiâo kê ài',\n",
       "  'leaguePoints': 100,\n",
       "  'wins': 8,\n",
       "  'losses': 9,\n",
       "  'veteran': False,\n",
       "  'inactive': False,\n",
       "  'freshBlood': False,\n",
       "  'hotStreak': False,\n",
       "  'miniSeries': {'target': 3, 'wins': 0, 'losses': 1, 'progress': 'LNNNN'}},\n",
       " {'leagueId': 'e0bbd5c1-7e5b-4d71-8562-ee3b55da4945',\n",
       "  'queueType': 'RANKED_SOLO_5x5',\n",
       "  'tier': 'PLATINUM',\n",
       "  'rank': 'I',\n",
       "  'summonerId': 'EojpbzfUXPRjHSUAD4F4ssh6p4ia7AdvmgFpfCuqdMmx8BMw',\n",
       "  'summonerName': 'Xyrid',\n",
       "  'leaguePoints': 33,\n",
       "  'wins': 15,\n",
       "  'losses': 13,\n",
       "  'veteran': False,\n",
       "  'inactive': False,\n",
       "  'freshBlood': False,\n",
       "  'hotStreak': False},\n",
       " {'leagueId': '79dc57ad-a2cc-43d0-abca-f5905148863b',\n",
       "  'queueType': 'RANKED_SOLO_5x5',\n",
       "  'tier': 'PLATINUM',\n",
       "  'rank': 'I',\n",
       "  'summonerId': '5O7o-8UAlABXbjjJ_LyzHY3DStMAQCuY9yJHHrZSUXyD4HRF',\n",
       "  'summonerName': '2020MIDking',\n",
       "  'leaguePoints': 86,\n",
       "  'wins': 179,\n",
       "  'losses': 152,\n",
       "  'veteran': True,\n",
       "  'inactive': False,\n",
       "  'freshBlood': False,\n",
       "  'hotStreak': True},\n",
       " {'leagueId': 'e5344377-1a05-4fa6-950f-f161246ded05',\n",
       "  'queueType': 'RANKED_SOLO_5x5',\n",
       "  'tier': 'PLATINUM',\n",
       "  'rank': 'I',\n",
       "  'summonerId': 'k71M0OSnl6aepajj7tzHHtyJFKsVD8_iEfXDP3LBoMdS2ko1',\n",
       "  'summonerName': 'TSM Sarcasmri',\n",
       "  'leaguePoints': 26,\n",
       "  'wins': 9,\n",
       "  'losses': 8,\n",
       "  'veteran': False,\n",
       "  'inactive': False,\n",
       "  'freshBlood': False,\n",
       "  'hotStreak': False},\n",
       " {'leagueId': '17272e11-66a3-4f58-9f64-bbadd35b1155',\n",
       "  'queueType': 'RANKED_SOLO_5x5',\n",
       "  'tier': 'PLATINUM',\n",
       "  'rank': 'I',\n",
       "  'summonerId': 'h-mnyYtBv303bWedcZZrGXMffIsCrkRL0sYV7DoUigqM2c9J',\n",
       "  'summonerName': 'So be ittt',\n",
       "  'leaguePoints': 75,\n",
       "  'wins': 157,\n",
       "  'losses': 141,\n",
       "  'veteran': False,\n",
       "  'inactive': False,\n",
       "  'freshBlood': False,\n",
       "  'hotStreak': False},\n",
       " {'leagueId': 'a4ef535f-61dd-476e-8cac-f2f3f8ef03cf',\n",
       "  'queueType': 'RANKED_SOLO_5x5',\n",
       "  'tier': 'PLATINUM',\n",
       "  'rank': 'I',\n",
       "  'summonerId': 'EGgBmhIYGR1dLX1fOlP7TZqLu9474SiuqLMxXNTiLXdYxkZm',\n",
       "  'summonerName': 'Fockus Junior',\n",
       "  'leaguePoints': 24,\n",
       "  'wins': 9,\n",
       "  'losses': 8,\n",
       "  'veteran': False,\n",
       "  'inactive': False,\n",
       "  'freshBlood': False,\n",
       "  'hotStreak': False},\n",
       " {'leagueId': 'c9d6df31-8022-402f-8e5d-e73892afed42',\n",
       "  'queueType': 'RANKED_SOLO_5x5',\n",
       "  'tier': 'PLATINUM',\n",
       "  'rank': 'I',\n",
       "  'summonerId': '7bHBiDEG1-LOj_xcxWqk4uTQIbdMMzbzanv43FmQCmzLkE2H',\n",
       "  'summonerName': 'eason11111',\n",
       "  'leaguePoints': 83,\n",
       "  'wins': 148,\n",
       "  'losses': 118,\n",
       "  'veteran': False,\n",
       "  'inactive': False,\n",
       "  'freshBlood': False,\n",
       "  'hotStreak': False},\n",
       " {'leagueId': '7a15df9e-2a72-44e7-83c5-139009f5d482',\n",
       "  'queueType': 'RANKED_SOLO_5x5',\n",
       "  'tier': 'PLATINUM',\n",
       "  'rank': 'I',\n",
       "  'summonerId': 'e_2V8kMJLXlhoVTcGtkdL2m7p5KdyxZ7v-GryEcy2qRKkkSQ',\n",
       "  'summonerName': 'FByA',\n",
       "  'leaguePoints': 75,\n",
       "  'wins': 98,\n",
       "  'losses': 117,\n",
       "  'veteran': False,\n",
       "  'inactive': False,\n",
       "  'freshBlood': False,\n",
       "  'hotStreak': False},\n",
       " {'leagueId': '89b32f5d-18b3-45c9-82f8-2b81f0eeddcc',\n",
       "  'queueType': 'RANKED_SOLO_5x5',\n",
       "  'tier': 'PLATINUM',\n",
       "  'rank': 'I',\n",
       "  'summonerId': 'D_PmYoKA8nIUTkSPWl9uGKp0_49kpG_sqNWU8_sZGvdTYc71',\n",
       "  'summonerName': 'TheKillerKetchup',\n",
       "  'leaguePoints': 0,\n",
       "  'wins': 284,\n",
       "  'losses': 263,\n",
       "  'veteran': False,\n",
       "  'inactive': False,\n",
       "  'freshBlood': False,\n",
       "  'hotStreak': False},\n",
       " {'leagueId': '8941d47f-8efa-4974-a90b-a04f2ef8d758',\n",
       "  'queueType': 'RANKED_SOLO_5x5',\n",
       "  'tier': 'PLATINUM',\n",
       "  'rank': 'I',\n",
       "  'summonerId': 'TFqrtLAKGZwXMUplZFSIHvpQ--LqasKwsPMokl5EL_Qw4dX3',\n",
       "  'summonerName': 'Ishigami Village',\n",
       "  'leaguePoints': 59,\n",
       "  'wins': 122,\n",
       "  'losses': 97,\n",
       "  'veteran': False,\n",
       "  'inactive': False,\n",
       "  'freshBlood': False,\n",
       "  'hotStreak': False},\n",
       " {'leagueId': 'e93bdf13-910c-4d6d-a9a9-d98ba08a3431',\n",
       "  'queueType': 'RANKED_SOLO_5x5',\n",
       "  'tier': 'PLATINUM',\n",
       "  'rank': 'I',\n",
       "  'summonerId': 'DiwWz9DeXyVMTVBqg984leTc9DncAjfA0dfKQIbmFJjqB33q',\n",
       "  'summonerName': 'Koh Deee',\n",
       "  'leaguePoints': 75,\n",
       "  'wins': 281,\n",
       "  'losses': 268,\n",
       "  'veteran': False,\n",
       "  'inactive': False,\n",
       "  'freshBlood': False,\n",
       "  'hotStreak': False},\n",
       " {'leagueId': 'fac7176c-d221-4c9f-ac72-d156d76483b5',\n",
       "  'queueType': 'RANKED_SOLO_5x5',\n",
       "  'tier': 'PLATINUM',\n",
       "  'rank': 'I',\n",
       "  'summonerId': 'rL06SAlOjeE4a-2mN1E7Sy-Zu0CawROfpKFzKZrLBDHWKO9x',\n",
       "  'summonerName': 'Moon88',\n",
       "  'leaguePoints': 75,\n",
       "  'wins': 38,\n",
       "  'losses': 41,\n",
       "  'veteran': False,\n",
       "  'inactive': False,\n",
       "  'freshBlood': False,\n",
       "  'hotStreak': False},\n",
       " {'leagueId': '76af7769-6dbc-4c40-8082-79675534317f',\n",
       "  'queueType': 'RANKED_SOLO_5x5',\n",
       "  'tier': 'PLATINUM',\n",
       "  'rank': 'I',\n",
       "  'summonerId': 'YZMbRYhp3b6-4SyFaxdCGEUP-umw_Vw4ov8A16hSgehWpCpC',\n",
       "  'summonerName': 'eStarAstral',\n",
       "  'leaguePoints': 77,\n",
       "  'wins': 562,\n",
       "  'losses': 547,\n",
       "  'veteran': False,\n",
       "  'inactive': False,\n",
       "  'freshBlood': False,\n",
       "  'hotStreak': True},\n",
       " {'leagueId': '24aaf64b-e00c-44e9-b6d9-a98d8642c7e4',\n",
       "  'queueType': 'RANKED_SOLO_5x5',\n",
       "  'tier': 'PLATINUM',\n",
       "  'rank': 'I',\n",
       "  'summonerId': 'UaYEYTKn_JQw-HPkrvaRCsz0rIRlbvNQWSwekHOkggiVVfQA',\n",
       "  'summonerName': '1920000',\n",
       "  'leaguePoints': 48,\n",
       "  'wins': 544,\n",
       "  'losses': 570,\n",
       "  'veteran': False,\n",
       "  'inactive': False,\n",
       "  'freshBlood': False,\n",
       "  'hotStreak': False},\n",
       " {'leagueId': 'ef619916-951d-4ef7-bba2-179f628031be',\n",
       "  'queueType': 'RANKED_SOLO_5x5',\n",
       "  'tier': 'PLATINUM',\n",
       "  'rank': 'I',\n",
       "  'summonerId': 'klY4xhf5jeulcUshQsXMved1JypXfSiqT1uXpNrALzydvk7Y',\n",
       "  'summonerName': 'ÆŁº',\n",
       "  'leaguePoints': 75,\n",
       "  'wins': 82,\n",
       "  'losses': 72,\n",
       "  'veteran': False,\n",
       "  'inactive': False,\n",
       "  'freshBlood': False,\n",
       "  'hotStreak': False},\n",
       " {'leagueId': 'd3d5106f-9091-4771-baf7-fa561a8544a2',\n",
       "  'queueType': 'RANKED_SOLO_5x5',\n",
       "  'tier': 'PLATINUM',\n",
       "  'rank': 'I',\n",
       "  'summonerId': 'D6GmVc_7dE1eGoHaq89yXRtphNRqLoU6Se6wB8AyzgiQyhxn',\n",
       "  'summonerName': 'Zerø1',\n",
       "  'leaguePoints': 28,\n",
       "  'wins': 22,\n",
       "  'losses': 29,\n",
       "  'veteran': False,\n",
       "  'inactive': False,\n",
       "  'freshBlood': False,\n",
       "  'hotStreak': False},\n",
       " {'leagueId': 'f3140f5f-62fe-49b4-b252-5b5a6dc98b24',\n",
       "  'queueType': 'RANKED_SOLO_5x5',\n",
       "  'tier': 'PLATINUM',\n",
       "  'rank': 'I',\n",
       "  'summonerId': 'MXPg9-u7G_Hsv1o3prLJ5bfyHPT6DS7yhwgwSkcYFOsbcYKq',\n",
       "  'summonerName': 'SKT Ben Shapiro',\n",
       "  'leaguePoints': 100,\n",
       "  'wins': 41,\n",
       "  'losses': 38,\n",
       "  'veteran': False,\n",
       "  'inactive': False,\n",
       "  'freshBlood': False,\n",
       "  'hotStreak': False,\n",
       "  'miniSeries': {'target': 3, 'wins': 1, 'losses': 0, 'progress': 'WNNNN'}},\n",
       " {'leagueId': '76ee2665-cc9d-4585-9c7c-a0fa4319b2c5',\n",
       "  'queueType': 'RANKED_SOLO_5x5',\n",
       "  'tier': 'PLATINUM',\n",
       "  'rank': 'I',\n",
       "  'summonerId': 'YmKiRJxNmq6S9B8euJgpANZIQqckJYcAx10JgewpajzTU8Dq',\n",
       "  'summonerName': 'cocodashi',\n",
       "  'leaguePoints': 75,\n",
       "  'wins': 349,\n",
       "  'losses': 351,\n",
       "  'veteran': False,\n",
       "  'inactive': False,\n",
       "  'freshBlood': False,\n",
       "  'hotStreak': False},\n",
       " {'leagueId': '4e962a11-ff6f-4a1f-aa65-694593c22869',\n",
       "  'queueType': 'RANKED_SOLO_5x5',\n",
       "  'tier': 'PLATINUM',\n",
       "  'rank': 'I',\n",
       "  'summonerId': 'XWqKoM7nRQgcM9HThnmBbvN1ECDYF7X5TJxyw_AsTe1UyfFy',\n",
       "  'summonerName': 'So Sørry',\n",
       "  'leaguePoints': 0,\n",
       "  'wins': 24,\n",
       "  'losses': 17,\n",
       "  'veteran': False,\n",
       "  'inactive': False,\n",
       "  'freshBlood': False,\n",
       "  'hotStreak': False},\n",
       " {'leagueId': '48e5f0a1-2445-4487-a4bd-76383116247b',\n",
       "  'queueType': 'RANKED_SOLO_5x5',\n",
       "  'tier': 'PLATINUM',\n",
       "  'rank': 'I',\n",
       "  'summonerId': '0eZwlNBhYV-7MlUPWGoQhTqxT3pOa1dP5vvUx5oLmBcGlIQp',\n",
       "  'summonerName': 'Clapped ur girl',\n",
       "  'leaguePoints': 20,\n",
       "  'wins': 101,\n",
       "  'losses': 95,\n",
       "  'veteran': False,\n",
       "  'inactive': False,\n",
       "  'freshBlood': False,\n",
       "  'hotStreak': False},\n",
       " {'leagueId': '8b1cad04-089a-4494-82de-4e4b85c01fd7',\n",
       "  'queueType': 'RANKED_SOLO_5x5',\n",
       "  'tier': 'PLATINUM',\n",
       "  'rank': 'I',\n",
       "  'summonerId': '-d7CzfhCADjBjsg8KjPKj8d5W1xXJFebsedYhhe7cd8iYNRB',\n",
       "  'summonerName': 'Péäcê',\n",
       "  'leaguePoints': 21,\n",
       "  'wins': 198,\n",
       "  'losses': 163,\n",
       "  'veteran': False,\n",
       "  'inactive': False,\n",
       "  'freshBlood': False,\n",
       "  'hotStreak': False},\n",
       " {'leagueId': 'fd8e7b49-d195-4d82-a880-db6041825938',\n",
       "  'queueType': 'RANKED_SOLO_5x5',\n",
       "  'tier': 'PLATINUM',\n",
       "  'rank': 'I',\n",
       "  'summonerId': '2xtgXYH65HFkXpYGXG-9CLZBMiIeGuA_rqMmOMkbOBLNVz0i',\n",
       "  'summonerName': 'Ehringhaus',\n",
       "  'leaguePoints': 75,\n",
       "  'wins': 148,\n",
       "  'losses': 134,\n",
       "  'veteran': False,\n",
       "  'inactive': False,\n",
       "  'freshBlood': False,\n",
       "  'hotStreak': False},\n",
       " {'leagueId': '58be9cf9-a7a1-4a6d-9de4-ddbf24c294ab',\n",
       "  'queueType': 'RANKED_SOLO_5x5',\n",
       "  'tier': 'PLATINUM',\n",
       "  'rank': 'I',\n",
       "  'summonerId': '5iBCiEyM858x-463FQzu923M32j3XAkDvWJuiuveENbhj1y7',\n",
       "  'summonerName': 'Taquitoboi',\n",
       "  'leaguePoints': 19,\n",
       "  'wins': 301,\n",
       "  'losses': 289,\n",
       "  'veteran': False,\n",
       "  'inactive': False,\n",
       "  'freshBlood': False,\n",
       "  'hotStreak': False},\n",
       " {'leagueId': 'c5754cb2-01af-4d80-8bd4-2bbd05397600',\n",
       "  'queueType': 'RANKED_SOLO_5x5',\n",
       "  'tier': 'PLATINUM',\n",
       "  'rank': 'I',\n",
       "  'summonerId': 'ut8zPKbc9aoefXbdnURe4132cKl4ywgU9tLHXqluB_0RxM4S',\n",
       "  'summonerName': 'opai',\n",
       "  'leaguePoints': 0,\n",
       "  'wins': 69,\n",
       "  'losses': 39,\n",
       "  'veteran': False,\n",
       "  'inactive': False,\n",
       "  'freshBlood': False,\n",
       "  'hotStreak': True},\n",
       " {'leagueId': '91c59b78-fc61-4db0-aaf3-c917b0b955fa',\n",
       "  'queueType': 'RANKED_SOLO_5x5',\n",
       "  'tier': 'PLATINUM',\n",
       "  'rank': 'I',\n",
       "  'summonerId': 'upuzW7sDhFMXPWfiF965kMtxZK73FEIgzAN1tu6El4moL_KM',\n",
       "  'summonerName': 'Vayny',\n",
       "  'leaguePoints': 17,\n",
       "  'wins': 98,\n",
       "  'losses': 73,\n",
       "  'veteran': False,\n",
       "  'inactive': False,\n",
       "  'freshBlood': False,\n",
       "  'hotStreak': False},\n",
       " {'leagueId': 'fb8c8b79-b87c-4931-a745-e58d16d5c1be',\n",
       "  'queueType': 'RANKED_SOLO_5x5',\n",
       "  'tier': 'PLATINUM',\n",
       "  'rank': 'I',\n",
       "  'summonerId': 'vuWAgw3hwnRv5-3S1jHxGQdaahfiwwqpOF_13nC2iEnlkfAF',\n",
       "  'summonerName': 'Ùndefined',\n",
       "  'leaguePoints': 30,\n",
       "  'wins': 5,\n",
       "  'losses': 7,\n",
       "  'veteran': False,\n",
       "  'inactive': False,\n",
       "  'freshBlood': False,\n",
       "  'hotStreak': False},\n",
       " {'leagueId': 'ced18464-d729-4402-8f39-7f7e43c53865',\n",
       "  'queueType': 'RANKED_SOLO_5x5',\n",
       "  'tier': 'PLATINUM',\n",
       "  'rank': 'I',\n",
       "  'summonerId': 'WV_jT-T9oBF7drpPny0-wMjrSOmEoIReeAovCNZ9La13Y3vl',\n",
       "  'summonerName': 'urgay asyasuo',\n",
       "  'leaguePoints': 75,\n",
       "  'wins': 312,\n",
       "  'losses': 280,\n",
       "  'veteran': False,\n",
       "  'inactive': False,\n",
       "  'freshBlood': False,\n",
       "  'hotStreak': False},\n",
       " {'leagueId': '3934975b-6086-4ad9-972e-860e2805bcea',\n",
       "  'queueType': 'RANKED_SOLO_5x5',\n",
       "  'tier': 'PLATINUM',\n",
       "  'rank': 'I',\n",
       "  'summonerId': 'fywBNCg8s1OpAB-NRKfaU_bWnuIpxQU3Ja2XFYLp2J4MahEf',\n",
       "  'summonerName': 'dOvOb',\n",
       "  'leaguePoints': 12,\n",
       "  'wins': 23,\n",
       "  'losses': 12,\n",
       "  'veteran': False,\n",
       "  'inactive': False,\n",
       "  'freshBlood': False,\n",
       "  'hotStreak': False},\n",
       " {'leagueId': '15708ffd-524c-43ae-8191-e44f6ae48d84',\n",
       "  'queueType': 'RANKED_SOLO_5x5',\n",
       "  'tier': 'PLATINUM',\n",
       "  'rank': 'I',\n",
       "  'summonerId': 'p2o3XrOtw6G7BTioFknmfGuq_UNiaqojzEr6Ff21PzS--hPq',\n",
       "  'summonerName': 'Fymous',\n",
       "  'leaguePoints': 75,\n",
       "  'wins': 57,\n",
       "  'losses': 42,\n",
       "  'veteran': False,\n",
       "  'inactive': False,\n",
       "  'freshBlood': False,\n",
       "  'hotStreak': False},\n",
       " {'leagueId': '6ed9e1f6-dece-4cf6-b5ce-b375d58d03c3',\n",
       "  'queueType': 'RANKED_SOLO_5x5',\n",
       "  'tier': 'PLATINUM',\n",
       "  'rank': 'I',\n",
       "  'summonerId': 'O1UZ9IpwUPEZNaynr0Ce35k-NSN-_nhTu-RD51KIV0OJj9gt',\n",
       "  'summonerName': 'ImYalway',\n",
       "  'leaguePoints': 75,\n",
       "  'wins': 30,\n",
       "  'losses': 23,\n",
       "  'veteran': False,\n",
       "  'inactive': False,\n",
       "  'freshBlood': False,\n",
       "  'hotStreak': False},\n",
       " {'leagueId': 'ccef492e-2c03-4e06-836e-4ac570e2982b',\n",
       "  'queueType': 'RANKED_SOLO_5x5',\n",
       "  'tier': 'PLATINUM',\n",
       "  'rank': 'I',\n",
       "  'summonerId': 'Co0VFAqhOq8Cztwht8JzTlMh8lXT0ERVt8L8Aw4tfezSWyds',\n",
       "  'summonerName': 'Only My Heart',\n",
       "  'leaguePoints': 0,\n",
       "  'wins': 291,\n",
       "  'losses': 253,\n",
       "  'veteran': False,\n",
       "  'inactive': False,\n",
       "  'freshBlood': False,\n",
       "  'hotStreak': True},\n",
       " {'leagueId': 'd06a92c8-6c86-40f3-a1b0-d3a4c4c859cf',\n",
       "  'queueType': 'RANKED_SOLO_5x5',\n",
       "  'tier': 'PLATINUM',\n",
       "  'rank': 'I',\n",
       "  'summonerId': 'Tqw-ek-zo_NW4PnAD2VJ2bmAZeDzXCxF0KhVAsfAOb23OKYg',\n",
       "  'summonerName': 'First Sol',\n",
       "  'leaguePoints': 75,\n",
       "  'wins': 32,\n",
       "  'losses': 37,\n",
       "  'veteran': False,\n",
       "  'inactive': False,\n",
       "  'freshBlood': False,\n",
       "  'hotStreak': False},\n",
       " {'leagueId': 'ccef492e-2c03-4e06-836e-4ac570e2982b',\n",
       "  'queueType': 'RANKED_SOLO_5x5',\n",
       "  'tier': 'PLATINUM',\n",
       "  'rank': 'I',\n",
       "  'summonerId': 'b9sNCwFGJvsGq5o_ya-4-YuoNF7kydhv9BMgqXozzuvZQF9R',\n",
       "  'summonerName': 'sweety nanaki',\n",
       "  'leaguePoints': 75,\n",
       "  'wins': 258,\n",
       "  'losses': 287,\n",
       "  'veteran': True,\n",
       "  'inactive': False,\n",
       "  'freshBlood': False,\n",
       "  'hotStreak': False},\n",
       " {'leagueId': '8a32f3ca-4670-4e46-9d45-2d013a2cd9c2',\n",
       "  'queueType': 'RANKED_SOLO_5x5',\n",
       "  'tier': 'PLATINUM',\n",
       "  'rank': 'I',\n",
       "  'summonerId': 'MbBweauMkjGo8K18e5UApNwEDhwFyYxbnadVlLUxQQ_J0zF-',\n",
       "  'summonerName': 'Leif1',\n",
       "  'leaguePoints': 75,\n",
       "  'wins': 51,\n",
       "  'losses': 33,\n",
       "  'veteran': False,\n",
       "  'inactive': False,\n",
       "  'freshBlood': False,\n",
       "  'hotStreak': False},\n",
       " {'leagueId': '58b9930c-62ae-4c14-872f-8e83558e2991',\n",
       "  'queueType': 'RANKED_SOLO_5x5',\n",
       "  'tier': 'PLATINUM',\n",
       "  'rank': 'I',\n",
       "  'summonerId': 'Ak0BbhjRjfxqCqcnYkEnLDVD7ndVhAoAIvHaVVYrqjzb5c40',\n",
       "  'summonerName': 'Zhang J1a Wen',\n",
       "  'leaguePoints': 8,\n",
       "  'wins': 119,\n",
       "  'losses': 96,\n",
       "  'veteran': False,\n",
       "  'inactive': False,\n",
       "  'freshBlood': False,\n",
       "  'hotStreak': False},\n",
       " {'leagueId': 'be6aebb5-60e2-491c-ab7d-f387bfe54622',\n",
       "  'queueType': 'RANKED_SOLO_5x5',\n",
       "  'tier': 'PLATINUM',\n",
       "  'rank': 'I',\n",
       "  'summonerId': 'phMIZ6ZLifiwlOTfgkTivMIE6b8ML5rOJl7hpQ2Ptw9qL-WN',\n",
       "  'summonerName': 'TranceTherapy',\n",
       "  'leaguePoints': 100,\n",
       "  'wins': 40,\n",
       "  'losses': 39,\n",
       "  'veteran': False,\n",
       "  'inactive': False,\n",
       "  'freshBlood': False,\n",
       "  'hotStreak': False,\n",
       "  'miniSeries': {'target': 3, 'wins': 2, 'losses': 2, 'progress': 'LWWLN'}},\n",
       " {'leagueId': 'd0ae851f-fa46-489d-891f-ee85d81695e7',\n",
       "  'queueType': 'RANKED_SOLO_5x5',\n",
       "  'tier': 'PLATINUM',\n",
       "  'rank': 'I',\n",
       "  'summonerId': 'LFa5rFt2DnkVGgb9x8S9GxVwdEjOkBCNyjk4ZOT6yzfz',\n",
       "  'summonerName': 'US Economy',\n",
       "  'leaguePoints': 100,\n",
       "  'wins': 32,\n",
       "  'losses': 27,\n",
       "  'veteran': False,\n",
       "  'inactive': False,\n",
       "  'freshBlood': False,\n",
       "  'hotStreak': False,\n",
       "  'miniSeries': {'target': 3, 'wins': 1, 'losses': 1, 'progress': 'WLNNN'}},\n",
       " {'leagueId': 'd7cbe5a5-2828-436a-872d-6f820a542b34',\n",
       "  'queueType': 'RANKED_SOLO_5x5',\n",
       "  'tier': 'PLATINUM',\n",
       "  'rank': 'I',\n",
       "  'summonerId': 'o72eulG2wnabJTKukh7SHLBvHsej9uXX0ONdbkTIg3XgcU7w',\n",
       "  'summonerName': 'firepixel',\n",
       "  'leaguePoints': 18,\n",
       "  'wins': 93,\n",
       "  'losses': 69,\n",
       "  'veteran': False,\n",
       "  'inactive': False,\n",
       "  'freshBlood': False,\n",
       "  'hotStreak': False},\n",
       " {'leagueId': '686d80fc-bf6b-406e-8005-712862d64598',\n",
       "  'queueType': 'RANKED_SOLO_5x5',\n",
       "  'tier': 'PLATINUM',\n",
       "  'rank': 'I',\n",
       "  'summonerId': '3smEvCDy0V2_bYcDX89PyRRWzx5ylT4MXkYSpm9FFvWESmor',\n",
       "  'summonerName': 'ßig Høss',\n",
       "  'leaguePoints': 14,\n",
       "  'wins': 186,\n",
       "  'losses': 172,\n",
       "  'veteran': False,\n",
       "  'inactive': False,\n",
       "  'freshBlood': False,\n",
       "  'hotStreak': False},\n",
       " {'leagueId': '89c30683-c1f8-49af-b332-1ed9e4732e4a',\n",
       "  'queueType': 'RANKED_SOLO_5x5',\n",
       "  'tier': 'PLATINUM',\n",
       "  'rank': 'I',\n",
       "  'summonerId': 'StBGeyo9WsLRUw9Y0uJktdobs8QGPmpgLCY3pDVlXa8qqnrk',\n",
       "  'summonerName': 'Bıg Braın Human',\n",
       "  'leaguePoints': 20,\n",
       "  'wins': 27,\n",
       "  'losses': 44,\n",
       "  'veteran': False,\n",
       "  'inactive': False,\n",
       "  'freshBlood': False,\n",
       "  'hotStreak': False},\n",
       " {'leagueId': '0f52f15b-b54f-4e0e-b82f-3972dd42052f',\n",
       "  'queueType': 'RANKED_SOLO_5x5',\n",
       "  'tier': 'PLATINUM',\n",
       "  'rank': 'I',\n",
       "  'summonerId': '3DFCCQrO7gKebC-MHCKqFbLMs0b4t4DikqTvCjTOIdxUXuv6',\n",
       "  'summonerName': 'Karieta',\n",
       "  'leaguePoints': 35,\n",
       "  'wins': 10,\n",
       "  'losses': 15,\n",
       "  'veteran': False,\n",
       "  'inactive': False,\n",
       "  'freshBlood': False,\n",
       "  'hotStreak': False},\n",
       " {'leagueId': '3759631b-3b5a-4340-a82e-60013b03cc2e',\n",
       "  'queueType': 'RANKED_SOLO_5x5',\n",
       "  'tier': 'PLATINUM',\n",
       "  'rank': 'I',\n",
       "  'summonerId': 'I061DFZjKNrQ4F8Lc7xlPvQvkogDhB1E2PETANzqGjV1jOyL',\n",
       "  'summonerName': 'benshapirofanboy',\n",
       "  'leaguePoints': 75,\n",
       "  'wins': 117,\n",
       "  'losses': 86,\n",
       "  'veteran': False,\n",
       "  'inactive': False,\n",
       "  'freshBlood': False,\n",
       "  'hotStreak': False},\n",
       " {'leagueId': 'c89153ee-e6cf-41ef-9555-30b667e21ee8',\n",
       "  'queueType': 'RANKED_SOLO_5x5',\n",
       "  'tier': 'PLATINUM',\n",
       "  'rank': 'I',\n",
       "  'summonerId': 'fzq3uf0OnLdhFdT2RO3tEmWJG0bclLZtd9Ll-O-345FAy5TV',\n",
       "  'summonerName': 'PositivityPolic3',\n",
       "  'leaguePoints': 65,\n",
       "  'wins': 26,\n",
       "  'losses': 27,\n",
       "  'veteran': False,\n",
       "  'inactive': False,\n",
       "  'freshBlood': False,\n",
       "  'hotStreak': False},\n",
       " {'leagueId': '7441ba29-6f30-4252-bb15-46e5e96aa663',\n",
       "  'queueType': 'RANKED_SOLO_5x5',\n",
       "  'tier': 'PLATINUM',\n",
       "  'rank': 'I',\n",
       "  'summonerId': 'v4cZyZ2WzwjShSCX2c9TTsxaY8_-aXluMN8sCUFEkR1yvfLO',\n",
       "  'summonerName': 'Jimmý',\n",
       "  'leaguePoints': 75,\n",
       "  'wins': 94,\n",
       "  'losses': 75,\n",
       "  'veteran': False,\n",
       "  'inactive': False,\n",
       "  'freshBlood': False,\n",
       "  'hotStreak': False},\n",
       " {'leagueId': '3d84c63a-cf90-4e09-876f-7a3a5838bc67',\n",
       "  'queueType': 'RANKED_SOLO_5x5',\n",
       "  'tier': 'PLATINUM',\n",
       "  'rank': 'I',\n",
       "  'summonerId': 'g1zM5v-ctyFXQxz_1bKtU9CLPVLBdhZ-CYLkb8ysuxYVh4in',\n",
       "  'summonerName': 'dislogicx',\n",
       "  'leaguePoints': 75,\n",
       "  'wins': 137,\n",
       "  'losses': 147,\n",
       "  'veteran': False,\n",
       "  'inactive': False,\n",
       "  'freshBlood': False,\n",
       "  'hotStreak': False},\n",
       " {'leagueId': 'eac21f5b-50f1-44b3-8cce-1971871e945b',\n",
       "  'queueType': 'RANKED_SOLO_5x5',\n",
       "  'tier': 'PLATINUM',\n",
       "  'rank': 'I',\n",
       "  'summonerId': 'tj5SQ0KMN54F0HwNkXtP3nod31pVCwtgXO9L87NqrgIAvyGU',\n",
       "  'summonerName': 'ItachiKai',\n",
       "  'leaguePoints': 75,\n",
       "  'wins': 77,\n",
       "  'losses': 61,\n",
       "  'veteran': False,\n",
       "  'inactive': False,\n",
       "  'freshBlood': False,\n",
       "  'hotStreak': False},\n",
       " {'leagueId': 'b61f6fb1-dd89-4416-a3d6-5b5b0b97d0b6',\n",
       "  'queueType': 'RANKED_SOLO_5x5',\n",
       "  'tier': 'PLATINUM',\n",
       "  'rank': 'I',\n",
       "  'summonerId': 'MscObdB54A2CkzdIMZ9uI22SBGyo6MhGZRxPGXNXwAxmPBGL',\n",
       "  'summonerName': 'Lotùs',\n",
       "  'leaguePoints': 1,\n",
       "  'wins': 102,\n",
       "  'losses': 86,\n",
       "  'veteran': False,\n",
       "  'inactive': False,\n",
       "  'freshBlood': False,\n",
       "  'hotStreak': False},\n",
       " {'leagueId': 'c25ce767-de2a-44c3-8ba6-b14862135fff',\n",
       "  'queueType': 'RANKED_SOLO_5x5',\n",
       "  'tier': 'PLATINUM',\n",
       "  'rank': 'I',\n",
       "  'summonerId': 'kqK1u2OsNXHx4CuScq-nKiUu4PO470MkELKMZ8QDsfLCojov',\n",
       "  'summonerName': 'ICarry17',\n",
       "  'leaguePoints': 3,\n",
       "  'wins': 47,\n",
       "  'losses': 52,\n",
       "  'veteran': False,\n",
       "  'inactive': False,\n",
       "  'freshBlood': False,\n",
       "  'hotStreak': False},\n",
       " {'leagueId': 'f3e85929-316c-4d32-8d3c-383a109f4791',\n",
       "  'queueType': 'RANKED_SOLO_5x5',\n",
       "  'tier': 'PLATINUM',\n",
       "  'rank': 'I',\n",
       "  'summonerId': 'vXV_xsBut-UMTMHcJJ5cKVCMBQry8fgRTxD3gEs054Chqn1P',\n",
       "  'summonerName': 'Inh ono',\n",
       "  'leaguePoints': 9,\n",
       "  'wins': 58,\n",
       "  'losses': 46,\n",
       "  'veteran': False,\n",
       "  'inactive': False,\n",
       "  'freshBlood': False,\n",
       "  'hotStreak': False},\n",
       " {'leagueId': 'e5344377-1a05-4fa6-950f-f161246ded05',\n",
       "  'queueType': 'RANKED_SOLO_5x5',\n",
       "  'tier': 'PLATINUM',\n",
       "  'rank': 'I',\n",
       "  'summonerId': 'g5XP_II3i13CTooMVUDTOPqWRzukCQ-5GUWDOCkfBkCh72Er',\n",
       "  'summonerName': 'TSM Sarcasmwon',\n",
       "  'leaguePoints': 31,\n",
       "  'wins': 10,\n",
       "  'losses': 2,\n",
       "  'veteran': False,\n",
       "  'inactive': False,\n",
       "  'freshBlood': False,\n",
       "  'hotStreak': True},\n",
       " {'leagueId': '3759631b-3b5a-4340-a82e-60013b03cc2e',\n",
       "  'queueType': 'RANKED_SOLO_5x5',\n",
       "  'tier': 'PLATINUM',\n",
       "  'rank': 'I',\n",
       "  'summonerId': 'tP85_fCbNTzZiCJMiwwFaHt00NLX0Ip0patWhfzvTav6g0PT',\n",
       "  'summonerName': 'BlTC0IN',\n",
       "  'leaguePoints': 75,\n",
       "  'wins': 128,\n",
       "  'losses': 122,\n",
       "  'veteran': False,\n",
       "  'inactive': False,\n",
       "  'freshBlood': False,\n",
       "  'hotStreak': False},\n",
       " {'leagueId': 'd9deba3b-291a-4c6f-a175-f1390081f528',\n",
       "  'queueType': 'RANKED_SOLO_5x5',\n",
       "  'tier': 'PLATINUM',\n",
       "  'rank': 'I',\n",
       "  'summonerId': 'mo04qB9WLeBlCab5pWhkbL5eTNKWLfEYJC0aEcR4jBvJorko',\n",
       "  'summonerName': 'Jazzyfizzu',\n",
       "  'leaguePoints': 75,\n",
       "  'wins': 261,\n",
       "  'losses': 277,\n",
       "  'veteran': False,\n",
       "  'inactive': False,\n",
       "  'freshBlood': False,\n",
       "  'hotStreak': False},\n",
       " {'leagueId': '15ecbdb8-e80e-4ca5-821d-c58b3d36067e',\n",
       "  'queueType': 'RANKED_SOLO_5x5',\n",
       "  'tier': 'PLATINUM',\n",
       "  'rank': 'I',\n",
       "  'summonerId': 'vJb0U-zb3zdGwCEK2Ayd9cSDb5oDUd8MLJtoLpzZIoDmHu-K',\n",
       "  'summonerName': 'Bye Kobe RIP',\n",
       "  'leaguePoints': 0,\n",
       "  'wins': 94,\n",
       "  'losses': 91,\n",
       "  'veteran': False,\n",
       "  'inactive': False,\n",
       "  'freshBlood': False,\n",
       "  'hotStreak': False},\n",
       " {'leagueId': '47cf43de-ac08-46f8-a587-9845673bf301',\n",
       "  'queueType': 'RANKED_SOLO_5x5',\n",
       "  'tier': 'PLATINUM',\n",
       "  'rank': 'I',\n",
       "  'summonerId': 'fe3GFPD-mzsKBT8DHYC4WV54lFXa2T6Smal63DB5W0L646zj',\n",
       "  'summonerName': 'tınderfamous',\n",
       "  'leaguePoints': 75,\n",
       "  'wins': 18,\n",
       "  'losses': 18,\n",
       "  'veteran': False,\n",
       "  'inactive': False,\n",
       "  'freshBlood': False,\n",
       "  'hotStreak': False},\n",
       " {'leagueId': '89c30683-c1f8-49af-b332-1ed9e4732e4a',\n",
       "  'queueType': 'RANKED_SOLO_5x5',\n",
       "  'tier': 'PLATINUM',\n",
       "  'rank': 'I',\n",
       "  'summonerId': 'xg60MTwnaIAqnBFBnm1HmRXXHDD8USm9G2MYgivJZqRO5wAo',\n",
       "  'summonerName': 'Hueyko',\n",
       "  'leaguePoints': 62,\n",
       "  'wins': 99,\n",
       "  'losses': 107,\n",
       "  'veteran': False,\n",
       "  'inactive': False,\n",
       "  'freshBlood': False,\n",
       "  'hotStreak': False},\n",
       " {'leagueId': '5529ed66-41b1-4ffe-b3ae-77e87c42439c',\n",
       "  'queueType': 'RANKED_SOLO_5x5',\n",
       "  'tier': 'PLATINUM',\n",
       "  'rank': 'I',\n",
       "  'summonerId': '0IxgCWU3_aY2dOWumi5W_schtz1CVEQO7pxIHhvvWeLcgCJt',\n",
       "  'summonerName': 'boycolde',\n",
       "  'leaguePoints': 75,\n",
       "  'wins': 79,\n",
       "  'losses': 68,\n",
       "  'veteran': False,\n",
       "  'inactive': False,\n",
       "  'freshBlood': False,\n",
       "  'hotStreak': False},\n",
       " {'leagueId': 'e3bcf017-d849-4f8b-9c84-cb9b72687ac1',\n",
       "  'queueType': 'RANKED_SOLO_5x5',\n",
       "  'tier': 'PLATINUM',\n",
       "  'rank': 'I',\n",
       "  'summonerId': '-mz86MNHrTv3KRCNVQZgBlNlbSXWDovXbDDrSk_CChUty7cI',\n",
       "  'summonerName': 'MomoYEE',\n",
       "  'leaguePoints': 95,\n",
       "  'wins': 316,\n",
       "  'losses': 288,\n",
       "  'veteran': False,\n",
       "  'inactive': False,\n",
       "  'freshBlood': False,\n",
       "  'hotStreak': False},\n",
       " {'leagueId': '143e6cd7-c678-4d23-ad49-24b4e0534fdf',\n",
       "  'queueType': 'RANKED_SOLO_5x5',\n",
       "  'tier': 'PLATINUM',\n",
       "  'rank': 'I',\n",
       "  'summonerId': 'qYO6LzZHiZHX1SHhJUOVEJM_d1H8JpuSk-fkPCCLKPAt9iF6',\n",
       "  'summonerName': 'I Need Rice',\n",
       "  'leaguePoints': 0,\n",
       "  'wins': 87,\n",
       "  'losses': 63,\n",
       "  'veteran': False,\n",
       "  'inactive': False,\n",
       "  'freshBlood': False,\n",
       "  'hotStreak': False},\n",
       " {'leagueId': '0beaea22-ae4f-47e5-ab01-ce21ff1ca9be',\n",
       "  'queueType': 'RANKED_SOLO_5x5',\n",
       "  'tier': 'PLATINUM',\n",
       "  'rank': 'I',\n",
       "  'summonerId': 'mh-OuEgenl5GeQMIZCyjGVy1ZaGl59xbd6YFo2n_FsT6WVF3',\n",
       "  'summonerName': 'CrazuDaisu',\n",
       "  'leaguePoints': 56,\n",
       "  'wins': 193,\n",
       "  'losses': 148,\n",
       "  'veteran': False,\n",
       "  'inactive': False,\n",
       "  'freshBlood': False,\n",
       "  'hotStreak': False},\n",
       " {'leagueId': '67259527-0cd1-4948-b16b-b1e45059f409',\n",
       "  'queueType': 'RANKED_SOLO_5x5',\n",
       "  'tier': 'PLATINUM',\n",
       "  'rank': 'I',\n",
       "  'summonerId': 'ckoN8k2VajjKsEyE93t1sVhEoC9hfu2l3DzyCrFewI6O76bC',\n",
       "  'summonerName': 'Birthright',\n",
       "  'leaguePoints': 75,\n",
       "  'wins': 123,\n",
       "  'losses': 109,\n",
       "  'veteran': False,\n",
       "  'inactive': False,\n",
       "  'freshBlood': False,\n",
       "  'hotStreak': False},\n",
       " {'leagueId': '9edc8706-e146-4ae0-b2b5-c92cadb1b251',\n",
       "  'queueType': 'RANKED_SOLO_5x5',\n",
       "  'tier': 'PLATINUM',\n",
       "  'rank': 'I',\n",
       "  'summonerId': 'xTatxrU_6wdAIhcY90eaoTqLq1Qn6UIUklanyMhYfh7HC9ik',\n",
       "  'summonerName': 'Psychmanic',\n",
       "  'leaguePoints': 75,\n",
       "  'wins': 149,\n",
       "  'losses': 131,\n",
       "  'veteran': False,\n",
       "  'inactive': False,\n",
       "  'freshBlood': False,\n",
       "  'hotStreak': False},\n",
       " {'leagueId': 'e2cbc39d-35e0-4ae6-8883-04b81f7d6abe',\n",
       "  'queueType': 'RANKED_SOLO_5x5',\n",
       "  'tier': 'PLATINUM',\n",
       "  'rank': 'I',\n",
       "  'summonerId': 'sPfift6IjUTiivfRUISB5nAqgj4xTbzg1BFTzzMqZcKSvew_',\n",
       "  'summonerName': 'Penta uwu',\n",
       "  'leaguePoints': 75,\n",
       "  'wins': 75,\n",
       "  'losses': 80,\n",
       "  'veteran': False,\n",
       "  'inactive': False,\n",
       "  'freshBlood': False,\n",
       "  'hotStreak': False},\n",
       " {'leagueId': '82ef8a8b-f9b9-4921-b80e-5760c5d1bc9a',\n",
       "  'queueType': 'RANKED_SOLO_5x5',\n",
       "  'tier': 'PLATINUM',\n",
       "  'rank': 'I',\n",
       "  'summonerId': 'I8gNCaYfSsEPZ0zWsjiE9wMu5zyG6UMtoQLBmNgt3BIcGjH8',\n",
       "  'summonerName': 'Playful Lick ',\n",
       "  'leaguePoints': 23,\n",
       "  'wins': 11,\n",
       "  'losses': 17,\n",
       "  'veteran': False,\n",
       "  'inactive': False,\n",
       "  'freshBlood': False,\n",
       "  'hotStreak': False},\n",
       " {'leagueId': '2f7f901d-43fb-4676-a658-a179502b4baf',\n",
       "  'queueType': 'RANKED_SOLO_5x5',\n",
       "  'tier': 'PLATINUM',\n",
       "  'rank': 'I',\n",
       "  'summonerId': 'TcB1nAJ_9XVGs70aSaVIIt836X5dgKdYIMsQqSlv35TBtEBF',\n",
       "  'summonerName': 'Xoliz',\n",
       "  'leaguePoints': 59,\n",
       "  'wins': 181,\n",
       "  'losses': 151,\n",
       "  'veteran': False,\n",
       "  'inactive': False,\n",
       "  'freshBlood': False,\n",
       "  'hotStreak': False},\n",
       " {'leagueId': 'dd2b3812-2f9e-4331-b9cb-0153b65c4832',\n",
       "  'queueType': 'RANKED_SOLO_5x5',\n",
       "  'tier': 'PLATINUM',\n",
       "  'rank': 'I',\n",
       "  'summonerId': '8nRWdYfiipYr4K8rSDo4oHFCRAaSlK_Q6A6rFUhwrG2urrM9',\n",
       "  'summonerName': 'Limit DataFile',\n",
       "  'leaguePoints': 0,\n",
       "  'wins': 355,\n",
       "  'losses': 348,\n",
       "  'veteran': False,\n",
       "  'inactive': False,\n",
       "  'freshBlood': False,\n",
       "  'hotStreak': False},\n",
       " {'leagueId': 'b61f6fb1-dd89-4416-a3d6-5b5b0b97d0b6',\n",
       "  'queueType': 'RANKED_SOLO_5x5',\n",
       "  'tier': 'PLATINUM',\n",
       "  'rank': 'I',\n",
       "  'summonerId': 'BkfIga3QrrNlMEL_KCnQvs2n5yR0A5XMH7TiF4EfKFPc5k0N',\n",
       "  'summonerName': 'Yiyayiyayou',\n",
       "  'leaguePoints': 42,\n",
       "  'wins': 24,\n",
       "  'losses': 29,\n",
       "  'veteran': False,\n",
       "  'inactive': False,\n",
       "  'freshBlood': False,\n",
       "  'hotStreak': False},\n",
       " {'leagueId': '10b2e2bb-e1df-4f18-8b03-73db14e1e9af',\n",
       "  'queueType': 'RANKED_SOLO_5x5',\n",
       "  'tier': 'PLATINUM',\n",
       "  'rank': 'I',\n",
       "  'summonerId': 'IgFbVtSF8-GRN08ekNvgwa4orjpFMXxK2doY_WP4Q0npkwqZ',\n",
       "  'summonerName': 'Sòrry',\n",
       "  'leaguePoints': 75,\n",
       "  'wins': 173,\n",
       "  'losses': 149,\n",
       "  'veteran': False,\n",
       "  'inactive': False,\n",
       "  'freshBlood': False,\n",
       "  'hotStreak': False},\n",
       " {'leagueId': '481d9e9b-a60e-4be8-9560-aa0c2239a5ee',\n",
       "  'queueType': 'RANKED_SOLO_5x5',\n",
       "  'tier': 'PLATINUM',\n",
       "  'rank': 'I',\n",
       "  'summonerId': 'sJP0scjCeJePomo6zvRVDS-SJmuhZdqPwDGc2_e7zXcshLt6',\n",
       "  'summonerName': 'Happy2BHere',\n",
       "  'leaguePoints': 29,\n",
       "  'wins': 24,\n",
       "  'losses': 37,\n",
       "  'veteran': False,\n",
       "  'inactive': False,\n",
       "  'freshBlood': False,\n",
       "  'hotStreak': False},\n",
       " {'leagueId': 'a246ab64-63be-49d4-83fd-8f47be38da39',\n",
       "  'queueType': 'RANKED_SOLO_5x5',\n",
       "  'tier': 'PLATINUM',\n",
       "  'rank': 'I',\n",
       "  'summonerId': 'c7UAiCMTBGQRry8cr8q-jZLFIAR7Kx9n0FljlDrhYTx_r_G_',\n",
       "  'summonerName': 'Debate',\n",
       "  'leaguePoints': 75,\n",
       "  'wins': 201,\n",
       "  'losses': 170,\n",
       "  'veteran': False,\n",
       "  'inactive': False,\n",
       "  'freshBlood': False,\n",
       "  'hotStreak': False},\n",
       " {'leagueId': 'f2a5bed1-8042-499f-b430-a0ec83341fff',\n",
       "  'queueType': 'RANKED_SOLO_5x5',\n",
       "  'tier': 'PLATINUM',\n",
       "  'rank': 'I',\n",
       "  'summonerId': 'Udfo2iQwat2Z-FRJzR5webXyEuttdmuHvAj5p8Q2UMVjMf0W',\n",
       "  'summonerName': 'mujï',\n",
       "  'leaguePoints': 63,\n",
       "  'wins': 64,\n",
       "  'losses': 37,\n",
       "  'veteran': False,\n",
       "  'inactive': False,\n",
       "  'freshBlood': False,\n",
       "  'hotStreak': False},\n",
       " {'leagueId': '364a075c-dff6-4ffc-9307-5fd5b6a8ede8',\n",
       "  'queueType': 'RANKED_SOLO_5x5',\n",
       "  'tier': 'PLATINUM',\n",
       "  'rank': 'I',\n",
       "  'summonerId': 'ZhqOjCqcszItmcZcaoUCdO1MARMr-LNFLc9GrH7dn8khq1Dv',\n",
       "  'summonerName': 'ymirrrdd',\n",
       "  'leaguePoints': 58,\n",
       "  'wins': 145,\n",
       "  'losses': 114,\n",
       "  'veteran': False,\n",
       "  'inactive': False,\n",
       "  'freshBlood': False,\n",
       "  'hotStreak': False},\n",
       " {'leagueId': 'aae31952-b407-4ffb-9914-54c6c89bb82b',\n",
       "  'queueType': 'RANKED_SOLO_5x5',\n",
       "  'tier': 'PLATINUM',\n",
       "  'rank': 'I',\n",
       "  'summonerId': '8vHIK11QxPSSnCN20m_tZ-JM7zCcByEwY9DcEF_PY6yZAvzM',\n",
       "  'summonerName': 'HilmHarsha',\n",
       "  'leaguePoints': 75,\n",
       "  'wins': 67,\n",
       "  'losses': 84,\n",
       "  'veteran': True,\n",
       "  'inactive': False,\n",
       "  'freshBlood': False,\n",
       "  'hotStreak': False},\n",
       " {'leagueId': '5760a640-7af9-4935-bbb8-6f3ed3ecd6bf',\n",
       "  'queueType': 'RANKED_SOLO_5x5',\n",
       "  'tier': 'PLATINUM',\n",
       "  'rank': 'I',\n",
       "  'summonerId': 'zeKLsu66Ir1BYs6kNvpmJpCC5CS3lJttwUuVdxa3IxtjuTNl',\n",
       "  'summonerName': 'bigpeepeehead',\n",
       "  'leaguePoints': 75,\n",
       "  'wins': 63,\n",
       "  'losses': 60,\n",
       "  'veteran': False,\n",
       "  'inactive': False,\n",
       "  'freshBlood': False,\n",
       "  'hotStreak': False},\n",
       " {'leagueId': 'e9535aff-8d6f-4d83-aa68-be700453edf8',\n",
       "  'queueType': 'RANKED_SOLO_5x5',\n",
       "  'tier': 'PLATINUM',\n",
       "  'rank': 'I',\n",
       "  'summonerId': 'Kmasr2ybbiix-LGcDshXi01awo-IJv8FzRRnxa9U2j1fRD_E',\n",
       "  'summonerName': 'ˆ ˇ ˆ ˆ ˇ',\n",
       "  'leaguePoints': 27,\n",
       "  'wins': 202,\n",
       "  'losses': 149,\n",
       "  'veteran': False,\n",
       "  'inactive': False,\n",
       "  'freshBlood': False,\n",
       "  'hotStreak': False},\n",
       " {'leagueId': 'd3102da8-3a5b-4295-b78a-3b4449059ea6',\n",
       "  'queueType': 'RANKED_SOLO_5x5',\n",
       "  'tier': 'PLATINUM',\n",
       "  'rank': 'I',\n",
       "  'summonerId': 'f7XjNB5uUkfNN90Ev6jsBVCpb8CohkN2-DcE-oH-SkRgql7T',\n",
       "  'summonerName': 'InfinityS3',\n",
       "  'leaguePoints': 71,\n",
       "  'wins': 213,\n",
       "  'losses': 200,\n",
       "  'veteran': False,\n",
       "  'inactive': False,\n",
       "  'freshBlood': False,\n",
       "  'hotStreak': False},\n",
       " {'leagueId': 'e82802b6-1e12-49e3-a9fa-07e45a53aeac',\n",
       "  'queueType': 'RANKED_SOLO_5x5',\n",
       "  'tier': 'PLATINUM',\n",
       "  'rank': 'I',\n",
       "  'summonerId': 'gqLfy0xVJauyXll6BrlbQmD7os8FUrsBgNPTakXMYL4iWG9C',\n",
       "  'summonerName': '4 A 8',\n",
       "  'leaguePoints': 75,\n",
       "  'wins': 28,\n",
       "  'losses': 30,\n",
       "  'veteran': False,\n",
       "  'inactive': False,\n",
       "  'freshBlood': False,\n",
       "  'hotStreak': False},\n",
       " {'leagueId': '2fb5c7c4-872c-438b-83f7-780d5544fa1b',\n",
       "  'queueType': 'RANKED_SOLO_5x5',\n",
       "  'tier': 'PLATINUM',\n",
       "  'rank': 'I',\n",
       "  'summonerId': 'T8vw-qwaTVe529LiszgV2dipzJoTVfwQI6HOrbcamu49E2mx',\n",
       "  'summonerName': 'LAWNMOWERRRRR',\n",
       "  'leaguePoints': 75,\n",
       "  'wins': 64,\n",
       "  'losses': 56,\n",
       "  'veteran': False,\n",
       "  'inactive': False,\n",
       "  'freshBlood': False,\n",
       "  'hotStreak': False},\n",
       " {'leagueId': '404a4849-cf17-49f0-bbea-4f375190643e',\n",
       "  'queueType': 'RANKED_SOLO_5x5',\n",
       "  'tier': 'PLATINUM',\n",
       "  'rank': 'I',\n",
       "  'summonerId': 'wzeNpnFYBYxOA80ZmKrsqQ3BWxz2nHHoWKiA7MLrle4UUAjU',\n",
       "  'summonerName': 'Maplestory2004',\n",
       "  'leaguePoints': 22,\n",
       "  'wins': 80,\n",
       "  'losses': 71,\n",
       "  'veteran': False,\n",
       "  'inactive': False,\n",
       "  'freshBlood': False,\n",
       "  'hotStreak': False},\n",
       " {'leagueId': 'e7b70be6-4fac-4ac1-b7d8-39825c4cfc96',\n",
       "  'queueType': 'RANKED_SOLO_5x5',\n",
       "  'tier': 'PLATINUM',\n",
       "  'rank': 'I',\n",
       "  'summonerId': 'RVM1j7Kun_rBhSqYAOSaTl9as_bi_j979A2xDG5CQhPgpzLe',\n",
       "  'summonerName': 'dksdbwls',\n",
       "  'leaguePoints': 75,\n",
       "  'wins': 32,\n",
       "  'losses': 24,\n",
       "  'veteran': False,\n",
       "  'inactive': False,\n",
       "  'freshBlood': False,\n",
       "  'hotStreak': False},\n",
       " {'leagueId': '38c90202-125a-4090-8be2-f20acaef6c27',\n",
       "  'queueType': 'RANKED_SOLO_5x5',\n",
       "  'tier': 'PLATINUM',\n",
       "  'rank': 'I',\n",
       "  'summonerId': '_cbY09u1uB84RAbsLdy7rznVUtgfVDfekDCBMez25GX47SyM',\n",
       "  'summonerName': 'Raindrops0',\n",
       "  'leaguePoints': 21,\n",
       "  'wins': 122,\n",
       "  'losses': 103,\n",
       "  'veteran': False,\n",
       "  'inactive': False,\n",
       "  'freshBlood': False,\n",
       "  'hotStreak': False},\n",
       " {'leagueId': 'c9d6df31-8022-402f-8e5d-e73892afed42',\n",
       "  'queueType': 'RANKED_SOLO_5x5',\n",
       "  'tier': 'PLATINUM',\n",
       "  'rank': 'I',\n",
       "  'summonerId': '3XKNU1_gLm1_ixFfGAp4nDUJI7uUuZZSD4q2pHgPcCw4F4s3',\n",
       "  'summonerName': 'Fahmegnn',\n",
       "  'leaguePoints': 15,\n",
       "  'wins': 35,\n",
       "  'losses': 37,\n",
       "  'veteran': False,\n",
       "  'inactive': False,\n",
       "  'freshBlood': False,\n",
       "  'hotStreak': False},\n",
       " {'leagueId': '20510ca9-dae7-44af-b8dd-7a5738e6fe25',\n",
       "  'queueType': 'RANKED_SOLO_5x5',\n",
       "  'tier': 'PLATINUM',\n",
       "  'rank': 'I',\n",
       "  'summonerId': 'QgJkCfjQNRff3p3yBsHCG2voi0OQ3yLbnwy-wYURfaotgVH9',\n",
       "  'summonerName': '10298',\n",
       "  'leaguePoints': 44,\n",
       "  'wins': 206,\n",
       "  'losses': 201,\n",
       "  'veteran': False,\n",
       "  'inactive': False,\n",
       "  'freshBlood': False,\n",
       "  'hotStreak': False},\n",
       " {'leagueId': '48060521-1100-4333-b5ce-e0fd375f7c6a',\n",
       "  'queueType': 'RANKED_SOLO_5x5',\n",
       "  'tier': 'PLATINUM',\n",
       "  'rank': 'I',\n",
       "  'summonerId': '919TykO7SBgC368IYNneihMzI7UvgSP1Vt6QJEICcqzGLrUs',\n",
       "  'summonerName': 'RevengerSoul',\n",
       "  'leaguePoints': 75,\n",
       "  'wins': 38,\n",
       "  'losses': 43,\n",
       "  'veteran': False,\n",
       "  'inactive': False,\n",
       "  'freshBlood': False,\n",
       "  'hotStreak': False},\n",
       " {'leagueId': 'beebb9d9-81ad-474b-9b17-8466f162fba5',\n",
       "  'queueType': 'RANKED_SOLO_5x5',\n",
       "  'tier': 'PLATINUM',\n",
       "  'rank': 'I',\n",
       "  'summonerId': '4kQSKKfYZv5y7R_MB_1zQEfq-aj3T5F9TQ7wJFoEu7YBSxhO',\n",
       "  'summonerName': 'Dont Touch Blue',\n",
       "  'leaguePoints': 75,\n",
       "  'wins': 43,\n",
       "  'losses': 51,\n",
       "  'veteran': False,\n",
       "  'inactive': False,\n",
       "  'freshBlood': False,\n",
       "  'hotStreak': False},\n",
       " {'leagueId': 'd3102da8-3a5b-4295-b78a-3b4449059ea6',\n",
       "  'queueType': 'RANKED_SOLO_5x5',\n",
       "  'tier': 'PLATINUM',\n",
       "  'rank': 'I',\n",
       "  'summonerId': '4gBmv2u5lTz1x0vaPmEvFgpZH0KAWgXkmj-aY06gazznGVlf',\n",
       "  'summonerName': 'CLPTRA7777',\n",
       "  'leaguePoints': 1,\n",
       "  'wins': 130,\n",
       "  'losses': 173,\n",
       "  'veteran': False,\n",
       "  'inactive': False,\n",
       "  'freshBlood': False,\n",
       "  'hotStreak': False},\n",
       " {'leagueId': '84562af6-6b6f-4080-bd6e-b828356fceaa',\n",
       "  'queueType': 'RANKED_SOLO_5x5',\n",
       "  'tier': 'PLATINUM',\n",
       "  'rank': 'I',\n",
       "  'summonerId': 'rbH6RNh4T-kg9W9IsLOmUK39diMiS_JErY5HtH04j-Ll4MZz',\n",
       "  'summonerName': 'Phoenyx3',\n",
       "  'leaguePoints': 75,\n",
       "  'wins': 62,\n",
       "  'losses': 64,\n",
       "  'veteran': False,\n",
       "  'inactive': False,\n",
       "  'freshBlood': False,\n",
       "  'hotStreak': False},\n",
       " {'leagueId': '878719ff-51cf-4c93-aae7-cfaef38f68fc',\n",
       "  'queueType': 'RANKED_SOLO_5x5',\n",
       "  'tier': 'PLATINUM',\n",
       "  'rank': 'I',\n",
       "  'summonerId': 'aJ9Xu970IXe8PsXN0c_9Ak9aBtA--eXQNRxfr4rG55RV4Rb0',\n",
       "  'summonerName': 'Altec666',\n",
       "  'leaguePoints': 100,\n",
       "  'wins': 93,\n",
       "  'losses': 83,\n",
       "  'veteran': False,\n",
       "  'inactive': False,\n",
       "  'freshBlood': False,\n",
       "  'hotStreak': False,\n",
       "  'miniSeries': {'target': 3, 'wins': 0, 'losses': 1, 'progress': 'LNNNN'}},\n",
       " {'leagueId': '244112d2-fdd7-4302-984f-e544e548fa97',\n",
       "  'queueType': 'RANKED_SOLO_5x5',\n",
       "  'tier': 'PLATINUM',\n",
       "  'rank': 'I',\n",
       "  'summonerId': '651Y_Gk4Crwl3zcEOYYhK6f0DqxuFdcqESvLd8KDadhcNQ4G',\n",
       "  'summonerName': 'fairy kïller',\n",
       "  'leaguePoints': 75,\n",
       "  'wins': 190,\n",
       "  'losses': 136,\n",
       "  'veteran': False,\n",
       "  'inactive': False,\n",
       "  'freshBlood': False,\n",
       "  'hotStreak': False},\n",
       " {'leagueId': 'bc475079-8fb9-4d68-adae-a238e2ba3a9e',\n",
       "  'queueType': 'RANKED_SOLO_5x5',\n",
       "  'tier': 'PLATINUM',\n",
       "  'rank': 'I',\n",
       "  'summonerId': 'AcBAjgGgP3HSu9KRmuTNOC_JoQu95ygzbpE5BtIcPuLGExGf',\n",
       "  'summonerName': 'LostMans',\n",
       "  'leaguePoints': 75,\n",
       "  'wins': 69,\n",
       "  'losses': 39,\n",
       "  'veteran': False,\n",
       "  'inactive': False,\n",
       "  'freshBlood': False,\n",
       "  'hotStreak': False},\n",
       " {'leagueId': 'e9ca143b-267e-43c1-8920-9bde59619193',\n",
       "  'queueType': 'RANKED_SOLO_5x5',\n",
       "  'tier': 'PLATINUM',\n",
       "  'rank': 'I',\n",
       "  'summonerId': 'ZHdi1dQLkoStIxJDEstqj2392QTJEMjc46q4n-5_M-vUuJzB',\n",
       "  'summonerName': 'i int u ',\n",
       "  'leaguePoints': 75,\n",
       "  'wins': 21,\n",
       "  'losses': 30,\n",
       "  'veteran': False,\n",
       "  'inactive': False,\n",
       "  'freshBlood': False,\n",
       "  'hotStreak': False},\n",
       " {'leagueId': '1dd59a2c-1611-4325-9ba5-762c49bdec7f',\n",
       "  'queueType': 'RANKED_SOLO_5x5',\n",
       "  'tier': 'PLATINUM',\n",
       "  'rank': 'I',\n",
       "  'summonerId': 'zaMowkh-mO9NuuN7lZiRTYhtkYQulYmKukmticcYAupNNCec',\n",
       "  'summonerName': 'Itsue',\n",
       "  'leaguePoints': 75,\n",
       "  'wins': 11,\n",
       "  'losses': 9,\n",
       "  'veteran': False,\n",
       "  'inactive': False,\n",
       "  'freshBlood': False,\n",
       "  'hotStreak': False},\n",
       " {'leagueId': 'e1ff231f-7970-47b4-a1ab-92c2fa197e36',\n",
       "  'queueType': 'RANKED_SOLO_5x5',\n",
       "  'tier': 'PLATINUM',\n",
       "  'rank': 'I',\n",
       "  'summonerId': 'YXPliQeaqmWpbQRQeXGFB9OutkBjDpkSbSBYD4pQOnqyPTp-',\n",
       "  'summonerName': 'NeekoNikoNii',\n",
       "  'leaguePoints': 100,\n",
       "  'wins': 18,\n",
       "  'losses': 25,\n",
       "  'veteran': False,\n",
       "  'inactive': False,\n",
       "  'freshBlood': False,\n",
       "  'hotStreak': False,\n",
       "  'miniSeries': {'target': 3, 'wins': 1, 'losses': 2, 'progress': 'LLWNN'}},\n",
       " {'leagueId': '10b2e2bb-e1df-4f18-8b03-73db14e1e9af',\n",
       "  'queueType': 'RANKED_SOLO_5x5',\n",
       "  'tier': 'PLATINUM',\n",
       "  'rank': 'I',\n",
       "  'summonerId': '4fQ0u0stWg9g1U_ShLCWPHRgMaOqGrm6Jcy4Vapy1d6deGlO',\n",
       "  'summonerName': 'Quervos',\n",
       "  'leaguePoints': 75,\n",
       "  'wins': 236,\n",
       "  'losses': 188,\n",
       "  'veteran': False,\n",
       "  'inactive': False,\n",
       "  'freshBlood': False,\n",
       "  'hotStreak': False},\n",
       " {'leagueId': 'e5de5862-b9fd-48a2-8d5c-c5f26f7eb59b',\n",
       "  'queueType': 'RANKED_SOLO_5x5',\n",
       "  'tier': 'PLATINUM',\n",
       "  'rank': 'I',\n",
       "  'summonerId': 'peEJCiTrJt-l4tI4n4SIB2_Tg9VSplztz8hUgWhisUjvAmn6',\n",
       "  'summonerName': 'BostonHaozi',\n",
       "  'leaguePoints': 0,\n",
       "  'wins': 18,\n",
       "  'losses': 25,\n",
       "  'veteran': False,\n",
       "  'inactive': False,\n",
       "  'freshBlood': False,\n",
       "  'hotStreak': False},\n",
       " {'leagueId': 'ccef492e-2c03-4e06-836e-4ac570e2982b',\n",
       "  'queueType': 'RANKED_SOLO_5x5',\n",
       "  'tier': 'PLATINUM',\n",
       "  'rank': 'I',\n",
       "  'summonerId': 'Q9aV5Gtn_lUYC-O1KVQYgBJxYMI819VU53G8WzCnK79dY_gX',\n",
       "  'summonerName': 'Sky Bear',\n",
       "  'leaguePoints': 75,\n",
       "  'wins': 53,\n",
       "  'losses': 61,\n",
       "  'veteran': False,\n",
       "  'inactive': False,\n",
       "  'freshBlood': False,\n",
       "  'hotStreak': False},\n",
       " {'leagueId': 'a6173f59-5f89-4f86-9114-6284596d781b',\n",
       "  'queueType': 'RANKED_SOLO_5x5',\n",
       "  'tier': 'PLATINUM',\n",
       "  'rank': 'I',\n",
       "  'summonerId': 'MHv98fD3TJzvSsGx-UY4e-fV7myxIk6PIWGILkhhOslBCGtR',\n",
       "  'summonerName': 'I love s9',\n",
       "  'leaguePoints': 52,\n",
       "  'wins': 178,\n",
       "  'losses': 156,\n",
       "  'veteran': False,\n",
       "  'inactive': False,\n",
       "  'freshBlood': False,\n",
       "  'hotStreak': False},\n",
       " {'leagueId': '41fcaa88-7e04-4acf-abad-9c4b1f95b5ca',\n",
       "  'queueType': 'RANKED_SOLO_5x5',\n",
       "  'tier': 'PLATINUM',\n",
       "  'rank': 'I',\n",
       "  'summonerId': '5kaaXONcPGTWdELehwA1L-VpxFGKao59UY4eV9aefib-YNtn',\n",
       "  'summonerName': 'RlTO lS TOXIC',\n",
       "  'leaguePoints': 75,\n",
       "  'wins': 319,\n",
       "  'losses': 337,\n",
       "  'veteran': False,\n",
       "  'inactive': False,\n",
       "  'freshBlood': False,\n",
       "  'hotStreak': False},\n",
       " {'leagueId': '5c38e283-e6e5-4611-ade8-c2d73f7acdfe',\n",
       "  'queueType': 'RANKED_SOLO_5x5',\n",
       "  'tier': 'PLATINUM',\n",
       "  'rank': 'I',\n",
       "  'summonerId': 'GiLtaTW9mgHKcGEUrIsIAAcG18b9VvEtdlvwPPDn64big1HJ',\n",
       "  'summonerName': 'CodyCope4',\n",
       "  'leaguePoints': 39,\n",
       "  'wins': 365,\n",
       "  'losses': 393,\n",
       "  'veteran': False,\n",
       "  'inactive': False,\n",
       "  'freshBlood': False,\n",
       "  'hotStreak': False},\n",
       " {'leagueId': '9cf7b921-3e58-4ed2-b498-86ce76ea8c71',\n",
       "  'queueType': 'RANKED_SOLO_5x5',\n",
       "  'tier': 'PLATINUM',\n",
       "  'rank': 'I',\n",
       "  'summonerId': 'E3japg5-Mgdkmv3kLWDQxEoGVbo42Kx40RBnHT2Wv2oaeEHR',\n",
       "  'summonerName': 'Enemy Rengar',\n",
       "  'leaguePoints': 68,\n",
       "  'wins': 117,\n",
       "  'losses': 110,\n",
       "  'veteran': False,\n",
       "  'inactive': False,\n",
       "  'freshBlood': False,\n",
       "  'hotStreak': False},\n",
       " {'leagueId': 'd2bd4cbf-5b5a-4514-b8e4-f7947328b6cf',\n",
       "  'queueType': 'RANKED_SOLO_5x5',\n",
       "  'tier': 'PLATINUM',\n",
       "  'rank': 'I',\n",
       "  'summonerId': 'xGLKpmbjjBkUh-GbaMjZugEc11KT016lu_pwfifgYnLOqB_f',\n",
       "  'summonerName': 'YOU CANT BE REAL',\n",
       "  'leaguePoints': 75,\n",
       "  'wins': 16,\n",
       "  'losses': 15,\n",
       "  'veteran': False,\n",
       "  'inactive': False,\n",
       "  'freshBlood': False,\n",
       "  'hotStreak': False},\n",
       " {'leagueId': '3644670a-1b1d-4c1f-a37a-2a24a8f0010b',\n",
       "  'queueType': 'RANKED_SOLO_5x5',\n",
       "  'tier': 'PLATINUM',\n",
       "  'rank': 'I',\n",
       "  'summonerId': 'QnolODrNHrwfaB0sLmW3_JKEwTGL0JI1VhM4XTZcQ0XHa8tF',\n",
       "  'summonerName': 'zZcrotchpunchZz3',\n",
       "  'leaguePoints': 0,\n",
       "  'wins': 132,\n",
       "  'losses': 113,\n",
       "  'veteran': False,\n",
       "  'inactive': False,\n",
       "  'freshBlood': False,\n",
       "  'hotStreak': False},\n",
       " {'leagueId': '60c3eb36-3a08-4ec4-b697-46a77c1018fd',\n",
       "  'queueType': 'RANKED_SOLO_5x5',\n",
       "  'tier': 'PLATINUM',\n",
       "  'rank': 'I',\n",
       "  'summonerId': 'd__vLStsxCnoHVeF0pWkwVlJQI69Ie5D_-ICcpYfpkXib2X8',\n",
       "  'summonerName': 'Shin Austin',\n",
       "  'leaguePoints': 0,\n",
       "  'wins': 314,\n",
       "  'losses': 294,\n",
       "  'veteran': False,\n",
       "  'inactive': False,\n",
       "  'freshBlood': False,\n",
       "  'hotStreak': True},\n",
       " {'leagueId': '0135eddb-790f-4cef-9426-26af7205263e',\n",
       "  'queueType': 'RANKED_SOLO_5x5',\n",
       "  'tier': 'PLATINUM',\n",
       "  'rank': 'I',\n",
       "  'summonerId': '8FSv0HIHSt7oIqjUXkzpOZgKPdKVRaQKGFbKKLCi3rAyY8s7',\n",
       "  'summonerName': 'SNOOPPPY',\n",
       "  'leaguePoints': 74,\n",
       "  'wins': 363,\n",
       "  'losses': 318,\n",
       "  'veteran': False,\n",
       "  'inactive': False,\n",
       "  'freshBlood': False,\n",
       "  'hotStreak': False},\n",
       " {'leagueId': 'a371a537-3ea8-4b80-b76b-1542e81b8cab',\n",
       "  'queueType': 'RANKED_SOLO_5x5',\n",
       "  'tier': 'PLATINUM',\n",
       "  'rank': 'I',\n",
       "  'summonerId': '9OYIAi5oO95mLdqOJp3pCTEVE8Im_kPMLdea_IPOzJs',\n",
       "  'summonerName': 'scarra',\n",
       "  'leaguePoints': 100,\n",
       "  'wins': 116,\n",
       "  'losses': 104,\n",
       "  'veteran': False,\n",
       "  'inactive': False,\n",
       "  'freshBlood': False,\n",
       "  'hotStreak': True,\n",
       "  'miniSeries': {'target': 3, 'wins': 1, 'losses': 0, 'progress': 'WNNNN'}},\n",
       " {'leagueId': 'df124be2-1eaf-46b7-bfd5-2d76187f67e2',\n",
       "  'queueType': 'RANKED_SOLO_5x5',\n",
       "  'tier': 'PLATINUM',\n",
       "  'rank': 'I',\n",
       "  'summonerId': 'WKLS3bjz9wlS_JH4O1UW9QF4iuIbFwOdjnEWPCHOIcIt5vJ9',\n",
       "  'summonerName': 'Louie Wu',\n",
       "  'leaguePoints': 75,\n",
       "  'wins': 36,\n",
       "  'losses': 16,\n",
       "  'veteran': False,\n",
       "  'inactive': False,\n",
       "  'freshBlood': False,\n",
       "  'hotStreak': False},\n",
       " {'leagueId': 'f7af3967-7f6f-469c-bcda-1decfc295223',\n",
       "  'queueType': 'RANKED_SOLO_5x5',\n",
       "  'tier': 'PLATINUM',\n",
       "  'rank': 'I',\n",
       "  'summonerId': 'UPHC0qWzNNUO52wx2OjCLC00fKri5DHuz2ATPR6tZfSDUNhU',\n",
       "  'summonerName': 'Shengineer',\n",
       "  'leaguePoints': 58,\n",
       "  'wins': 95,\n",
       "  'losses': 64,\n",
       "  'veteran': False,\n",
       "  'inactive': False,\n",
       "  'freshBlood': False,\n",
       "  'hotStreak': True},\n",
       " {'leagueId': '3992a726-2295-49b5-bc4e-89b72ca9841a',\n",
       "  'queueType': 'RANKED_SOLO_5x5',\n",
       "  'tier': 'PLATINUM',\n",
       "  'rank': 'I',\n",
       "  'summonerId': 'ykFwt6xFSV5mwRZzyG82Mc8bbxYE5erGj-k5SfUm8caB52eb',\n",
       "  'summonerName': 'piaoGG',\n",
       "  'leaguePoints': 75,\n",
       "  'wins': 319,\n",
       "  'losses': 288,\n",
       "  'veteran': False,\n",
       "  'inactive': False,\n",
       "  'freshBlood': False,\n",
       "  'hotStreak': False},\n",
       " {'leagueId': '0f52f15b-b54f-4e0e-b82f-3972dd42052f',\n",
       "  'queueType': 'RANKED_SOLO_5x5',\n",
       "  'tier': 'PLATINUM',\n",
       "  'rank': 'I',\n",
       "  'summonerId': 'arlFwvLvvlhsuXXiLxiVaQNxSO1l-Q646RbjLcJ-YZ-gEJeH',\n",
       "  'summonerName': 'A monologue by K',\n",
       "  'leaguePoints': 37,\n",
       "  'wins': 59,\n",
       "  'losses': 29,\n",
       "  'veteran': False,\n",
       "  'inactive': False,\n",
       "  'freshBlood': False,\n",
       "  'hotStreak': False},\n",
       " {'leagueId': 'eea34c81-6021-4588-855c-55414923ded8',\n",
       "  'queueType': 'RANKED_SOLO_5x5',\n",
       "  'tier': 'PLATINUM',\n",
       "  'rank': 'I',\n",
       "  'summonerId': 'mI14E9eeFTk8qsYkGnBIXVpgf_ytcHu3LH-NJRlZEVJCo6rb',\n",
       "  'summonerName': 'unlucky jg diff',\n",
       "  'leaguePoints': 0,\n",
       "  'wins': 8,\n",
       "  'losses': 14,\n",
       "  'veteran': False,\n",
       "  'inactive': False,\n",
       "  'freshBlood': False,\n",
       "  'hotStreak': False},\n",
       " {'leagueId': 'b69542ca-1f35-437d-a32b-e0b67d51eeca',\n",
       "  'queueType': 'RANKED_SOLO_5x5',\n",
       "  'tier': 'PLATINUM',\n",
       "  'rank': 'I',\n",
       "  'summonerId': 'u5igeCd__Eo501tl8VgEOuCSUqCov3RdM0PGg1Aj4e7emG53',\n",
       "  'summonerName': 'LightningFlashes',\n",
       "  'leaguePoints': 97,\n",
       "  'wins': 18,\n",
       "  'losses': 15,\n",
       "  'veteran': False,\n",
       "  'inactive': False,\n",
       "  'freshBlood': False,\n",
       "  'hotStreak': False},\n",
       " {'leagueId': '1093e1a2-65fd-48db-80c2-677ba00a41d2',\n",
       "  'queueType': 'RANKED_SOLO_5x5',\n",
       "  'tier': 'PLATINUM',\n",
       "  'rank': 'I',\n",
       "  'summonerId': '3QN2fiS80nKLmqFqCsHJWl1HWcvviXoxJ66SG0XSJvT74gFH',\n",
       "  'summonerName': 'Listen To Ping',\n",
       "  'leaguePoints': 75,\n",
       "  'wins': 116,\n",
       "  'losses': 92,\n",
       "  'veteran': False,\n",
       "  'inactive': False,\n",
       "  'freshBlood': False,\n",
       "  'hotStreak': False},\n",
       " {'leagueId': '6611157f-88dc-47c3-8be9-1b82dc633238',\n",
       "  'queueType': 'RANKED_SOLO_5x5',\n",
       "  'tier': 'PLATINUM',\n",
       "  'rank': 'I',\n",
       "  'summonerId': 'NqMNlem7oep7SwcNTx4sT569yDEWt2RID_FIAMDzNQ2EqQGP',\n",
       "  'summonerName': 'AG0NY',\n",
       "  'leaguePoints': 75,\n",
       "  'wins': 16,\n",
       "  'losses': 8,\n",
       "  'veteran': False,\n",
       "  'inactive': False,\n",
       "  'freshBlood': False,\n",
       "  'hotStreak': False},\n",
       " {'leagueId': '1fc5ec46-e044-4632-b35d-81ce3121deac',\n",
       "  'queueType': 'RANKED_SOLO_5x5',\n",
       "  'tier': 'PLATINUM',\n",
       "  'rank': 'I',\n",
       "  'summonerId': 'cFDzQuMKGXcEJtovt27tlxJwPmAUaVvDLJJuDhtNawqdbVCk',\n",
       "  'summonerName': 'No Gank 15ff',\n",
       "  'leaguePoints': 26,\n",
       "  'wins': 97,\n",
       "  'losses': 119,\n",
       "  'veteran': False,\n",
       "  'inactive': False,\n",
       "  'freshBlood': False,\n",
       "  'hotStreak': False},\n",
       " {'leagueId': '6dce41e2-b492-45f3-a157-2ad5696b20ca',\n",
       "  'queueType': 'RANKED_SOLO_5x5',\n",
       "  'tier': 'PLATINUM',\n",
       "  'rank': 'I',\n",
       "  'summonerId': 'AU6Lh40S9AcENsqZSSJExt8rWtQaj_S8Zd3vcW1suV-6NJ-N',\n",
       "  'summonerName': 'Exponentz2',\n",
       "  'leaguePoints': 66,\n",
       "  'wins': 501,\n",
       "  'losses': 482,\n",
       "  'veteran': False,\n",
       "  'inactive': False,\n",
       "  'freshBlood': False,\n",
       "  'hotStreak': False},\n",
       " {'leagueId': '6cb55bb8-26fd-45b8-a138-0bd1af4ee845',\n",
       "  'queueType': 'RANKED_SOLO_5x5',\n",
       "  'tier': 'PLATINUM',\n",
       "  'rank': 'I',\n",
       "  'summonerId': 'PAG1XwDcI2D661tMg8J5YRxUT27yx59wN1mI9PfxGblmBjlN',\n",
       "  'summonerName': 'TrùlyRéformedNic',\n",
       "  'leaguePoints': 75,\n",
       "  'wins': 328,\n",
       "  'losses': 318,\n",
       "  'veteran': False,\n",
       "  'inactive': False,\n",
       "  'freshBlood': False,\n",
       "  'hotStreak': False},\n",
       " {'leagueId': 'f06e27c9-8b94-42d6-b6c4-41fe5662b33b',\n",
       "  'queueType': 'RANKED_SOLO_5x5',\n",
       "  'tier': 'PLATINUM',\n",
       "  'rank': 'I',\n",
       "  'summonerId': 'tyB8L881Hj6nPVA5sn-fRUIFhCLwvu_yYJvYxOs25K6hcZw9',\n",
       "  'summonerName': 'Skyblue',\n",
       "  'leaguePoints': 0,\n",
       "  'wins': 7,\n",
       "  'losses': 7,\n",
       "  'veteran': False,\n",
       "  'inactive': False,\n",
       "  'freshBlood': False,\n",
       "  'hotStreak': False},\n",
       " {'leagueId': '23254ec0-e929-4a20-8d7d-3be7069b7725',\n",
       "  'queueType': 'RANKED_SOLO_5x5',\n",
       "  'tier': 'PLATINUM',\n",
       "  'rank': 'I',\n",
       "  'summonerId': 'JD7xPG9aDSUXwUGoXazvWlqgmWP0he89SjGFKFEvCHD77HWt',\n",
       "  'summonerName': 'El Chaco Macho',\n",
       "  'leaguePoints': 75,\n",
       "  'wins': 118,\n",
       "  'losses': 80,\n",
       "  'veteran': False,\n",
       "  'inactive': False,\n",
       "  'freshBlood': False,\n",
       "  'hotStreak': False},\n",
       " {'leagueId': '9e925364-808f-440e-aba4-9e712ca05b81',\n",
       "  'queueType': 'RANKED_SOLO_5x5',\n",
       "  'tier': 'PLATINUM',\n",
       "  'rank': 'I',\n",
       "  'summonerId': 'B_KmGItSHre_OGiMysPF5tzyrnWj62o-h8EX0C0_-R54i1B7',\n",
       "  'summonerName': 'Implight',\n",
       "  'leaguePoints': 100,\n",
       "  'wins': 140,\n",
       "  'losses': 120,\n",
       "  'veteran': False,\n",
       "  'inactive': False,\n",
       "  'freshBlood': False,\n",
       "  'hotStreak': False,\n",
       "  'miniSeries': {'target': 3, 'wins': 0, 'losses': 1, 'progress': 'LNNNN'}},\n",
       " {'leagueId': 'ce74c074-00ac-4135-b6e2-b563d5de681d',\n",
       "  'queueType': 'RANKED_SOLO_5x5',\n",
       "  'tier': 'PLATINUM',\n",
       "  'rank': 'I',\n",
       "  'summonerId': 'zb0G4U9rPyosXtg8VZXgYn13TB7nLP2fwtYhN_WbUcqwu8nw',\n",
       "  'summonerName': 'good play',\n",
       "  'leaguePoints': 75,\n",
       "  'wins': 157,\n",
       "  'losses': 139,\n",
       "  'veteran': False,\n",
       "  'inactive': False,\n",
       "  'freshBlood': False,\n",
       "  'hotStreak': False},\n",
       " {'leagueId': 'f107b006-f9c5-431b-8e02-d22975a120a7',\n",
       "  'queueType': 'RANKED_SOLO_5x5',\n",
       "  'tier': 'PLATINUM',\n",
       "  'rank': 'I',\n",
       "  'summonerId': 'lfNas2yfHOQvjfNtF-S9ttpTFFsCNArFEBCdG_qDzr56kb-K',\n",
       "  'summonerName': 'what is outside',\n",
       "  'leaguePoints': 13,\n",
       "  'wins': 124,\n",
       "  'losses': 143,\n",
       "  'veteran': False,\n",
       "  'inactive': False,\n",
       "  'freshBlood': False,\n",
       "  'hotStreak': False},\n",
       " {'leagueId': '48bf205d-9ee6-49f2-b4a4-a79e774fcc94',\n",
       "  'queueType': 'RANKED_SOLO_5x5',\n",
       "  'tier': 'PLATINUM',\n",
       "  'rank': 'I',\n",
       "  'summonerId': '3OAN3qeeSk2ZHcdVF-KZPqVqPQ02FuDtRXylpzpiAclIKo65',\n",
       "  'summonerName': 'Deserter',\n",
       "  'leaguePoints': 20,\n",
       "  'wins': 52,\n",
       "  'losses': 79,\n",
       "  'veteran': False,\n",
       "  'inactive': False,\n",
       "  'freshBlood': False,\n",
       "  'hotStreak': False},\n",
       " {'leagueId': 'ffed968f-9f5e-4e21-9751-c6e8ac70f9f1',\n",
       "  'queueType': 'RANKED_SOLO_5x5',\n",
       "  'tier': 'PLATINUM',\n",
       "  'rank': 'I',\n",
       "  'summonerId': 'YTce7aNpmMYI7Zp_Yd1oIUWZMFR8YLSVAzGSO1YhOIJd2S-s',\n",
       "  'summonerName': 'Demi no Akuto',\n",
       "  'leaguePoints': 2,\n",
       "  'wins': 117,\n",
       "  'losses': 117,\n",
       "  'veteran': False,\n",
       "  'inactive': False,\n",
       "  'freshBlood': False,\n",
       "  'hotStreak': False},\n",
       " {'leagueId': '66897d17-f69c-4c8e-bbbf-8969e8edf910',\n",
       "  'queueType': 'RANKED_SOLO_5x5',\n",
       "  'tier': 'PLATINUM',\n",
       "  'rank': 'I',\n",
       "  'summonerId': 'wXgKP0ZqwcC5Z6c1GzFhjTSg8FfuAjl0OjfK-nE-tkIxLwfp',\n",
       "  'summonerName': 'Demon Prinxe',\n",
       "  'leaguePoints': 42,\n",
       "  'wins': 712,\n",
       "  'losses': 691,\n",
       "  'veteran': False,\n",
       "  'inactive': False,\n",
       "  'freshBlood': False,\n",
       "  'hotStreak': False},\n",
       " {'leagueId': '44a319b1-d37f-4f7b-b17d-7bbdc4377ca9',\n",
       "  'queueType': 'RANKED_SOLO_5x5',\n",
       "  'tier': 'PLATINUM',\n",
       "  'rank': 'I',\n",
       "  'summonerId': 'lEeKMQdZ53I88PGRxTI0BsiLxCohKrE1jzZ9BzF7kObpizfw',\n",
       "  'summonerName': 'alexgoat',\n",
       "  'leaguePoints': 10,\n",
       "  'wins': 69,\n",
       "  'losses': 57,\n",
       "  'veteran': False,\n",
       "  'inactive': False,\n",
       "  'freshBlood': False,\n",
       "  'hotStreak': False},\n",
       " {'leagueId': 'ed83b72e-f8f9-4d29-b5b4-b8b74ecff1eb',\n",
       "  'queueType': 'RANKED_SOLO_5x5',\n",
       "  'tier': 'PLATINUM',\n",
       "  'rank': 'I',\n",
       "  'summonerId': 'HlLKm6BQp8PRSkZriPdFCpPNmEYHwzO_QqASrxgbQ4mFoFiY',\n",
       "  'summonerName': 'Trashcan Waifu',\n",
       "  'leaguePoints': 75,\n",
       "  'wins': 51,\n",
       "  'losses': 49,\n",
       "  'veteran': False,\n",
       "  'inactive': False,\n",
       "  'freshBlood': False,\n",
       "  'hotStreak': False},\n",
       " {'leagueId': '3992a726-2295-49b5-bc4e-89b72ca9841a',\n",
       "  'queueType': 'RANKED_SOLO_5x5',\n",
       "  'tier': 'PLATINUM',\n",
       "  'rank': 'I',\n",
       "  'summonerId': 'UPRpSKq8R5pNPoe2EavrECoWOi5G57nYhugX3SH-ebysxY1W',\n",
       "  'summonerName': '1192',\n",
       "  'leaguePoints': 91,\n",
       "  'wins': 11,\n",
       "  'losses': 11,\n",
       "  'veteran': False,\n",
       "  'inactive': False,\n",
       "  'freshBlood': False,\n",
       "  'hotStreak': False},\n",
       " {'leagueId': 'e4b83fca-4da0-4630-8978-776090a34437',\n",
       "  'queueType': 'RANKED_SOLO_5x5',\n",
       "  'tier': 'PLATINUM',\n",
       "  'rank': 'I',\n",
       "  'summonerId': 'bHhCcsSoPGDAySH7Dft_8jfbYOems2gSHxHf7spnlsevw3aH',\n",
       "  'summonerName': '0xdc',\n",
       "  'leaguePoints': 75,\n",
       "  'wins': 33,\n",
       "  'losses': 43,\n",
       "  'veteran': False,\n",
       "  'inactive': False,\n",
       "  'freshBlood': False,\n",
       "  'hotStreak': False},\n",
       " {'leagueId': '2c66e833-0cb5-46f4-b72f-392111ca232b',\n",
       "  'queueType': 'RANKED_SOLO_5x5',\n",
       "  'tier': 'PLATINUM',\n",
       "  'rank': 'I',\n",
       "  'summonerId': 'odvSbjcP5byIXXI0OpCk5ICvkj5YB3REG1NN2bMae4Ueh-kV',\n",
       "  'summonerName': 'IDontNeedSleep',\n",
       "  'leaguePoints': 19,\n",
       "  'wins': 72,\n",
       "  'losses': 41,\n",
       "  'veteran': False,\n",
       "  'inactive': False,\n",
       "  'freshBlood': False,\n",
       "  'hotStreak': False},\n",
       " {'leagueId': 'afb94caf-6df4-4ea6-8e46-71e155c6fcc7',\n",
       "  'queueType': 'RANKED_SOLO_5x5',\n",
       "  'tier': 'PLATINUM',\n",
       "  'rank': 'I',\n",
       "  'summonerId': 'CSXBuYIvKkwNvf_AWVcAE5zAq-buqBykx9J0hnUPF6jZMuGW',\n",
       "  'summonerName': 'Was Nice',\n",
       "  'leaguePoints': 70,\n",
       "  'wins': 12,\n",
       "  'losses': 11,\n",
       "  'veteran': False,\n",
       "  'inactive': False,\n",
       "  'freshBlood': False,\n",
       "  'hotStreak': False},\n",
       " {'leagueId': 'dc972513-3fa9-4db5-97c7-5ddc0fee8905',\n",
       "  'queueType': 'RANKED_SOLO_5x5',\n",
       "  'tier': 'PLATINUM',\n",
       "  'rank': 'I',\n",
       "  'summonerId': '1k6EQ6UOdWxuFwoEn4TRcZEZrXLqmwGQCfD6lxOaZ1RbBe6n',\n",
       "  'summonerName': 'Ch1nA God55Kai',\n",
       "  'leaguePoints': 39,\n",
       "  'wins': 93,\n",
       "  'losses': 67,\n",
       "  'veteran': False,\n",
       "  'inactive': False,\n",
       "  'freshBlood': False,\n",
       "  'hotStreak': False},\n",
       " {'leagueId': 'bb79e670-f1a4-455f-afff-1dcc130c467e',\n",
       "  'queueType': 'RANKED_SOLO_5x5',\n",
       "  'tier': 'PLATINUM',\n",
       "  'rank': 'I',\n",
       "  'summonerId': 'IAPvxRyeh-47LaG60gUjGTaWF_9jUKdMtlse0dArPfoWD1eC',\n",
       "  'summonerName': 'shut up lmao',\n",
       "  'leaguePoints': 75,\n",
       "  'wins': 142,\n",
       "  'losses': 101,\n",
       "  'veteran': False,\n",
       "  'inactive': False,\n",
       "  'freshBlood': False,\n",
       "  'hotStreak': False},\n",
       " {'leagueId': '9ba7b794-aa5f-4ab5-a38f-72a80e5933c2',\n",
       "  'queueType': 'RANKED_SOLO_5x5',\n",
       "  'tier': 'PLATINUM',\n",
       "  'rank': 'I',\n",
       "  'summonerId': 'irnmpsIDE-z_uOhRpUJnxUVZiQ45YILazw38oVeynIfC_YCz',\n",
       "  'summonerName': 'The Movie Star',\n",
       "  'leaguePoints': 75,\n",
       "  'wins': 42,\n",
       "  'losses': 33,\n",
       "  'veteran': False,\n",
       "  'inactive': False,\n",
       "  'freshBlood': False,\n",
       "  'hotStreak': False},\n",
       " {'leagueId': '2ef84be1-f902-4d86-b2e2-1c562c96fda4',\n",
       "  'queueType': 'RANKED_SOLO_5x5',\n",
       "  'tier': 'PLATINUM',\n",
       "  'rank': 'I',\n",
       "  'summonerId': '_aFCQw4BKhCOJTqcQYE0uBxiRCMYXNEWueQ_uqzvDGVxIg_c',\n",
       "  'summonerName': 'HoGuDax10',\n",
       "  'leaguePoints': 67,\n",
       "  'wins': 33,\n",
       "  'losses': 38,\n",
       "  'veteran': False,\n",
       "  'inactive': False,\n",
       "  'freshBlood': False,\n",
       "  'hotStreak': False},\n",
       " {'leagueId': 'b6e6106d-9636-4f5c-ba53-55f65ae325ef',\n",
       "  'queueType': 'RANKED_SOLO_5x5',\n",
       "  'tier': 'PLATINUM',\n",
       "  'rank': 'I',\n",
       "  'summonerId': 'nR3J05L4atTC4InpG2nCGYg7mePTh0nG7BJnOGNZ2v9AnDvK',\n",
       "  'summonerName': 'Hide on barrel',\n",
       "  'leaguePoints': 100,\n",
       "  'wins': 29,\n",
       "  'losses': 23,\n",
       "  'veteran': False,\n",
       "  'inactive': False,\n",
       "  'freshBlood': False,\n",
       "  'hotStreak': False,\n",
       "  'miniSeries': {'target': 3, 'wins': 2, 'losses': 2, 'progress': 'LLWWN'}},\n",
       " {'leagueId': 'd070be50-28d7-4248-98a2-cc9a425b94e0',\n",
       "  'queueType': 'RANKED_SOLO_5x5',\n",
       "  'tier': 'PLATINUM',\n",
       "  'rank': 'I',\n",
       "  'summonerId': 'wUP1hOEGvC0m3fYbvd-pAwCAmBDJYoqVkj_YKAWsLQpWfI4C',\n",
       "  'summonerName': 'yuxianga',\n",
       "  'leaguePoints': 77,\n",
       "  'wins': 34,\n",
       "  'losses': 31,\n",
       "  'veteran': False,\n",
       "  'inactive': False,\n",
       "  'freshBlood': False,\n",
       "  'hotStreak': True},\n",
       " {'leagueId': '87dc83e8-1888-4fdc-be2a-e809d82b340b',\n",
       "  'queueType': 'RANKED_SOLO_5x5',\n",
       "  'tier': 'PLATINUM',\n",
       "  'rank': 'I',\n",
       "  'summonerId': '_O5SVssy1RypKSwA9AqgySZIM7_BI_H15K1KdWg4VA_CCLTa',\n",
       "  'summonerName': 'cooang',\n",
       "  'leaguePoints': 13,\n",
       "  'wins': 108,\n",
       "  'losses': 96,\n",
       "  'veteran': False,\n",
       "  'inactive': False,\n",
       "  'freshBlood': False,\n",
       "  'hotStreak': False},\n",
       " {'leagueId': '7879b816-a019-409e-9d6c-cc4a8478870d',\n",
       "  'queueType': 'RANKED_SOLO_5x5',\n",
       "  'tier': 'PLATINUM',\n",
       "  'rank': 'I',\n",
       "  'summonerId': 'Ls9-v8C2UIvrhZnzcM9mqq7DCXJqlThhy_FbbS6bw3rs7R26',\n",
       "  'summonerName': 'Pìnapineapple',\n",
       "  'leaguePoints': 38,\n",
       "  'wins': 30,\n",
       "  'losses': 33,\n",
       "  'veteran': False,\n",
       "  'inactive': False,\n",
       "  'freshBlood': False,\n",
       "  'hotStreak': False},\n",
       " {'leagueId': 'eaed27b1-aa26-49bb-b35d-ebcb0c5fd94f',\n",
       "  'queueType': 'RANKED_SOLO_5x5',\n",
       "  'tier': 'PLATINUM',\n",
       "  'rank': 'I',\n",
       "  'summonerId': '-33Wlciqg6Sqj7VO2vV9C3WO_8A0HwrRcgmHZgJV-DANEex3',\n",
       "  'summonerName': 'Fusion',\n",
       "  'leaguePoints': 43,\n",
       "  'wins': 27,\n",
       "  'losses': 22,\n",
       "  'veteran': False,\n",
       "  'inactive': False,\n",
       "  'freshBlood': False,\n",
       "  'hotStreak': False},\n",
       " {'leagueId': 'e9535aff-8d6f-4d83-aa68-be700453edf8',\n",
       "  'queueType': 'RANKED_SOLO_5x5',\n",
       "  'tier': 'PLATINUM',\n",
       "  'rank': 'I',\n",
       "  'summonerId': '1I4o4DtQYca0BtC59mV5mFAvb8dyW0kdwLkHSnILxBXwRVRO',\n",
       "  'summonerName': 'WęndY',\n",
       "  'leaguePoints': 75,\n",
       "  'wins': 62,\n",
       "  'losses': 53,\n",
       "  'veteran': False,\n",
       "  'inactive': False,\n",
       "  'freshBlood': False,\n",
       "  'hotStreak': False},\n",
       " {'leagueId': 'f474708d-4211-4e82-b388-e75c76a6c72d',\n",
       "  'queueType': 'RANKED_SOLO_5x5',\n",
       "  'tier': 'PLATINUM',\n",
       "  'rank': 'I',\n",
       "  'summonerId': 'hJEBTjhjmx4GTOlhlwTRCThR7Zryj69dL5nw8pnybJoO3VuR',\n",
       "  'summonerName': 'I Am Scripting',\n",
       "  'leaguePoints': 7,\n",
       "  'wins': 24,\n",
       "  'losses': 43,\n",
       "  'veteran': False,\n",
       "  'inactive': False,\n",
       "  'freshBlood': False,\n",
       "  'hotStreak': False},\n",
       " {'leagueId': 'fbe78f47-3b9e-4589-a66a-fc2562a96ecc',\n",
       "  'queueType': 'RANKED_SOLO_5x5',\n",
       "  'tier': 'PLATINUM',\n",
       "  'rank': 'I',\n",
       "  'summonerId': '-XbtYpKsMo5n_IK1o7ZZ9PIKGgDPH1jCrAhY0jQGR-ipiWu1',\n",
       "  'summonerName': 'actually banned',\n",
       "  'leaguePoints': 75,\n",
       "  'wins': 45,\n",
       "  'losses': 42,\n",
       "  'veteran': False,\n",
       "  'inactive': False,\n",
       "  'freshBlood': False,\n",
       "  'hotStreak': False},\n",
       " {'leagueId': '321f91e5-c25c-466e-8f29-954c2560b2e1',\n",
       "  'queueType': 'RANKED_SOLO_5x5',\n",
       "  'tier': 'PLATINUM',\n",
       "  'rank': 'I',\n",
       "  'summonerId': 'Q2PBJxSpH2hZlivliAjLse2lYsduk14Hmw_d9Gb0Rl8SdLnA',\n",
       "  'summonerName': 'I need a Shirou',\n",
       "  'leaguePoints': 64,\n",
       "  'wins': 50,\n",
       "  'losses': 27,\n",
       "  'veteran': False,\n",
       "  'inactive': False,\n",
       "  'freshBlood': False,\n",
       "  'hotStreak': False},\n",
       " {'leagueId': 'e5de5862-b9fd-48a2-8d5c-c5f26f7eb59b',\n",
       "  'queueType': 'RANKED_SOLO_5x5',\n",
       "  'tier': 'PLATINUM',\n",
       "  'rank': 'I',\n",
       "  'summonerId': 'e4GGcR_IclAC3EN1qyCfvgqLzhtClDKPFDCONIo-zRRk1ZIz',\n",
       "  'summonerName': 'FIXTHEFKINGAME',\n",
       "  'leaguePoints': 44,\n",
       "  'wins': 14,\n",
       "  'losses': 17,\n",
       "  'veteran': False,\n",
       "  'inactive': False,\n",
       "  'freshBlood': False,\n",
       "  'hotStreak': False},\n",
       " {'leagueId': '56531f83-ee8c-4962-b4c2-07de5aeaad9c',\n",
       "  'queueType': 'RANKED_SOLO_5x5',\n",
       "  'tier': 'PLATINUM',\n",
       "  'rank': 'I',\n",
       "  'summonerId': 'b67XySQTlo3TglS41kcdzdvWUZh7V9GTbde3Or08KbxDYyYh',\n",
       "  'summonerName': '86yz',\n",
       "  'leaguePoints': 81,\n",
       "  'wins': 80,\n",
       "  'losses': 91,\n",
       "  'veteran': False,\n",
       "  'inactive': False,\n",
       "  'freshBlood': False,\n",
       "  'hotStreak': False},\n",
       " {'leagueId': 'f5294605-a11f-405f-8c2c-9ffd6543ca57',\n",
       "  'queueType': 'RANKED_SOLO_5x5',\n",
       "  'tier': 'PLATINUM',\n",
       "  'rank': 'I',\n",
       "  'summonerId': 'Jho25hsdEv539ycN9SEirzuCmpGIQp-pN8TP_ubXZI-j0Qyd',\n",
       "  'summonerName': '6 02 02',\n",
       "  'leaguePoints': 75,\n",
       "  'wins': 90,\n",
       "  'losses': 109,\n",
       "  'veteran': False,\n",
       "  'inactive': False,\n",
       "  'freshBlood': False,\n",
       "  'hotStreak': False},\n",
       " {'leagueId': 'eb0de950-5d58-4390-854a-98f9e8a56794',\n",
       "  'queueType': 'RANKED_SOLO_5x5',\n",
       "  'tier': 'PLATINUM',\n",
       "  'rank': 'I',\n",
       "  'summonerId': 'ayay3ahp_kvxPyEUdIZHggvFGZtZPKMUcvPTyF8yU8bQhD43',\n",
       "  'summonerName': 'c plus girl',\n",
       "  'leaguePoints': 75,\n",
       "  'wins': 75,\n",
       "  'losses': 79,\n",
       "  'veteran': False,\n",
       "  'inactive': False,\n",
       "  'freshBlood': False,\n",
       "  'hotStreak': False},\n",
       " {'leagueId': '0022b169-5615-4dc6-b3bc-8f2cda99e79b',\n",
       "  'queueType': 'RANKED_SOLO_5x5',\n",
       "  'tier': 'PLATINUM',\n",
       "  'rank': 'I',\n",
       "  'summonerId': 'CZaQdPHrJZ6xy3UCzKZewjmTtaWrUM2Ha5HfOVJyMYBHUYB_',\n",
       "  'summonerName': 'Ah Gon Deep Try',\n",
       "  'leaguePoints': 75,\n",
       "  'wins': 987,\n",
       "  'losses': 942,\n",
       "  'veteran': False,\n",
       "  'inactive': False,\n",
       "  'freshBlood': False,\n",
       "  'hotStreak': False},\n",
       " {'leagueId': 'c26780eb-8ca1-4a90-a4d9-72cd404331d9',\n",
       "  'queueType': 'RANKED_SOLO_5x5',\n",
       "  'tier': 'PLATINUM',\n",
       "  'rank': 'I',\n",
       "  'summonerId': 'Ich_iQwW7xDuItOprAX0jxEbSnDVCCwhBbCDx2537JFJXplJ',\n",
       "  'summonerName': 'Bak Cho1',\n",
       "  'leaguePoints': 75,\n",
       "  'wins': 70,\n",
       "  'losses': 74,\n",
       "  'veteran': False,\n",
       "  'inactive': False,\n",
       "  'freshBlood': False,\n",
       "  'hotStreak': False},\n",
       " {'leagueId': 'b259b601-1d6c-43ee-aab9-217b1a38ebe5',\n",
       "  'queueType': 'RANKED_SOLO_5x5',\n",
       "  'tier': 'PLATINUM',\n",
       "  'rank': 'I',\n",
       "  'summonerId': 'jztG1XAGq4tLb_lg5T5P7P_olRqmhRCIcmsK29pX1UXeRpQ5',\n",
       "  'summonerName': 'BEST RAND0M NA',\n",
       "  'leaguePoints': 100,\n",
       "  'wins': 13,\n",
       "  'losses': 9,\n",
       "  'veteran': False,\n",
       "  'inactive': False,\n",
       "  'freshBlood': False,\n",
       "  'hotStreak': False,\n",
       "  'miniSeries': {'target': 3, 'wins': 0, 'losses': 0, 'progress': 'NNNNN'}},\n",
       " {'leagueId': '110b81c8-faec-4014-bd80-2a3caca15606',\n",
       "  'queueType': 'RANKED_SOLO_5x5',\n",
       "  'tier': 'PLATINUM',\n",
       "  'rank': 'I',\n",
       "  'summonerId': 'Q_dL51N1MC4OrSbPGXEESpVGLC48MH8VEsZd-da7q8oKscFA',\n",
       "  'summonerName': 'NevrMore',\n",
       "  'leaguePoints': 75,\n",
       "  'wins': 135,\n",
       "  'losses': 127,\n",
       "  'veteran': False,\n",
       "  'inactive': False,\n",
       "  'freshBlood': False,\n",
       "  'hotStreak': False},\n",
       " {'leagueId': 'db73e270-91a3-4ddc-a18a-9167ce6f5d28',\n",
       "  'queueType': 'RANKED_SOLO_5x5',\n",
       "  'tier': 'PLATINUM',\n",
       "  'rank': 'I',\n",
       "  'summonerId': 'rN-yj7sG9gXByqBFk-_z-8UtaPJtnABgcV3Os8W6WEz7FH2c',\n",
       "  'summonerName': 'Girls L1ke You',\n",
       "  'leaguePoints': 61,\n",
       "  'wins': 106,\n",
       "  'losses': 71,\n",
       "  'veteran': False,\n",
       "  'inactive': False,\n",
       "  'freshBlood': False,\n",
       "  'hotStreak': False},\n",
       " {'leagueId': '4bb65248-b0ea-4cbd-9825-8cf64780151d',\n",
       "  'queueType': 'RANKED_SOLO_5x5',\n",
       "  'tier': 'PLATINUM',\n",
       "  'rank': 'I',\n",
       "  'summonerId': '2oKgRc_zJEKjZRrH6tEkh6isBysT6KnMfiILvRu96e0RDIpF',\n",
       "  'summonerName': 'DGQB',\n",
       "  'leaguePoints': 33,\n",
       "  'wins': 318,\n",
       "  'losses': 292,\n",
       "  'veteran': False,\n",
       "  'inactive': False,\n",
       "  'freshBlood': False,\n",
       "  'hotStreak': False},\n",
       " {'leagueId': 'bfc76e6c-7a03-4a99-9a65-274a314769b0',\n",
       "  'queueType': 'RANKED_SOLO_5x5',\n",
       "  'tier': 'PLATINUM',\n",
       "  'rank': 'I',\n",
       "  'summonerId': 'f0gtIXpzzqQxKhaEQglwvWSGOBcN2WeZXK0ur4kQUjgGPfcG',\n",
       "  'summonerName': 'Feeder VNese',\n",
       "  'leaguePoints': 75,\n",
       "  'wins': 99,\n",
       "  'losses': 98,\n",
       "  'veteran': False,\n",
       "  'inactive': False,\n",
       "  'freshBlood': False,\n",
       "  'hotStreak': False},\n",
       " {'leagueId': '3d78f9f8-4194-4a04-abfa-de317e813bdb',\n",
       "  'queueType': 'RANKED_SOLO_5x5',\n",
       "  'tier': 'PLATINUM',\n",
       "  'rank': 'I',\n",
       "  'summonerId': '69bUoxcRL6QGfhW5CveC4Oq61OTTUBnHAlgo7NCX6NN3OEHf',\n",
       "  'summonerName': 'X 12 11',\n",
       "  'leaguePoints': 0,\n",
       "  'wins': 12,\n",
       "  'losses': 15,\n",
       "  'veteran': False,\n",
       "  'inactive': False,\n",
       "  'freshBlood': False,\n",
       "  'hotStreak': False},\n",
       " {'leagueId': '15ab013a-9859-47e1-9986-b1a25480e3be',\n",
       "  'queueType': 'RANKED_SOLO_5x5',\n",
       "  'tier': 'PLATINUM',\n",
       "  'rank': 'I',\n",
       "  'summonerId': 'lGEzCj3JqwyiuIOx3x9he-leIubF5t-IKCzGINK4TzUS-Dlb',\n",
       "  'summonerName': 'Whitê',\n",
       "  'leaguePoints': 37,\n",
       "  'wins': 67,\n",
       "  'losses': 58,\n",
       "  'veteran': False,\n",
       "  'inactive': False,\n",
       "  'freshBlood': False,\n",
       "  'hotStreak': False},\n",
       " {'leagueId': '70010d2e-3c25-4f8f-aba8-fcba11ad82ea',\n",
       "  'queueType': 'RANKED_SOLO_5x5',\n",
       "  'tier': 'PLATINUM',\n",
       "  'rank': 'I',\n",
       "  'summonerId': 'zUZIQSuOrVFo13h3_j2mwwm-MmHI1WLkN5wLiuZN6Dwtf015',\n",
       "  'summonerName': 'Meeeeester Juan',\n",
       "  'leaguePoints': 75,\n",
       "  'wins': 256,\n",
       "  'losses': 254,\n",
       "  'veteran': False,\n",
       "  'inactive': False,\n",
       "  'freshBlood': False,\n",
       "  'hotStreak': False},\n",
       " {'leagueId': 'be857efc-b1e9-430b-95af-e8043d82051c',\n",
       "  'queueType': 'RANKED_SOLO_5x5',\n",
       "  'tier': 'PLATINUM',\n",
       "  'rank': 'I',\n",
       "  'summonerId': '8Ub3nngazyHfjTtkqqYQDJTy3ZXYwOjTgm_LSTavEZXoWREt',\n",
       "  'summonerName': 'EUWOmgLeeSin',\n",
       "  'leaguePoints': 75,\n",
       "  'wins': 161,\n",
       "  'losses': 106,\n",
       "  'veteran': False,\n",
       "  'inactive': False,\n",
       "  'freshBlood': False,\n",
       "  'hotStreak': False},\n",
       " {'leagueId': 'd2ae7084-d165-40a6-8992-bca76b0cfc7b',\n",
       "  'queueType': 'RANKED_SOLO_5x5',\n",
       "  'tier': 'PLATINUM',\n",
       "  'rank': 'I',\n",
       "  'summonerId': 'XDNeT61lFSuTcHV1m6tE4j0bOostRKhQiqSMplVoKL-NWkOo',\n",
       "  'summonerName': 'Mikosuki',\n",
       "  'leaguePoints': 54,\n",
       "  'wins': 16,\n",
       "  'losses': 18,\n",
       "  'veteran': False,\n",
       "  'inactive': False,\n",
       "  'freshBlood': False,\n",
       "  'hotStreak': False},\n",
       " {'leagueId': 'c366a455-373e-4ba0-97ce-97d73ec1f58d',\n",
       "  'queueType': 'RANKED_SOLO_5x5',\n",
       "  'tier': 'PLATINUM',\n",
       "  'rank': 'I',\n",
       "  'summonerId': '82UgP2VBrDsPQE4l7CGsKr9bPJUTAQTbCeEGHhNhbOv9i5sP',\n",
       "  'summonerName': 'YaDaughtah',\n",
       "  'leaguePoints': 37,\n",
       "  'wins': 184,\n",
       "  'losses': 216,\n",
       "  'veteran': False,\n",
       "  'inactive': False,\n",
       "  'freshBlood': False,\n",
       "  'hotStreak': False},\n",
       " {'leagueId': 'fb95bdf7-8045-47f3-bf95-9b7124792cbe',\n",
       "  'queueType': 'RANKED_SOLO_5x5',\n",
       "  'tier': 'PLATINUM',\n",
       "  'rank': 'I',\n",
       "  'summonerId': 'V4asVHBW3-6ITbcN6xP-H-vBSoY9q0VtQCSFt1XeFO33QxvF',\n",
       "  'summonerName': 'Cadenske',\n",
       "  'leaguePoints': 59,\n",
       "  'wins': 97,\n",
       "  'losses': 85,\n",
       "  'veteran': False,\n",
       "  'inactive': False,\n",
       "  'freshBlood': False,\n",
       "  'hotStreak': False},\n",
       " {'leagueId': 'e9ca143b-267e-43c1-8920-9bde59619193',\n",
       "  'queueType': 'RANKED_SOLO_5x5',\n",
       "  'tier': 'PLATINUM',\n",
       "  'rank': 'I',\n",
       "  'summonerId': '2OB5Nu7TiX3KN8n2VFR4djhD7IUb9wbxiDRC_BT0ZHxQagXg',\n",
       "  'summonerName': 'EatinGood',\n",
       "  'leaguePoints': 57,\n",
       "  'wins': 26,\n",
       "  'losses': 20,\n",
       "  'veteran': False,\n",
       "  'inactive': False,\n",
       "  'freshBlood': False,\n",
       "  'hotStreak': False},\n",
       " {'leagueId': '7f6497c4-04c4-4746-8544-a761fc838971',\n",
       "  'queueType': 'RANKED_SOLO_5x5',\n",
       "  'tier': 'PLATINUM',\n",
       "  'rank': 'I',\n",
       "  'summonerId': 'PO1RIvBv1X1zg7EQViqPjxCKz6IQRQT_39mhnpYTJ5veuTk9',\n",
       "  'summonerName': 'Draven Hates Ns',\n",
       "  'leaguePoints': 44,\n",
       "  'wins': 259,\n",
       "  'losses': 281,\n",
       "  'veteran': False,\n",
       "  'inactive': False,\n",
       "  'freshBlood': False,\n",
       "  'hotStreak': False},\n",
       " {'leagueId': 'faeb41f8-d481-41c1-8428-1983a27ed9c6',\n",
       "  'queueType': 'RANKED_SOLO_5x5',\n",
       "  'tier': 'PLATINUM',\n",
       "  'rank': 'I',\n",
       "  'summonerId': 'oCNcDYNrbVxqx5o7PHnuQ2KmcBco70UoYB1E8IlS53h50hJw',\n",
       "  'summonerName': 'NUNUgang',\n",
       "  'leaguePoints': 75,\n",
       "  'wins': 30,\n",
       "  'losses': 14,\n",
       "  'veteran': False,\n",
       "  'inactive': False,\n",
       "  'freshBlood': False,\n",
       "  'hotStreak': False},\n",
       " {'leagueId': 'c0b3061b-7ae7-43cd-b02d-c389bc977623',\n",
       "  'queueType': 'RANKED_SOLO_5x5',\n",
       "  'tier': 'PLATINUM',\n",
       "  'rank': 'I',\n",
       "  'summonerId': 'bhLjEgFb0-ukGxIjOPxorNfYfIY0TEtKc5WBHzddzX2kkvSV',\n",
       "  'summonerName': 'phubgingerbaby96',\n",
       "  'leaguePoints': 75,\n",
       "  'wins': 78,\n",
       "  'losses': 60,\n",
       "  'veteran': False,\n",
       "  'inactive': False,\n",
       "  'freshBlood': False,\n",
       "  'hotStreak': False},\n",
       " {'leagueId': 'ab72df1b-f2f7-4cb5-b19f-fb6e9d818d3a',\n",
       "  'queueType': 'RANKED_SOLO_5x5',\n",
       "  'tier': 'PLATINUM',\n",
       "  'rank': 'I',\n",
       "  'summonerId': 'iI_ZuUDnSxfvAPVymfMYMlQbqFhWzJPcrU3ppGkyksfCmFdQ',\n",
       "  'summonerName': 'CasualGamerGirl',\n",
       "  'leaguePoints': 67,\n",
       "  'wins': 16,\n",
       "  'losses': 9,\n",
       "  'veteran': False,\n",
       "  'inactive': False,\n",
       "  'freshBlood': False,\n",
       "  'hotStreak': False},\n",
       " {'leagueId': 'bf86c203-e48d-4fac-bb3c-b50ab50d5be6',\n",
       "  'queueType': 'RANKED_SOLO_5x5',\n",
       "  'tier': 'PLATINUM',\n",
       "  'rank': 'I',\n",
       "  'summonerId': 'Ae_kY-WJQGWmMEY-92eJAyFtbgaaCCnlDoELVP_n22_H4wlq',\n",
       "  'summonerName': 'Hand Of GøD',\n",
       "  'leaguePoints': 14,\n",
       "  'wins': 173,\n",
       "  'losses': 155,\n",
       "  'veteran': False,\n",
       "  'inactive': False,\n",
       "  'freshBlood': False,\n",
       "  'hotStreak': False},\n",
       " {'leagueId': 'aa7852d2-3bf4-4d72-a269-18c88553f582',\n",
       "  'queueType': 'RANKED_SOLO_5x5',\n",
       "  'tier': 'PLATINUM',\n",
       "  'rank': 'I',\n",
       "  'summonerId': 'cqm8W-ZqOtFbubuDPTdDewGJlVSnmpTmz3HXohlJ85lkX725',\n",
       "  'summonerName': 'Dream Market Bot',\n",
       "  'leaguePoints': 75,\n",
       "  'wins': 98,\n",
       "  'losses': 98,\n",
       "  'veteran': False,\n",
       "  'inactive': False,\n",
       "  'freshBlood': False,\n",
       "  'hotStreak': False},\n",
       " {'leagueId': 'f107b006-f9c5-431b-8e02-d22975a120a7',\n",
       "  'queueType': 'RANKED_SOLO_5x5',\n",
       "  'tier': 'PLATINUM',\n",
       "  'rank': 'I',\n",
       "  'summonerId': 'b4G-o_Sf1EmVt3fJH8aZF36XsPxsvOp5-AIl7eEes5hD3LHe',\n",
       "  'summonerName': 'GUNTERCAT',\n",
       "  'leaguePoints': 100,\n",
       "  'wins': 21,\n",
       "  'losses': 40,\n",
       "  'veteran': False,\n",
       "  'inactive': False,\n",
       "  'freshBlood': False,\n",
       "  'hotStreak': False,\n",
       "  'miniSeries': {'target': 3, 'wins': 0, 'losses': 2, 'progress': 'LLNNN'}},\n",
       " {'leagueId': '7d2dd762-2240-47a2-8bf6-9397587f5c4d',\n",
       "  'queueType': 'RANKED_SOLO_5x5',\n",
       "  'tier': 'PLATINUM',\n",
       "  'rank': 'I',\n",
       "  'summonerId': 'yGa8Qalz7mbvrBhoG0KruFAVwgYKF5K8nMwdP3y_x5a9HPRI',\n",
       "  'summonerName': 'MILKTRUCK ARRIVE',\n",
       "  'leaguePoints': 23,\n",
       "  'wins': 71,\n",
       "  'losses': 78,\n",
       "  'veteran': False,\n",
       "  'inactive': False,\n",
       "  'freshBlood': False,\n",
       "  'hotStreak': False},\n",
       " {'leagueId': 'be6aebb5-60e2-491c-ab7d-f387bfe54622',\n",
       "  'queueType': 'RANKED_SOLO_5x5',\n",
       "  'tier': 'PLATINUM',\n",
       "  'rank': 'I',\n",
       "  'summonerId': 'dak6xMCdIo9MxYeAD6a-3qlgm59Nu7cfKuhHhpY3O4nZy9x2',\n",
       "  'summonerName': 'TSM BB',\n",
       "  'leaguePoints': 75,\n",
       "  'wins': 59,\n",
       "  'losses': 64,\n",
       "  'veteran': False,\n",
       "  'inactive': False,\n",
       "  'freshBlood': False,\n",
       "  'hotStreak': False},\n",
       " {'leagueId': '7bfd0f91-c6cd-4e05-a558-c3666a5f0503',\n",
       "  'queueType': 'RANKED_SOLO_5x5',\n",
       "  'tier': 'PLATINUM',\n",
       "  'rank': 'I',\n",
       "  'summonerId': 'YD6u06E8WbI0MpkuLz57Q4aFE9BOTcSwZS6YIKYU1QkN0yKf',\n",
       "  'summonerName': 'Ha x Ad',\n",
       "  'leaguePoints': 75,\n",
       "  'wins': 149,\n",
       "  'losses': 148,\n",
       "  'veteran': False,\n",
       "  'inactive': False,\n",
       "  'freshBlood': False,\n",
       "  'hotStreak': False},\n",
       " {'leagueId': '56531f83-ee8c-4962-b4c2-07de5aeaad9c',\n",
       "  'queueType': 'RANKED_SOLO_5x5',\n",
       "  'tier': 'PLATINUM',\n",
       "  'rank': 'I',\n",
       "  'summonerId': 'ttcDbatPILoBwWyvjOVvMIPPJX6vzVtcCiHpHITJAr1bJS3c',\n",
       "  'summonerName': 'me arthur chen',\n",
       "  'leaguePoints': 75,\n",
       "  'wins': 19,\n",
       "  'losses': 23,\n",
       "  'veteran': False,\n",
       "  'inactive': False,\n",
       "  'freshBlood': False,\n",
       "  'hotStreak': False},\n",
       " {'leagueId': '1fc5ec46-e044-4632-b35d-81ce3121deac',\n",
       "  'queueType': 'RANKED_SOLO_5x5',\n",
       "  'tier': 'PLATINUM',\n",
       "  'rank': 'I',\n",
       "  'summonerId': 'Gnr191bFoBW9fLuhKod220jcg1cci9O_JownwjXVYJ6smjnU',\n",
       "  'summonerName': 'Kaita',\n",
       "  'leaguePoints': 73,\n",
       "  'wins': 15,\n",
       "  'losses': 18,\n",
       "  'veteran': False,\n",
       "  'inactive': False,\n",
       "  'freshBlood': False,\n",
       "  'hotStreak': False},\n",
       " {'leagueId': 'd9deba3b-291a-4c6f-a175-f1390081f528',\n",
       "  'queueType': 'RANKED_SOLO_5x5',\n",
       "  'tier': 'PLATINUM',\n",
       "  'rank': 'I',\n",
       "  'summonerId': 'nO4lWkNYER2Yq5xKV76_7PGyeiYqLF2GzhMi9vv2NGui2dPn',\n",
       "  'summonerName': 'UnleashTheSheath',\n",
       "  'leaguePoints': 25,\n",
       "  'wins': 86,\n",
       "  'losses': 55,\n",
       "  'veteran': False,\n",
       "  'inactive': False,\n",
       "  'freshBlood': False,\n",
       "  'hotStreak': False},\n",
       " {'leagueId': '92de503a-5b52-45d3-9e79-569c63c50bee',\n",
       "  'queueType': 'RANKED_SOLO_5x5',\n",
       "  'tier': 'PLATINUM',\n",
       "  'rank': 'I',\n",
       "  'summonerId': '2GI8fLvu17stMp9QzLMQ3IlsdooqrNEF-GaySQPdt014Qxfv',\n",
       "  'summonerName': 'Rusty Anne',\n",
       "  'leaguePoints': 60,\n",
       "  'wins': 14,\n",
       "  'losses': 15,\n",
       "  'veteran': False,\n",
       "  'inactive': False,\n",
       "  'freshBlood': False,\n",
       "  'hotStreak': False},\n",
       " {'leagueId': '0908bc6b-eab0-43ae-9a67-b67806c3c6da',\n",
       "  'queueType': 'RANKED_SOLO_5x5',\n",
       "  'tier': 'PLATINUM',\n",
       "  'rank': 'I',\n",
       "  'summonerId': 'ADS5mf_tUxYNGBIwNMyK0Lz1XIUTHEK5i7BaNeo3aXMsTF30',\n",
       "  'summonerName': 'Gaaaaabi',\n",
       "  'leaguePoints': 75,\n",
       "  'wins': 325,\n",
       "  'losses': 337,\n",
       "  'veteran': False,\n",
       "  'inactive': False,\n",
       "  'freshBlood': False,\n",
       "  'hotStreak': False},\n",
       " {'leagueId': 'dddab8dd-f7c4-42cd-847a-c3a0068b1b50',\n",
       "  'queueType': 'RANKED_SOLO_5x5',\n",
       "  'tier': 'PLATINUM',\n",
       "  'rank': 'I',\n",
       "  'summonerId': 'JctAFb9PEEzAffJTaJyLJLnqy6N-Qpv8KkV8bL3XyU3oNZUj',\n",
       "  'summonerName': 'ice nine tea',\n",
       "  'leaguePoints': 17,\n",
       "  'wins': 82,\n",
       "  'losses': 65,\n",
       "  'veteran': False,\n",
       "  'inactive': False,\n",
       "  'freshBlood': False,\n",
       "  'hotStreak': False},\n",
       " {'leagueId': 'b7d16e15-cbf9-479a-8b54-fa6b5264186e',\n",
       "  'queueType': 'RANKED_SOLO_5x5',\n",
       "  'tier': 'PLATINUM',\n",
       "  'rank': 'I',\n",
       "  'summonerId': 'NOEqVoVttInZ-6kpBTJD6VINpi9r5ABCjA784NZb-oIbJ6-5',\n",
       "  'summonerName': 'your jiji fly',\n",
       "  'leaguePoints': 75,\n",
       "  'wins': 226,\n",
       "  'losses': 181,\n",
       "  'veteran': False,\n",
       "  'inactive': False,\n",
       "  'freshBlood': False,\n",
       "  'hotStreak': False},\n",
       " {'leagueId': '142f2a51-f83b-4cc5-9d8b-c83330274d2c',\n",
       "  'queueType': 'RANKED_SOLO_5x5',\n",
       "  'tier': 'PLATINUM',\n",
       "  'rank': 'I',\n",
       "  'summonerId': 'o2Jk5fRLrr69sXtaS58uIblq_pg35Q8LOsLiqrQhsZdg8I-x',\n",
       "  'summonerName': 'I am Defy',\n",
       "  'leaguePoints': 56,\n",
       "  'wins': 35,\n",
       "  'losses': 32,\n",
       "  'veteran': False,\n",
       "  'inactive': False,\n",
       "  'freshBlood': False,\n",
       "  'hotStreak': False},\n",
       " {'leagueId': 'f5917cbc-fa7e-4e22-97d9-9140d0170fe0',\n",
       "  'queueType': 'RANKED_SOLO_5x5',\n",
       "  'tier': 'PLATINUM',\n",
       "  'rank': 'I',\n",
       "  'summonerId': 'bI9-hxV6q9ngqHfoO7vzd86xnhgFwenU2AFuLgTP1cpi97QR',\n",
       "  'summonerName': 'NotButter2',\n",
       "  'leaguePoints': 25,\n",
       "  'wins': 22,\n",
       "  'losses': 17,\n",
       "  'veteran': False,\n",
       "  'inactive': False,\n",
       "  'freshBlood': False,\n",
       "  'hotStreak': False},\n",
       " {'leagueId': '58254d42-2578-4493-acbf-962ec2fffcb1',\n",
       "  'queueType': 'RANKED_SOLO_5x5',\n",
       "  'tier': 'PLATINUM',\n",
       "  'rank': 'I',\n",
       "  'summonerId': 'vfCLI7EdrB14bCyL6jsoueadScuj7MW-ulS-0xDkn9hrr52l',\n",
       "  'summonerName': 'Pog MainZ',\n",
       "  'leaguePoints': 75,\n",
       "  'wins': 136,\n",
       "  'losses': 138,\n",
       "  'veteran': False,\n",
       "  'inactive': False,\n",
       "  'freshBlood': False,\n",
       "  'hotStreak': False},\n",
       " {'leagueId': '9f72c8de-a113-40ea-bd80-58a32f1f48ca',\n",
       "  'queueType': 'RANKED_SOLO_5x5',\n",
       "  'tier': 'PLATINUM',\n",
       "  'rank': 'I',\n",
       "  'summonerId': '90TuVWUMTDgi1qc_7RSXLr_ZwalkDbgl296LSixquFna-IXq',\n",
       "  'summonerName': 'Fengxian',\n",
       "  'leaguePoints': 75,\n",
       "  'wins': 155,\n",
       "  'losses': 107,\n",
       "  'veteran': False,\n",
       "  'inactive': False,\n",
       "  'freshBlood': False,\n",
       "  'hotStreak': False},\n",
       " {'leagueId': '32933175-8bdf-46f9-86d2-7e5b007d9746',\n",
       "  'queueType': 'RANKED_SOLO_5x5',\n",
       "  'tier': 'PLATINUM',\n",
       "  'rank': 'I',\n",
       "  'summonerId': '6Eh359MnODfUColJeVD0Ed6SjzcetiMhTt7ez1B_f1kxBIyO',\n",
       "  'summonerName': 'GigaP',\n",
       "  'leaguePoints': 37,\n",
       "  'wins': 12,\n",
       "  'losses': 23,\n",
       "  'veteran': False,\n",
       "  'inactive': False,\n",
       "  'freshBlood': False,\n",
       "  'hotStreak': False},\n",
       " {'leagueId': 'cc1400fc-cef9-4067-8dac-dbbd2a3d3667',\n",
       "  'queueType': 'RANKED_SOLO_5x5',\n",
       "  'tier': 'PLATINUM',\n",
       "  'rank': 'I',\n",
       "  'summonerId': 'ln75KqNT_EQ3BbtVZfnPLcn1M4-MjspLQbe6LosHqhq_4GyU',\n",
       "  'summonerName': 'kleenest peenis',\n",
       "  'leaguePoints': 0,\n",
       "  'wins': 108,\n",
       "  'losses': 74,\n",
       "  'veteran': False,\n",
       "  'inactive': False,\n",
       "  'freshBlood': False,\n",
       "  'hotStreak': False},\n",
       " {'leagueId': 'cc88356e-2fa9-484e-abb2-5a8772847aee',\n",
       "  'queueType': 'RANKED_SOLO_5x5',\n",
       "  'tier': 'PLATINUM',\n",
       "  'rank': 'I',\n",
       "  'summonerId': 'zlwBkuaL8Omfa2sHi2SAYO-li2zN4TOOLgmNF47prTRjZL_3',\n",
       "  'summonerName': 'KYAN OPEN',\n",
       "  'leaguePoints': 6,\n",
       "  'wins': 22,\n",
       "  'losses': 23,\n",
       "  'veteran': False,\n",
       "  'inactive': False,\n",
       "  'freshBlood': False,\n",
       "  'hotStreak': False},\n",
       " {'leagueId': '3992a726-2295-49b5-bc4e-89b72ca9841a',\n",
       "  'queueType': 'RANKED_SOLO_5x5',\n",
       "  'tier': 'PLATINUM',\n",
       "  'rank': 'I',\n",
       "  'summonerId': 'hFKXFrnCzVLv-uotWn6PEcCWSQZ0uJcWSgWNeWlduETtQDYw',\n",
       "  'summonerName': 'JFK Treatment',\n",
       "  'leaguePoints': 61,\n",
       "  'wins': 42,\n",
       "  'losses': 47,\n",
       "  'veteran': False,\n",
       "  'inactive': False,\n",
       "  'freshBlood': False,\n",
       "  'hotStreak': False},\n",
       " {'leagueId': '38c90202-125a-4090-8be2-f20acaef6c27',\n",
       "  'queueType': 'RANKED_SOLO_5x5',\n",
       "  'tier': 'PLATINUM',\n",
       "  'rank': 'I',\n",
       "  'summonerId': 'Pk3aQdjYc5Qg1lCM-MHZgxENrKdhsX8TcBqHI6X8541A74F6',\n",
       "  'summonerName': 'Clutch Piglet',\n",
       "  'leaguePoints': 16,\n",
       "  'wins': 40,\n",
       "  'losses': 30,\n",
       "  'veteran': False,\n",
       "  'inactive': False,\n",
       "  'freshBlood': False,\n",
       "  'hotStreak': False},\n",
       " {'leagueId': 'cc88356e-2fa9-484e-abb2-5a8772847aee',\n",
       "  'queueType': 'RANKED_SOLO_5x5',\n",
       "  'tier': 'PLATINUM',\n",
       "  'rank': 'I',\n",
       "  'summonerId': 'zLttqZOMPmZU_Oz_vA2LwfXekiuNKfoprpYQ-nZ0CYCUrAyc',\n",
       "  'summonerName': 'stacy',\n",
       "  'leaguePoints': 8,\n",
       "  'wins': 36,\n",
       "  'losses': 48,\n",
       "  'veteran': False,\n",
       "  'inactive': False,\n",
       "  'freshBlood': False,\n",
       "  'hotStreak': False},\n",
       " {'leagueId': '4946a26c-460d-46b5-b5bb-7ec83c989687',\n",
       "  'queueType': 'RANKED_SOLO_5x5',\n",
       "  'tier': 'PLATINUM',\n",
       "  'rank': 'I',\n",
       "  'summonerId': 'C5kIX1Hsz8M_kc6zJwmHlXIrinxz4-qZeYPxMQlbz-WHjTCM',\n",
       "  'summonerName': 'Profess0r Poop',\n",
       "  'leaguePoints': 0,\n",
       "  'wins': 11,\n",
       "  'losses': 10,\n",
       "  'veteran': False,\n",
       "  'inactive': False,\n",
       "  'freshBlood': False,\n",
       "  'hotStreak': False},\n",
       " {'leagueId': '7a15df9e-2a72-44e7-83c5-139009f5d482',\n",
       "  'queueType': 'RANKED_SOLO_5x5',\n",
       "  'tier': 'PLATINUM',\n",
       "  'rank': 'I',\n",
       "  'summonerId': '8gH0oi7sawLg4paLLeuTwTkymeMQVdGbgPsJj42hjlaxGC9N',\n",
       "  'summonerName': 'Faker Chovy Dopa',\n",
       "  'leaguePoints': 0,\n",
       "  'wins': 24,\n",
       "  'losses': 17,\n",
       "  'veteran': False,\n",
       "  'inactive': False,\n",
       "  'freshBlood': False,\n",
       "  'hotStreak': False},\n",
       " {'leagueId': 'fd1eeadd-7bc6-4285-8534-bf4b660a3cfc',\n",
       "  'queueType': 'RANKED_SOLO_5x5',\n",
       "  'tier': 'PLATINUM',\n",
       "  'rank': 'I',\n",
       "  'summonerId': 'FFS00Q5qpIvYn3zB9_H3V37yQ8JGbSQU4jrsfMdjY1DxapBp',\n",
       "  'summonerName': 'Beginn',\n",
       "  'leaguePoints': 0,\n",
       "  'wins': 5,\n",
       "  'losses': 8,\n",
       "  'veteran': False,\n",
       "  'inactive': False,\n",
       "  'freshBlood': False,\n",
       "  'hotStreak': False},\n",
       " {'leagueId': 'cf79a642-1a1d-4fbc-907d-f88b0568ccfb',\n",
       "  'queueType': 'RANKED_SOLO_5x5',\n",
       "  'tier': 'PLATINUM',\n",
       "  'rank': 'I',\n",
       "  'summonerId': 'qCnmDTpFjVTNNGs5vsFSR-lUcWTHkCskt4LT7Z-k6xIipw3R',\n",
       "  'summonerName': 'Ximalaya 2020',\n",
       "  'leaguePoints': 75,\n",
       "  'wins': 29,\n",
       "  'losses': 25,\n",
       "  'veteran': False,\n",
       "  'inactive': False,\n",
       "  'freshBlood': False,\n",
       "  'hotStreak': False},\n",
       " {'leagueId': '10b2e2bb-e1df-4f18-8b03-73db14e1e9af',\n",
       "  'queueType': 'RANKED_SOLO_5x5',\n",
       "  'tier': 'PLATINUM',\n",
       "  'rank': 'I',\n",
       "  'summonerId': 'cPjoObFDYu-VFrFdFsaI58JuQo8pH9NGZljl8RfEMSGGrvN-',\n",
       "  'summonerName': 'JingleJangleMain',\n",
       "  'leaguePoints': 56,\n",
       "  'wins': 207,\n",
       "  'losses': 171,\n",
       "  'veteran': False,\n",
       "  'inactive': False,\n",
       "  'freshBlood': False,\n",
       "  'hotStreak': False},\n",
       " {'leagueId': 'b4104b63-0d6b-47a8-991f-ad8cb0d76852',\n",
       "  'queueType': 'RANKED_SOLO_5x5',\n",
       "  'tier': 'PLATINUM',\n",
       "  'rank': 'I',\n",
       "  'summonerId': 'WpoYrwkoWIbzK3ikZdYwfyfXuiXK5XIXGvKYDvPEQWqx7h8c',\n",
       "  'summonerName': 'HØES ',\n",
       "  'leaguePoints': 24,\n",
       "  'wins': 80,\n",
       "  'losses': 60,\n",
       "  'veteran': False,\n",
       "  'inactive': False,\n",
       "  'freshBlood': False,\n",
       "  'hotStreak': False},\n",
       " {'leagueId': '1ee6a362-a715-43ae-8aeb-6c369008c26a',\n",
       "  'queueType': 'RANKED_SOLO_5x5',\n",
       "  'tier': 'PLATINUM',\n",
       "  'rank': 'I',\n",
       "  'summonerId': 'cENG0W5yrGAdRAIcGmmXvO3cKDtJiWo6ms98gUydFinMIz7R',\n",
       "  'summonerName': 'VI Yonko',\n",
       "  'leaguePoints': 29,\n",
       "  'wins': 67,\n",
       "  'losses': 64,\n",
       "  'veteran': False,\n",
       "  'inactive': False,\n",
       "  'freshBlood': False,\n",
       "  'hotStreak': False},\n",
       " {'leagueId': 'ce74c074-00ac-4135-b6e2-b563d5de681d',\n",
       "  'queueType': 'RANKED_SOLO_5x5',\n",
       "  'tier': 'PLATINUM',\n",
       "  'rank': 'I',\n",
       "  'summonerId': 'HjVeoNVeIgq-Ukl9UZ6hauzLZ4hF2nLq-UEX_B54TEwVnji_',\n",
       "  'summonerName': '2mgRisperdal',\n",
       "  'leaguePoints': 75,\n",
       "  'wins': 57,\n",
       "  'losses': 32,\n",
       "  'veteran': False,\n",
       "  'inactive': False,\n",
       "  'freshBlood': False,\n",
       "  'hotStreak': True},\n",
       " {'leagueId': '0908bc6b-eab0-43ae-9a67-b67806c3c6da',\n",
       "  'queueType': 'RANKED_SOLO_5x5',\n",
       "  'tier': 'PLATINUM',\n",
       "  'rank': 'I',\n",
       "  'summonerId': 'ZsqIIaHfRZMz6Cqyakjs-x6uwAjg2K0CvMh4LYcbH63B4krE',\n",
       "  'summonerName': 'Kraitenv',\n",
       "  'leaguePoints': 75,\n",
       "  'wins': 41,\n",
       "  'losses': 49,\n",
       "  'veteran': False,\n",
       "  'inactive': False,\n",
       "  'freshBlood': False,\n",
       "  'hotStreak': False}]"
      ]
     },
     "metadata": {},
     "output_type": "display_data"
    }
   ],
   "source": [
    "region = 'na1'\n",
    "rank = 'PLATINUM'\n",
    "division = 'I'\n",
    "page = 1\n",
    "req = f'https://{region}.api.riotgames.com/lol/league/v4/entries/RANKED_SOLO_5x5/{rank}/{division}?page={page}'\n",
    "resp = requests.get(req,headers=payload)\n",
    "data = json.loads(resp.content)\n"
   ]
  },
  {
   "cell_type": "code",
   "execution_count": 148,
   "metadata": {},
   "outputs": [],
   "source": [
    "filename = \"./League of Legends/data/text.csv\"\n",
    "with open(filename,'a+') as f:\n",
    "    for d in data:\n",
    "        f.write(\",\".join((d['tier'],d['rank'],d['summonerId'])))\n",
    "        f.write(\"\\n\")"
   ]
  },
  {
   "cell_type": "code",
   "execution_count": 210,
   "metadata": {
    "scrolled": true
   },
   "outputs": [
    {
     "name": "stdout",
     "output_type": "stream",
     "text": [
      "PLATINUM\n",
      "\t I\n",
      "page\t 2\t II\n",
      "page\t 100\t III\n",
      "page\t 155\t IV\n",
      "page\t 435DIAMOND\n",
      "\t I\n",
      "page\t 15\t II\n",
      "page\t 27\t III\n",
      "page\t 42\t IV\n",
      "page\t 104done!\n"
     ]
    }
   ],
   "source": [
    "# get list of summoners in regular ranks\n",
    "\n",
    "ranks = ['PLATINUM','DIAMOND']#['IRON','BRONZE','SILVER','GOLD','PLATINUM','DIAMOND']\n",
    "divisions = ['I','II','III','IV']\n",
    "for rank in ranks:\n",
    "    out = pd.DataFrame()\n",
    "    print(rank)\n",
    "    for division in divisions:    \n",
    "        print('\\t',division)\n",
    "        page = 1 #starts at page 1 \n",
    "        print(\"\\rpage\\t\",page, end=\"\")        \n",
    "        resp = requests.get(f'https://na1.api.riotgames.com/lol/league/v4/entries/RANKED_SOLO_5x5/{rank}/{division}?page={page}',headers=payload)\n",
    "        data = json.loads(resp.content)\n",
    "        time.sleep(1/rate)        \n",
    "        while resp.ok and data!=[]:            \n",
    "            df = pd.DataFrame.from_dict(data)\n",
    "            df = df[['leagueId','tier','rank','summonerId','inactive']]\n",
    "            out = pd.concat([out,df])\n",
    "            page+=1\n",
    "            print(\"\\rpage\\t\",page, end=\"\")      \n",
    "            resp = requests.get(f'https://na1.api.riotgames.com/lol/league/v4/entries/RANKED_SOLO_5x5/{rank}/{division}?page={page}',headers=payload)    \n",
    "            data = json.loads(resp.content)\n",
    "            time.sleep(1/rate)\n",
    "        print()\n",
    "    out.to_csv(f\"./League of Legends/data/{rank}.csv\",index=False)\n",
    "    \n",
    "print('done!')\n",
    "        "
   ]
  },
  {
   "cell_type": "code",
   "execution_count": 174,
   "metadata": {},
   "outputs": [
    {
     "name": "stdout",
     "output_type": "stream",
     "text": [
      "300\n",
      "700\n",
      "270\n"
     ]
    }
   ],
   "source": [
    "# get list of summoners in higher ranks\n",
    "queues = ['RANKED_SOLO_5x5']\n",
    "queue = 'RANKED_SOLO_5x5'\n",
    "baseurl = 'https://na1.api.riotgames.com'\n",
    "leagues = [f'/lol/league/v4/challengerleagues/by-queue/{queue}',\n",
    "           f'/lol/league/v4/grandmasterleagues/by-queue/{queue}',\n",
    "           f'/lol/league/v4/masterleagues/by-queue/{queue}'\n",
    "          ]\n",
    "names = ['CHALLENGER', 'GRANDMASTER', 'MASTER']\n",
    "l = 0\n",
    "for idx, l in enumerate(leagues):\n",
    "    url = baseurl+l    \n",
    "    resp = requests.get(url, headers=payload)    \n",
    "    time.sleep(1/rate)\n",
    "    data = json.loads(resp.content)\n",
    "    #display(data)\n",
    "    df = pd.DataFrame.from_dict(data)\n",
    "    df['rank']=[a['rank'] for a in df['entries']]\n",
    "    df['summonerId']=[a['summonerId'] for a in df['entries']]\n",
    "    df['inactive'] = [a['inactive'] for a in df['entries']]        \n",
    "    df = df[['leagueId','tier','rank','summonerId','inactive']]\n",
    "    df['accountId'] = None\n",
    "    df.to_csv(f'./League of Legends/data/{names[idx]}.csv')\n",
    "    print(len(data['entries']))\n",
    "\n"
   ]
  },
  {
   "cell_type": "code",
   "execution_count": 175,
   "metadata": {},
   "outputs": [
    {
     "data": {
      "text/plain": [
       "{'tier': 'MASTER',\n",
       " 'leagueId': '136579ee-a212-34b0-b4b8-69ba529f4d7f',\n",
       " 'queue': 'RANKED_SOLO_5x5',\n",
       " 'name': \"Varus's Villains\",\n",
       " 'entries': [{'summonerId': 'waCItDtn_DA8yEXJdp3DtuIqGZz0abosHinfgaB3mrCgSsg',\n",
       "   'summonerName': 'Stormwind',\n",
       "   'leaguePoints': 0,\n",
       "   'rank': 'I',\n",
       "   'wins': 289,\n",
       "   'losses': 285,\n",
       "   'veteran': False,\n",
       "   'inactive': False,\n",
       "   'freshBlood': True,\n",
       "   'hotStreak': False},\n",
       "  {'summonerId': 'ybKEnIYa3msb2K62-51Vz900to_lN4rz1rfkSh8Yx-4avX8',\n",
       "   'summonerName': 'TheBroFist',\n",
       "   'leaguePoints': 0,\n",
       "   'rank': 'I',\n",
       "   'wins': 95,\n",
       "   'losses': 82,\n",
       "   'veteran': False,\n",
       "   'inactive': False,\n",
       "   'freshBlood': True,\n",
       "   'hotStreak': False},\n",
       "  {'summonerId': 'B1VkxVK9aXkCv3QkDATPY9bepvltBWzVB3_UZosDzOz43UhE',\n",
       "   'summonerName': 'Bxxxx9x Txxx Gxx',\n",
       "   'leaguePoints': 0,\n",
       "   'rank': 'I',\n",
       "   'wins': 107,\n",
       "   'losses': 52,\n",
       "   'veteran': False,\n",
       "   'inactive': False,\n",
       "   'freshBlood': False,\n",
       "   'hotStreak': False},\n",
       "  {'summonerId': '6hhJUyBsDWY3KuXmrzv5xX4CD9V8uGlSVnL70h33X6xZnBc',\n",
       "   'summonerName': 'Junrei',\n",
       "   'leaguePoints': 0,\n",
       "   'rank': 'I',\n",
       "   'wins': 35,\n",
       "   'losses': 22,\n",
       "   'veteran': False,\n",
       "   'inactive': False,\n",
       "   'freshBlood': True,\n",
       "   'hotStreak': False},\n",
       "  {'summonerId': 'AG2laiH0mM2FH4zm0kLqW0BGw9sy57dJzmF2k5RJ9k6YHI8',\n",
       "   'summonerName': 'Gucci Tang',\n",
       "   'leaguePoints': 0,\n",
       "   'rank': 'I',\n",
       "   'wins': 343,\n",
       "   'losses': 337,\n",
       "   'veteran': False,\n",
       "   'inactive': False,\n",
       "   'freshBlood': True,\n",
       "   'hotStreak': False},\n",
       "  {'summonerId': 'rmGYqfe9cQqscZot7sHgn9GyN58oXr2pgxvuXpFStgPvmLM',\n",
       "   'summonerName': 'Dmy3',\n",
       "   'leaguePoints': 0,\n",
       "   'rank': 'I',\n",
       "   'wins': 208,\n",
       "   'losses': 161,\n",
       "   'veteran': False,\n",
       "   'inactive': False,\n",
       "   'freshBlood': True,\n",
       "   'hotStreak': False},\n",
       "  {'summonerId': 'g88z6BC-bvdDfD5EXUyrfrs66mi2SIbZAN2dV72uppF5M7U',\n",
       "   'summonerName': 'Yukyungie',\n",
       "   'leaguePoints': 17,\n",
       "   'rank': 'I',\n",
       "   'wins': 115,\n",
       "   'losses': 97,\n",
       "   'veteran': False,\n",
       "   'inactive': False,\n",
       "   'freshBlood': True,\n",
       "   'hotStreak': False},\n",
       "  {'summonerId': '6rhVHqhz-KjtcsYEu9Q59G1t7T7kU5f2atLxtpzMcR6U0KA',\n",
       "   'summonerName': 'gimoring',\n",
       "   'leaguePoints': 0,\n",
       "   'rank': 'I',\n",
       "   'wins': 72,\n",
       "   'losses': 42,\n",
       "   'veteran': False,\n",
       "   'inactive': False,\n",
       "   'freshBlood': True,\n",
       "   'hotStreak': False},\n",
       "  {'summonerId': 'KbPLrSgmmgfXBPokUvIjpDQRho3xTCwbC4begK9p2TIxjRs',\n",
       "   'summonerName': 'wo de mao zha le',\n",
       "   'leaguePoints': 49,\n",
       "   'rank': 'I',\n",
       "   'wins': 323,\n",
       "   'losses': 264,\n",
       "   'veteran': False,\n",
       "   'inactive': False,\n",
       "   'freshBlood': True,\n",
       "   'hotStreak': True},\n",
       "  {'summonerId': 'ssrIKqEnhipGrZqoVpxYCGNQkhvgDhZRFhdzmn7L4bUqr_pi',\n",
       "   'summonerName': 'TwitchTv Lobex',\n",
       "   'leaguePoints': 0,\n",
       "   'rank': 'I',\n",
       "   'wins': 37,\n",
       "   'losses': 25,\n",
       "   'veteran': False,\n",
       "   'inactive': False,\n",
       "   'freshBlood': True,\n",
       "   'hotStreak': True},\n",
       "  {'summonerId': 'yFqGG9lPBvnCfXNRHSqnxQDGlHNjHljMZK6mVqaV_bFBJa4',\n",
       "   'summonerName': 'Skki',\n",
       "   'leaguePoints': 32,\n",
       "   'rank': 'I',\n",
       "   'wins': 377,\n",
       "   'losses': 345,\n",
       "   'veteran': False,\n",
       "   'inactive': False,\n",
       "   'freshBlood': True,\n",
       "   'hotStreak': False},\n",
       "  {'summonerId': 'nhrEuZAZR869a0P3CASmfWpG7XH-qLYr5TYr1vEfr3A4amer',\n",
       "   'summonerName': 'afterglow2',\n",
       "   'leaguePoints': 19,\n",
       "   'rank': 'I',\n",
       "   'wins': 180,\n",
       "   'losses': 153,\n",
       "   'veteran': False,\n",
       "   'inactive': False,\n",
       "   'freshBlood': True,\n",
       "   'hotStreak': False},\n",
       "  {'summonerId': 'XP74otEKoc0kxgb9YovJQvA8MaZvQX5XSKJAwnDJXrtBCqE',\n",
       "   'summonerName': 'sugar lilies',\n",
       "   'leaguePoints': 37,\n",
       "   'rank': 'I',\n",
       "   'wins': 413,\n",
       "   'losses': 395,\n",
       "   'veteran': False,\n",
       "   'inactive': False,\n",
       "   'freshBlood': True,\n",
       "   'hotStreak': False},\n",
       "  {'summonerId': 'uIhlY5n9jwqO2tE3YTZrhtaS7z9m0Z9ZUKCKYMP-7HZk4pM',\n",
       "   'summonerName': 'From Despair',\n",
       "   'leaguePoints': 14,\n",
       "   'rank': 'I',\n",
       "   'wins': 533,\n",
       "   'losses': 508,\n",
       "   'veteran': False,\n",
       "   'inactive': False,\n",
       "   'freshBlood': True,\n",
       "   'hotStreak': False},\n",
       "  {'summonerId': 'tQOAoVzVMQjm-6a4iP5MwR_NpXXTVRHzt38MC9gbd0VLRVo',\n",
       "   'summonerName': 'Enjin',\n",
       "   'leaguePoints': 14,\n",
       "   'rank': 'I',\n",
       "   'wins': 278,\n",
       "   'losses': 255,\n",
       "   'veteran': False,\n",
       "   'inactive': False,\n",
       "   'freshBlood': False,\n",
       "   'hotStreak': False},\n",
       "  {'summonerId': 'rBCf6--fPx7VXnIOf1qqG_6jSWMg15vIlHf4xgSQZGBmHXo',\n",
       "   'summonerName': 'ćam',\n",
       "   'leaguePoints': 19,\n",
       "   'rank': 'I',\n",
       "   'wins': 278,\n",
       "   'losses': 264,\n",
       "   'veteran': False,\n",
       "   'inactive': False,\n",
       "   'freshBlood': True,\n",
       "   'hotStreak': False},\n",
       "  {'summonerId': '0cxQH1dpQ5IpXvPXchgy3HWnXEE0VhEK3p8cp1Oo8PGpGhM',\n",
       "   'summonerName': 'Nydukon',\n",
       "   'leaguePoints': 27,\n",
       "   'rank': 'I',\n",
       "   'wins': 122,\n",
       "   'losses': 104,\n",
       "   'veteran': False,\n",
       "   'inactive': False,\n",
       "   'freshBlood': False,\n",
       "   'hotStreak': False},\n",
       "  {'summonerId': 'nMIsEnkiTYSXN_R3iL_115uPjProozKzHY93_rg0RToxwSIN',\n",
       "   'summonerName': 'L9EB LEO',\n",
       "   'leaguePoints': 0,\n",
       "   'rank': 'I',\n",
       "   'wins': 108,\n",
       "   'losses': 49,\n",
       "   'veteran': False,\n",
       "   'inactive': False,\n",
       "   'freshBlood': True,\n",
       "   'hotStreak': False},\n",
       "  {'summonerId': 'tK0BZb339tRY6sVka8WlFUPdrlkmAs1kK5xeWm1_VTC5oVA',\n",
       "   'summonerName': 'Akimbo Dads',\n",
       "   'leaguePoints': 12,\n",
       "   'rank': 'I',\n",
       "   'wins': 200,\n",
       "   'losses': 163,\n",
       "   'veteran': False,\n",
       "   'inactive': False,\n",
       "   'freshBlood': True,\n",
       "   'hotStreak': False},\n",
       "  {'summonerId': '3dOhQc7TsDVS6RA1f-zTqBSOWpuqBzy8p24i182BgOoRSuQ',\n",
       "   'summonerName': 'Memorìes',\n",
       "   'leaguePoints': 20,\n",
       "   'rank': 'I',\n",
       "   'wins': 298,\n",
       "   'losses': 287,\n",
       "   'veteran': False,\n",
       "   'inactive': False,\n",
       "   'freshBlood': True,\n",
       "   'hotStreak': True},\n",
       "  {'summonerId': 'F5odJTVE-Dq52bc6-ZvfoCtHsWVYb9RVVf_9kp5hwAGWqd4',\n",
       "   'summonerName': 'Slurps',\n",
       "   'leaguePoints': 0,\n",
       "   'rank': 'I',\n",
       "   'wins': 79,\n",
       "   'losses': 65,\n",
       "   'veteran': False,\n",
       "   'inactive': False,\n",
       "   'freshBlood': True,\n",
       "   'hotStreak': False},\n",
       "  {'summonerId': 'tHtXIPd67ni5NMQXwIwA1j9fRhwu4qrYxP7vyOEWfxS1wikj',\n",
       "   'summonerName': 'Outstep',\n",
       "   'leaguePoints': 0,\n",
       "   'rank': 'I',\n",
       "   'wins': 229,\n",
       "   'losses': 172,\n",
       "   'veteran': False,\n",
       "   'inactive': False,\n",
       "   'freshBlood': True,\n",
       "   'hotStreak': False},\n",
       "  {'summonerId': 'KZ5ALqzCg6LRngCb0fV_F1c_ljH02TvRpNuN6lEkKZikw1w',\n",
       "   'summonerName': 'dogpissplayer',\n",
       "   'leaguePoints': 34,\n",
       "   'rank': 'I',\n",
       "   'wins': 421,\n",
       "   'losses': 391,\n",
       "   'veteran': False,\n",
       "   'inactive': False,\n",
       "   'freshBlood': False,\n",
       "   'hotStreak': False},\n",
       "  {'summonerId': '8FqIIWE4yd2tH1xiraL-aKWaVauuxv1IGa-2-a57nY4O4FE',\n",
       "   'summonerName': 'bfate',\n",
       "   'leaguePoints': 21,\n",
       "   'rank': 'I',\n",
       "   'wins': 352,\n",
       "   'losses': 342,\n",
       "   'veteran': False,\n",
       "   'inactive': False,\n",
       "   'freshBlood': False,\n",
       "   'hotStreak': False},\n",
       "  {'summonerId': '8u3EYjtvmcHiShf_2V8l3Epvtp5Wto4C1Mvxedi2GKJ1qyc',\n",
       "   'summonerName': 'Quinn Ninety Two',\n",
       "   'leaguePoints': 20,\n",
       "   'rank': 'I',\n",
       "   'wins': 86,\n",
       "   'losses': 56,\n",
       "   'veteran': False,\n",
       "   'inactive': False,\n",
       "   'freshBlood': True,\n",
       "   'hotStreak': False},\n",
       "  {'summonerId': '8Q6OX1u4qHkbkjyDDjvDbHVIg0YoKAbNnmgT0QuI6itFBnA',\n",
       "   'summonerName': 'Sawyer Nelson',\n",
       "   'leaguePoints': 16,\n",
       "   'rank': 'I',\n",
       "   'wins': 77,\n",
       "   'losses': 58,\n",
       "   'veteran': False,\n",
       "   'inactive': False,\n",
       "   'freshBlood': True,\n",
       "   'hotStreak': False},\n",
       "  {'summonerId': 'qGofk65wctlFXsZM4GcUyw8mTGfrVidozf5tNVKWbTjAfxg',\n",
       "   'summonerName': 'Wanted Trixx',\n",
       "   'leaguePoints': 40,\n",
       "   'rank': 'I',\n",
       "   'wins': 158,\n",
       "   'losses': 132,\n",
       "   'veteran': False,\n",
       "   'inactive': False,\n",
       "   'freshBlood': True,\n",
       "   'hotStreak': True},\n",
       "  {'summonerId': 'hIZOswByJrpQX2brBc7S_emgd3pjavZkNkptEtql8T6PjtI',\n",
       "   'summonerName': 'Greyzalx',\n",
       "   'leaguePoints': 38,\n",
       "   'rank': 'I',\n",
       "   'wins': 68,\n",
       "   'losses': 46,\n",
       "   'veteran': False,\n",
       "   'inactive': False,\n",
       "   'freshBlood': False,\n",
       "   'hotStreak': False},\n",
       "  {'summonerId': 'qWzELWlj9eQFC4_4HsWHpJktmcAmiVkoS7GQ79_QXLaucpM',\n",
       "   'summonerName': 'Berik',\n",
       "   'leaguePoints': 0,\n",
       "   'rank': 'I',\n",
       "   'wins': 180,\n",
       "   'losses': 176,\n",
       "   'veteran': False,\n",
       "   'inactive': False,\n",
       "   'freshBlood': True,\n",
       "   'hotStreak': False},\n",
       "  {'summonerId': '9bFvB80o8Ha5FheGKre-LqDdWBC5qs-Dy7xTVzdugRTg6-U',\n",
       "   'summonerName': 'setting sun',\n",
       "   'leaguePoints': 21,\n",
       "   'rank': 'I',\n",
       "   'wins': 98,\n",
       "   'losses': 84,\n",
       "   'veteran': False,\n",
       "   'inactive': False,\n",
       "   'freshBlood': True,\n",
       "   'hotStreak': False},\n",
       "  {'summonerId': 'ursFvmbytE2A4547WfQ1pdIVVJlu6qoIRRjd9fnA-hANRK4',\n",
       "   'summonerName': 'karmaismymental',\n",
       "   'leaguePoints': 0,\n",
       "   'rank': 'I',\n",
       "   'wins': 492,\n",
       "   'losses': 460,\n",
       "   'veteran': False,\n",
       "   'inactive': False,\n",
       "   'freshBlood': True,\n",
       "   'hotStreak': False},\n",
       "  {'summonerId': 'MSw7_uo8AJg4gKAXFu2zxhMSRlKvPdtbVIGgYB29MNYAAdk',\n",
       "   'summonerName': 'Cute Asian Loli',\n",
       "   'leaguePoints': 16,\n",
       "   'rank': 'I',\n",
       "   'wins': 575,\n",
       "   'losses': 546,\n",
       "   'veteran': False,\n",
       "   'inactive': False,\n",
       "   'freshBlood': True,\n",
       "   'hotStreak': False},\n",
       "  {'summonerId': 'U7ZhnagxLhGuEsAWCn5hUWeLa4jwT-nxc2L85n35lDVqJ3Y',\n",
       "   'summonerName': 'john nguyen suck',\n",
       "   'leaguePoints': 2,\n",
       "   'rank': 'I',\n",
       "   'wins': 156,\n",
       "   'losses': 115,\n",
       "   'veteran': False,\n",
       "   'inactive': False,\n",
       "   'freshBlood': True,\n",
       "   'hotStreak': False},\n",
       "  {'summonerId': '3fbPuG-b1FJY490Is2UaegLexBpi-U-FZfx8vVb5_744',\n",
       "   'summonerName': 'mandatorycloud',\n",
       "   'leaguePoints': 0,\n",
       "   'rank': 'I',\n",
       "   'wins': 89,\n",
       "   'losses': 69,\n",
       "   'veteran': False,\n",
       "   'inactive': False,\n",
       "   'freshBlood': True,\n",
       "   'hotStreak': False},\n",
       "  {'summonerId': '-DK6HbluUYwX-2bsr8dxr_6T1R7o46CwkO6xTXD5inAgfL4',\n",
       "   'summonerName': 'shibaaa',\n",
       "   'leaguePoints': 17,\n",
       "   'rank': 'I',\n",
       "   'wins': 282,\n",
       "   'losses': 245,\n",
       "   'veteran': False,\n",
       "   'inactive': False,\n",
       "   'freshBlood': True,\n",
       "   'hotStreak': False},\n",
       "  {'summonerId': 'oKVI5DaeXcxC51jHIzD79NUMEfDKdfes_iCYKcsSi33X8po',\n",
       "   'summonerName': 'Yasuna',\n",
       "   'leaguePoints': 3,\n",
       "   'rank': 'I',\n",
       "   'wins': 76,\n",
       "   'losses': 54,\n",
       "   'veteran': False,\n",
       "   'inactive': False,\n",
       "   'freshBlood': True,\n",
       "   'hotStreak': False},\n",
       "  {'summonerId': 'p-DmFbFbHBOQzA5m2bLLCE6P1REFv6BWrGP2JUU8NX6zFBY',\n",
       "   'summonerName': 'ROG iRoseOnly',\n",
       "   'leaguePoints': 0,\n",
       "   'rank': 'I',\n",
       "   'wins': 376,\n",
       "   'losses': 362,\n",
       "   'veteran': False,\n",
       "   'inactive': False,\n",
       "   'freshBlood': True,\n",
       "   'hotStreak': False},\n",
       "  {'summonerId': 'vMNA-Z4ipeC7tVfIg3fVLdas7c5k5_GFG9MWUHoqO_CLkTk',\n",
       "   'summonerName': 'BecomeWhat',\n",
       "   'leaguePoints': 20,\n",
       "   'rank': 'I',\n",
       "   'wins': 192,\n",
       "   'losses': 174,\n",
       "   'veteran': False,\n",
       "   'inactive': False,\n",
       "   'freshBlood': False,\n",
       "   'hotStreak': False},\n",
       "  {'summonerId': 'eg7ZOSYfwpJrSdLr_ABbXypA4OFcOdM-9he6wABXSgaE3z0',\n",
       "   'summonerName': 'Halibo',\n",
       "   'leaguePoints': 0,\n",
       "   'rank': 'I',\n",
       "   'wins': 244,\n",
       "   'losses': 212,\n",
       "   'veteran': False,\n",
       "   'inactive': False,\n",
       "   'freshBlood': True,\n",
       "   'hotStreak': False},\n",
       "  {'summonerId': 'jzMkMLAV43N7uoqxA6g7AqyUTmY__IVA8snZvH_tXLMRoFU',\n",
       "   'summonerName': '057',\n",
       "   'leaguePoints': 9,\n",
       "   'rank': 'I',\n",
       "   'wins': 128,\n",
       "   'losses': 127,\n",
       "   'veteran': False,\n",
       "   'inactive': False,\n",
       "   'freshBlood': True,\n",
       "   'hotStreak': False},\n",
       "  {'summonerId': 'LjkLk9Ugla9NHimOaffhwWObbqGistebOy3PuARLL3RIgwa3',\n",
       "   'summonerName': 'Murillo Sama',\n",
       "   'leaguePoints': 0,\n",
       "   'rank': 'I',\n",
       "   'wins': 182,\n",
       "   'losses': 163,\n",
       "   'veteran': False,\n",
       "   'inactive': False,\n",
       "   'freshBlood': False,\n",
       "   'hotStreak': False},\n",
       "  {'summonerId': 'D8CKId0kAoLgbm6RQtFWjp25KiKMJqLEfKBOoIYoj5h6qMY',\n",
       "   'summonerName': 'devolve',\n",
       "   'leaguePoints': 0,\n",
       "   'rank': 'I',\n",
       "   'wins': 96,\n",
       "   'losses': 84,\n",
       "   'veteran': False,\n",
       "   'inactive': False,\n",
       "   'freshBlood': True,\n",
       "   'hotStreak': False},\n",
       "  {'summonerId': 'WcRpIzu4Kyui7Jk7a70heJO-s2nxw-nw4Y7XRjzfanQllbs',\n",
       "   'summonerName': 'iRevelation',\n",
       "   'leaguePoints': 17,\n",
       "   'rank': 'I',\n",
       "   'wins': 90,\n",
       "   'losses': 70,\n",
       "   'veteran': False,\n",
       "   'inactive': False,\n",
       "   'freshBlood': False,\n",
       "   'hotStreak': False},\n",
       "  {'summonerId': 'mxc5WbfX1fS6efO5IvHjUiWHceugmTzqMAxTslTOp7Egkig',\n",
       "   'summonerName': 'WA LAZA',\n",
       "   'leaguePoints': 0,\n",
       "   'rank': 'I',\n",
       "   'wins': 133,\n",
       "   'losses': 92,\n",
       "   'veteran': False,\n",
       "   'inactive': False,\n",
       "   'freshBlood': True,\n",
       "   'hotStreak': False},\n",
       "  {'summonerId': 'Q09i6pXmEhPCB6iJqxr9rgvrZzCyyFRkXwVesZ-Q8LAN8SQ',\n",
       "   'summonerName': 'JHG',\n",
       "   'leaguePoints': 14,\n",
       "   'rank': 'I',\n",
       "   'wins': 459,\n",
       "   'losses': 432,\n",
       "   'veteran': False,\n",
       "   'inactive': False,\n",
       "   'freshBlood': True,\n",
       "   'hotStreak': False},\n",
       "  {'summonerId': 'ax-I7gzfgQKuHtxAD0ARs5EtjhS34XY5jWUH_SV0ttnjRdE',\n",
       "   'summonerName': 'raınıng',\n",
       "   'leaguePoints': 17,\n",
       "   'rank': 'I',\n",
       "   'wins': 289,\n",
       "   'losses': 260,\n",
       "   'veteran': False,\n",
       "   'inactive': False,\n",
       "   'freshBlood': False,\n",
       "   'hotStreak': False},\n",
       "  {'summonerId': 'ptp-PfrDoISw1zI201m4zVxD_R1v17j2edoTHV-VlMPBaJ7H',\n",
       "   'summonerName': 'yøu are in the x',\n",
       "   'leaguePoints': 29,\n",
       "   'rank': 'I',\n",
       "   'wins': 328,\n",
       "   'losses': 314,\n",
       "   'veteran': False,\n",
       "   'inactive': False,\n",
       "   'freshBlood': True,\n",
       "   'hotStreak': False},\n",
       "  {'summonerId': 'nbyfrNexcW8hymTlkclOMQDtnhE5j1OzT78DnM6lwaIak6vb',\n",
       "   'summonerName': 'xiumar',\n",
       "   'leaguePoints': 29,\n",
       "   'rank': 'I',\n",
       "   'wins': 86,\n",
       "   'losses': 46,\n",
       "   'veteran': False,\n",
       "   'inactive': False,\n",
       "   'freshBlood': True,\n",
       "   'hotStreak': False},\n",
       "  {'summonerId': 'O3Uogibb2xQzDMYXf5lAUz69rcwyWFHdA3KUVT89x6W4nls',\n",
       "   'summonerName': 'Salamanderz',\n",
       "   'leaguePoints': 16,\n",
       "   'rank': 'I',\n",
       "   'wins': 212,\n",
       "   'losses': 209,\n",
       "   'veteran': False,\n",
       "   'inactive': False,\n",
       "   'freshBlood': True,\n",
       "   'hotStreak': False},\n",
       "  {'summonerId': 'WkmJK3l_RqI7KnsEC0H3AI1n_VZfq8pEIPa3dEwX24xTwuk',\n",
       "   'summonerName': 'Aaron9',\n",
       "   'leaguePoints': 0,\n",
       "   'rank': 'I',\n",
       "   'wins': 276,\n",
       "   'losses': 280,\n",
       "   'veteran': False,\n",
       "   'inactive': False,\n",
       "   'freshBlood': False,\n",
       "   'hotStreak': False},\n",
       "  {'summonerId': '0vRT3FonA6Guw5ZZmxo7KfexmZj6NpRra7DJpaysaYfyjgs',\n",
       "   'summonerName': 'Lohpally',\n",
       "   'leaguePoints': 0,\n",
       "   'rank': 'I',\n",
       "   'wins': 129,\n",
       "   'losses': 110,\n",
       "   'veteran': False,\n",
       "   'inactive': False,\n",
       "   'freshBlood': True,\n",
       "   'hotStreak': False},\n",
       "  {'summonerId': 'ExJxGW2ML42mWmhdK7MuH2W6OHkOEXp9TX4W9L50a2ojCxo',\n",
       "   'summonerName': 'KhaliDino',\n",
       "   'leaguePoints': 18,\n",
       "   'rank': 'I',\n",
       "   'wins': 288,\n",
       "   'losses': 289,\n",
       "   'veteran': False,\n",
       "   'inactive': False,\n",
       "   'freshBlood': True,\n",
       "   'hotStreak': False},\n",
       "  {'summonerId': 'pYJ1QmVxncYlm5N3TzdneXuAlKnev1yXaVo_ppV2mjy_vZI',\n",
       "   'summonerName': 'Sungryeong1',\n",
       "   'leaguePoints': 3,\n",
       "   'rank': 'I',\n",
       "   'wins': 178,\n",
       "   'losses': 168,\n",
       "   'veteran': False,\n",
       "   'inactive': False,\n",
       "   'freshBlood': True,\n",
       "   'hotStreak': False},\n",
       "  {'summonerId': 'xjnb-KxJGtI7Nv7zuuppEOCUHcadv3OmdlyxmMxQPJybiGI',\n",
       "   'summonerName': 'PlzDontYellAtMe',\n",
       "   'leaguePoints': 33,\n",
       "   'rank': 'I',\n",
       "   'wins': 151,\n",
       "   'losses': 133,\n",
       "   'veteran': False,\n",
       "   'inactive': False,\n",
       "   'freshBlood': True,\n",
       "   'hotStreak': False},\n",
       "  {'summonerId': 'mrLgtq4M0i2XsvWdR4Utp_52r37aBFre024QxnkOnoOj_No',\n",
       "   'summonerName': 'SpiritOfSteel',\n",
       "   'leaguePoints': 69,\n",
       "   'rank': 'I',\n",
       "   'wins': 374,\n",
       "   'losses': 351,\n",
       "   'veteran': False,\n",
       "   'inactive': False,\n",
       "   'freshBlood': True,\n",
       "   'hotStreak': True},\n",
       "  {'summonerId': 'Uu5LqrRIJHSKc5w__p9IJ-y9e0OWQxHzeaE9aX41-9_E4wQ',\n",
       "   'summonerName': 'MaRiTiMuS',\n",
       "   'leaguePoints': 0,\n",
       "   'rank': 'I',\n",
       "   'wins': 203,\n",
       "   'losses': 194,\n",
       "   'veteran': False,\n",
       "   'inactive': False,\n",
       "   'freshBlood': True,\n",
       "   'hotStreak': False},\n",
       "  {'summonerId': 'u_WpXXwEMAUW6VinmIYO_8I5Sh7qW2bOo1zf_NLLNmOmXiw',\n",
       "   'summonerName': 'such a wh0re ',\n",
       "   'leaguePoints': 0,\n",
       "   'rank': 'I',\n",
       "   'wins': 108,\n",
       "   'losses': 92,\n",
       "   'veteran': False,\n",
       "   'inactive': False,\n",
       "   'freshBlood': True,\n",
       "   'hotStreak': False},\n",
       "  {'summonerId': 'O6A3o2LYL8_kfFCBLyJMQma6lIRNx0eiKBrHsWvxGtXfBdYv',\n",
       "   'summonerName': 'Shugo',\n",
       "   'leaguePoints': 0,\n",
       "   'rank': 'I',\n",
       "   'wins': 179,\n",
       "   'losses': 137,\n",
       "   'veteran': False,\n",
       "   'inactive': False,\n",
       "   'freshBlood': False,\n",
       "   'hotStreak': False},\n",
       "  {'summonerId': 'OBHFwUqvQBDbv_pR9eY2Uuq_fVL-ES0jLcxSAaNNjDjeg1s',\n",
       "   'summonerName': 'Saudi Prince',\n",
       "   'leaguePoints': 0,\n",
       "   'rank': 'I',\n",
       "   'wins': 109,\n",
       "   'losses': 96,\n",
       "   'veteran': False,\n",
       "   'inactive': False,\n",
       "   'freshBlood': True,\n",
       "   'hotStreak': False},\n",
       "  {'summonerId': '8M1RDFSnZRKoYGeGxm9ssQ93qgj6CwP7vc1yM_1RMh5tWDw',\n",
       "   'summonerName': 'bzzb night',\n",
       "   'leaguePoints': 19,\n",
       "   'rank': 'I',\n",
       "   'wins': 386,\n",
       "   'losses': 302,\n",
       "   'veteran': False,\n",
       "   'inactive': False,\n",
       "   'freshBlood': True,\n",
       "   'hotStreak': False},\n",
       "  {'summonerId': '6KUD0Ir9UlE-datkq8Ma5fb7Zj_rNRLsgx0sTgTsTeZDsy8',\n",
       "   'summonerName': 'sorry my bad QAQ',\n",
       "   'leaguePoints': 15,\n",
       "   'rank': 'I',\n",
       "   'wins': 38,\n",
       "   'losses': 20,\n",
       "   'veteran': False,\n",
       "   'inactive': False,\n",
       "   'freshBlood': True,\n",
       "   'hotStreak': True},\n",
       "  {'summonerId': 'tWLFrII5-qqghiNtC20J68Vzd3ct4ntzYB6dvEEq9kSO47E',\n",
       "   'summonerName': 'Mitara',\n",
       "   'leaguePoints': 19,\n",
       "   'rank': 'I',\n",
       "   'wins': 138,\n",
       "   'losses': 120,\n",
       "   'veteran': False,\n",
       "   'inactive': False,\n",
       "   'freshBlood': True,\n",
       "   'hotStreak': False},\n",
       "  {'summonerId': 'zoWNQNEJRPICv39bDTmTUmPVpKDlkV2elIjtebwQtLwxRRI',\n",
       "   'summonerName': 'Lobex',\n",
       "   'leaguePoints': 15,\n",
       "   'rank': 'I',\n",
       "   'wins': 451,\n",
       "   'losses': 438,\n",
       "   'veteran': False,\n",
       "   'inactive': False,\n",
       "   'freshBlood': True,\n",
       "   'hotStreak': False},\n",
       "  {'summonerId': 'beqh7wxOYmt1-8GOjk03Fz1kksXbfX7iXHHMmYffFsAy2Uw',\n",
       "   'summonerName': 'Mekhio',\n",
       "   'leaguePoints': 27,\n",
       "   'rank': 'I',\n",
       "   'wins': 591,\n",
       "   'losses': 555,\n",
       "   'veteran': False,\n",
       "   'inactive': False,\n",
       "   'freshBlood': True,\n",
       "   'hotStreak': False},\n",
       "  {'summonerId': 'WYMoedXM7xlIZZnUQEkuBiphw_5isUMK6YD_Dlg8eQdP7d0',\n",
       "   'summonerName': 'BladeCube',\n",
       "   'leaguePoints': 21,\n",
       "   'rank': 'I',\n",
       "   'wins': 367,\n",
       "   'losses': 362,\n",
       "   'veteran': False,\n",
       "   'inactive': False,\n",
       "   'freshBlood': True,\n",
       "   'hotStreak': False},\n",
       "  {'summonerId': 'CZoyH7ZBWmQJQpPmwuroA_gVZJjf0DiAXTgUdsBAxl-RF2U',\n",
       "   'summonerName': 'unORDlNARY',\n",
       "   'leaguePoints': 8,\n",
       "   'rank': 'I',\n",
       "   'wins': 202,\n",
       "   'losses': 186,\n",
       "   'veteran': False,\n",
       "   'inactive': False,\n",
       "   'freshBlood': True,\n",
       "   'hotStreak': False},\n",
       "  {'summonerId': 'i0pbw5QyCntWVg9nOVdSKAuM0sdNFr4dfVDorLfkHJtqrWA',\n",
       "   'summonerName': 'Kao MIn Jin',\n",
       "   'leaguePoints': 0,\n",
       "   'rank': 'I',\n",
       "   'wins': 212,\n",
       "   'losses': 131,\n",
       "   'veteran': False,\n",
       "   'inactive': False,\n",
       "   'freshBlood': False,\n",
       "   'hotStreak': False},\n",
       "  {'summonerId': '7HFmSXOc9TqsUx6yC-F8cy3cIjW_XMImbP-0rzxseZ95mf4',\n",
       "   'summonerName': 'mons1euR',\n",
       "   'leaguePoints': 0,\n",
       "   'rank': 'I',\n",
       "   'wins': 181,\n",
       "   'losses': 173,\n",
       "   'veteran': False,\n",
       "   'inactive': False,\n",
       "   'freshBlood': False,\n",
       "   'hotStreak': False},\n",
       "  {'summonerId': 'OQhUZOmO0Chhc2FURRBHILIALau-YR175-Hnr61LfUt7wXE',\n",
       "   'summonerName': 'Super Cutie Sun',\n",
       "   'leaguePoints': 13,\n",
       "   'rank': 'I',\n",
       "   'wins': 73,\n",
       "   'losses': 53,\n",
       "   'veteran': False,\n",
       "   'inactive': False,\n",
       "   'freshBlood': True,\n",
       "   'hotStreak': False},\n",
       "  {'summonerId': '_DoiiLiQGMfbLLe6utqgc6mxXKcOyROYlNYo7v22DFNhkp4',\n",
       "   'summonerName': 'Big Opai',\n",
       "   'leaguePoints': 0,\n",
       "   'rank': 'I',\n",
       "   'wins': 74,\n",
       "   'losses': 68,\n",
       "   'veteran': False,\n",
       "   'inactive': False,\n",
       "   'freshBlood': False,\n",
       "   'hotStreak': False},\n",
       "  {'summonerId': 'oZx-BGQxrhRYwEwHgh-MmNSw4kQfB8TJ6tLGZ_mRKveI4Ls',\n",
       "   'summonerName': 'Jurassiq',\n",
       "   'leaguePoints': 79,\n",
       "   'rank': 'I',\n",
       "   'wins': 208,\n",
       "   'losses': 197,\n",
       "   'veteran': False,\n",
       "   'inactive': False,\n",
       "   'freshBlood': True,\n",
       "   'hotStreak': True},\n",
       "  {'summonerId': 'NWA0soRo7_V2xtWVsAorwZYgQ-43mpHKQX5SRdaTv-stt7E',\n",
       "   'summonerName': 'Emperor of Light',\n",
       "   'leaguePoints': 19,\n",
       "   'rank': 'I',\n",
       "   'wins': 184,\n",
       "   'losses': 174,\n",
       "   'veteran': False,\n",
       "   'inactive': False,\n",
       "   'freshBlood': True,\n",
       "   'hotStreak': False},\n",
       "  {'summonerId': 'WazIfkYVxJZ-T-PyL0yFG0EYG5x-XLdtjya7Gur03-HPXDQ',\n",
       "   'summonerName': 'Psychopathic Top',\n",
       "   'leaguePoints': 0,\n",
       "   'rank': 'I',\n",
       "   'wins': 476,\n",
       "   'losses': 476,\n",
       "   'veteran': False,\n",
       "   'inactive': False,\n",
       "   'freshBlood': True,\n",
       "   'hotStreak': False},\n",
       "  {'summonerId': '0rl0g53VWOxIwxh4gbpZa9BQ2aM4bQWMQnQ_I_qv0pzO7No',\n",
       "   'summonerName': 'DøntToüchMyWãrd',\n",
       "   'leaguePoints': 0,\n",
       "   'rank': 'I',\n",
       "   'wins': 184,\n",
       "   'losses': 88,\n",
       "   'veteran': False,\n",
       "   'inactive': False,\n",
       "   'freshBlood': True,\n",
       "   'hotStreak': False},\n",
       "  {'summonerId': 'kdtJUHeDEwWPpNmUIUPnMAijPjvxL-t_Eu04NgdCELD4NKc',\n",
       "   'summonerName': 'riversided',\n",
       "   'leaguePoints': 49,\n",
       "   'rank': 'I',\n",
       "   'wins': 633,\n",
       "   'losses': 627,\n",
       "   'veteran': False,\n",
       "   'inactive': False,\n",
       "   'freshBlood': True,\n",
       "   'hotStreak': True},\n",
       "  {'summonerId': 'bzv0k9VmoAqvi8smF4LLwDc26hlBmukZfqf5Xg-plaqYgLc',\n",
       "   'summonerName': 'darce13',\n",
       "   'leaguePoints': 14,\n",
       "   'rank': 'I',\n",
       "   'wins': 48,\n",
       "   'losses': 29,\n",
       "   'veteran': False,\n",
       "   'inactive': False,\n",
       "   'freshBlood': True,\n",
       "   'hotStreak': False},\n",
       "  {'summonerId': '1-3mQqMrAtwa-WOgaiOw994fCYTBbeXRliIFNi2X8ZP0pik',\n",
       "   'summonerName': 'OoO is Coming',\n",
       "   'leaguePoints': 0,\n",
       "   'rank': 'I',\n",
       "   'wins': 144,\n",
       "   'losses': 135,\n",
       "   'veteran': False,\n",
       "   'inactive': False,\n",
       "   'freshBlood': False,\n",
       "   'hotStreak': False},\n",
       "  {'summonerId': 'iBC_vOsKdwDWjjVKUIogZl_V51RrhZGZanAXseX7U8P0bNk',\n",
       "   'summonerName': 'GoliathGames',\n",
       "   'leaguePoints': 13,\n",
       "   'rank': 'I',\n",
       "   'wins': 718,\n",
       "   'losses': 717,\n",
       "   'veteran': False,\n",
       "   'inactive': False,\n",
       "   'freshBlood': True,\n",
       "   'hotStreak': False},\n",
       "  {'summonerId': 'gtoTb1yfJQnFXLnrnH4DLAr-Y9UHIPUOBVAyFoSOju1vccA',\n",
       "   'summonerName': 'hi im baekho',\n",
       "   'leaguePoints': 29,\n",
       "   'rank': 'I',\n",
       "   'wins': 127,\n",
       "   'losses': 118,\n",
       "   'veteran': False,\n",
       "   'inactive': False,\n",
       "   'freshBlood': True,\n",
       "   'hotStreak': False},\n",
       "  {'summonerId': '_sfYm-5rzAW0AuKpqZ8eTfr7vaA034vX9CWaVgWSqClEGJ8',\n",
       "   'summonerName': 'rovex4',\n",
       "   'leaguePoints': 18,\n",
       "   'rank': 'I',\n",
       "   'wins': 58,\n",
       "   'losses': 34,\n",
       "   'veteran': False,\n",
       "   'inactive': False,\n",
       "   'freshBlood': True,\n",
       "   'hotStreak': False},\n",
       "  {'summonerId': '8Qsq02rvNPY95T-6H4H-W2KUp2tFhJqR9oudrQewRz8f5mY',\n",
       "   'summonerName': 'IG Puff',\n",
       "   'leaguePoints': 0,\n",
       "   'rank': 'I',\n",
       "   'wins': 292,\n",
       "   'losses': 219,\n",
       "   'veteran': False,\n",
       "   'inactive': False,\n",
       "   'freshBlood': True,\n",
       "   'hotStreak': False},\n",
       "  {'summonerId': '6q4ZXDKA2sIZtuHMRZVCLGKR2en8QYjRw5RHX24JJsl_Gkk',\n",
       "   'summonerName': 'Desired Luck',\n",
       "   'leaguePoints': 17,\n",
       "   'rank': 'I',\n",
       "   'wins': 180,\n",
       "   'losses': 165,\n",
       "   'veteran': False,\n",
       "   'inactive': False,\n",
       "   'freshBlood': True,\n",
       "   'hotStreak': False},\n",
       "  {'summonerId': 'z6U2ovP3EMODqUq8j1PaA7i-nAzi9jEM_vbmPN9Ohk4fVkA',\n",
       "   'summonerName': '0O1',\n",
       "   'leaguePoints': 17,\n",
       "   'rank': 'I',\n",
       "   'wins': 244,\n",
       "   'losses': 222,\n",
       "   'veteran': False,\n",
       "   'inactive': False,\n",
       "   'freshBlood': True,\n",
       "   'hotStreak': False},\n",
       "  {'summonerId': 'luGSr7sVZ4lXL6S6r8wZ0IkTdDzzzFdXPV1InPjOlQ9pnTA',\n",
       "   'summonerName': 'Prophed',\n",
       "   'leaguePoints': 10,\n",
       "   'rank': 'I',\n",
       "   'wins': 460,\n",
       "   'losses': 423,\n",
       "   'veteran': False,\n",
       "   'inactive': False,\n",
       "   'freshBlood': True,\n",
       "   'hotStreak': False},\n",
       "  {'summonerId': '4ox_avPQonTuGwlYGfVvDzDIy2njJTG--ipmktgEzL0n5HU',\n",
       "   'summonerName': 'girl name',\n",
       "   'leaguePoints': 0,\n",
       "   'rank': 'I',\n",
       "   'wins': 56,\n",
       "   'losses': 36,\n",
       "   'veteran': False,\n",
       "   'inactive': False,\n",
       "   'freshBlood': True,\n",
       "   'hotStreak': False},\n",
       "  {'summonerId': '-ZFEyX1Q4UMI8hvEKjo-FoNtDjoaZjafjLnB0gkEOS3FaX0',\n",
       "   'summonerName': 'KaiŚa',\n",
       "   'leaguePoints': 0,\n",
       "   'rank': 'I',\n",
       "   'wins': 291,\n",
       "   'losses': 242,\n",
       "   'veteran': False,\n",
       "   'inactive': False,\n",
       "   'freshBlood': True,\n",
       "   'hotStreak': False},\n",
       "  {'summonerId': '3wpbIEPcxWDmiY5AOB9cbkWgteu_J__gSLG-m_keFE9anU4',\n",
       "   'summonerName': 'MyOwnProfile',\n",
       "   'leaguePoints': 25,\n",
       "   'rank': 'I',\n",
       "   'wins': 375,\n",
       "   'losses': 368,\n",
       "   'veteran': False,\n",
       "   'inactive': False,\n",
       "   'freshBlood': True,\n",
       "   'hotStreak': False},\n",
       "  {'summonerId': '-QEKnU-6u2zO6CYLuaGHRpC1NdNXvvEoOMQPYgUGV1DTis8',\n",
       "   'summonerName': 'LoL2Easy',\n",
       "   'leaguePoints': 20,\n",
       "   'rank': 'I',\n",
       "   'wins': 324,\n",
       "   'losses': 315,\n",
       "   'veteran': False,\n",
       "   'inactive': False,\n",
       "   'freshBlood': True,\n",
       "   'hotStreak': False},\n",
       "  {'summonerId': 'VBvN0SC3Be7vG3F66YCiuoopnPuwRNc3X_rCIFpy3h3pgIU',\n",
       "   'summonerName': 'Thomas SheIby',\n",
       "   'leaguePoints': 0,\n",
       "   'rank': 'I',\n",
       "   'wins': 439,\n",
       "   'losses': 428,\n",
       "   'veteran': False,\n",
       "   'inactive': False,\n",
       "   'freshBlood': True,\n",
       "   'hotStreak': False},\n",
       "  {'summonerId': 'SJJWJJO-267LvtoJFl8yHr4Hhv9flpgNScosxV-u_YLnlo4',\n",
       "   'summonerName': 'Autolykus',\n",
       "   'leaguePoints': 0,\n",
       "   'rank': 'I',\n",
       "   'wins': 593,\n",
       "   'losses': 571,\n",
       "   'veteran': False,\n",
       "   'inactive': False,\n",
       "   'freshBlood': True,\n",
       "   'hotStreak': True},\n",
       "  {'summonerId': 'SCXEl48hwY-O9W-zI4ZXerx70LOWrpWkM2lAscnH9uts-yI',\n",
       "   'summonerName': ' Kowaseru',\n",
       "   'leaguePoints': 0,\n",
       "   'rank': 'I',\n",
       "   'wins': 68,\n",
       "   'losses': 47,\n",
       "   'veteran': False,\n",
       "   'inactive': False,\n",
       "   'freshBlood': False,\n",
       "   'hotStreak': False},\n",
       "  {'summonerId': 'D-qb6T9KR45Pv_hEMhatS02TY3UOrRDhjsEchmv2eDEdmKo',\n",
       "   'summonerName': '8 Pack Olaf',\n",
       "   'leaguePoints': 7,\n",
       "   'rank': 'I',\n",
       "   'wins': 237,\n",
       "   'losses': 219,\n",
       "   'veteran': False,\n",
       "   'inactive': False,\n",
       "   'freshBlood': True,\n",
       "   'hotStreak': False},\n",
       "  {'summonerId': 'myxY5PuNglWn_aROxlZRaUCiqKPLumgu8AXu2mZiFeq0MJg',\n",
       "   'summonerName': 'courante76',\n",
       "   'leaguePoints': 0,\n",
       "   'rank': 'I',\n",
       "   'wins': 978,\n",
       "   'losses': 958,\n",
       "   'veteran': False,\n",
       "   'inactive': False,\n",
       "   'freshBlood': True,\n",
       "   'hotStreak': False},\n",
       "  {'summonerId': 'lOs_lqmtCjOdxwSZmPR0CWuDU8qNtW2oainYSOC5nbhslzQ',\n",
       "   'summonerName': 'tysonot',\n",
       "   'leaguePoints': 18,\n",
       "   'rank': 'I',\n",
       "   'wins': 468,\n",
       "   'losses': 387,\n",
       "   'veteran': False,\n",
       "   'inactive': False,\n",
       "   'freshBlood': True,\n",
       "   'hotStreak': True},\n",
       "  {'summonerId': 'AMlIA_L9gdUlYBGVe3gip1rocL1qiqxBzJg4Npac34q71ok',\n",
       "   'summonerName': 'stinkyfinger721',\n",
       "   'leaguePoints': 0,\n",
       "   'rank': 'I',\n",
       "   'wins': 149,\n",
       "   'losses': 134,\n",
       "   'veteran': False,\n",
       "   'inactive': False,\n",
       "   'freshBlood': True,\n",
       "   'hotStreak': True},\n",
       "  {'summonerId': '55t7u72oycKLoCs06PlDwU7RTP5tZpcINLvJTk3Es-Hle8U',\n",
       "   'summonerName': 'FeedSpecialist',\n",
       "   'leaguePoints': 0,\n",
       "   'rank': 'I',\n",
       "   'wins': 221,\n",
       "   'losses': 205,\n",
       "   'veteran': False,\n",
       "   'inactive': False,\n",
       "   'freshBlood': True,\n",
       "   'hotStreak': True},\n",
       "  {'summonerId': '77xpwg3YqtV-pES-i716FsV-aYo01qVPiKomLzxONER-O58',\n",
       "   'summonerName': 'Kyuki',\n",
       "   'leaguePoints': 0,\n",
       "   'rank': 'I',\n",
       "   'wins': 255,\n",
       "   'losses': 245,\n",
       "   'veteran': False,\n",
       "   'inactive': False,\n",
       "   'freshBlood': True,\n",
       "   'hotStreak': False},\n",
       "  {'summonerId': 'ivzqknlzxY4b2YgmZDvGeSRMEBPrmIpD9UmIBf-NxLVLS38',\n",
       "   'summonerName': 'Adopted Allen',\n",
       "   'leaguePoints': 0,\n",
       "   'rank': 'I',\n",
       "   'wins': 131,\n",
       "   'losses': 123,\n",
       "   'veteran': False,\n",
       "   'inactive': False,\n",
       "   'freshBlood': True,\n",
       "   'hotStreak': True},\n",
       "  {'summonerId': 'c2ng7ScltHaYmJSdlUQCbR68kcDs8_5CyyZBWhkSVCDZJQQ',\n",
       "   'summonerName': 'Zerkxz',\n",
       "   'leaguePoints': 28,\n",
       "   'rank': 'I',\n",
       "   'wins': 97,\n",
       "   'losses': 71,\n",
       "   'veteran': False,\n",
       "   'inactive': False,\n",
       "   'freshBlood': True,\n",
       "   'hotStreak': False},\n",
       "  {'summonerId': 'GElWq447GIHv9FqEO_P4WbWo1IJ74Z1U60LOkHbI2iajiIXG',\n",
       "   'summonerName': 'snowing in april',\n",
       "   'leaguePoints': 0,\n",
       "   'rank': 'I',\n",
       "   'wins': 71,\n",
       "   'losses': 52,\n",
       "   'veteran': False,\n",
       "   'inactive': False,\n",
       "   'freshBlood': False,\n",
       "   'hotStreak': False},\n",
       "  {'summonerId': 'PiR9xrqVZ0TjxPOYaHE9gFChCxWUFNZ8Vxp2p53uBCv7w0g',\n",
       "   'summonerName': 'Poopey',\n",
       "   'leaguePoints': 0,\n",
       "   'rank': 'I',\n",
       "   'wins': 174,\n",
       "   'losses': 166,\n",
       "   'veteran': False,\n",
       "   'inactive': False,\n",
       "   'freshBlood': True,\n",
       "   'hotStreak': False},\n",
       "  {'summonerId': '6DXrPXZpolc-SQbI65QJJs2hhhu8KDYAPSyb6H45d57L7qo',\n",
       "   'summonerName': '      qwqi      ',\n",
       "   'leaguePoints': 0,\n",
       "   'rank': 'I',\n",
       "   'wins': 114,\n",
       "   'losses': 101,\n",
       "   'veteran': False,\n",
       "   'inactive': False,\n",
       "   'freshBlood': False,\n",
       "   'hotStreak': False},\n",
       "  {'summonerId': 'JwYXl8DchChlCsymLP-yRmPhMYJvqr6DU7upgcZFNx7V7VU',\n",
       "   'summonerName': 'Justinlusita',\n",
       "   'leaguePoints': 15,\n",
       "   'rank': 'I',\n",
       "   'wins': 46,\n",
       "   'losses': 18,\n",
       "   'veteran': False,\n",
       "   'inactive': False,\n",
       "   'freshBlood': True,\n",
       "   'hotStreak': True},\n",
       "  {'summonerId': 'SeMWNK6bMD_VoFNC3qEaO3gLk56vfGs7ekL8wRv3kNEzVd0',\n",
       "   'summonerName': 'LIMlT',\n",
       "   'leaguePoints': 37,\n",
       "   'rank': 'I',\n",
       "   'wins': 260,\n",
       "   'losses': 207,\n",
       "   'veteran': False,\n",
       "   'inactive': False,\n",
       "   'freshBlood': True,\n",
       "   'hotStreak': False},\n",
       "  {'summonerId': 'gJxi1i0FlODsBBSsybvxVGEwjHWPiwDJqfZ2PKoDhOnUAdU',\n",
       "   'summonerName': 'MaplestoryGMS',\n",
       "   'leaguePoints': 0,\n",
       "   'rank': 'I',\n",
       "   'wins': 126,\n",
       "   'losses': 106,\n",
       "   'veteran': False,\n",
       "   'inactive': False,\n",
       "   'freshBlood': True,\n",
       "   'hotStreak': False},\n",
       "  {'summonerId': 'FMximzwL9tVkuYrtCteOewEtcFUpoNSawzlyRXSdwrYcbks',\n",
       "   'summonerName': 'abloopu',\n",
       "   'leaguePoints': 29,\n",
       "   'rank': 'I',\n",
       "   'wins': 245,\n",
       "   'losses': 187,\n",
       "   'veteran': False,\n",
       "   'inactive': False,\n",
       "   'freshBlood': False,\n",
       "   'hotStreak': False},\n",
       "  {'summonerId': 'Qka5zozhnXskkjK7eV2NcGtGpMeeRf1IiP0nCwd6qN7H8Ao',\n",
       "   'summonerName': 'Guess da number',\n",
       "   'leaguePoints': 5,\n",
       "   'rank': 'I',\n",
       "   'wins': 372,\n",
       "   'losses': 362,\n",
       "   'veteran': False,\n",
       "   'inactive': False,\n",
       "   'freshBlood': True,\n",
       "   'hotStreak': False},\n",
       "  {'summonerId': 'RLtQFYxNlURQVaI76h2lv5n39IPn89TEHYVXb2GDPmml67c',\n",
       "   'summonerName': '21 Stylish',\n",
       "   'leaguePoints': 4,\n",
       "   'rank': 'I',\n",
       "   'wins': 161,\n",
       "   'losses': 139,\n",
       "   'veteran': False,\n",
       "   'inactive': False,\n",
       "   'freshBlood': True,\n",
       "   'hotStreak': False},\n",
       "  {'summonerId': 'JoS2cp8gSuDBJBC0K-FvO_dvdhGODRxscfk2OvcNjCm8Mj8',\n",
       "   'summonerName': 'Evil draws close',\n",
       "   'leaguePoints': 0,\n",
       "   'rank': 'I',\n",
       "   'wins': 176,\n",
       "   'losses': 139,\n",
       "   'veteran': False,\n",
       "   'inactive': False,\n",
       "   'freshBlood': True,\n",
       "   'hotStreak': False},\n",
       "  {'summonerId': 'TvISQItAZZBLDxWCWP_RGiY1fNJVi7j_u36s4a9Bci-qsdg',\n",
       "   'summonerName': 'Hotr',\n",
       "   'leaguePoints': 0,\n",
       "   'rank': 'I',\n",
       "   'wins': 128,\n",
       "   'losses': 111,\n",
       "   'veteran': False,\n",
       "   'inactive': False,\n",
       "   'freshBlood': True,\n",
       "   'hotStreak': False},\n",
       "  {'summonerId': 'rvkWKlYh-qDzn7sEF9UKnuYCyWPB-V6GwJSOC4Fldrw7jOgB',\n",
       "   'summonerName': '0 Fury W',\n",
       "   'leaguePoints': 26,\n",
       "   'rank': 'I',\n",
       "   'wins': 100,\n",
       "   'losses': 39,\n",
       "   'veteran': False,\n",
       "   'inactive': False,\n",
       "   'freshBlood': True,\n",
       "   'hotStreak': False},\n",
       "  {'summonerId': 'V1vDIZjKbbLxi8nZ8bNDiJI4dHY7L1nycj9D-gcBebcPWwGX',\n",
       "   'summonerName': 'GAYˉ',\n",
       "   'leaguePoints': 0,\n",
       "   'rank': 'I',\n",
       "   'wins': 121,\n",
       "   'losses': 56,\n",
       "   'veteran': False,\n",
       "   'inactive': False,\n",
       "   'freshBlood': True,\n",
       "   'hotStreak': True},\n",
       "  {'summonerId': 'Njugimbl9RZGM3XkG2Q4NHC0KgMW7rp36g-fx4fTJ4eWe2Q',\n",
       "   'summonerName': 'Prymari',\n",
       "   'leaguePoints': 26,\n",
       "   'rank': 'I',\n",
       "   'wins': 402,\n",
       "   'losses': 398,\n",
       "   'veteran': False,\n",
       "   'inactive': False,\n",
       "   'freshBlood': True,\n",
       "   'hotStreak': False},\n",
       "  {'summonerId': 'I9ptt8OJT-GbIxOecipp2AwnSDvy_RYQ56z062FRXTj5xQRl',\n",
       "   'summonerName': 'badwo0man',\n",
       "   'leaguePoints': 0,\n",
       "   'rank': 'I',\n",
       "   'wins': 136,\n",
       "   'losses': 105,\n",
       "   'veteran': False,\n",
       "   'inactive': False,\n",
       "   'freshBlood': True,\n",
       "   'hotStreak': False},\n",
       "  {'summonerId': 'fa1GDHbLvMB5luf2-Tb5pdezhNP_Wdan2GaumpMU823C34w',\n",
       "   'summonerName': 'Mozly',\n",
       "   'leaguePoints': 15,\n",
       "   'rank': 'I',\n",
       "   'wins': 171,\n",
       "   'losses': 116,\n",
       "   'veteran': False,\n",
       "   'inactive': False,\n",
       "   'freshBlood': False,\n",
       "   'hotStreak': False},\n",
       "  {'summonerId': '2I0yA2HfXH28kXhfYeY0qKX0L8Bb7c-WeAxSKLRbX4HYBP0',\n",
       "   'summonerName': 'rehcra',\n",
       "   'leaguePoints': 12,\n",
       "   'rank': 'I',\n",
       "   'wins': 171,\n",
       "   'losses': 127,\n",
       "   'veteran': False,\n",
       "   'inactive': False,\n",
       "   'freshBlood': False,\n",
       "   'hotStreak': False},\n",
       "  {'summonerId': 'fdH5VHboIZ1-4KbWTJ8Vr4DHULMw3ml4BjF_S63av9S3E90',\n",
       "   'summonerName': 'going pro btw',\n",
       "   'leaguePoints': 19,\n",
       "   'rank': 'I',\n",
       "   'wins': 136,\n",
       "   'losses': 127,\n",
       "   'veteran': False,\n",
       "   'inactive': False,\n",
       "   'freshBlood': True,\n",
       "   'hotStreak': False},\n",
       "  {'summonerId': '1nPoEAyoyEfs0mkmluD1X7nROc4zw42vK2BbELVeG-BQiHM',\n",
       "   'summonerName': 'swooshy',\n",
       "   'leaguePoints': 0,\n",
       "   'rank': 'I',\n",
       "   'wins': 40,\n",
       "   'losses': 24,\n",
       "   'veteran': False,\n",
       "   'inactive': False,\n",
       "   'freshBlood': False,\n",
       "   'hotStreak': True},\n",
       "  {'summonerId': '14ZE-RLZX4bSmUMt4jPl34yn0lmX-JNWqm5sFRKSaOZUw4lr',\n",
       "   'summonerName': 'Teo Teo',\n",
       "   'leaguePoints': 0,\n",
       "   'rank': 'I',\n",
       "   'wins': 438,\n",
       "   'losses': 366,\n",
       "   'veteran': False,\n",
       "   'inactive': False,\n",
       "   'freshBlood': True,\n",
       "   'hotStreak': False},\n",
       "  {'summonerId': 'J91ywePVwx8IuRpbde892SD2uYy0s03AQPzA-nbIlu-OrKo',\n",
       "   'summonerName': 'Necroside',\n",
       "   'leaguePoints': 0,\n",
       "   'rank': 'I',\n",
       "   'wins': 75,\n",
       "   'losses': 74,\n",
       "   'veteran': False,\n",
       "   'inactive': False,\n",
       "   'freshBlood': True,\n",
       "   'hotStreak': False},\n",
       "  {'summonerId': 'HWVoAbYaY3N58UkuHyjuEMguogFc_FeGcDJpMVqyYRcKRtg',\n",
       "   'summonerName': 'CLG Ravey',\n",
       "   'leaguePoints': 0,\n",
       "   'rank': 'I',\n",
       "   'wins': 453,\n",
       "   'losses': 453,\n",
       "   'veteran': False,\n",
       "   'inactive': False,\n",
       "   'freshBlood': True,\n",
       "   'hotStreak': False},\n",
       "  {'summonerId': 'UV-dhra7Ud6aIcxfK5s9fIroJKNWexfSqackyaWO1uGZ-L8l',\n",
       "   'summonerName': 'I am Wintrading',\n",
       "   'leaguePoints': 0,\n",
       "   'rank': 'I',\n",
       "   'wins': 123,\n",
       "   'losses': 44,\n",
       "   'veteran': False,\n",
       "   'inactive': False,\n",
       "   'freshBlood': True,\n",
       "   'hotStreak': True},\n",
       "  {'summonerId': 'QxGBdx-kA7PjPUpTcu3_cwBx4MZcLLJIj-RcbCpjoQKz2V4',\n",
       "   'summonerName': 'Sammy Pajamy',\n",
       "   'leaguePoints': 0,\n",
       "   'rank': 'I',\n",
       "   'wins': 338,\n",
       "   'losses': 321,\n",
       "   'veteran': False,\n",
       "   'inactive': False,\n",
       "   'freshBlood': True,\n",
       "   'hotStreak': False},\n",
       "  {'summonerId': 'um5vS9uLdWuJ_61MMVmwXwgSoAxmWx1jvcwTyi2AnU52LwU',\n",
       "   'summonerName': 'kbmistro675',\n",
       "   'leaguePoints': 0,\n",
       "   'rank': 'I',\n",
       "   'wins': 273,\n",
       "   'losses': 254,\n",
       "   'veteran': False,\n",
       "   'inactive': False,\n",
       "   'freshBlood': True,\n",
       "   'hotStreak': True},\n",
       "  {'summonerId': 'Rtf-2dTa9dSW65qDu2S7cEDFmzx52YH0JRV8uBnuRRIEzfM',\n",
       "   'summonerName': 'Melyn',\n",
       "   'leaguePoints': 41,\n",
       "   'rank': 'I',\n",
       "   'wins': 260,\n",
       "   'losses': 254,\n",
       "   'veteran': False,\n",
       "   'inactive': False,\n",
       "   'freshBlood': True,\n",
       "   'hotStreak': False},\n",
       "  {'summonerId': 'FxMQ3HvtKh3ssSpgGMq4NuBdafsQSfvpG1gkrzXi1QKExLU',\n",
       "   'summonerName': 'but when',\n",
       "   'leaguePoints': 0,\n",
       "   'rank': 'I',\n",
       "   'wins': 209,\n",
       "   'losses': 181,\n",
       "   'veteran': False,\n",
       "   'inactive': False,\n",
       "   'freshBlood': True,\n",
       "   'hotStreak': False},\n",
       "  {'summonerId': 'pMrfOg3Ttl2bzIw72qwHLvQLmHKgvVSce-wGMAktMWqT2qM',\n",
       "   'summonerName': 'j0rd4n',\n",
       "   'leaguePoints': 23,\n",
       "   'rank': 'I',\n",
       "   'wins': 122,\n",
       "   'losses': 113,\n",
       "   'veteran': False,\n",
       "   'inactive': False,\n",
       "   'freshBlood': True,\n",
       "   'hotStreak': False},\n",
       "  {'summonerId': '69WjyWON-OWTEklUffq71jKetjZ-7a_R9J2tXfkBMrWr0nQ',\n",
       "   'summonerName': 'Miragee',\n",
       "   'leaguePoints': 0,\n",
       "   'rank': 'I',\n",
       "   'wins': 133,\n",
       "   'losses': 117,\n",
       "   'veteran': False,\n",
       "   'inactive': False,\n",
       "   'freshBlood': True,\n",
       "   'hotStreak': False},\n",
       "  {'summonerId': 'sUlQP4xT4WixBplQDxQck0BPNKGA4WYXnvl-WbjHiDbxdqg',\n",
       "   'summonerName': 'Speedo',\n",
       "   'leaguePoints': 26,\n",
       "   'rank': 'I',\n",
       "   'wins': 120,\n",
       "   'losses': 92,\n",
       "   'veteran': False,\n",
       "   'inactive': False,\n",
       "   'freshBlood': True,\n",
       "   'hotStreak': False},\n",
       "  {'summonerId': 'nKsU-m4w75ZoA6RxUyMVkzDmeP1rCN595zv_6fPsmX_4nTU',\n",
       "   'summonerName': 'Exusiai Shot',\n",
       "   'leaguePoints': 0,\n",
       "   'rank': 'I',\n",
       "   'wins': 407,\n",
       "   'losses': 323,\n",
       "   'veteran': False,\n",
       "   'inactive': False,\n",
       "   'freshBlood': True,\n",
       "   'hotStreak': False},\n",
       "  {'summonerId': '-UdYFSv37qw7yPcWUpThR6kmimiiHqdy7V7COYxa5canbuo',\n",
       "   'summonerName': 'BucktTxAv',\n",
       "   'leaguePoints': 27,\n",
       "   'rank': 'I',\n",
       "   'wins': 60,\n",
       "   'losses': 38,\n",
       "   'veteran': False,\n",
       "   'inactive': False,\n",
       "   'freshBlood': False,\n",
       "   'hotStreak': False},\n",
       "  {'summonerId': 'kQyF05IDXOxHX7WIkCrXnl1C9K3B7rirF46iXglQ9jTwYBI',\n",
       "   'summonerName': 'Remmacs',\n",
       "   'leaguePoints': 16,\n",
       "   'rank': 'I',\n",
       "   'wins': 355,\n",
       "   'losses': 336,\n",
       "   'veteran': False,\n",
       "   'inactive': False,\n",
       "   'freshBlood': True,\n",
       "   'hotStreak': False},\n",
       "  {'summonerId': 'ckALyUsFeGT25Z4OdyBet5MhKe9hroK4iuHou-FQc-7vfri0',\n",
       "   'summonerName': 'solo ADC Pepega',\n",
       "   'leaguePoints': 14,\n",
       "   'rank': 'I',\n",
       "   'wins': 141,\n",
       "   'losses': 78,\n",
       "   'veteran': False,\n",
       "   'inactive': False,\n",
       "   'freshBlood': True,\n",
       "   'hotStreak': False},\n",
       "  {'summonerId': 'ksm9Zi0BOmWJDhlaHpC92GBPXFT0ctv_eBOKaGI3Y5zhSm8',\n",
       "   'summonerName': 'awesomepossum19',\n",
       "   'leaguePoints': 19,\n",
       "   'rank': 'I',\n",
       "   'wins': 81,\n",
       "   'losses': 71,\n",
       "   'veteran': False,\n",
       "   'inactive': False,\n",
       "   'freshBlood': False,\n",
       "   'hotStreak': False},\n",
       "  {'summonerId': 'msuu8-nhQkM_tkDseveNok5TESkUGKSDW3Zz5BovieYyEDw',\n",
       "   'summonerName': 'Death Sentenceº',\n",
       "   'leaguePoints': 0,\n",
       "   'rank': 'I',\n",
       "   'wins': 521,\n",
       "   'losses': 512,\n",
       "   'veteran': False,\n",
       "   'inactive': False,\n",
       "   'freshBlood': True,\n",
       "   'hotStreak': False},\n",
       "  {'summonerId': 'N0u8XfBMeBWAUnyfoPWVrLfsESqJeu2Qi63WN5IneCdcD7Ir',\n",
       "   'summonerName': 'ººRĘPØRT Yi',\n",
       "   'leaguePoints': 0,\n",
       "   'rank': 'I',\n",
       "   'wins': 127,\n",
       "   'losses': 51,\n",
       "   'veteran': False,\n",
       "   'inactive': False,\n",
       "   'freshBlood': True,\n",
       "   'hotStreak': False},\n",
       "  {'summonerId': 'GvJub9Wc50lB-B7joNLuv9Yt3gfgZ52gh2PyUKhJw3cvj0I',\n",
       "   'summonerName': 'Acouasm',\n",
       "   'leaguePoints': 0,\n",
       "   'rank': 'I',\n",
       "   'wins': 116,\n",
       "   'losses': 105,\n",
       "   'veteran': False,\n",
       "   'inactive': False,\n",
       "   'freshBlood': True,\n",
       "   'hotStreak': False},\n",
       "  {'summonerId': 'MFBruDpKQphRe7ltmXE9ApuwcoeR-96HXXNFqs3EYvsxk_M',\n",
       "   'summonerName': 'Ayukura',\n",
       "   'leaguePoints': 0,\n",
       "   'rank': 'I',\n",
       "   'wins': 80,\n",
       "   'losses': 71,\n",
       "   'veteran': False,\n",
       "   'inactive': False,\n",
       "   'freshBlood': True,\n",
       "   'hotStreak': False},\n",
       "  {'summonerId': 'UiTbir-6QidcysVFthBppWkzYlgIKT6ixt5xzl2hp9I2t7E',\n",
       "   'summonerName': 'Xonas',\n",
       "   'leaguePoints': 0,\n",
       "   'rank': 'I',\n",
       "   'wins': 47,\n",
       "   'losses': 35,\n",
       "   'veteran': False,\n",
       "   'inactive': False,\n",
       "   'freshBlood': False,\n",
       "   'hotStreak': False},\n",
       "  {'summonerId': 'DDFSTciJskF3pKQeIzDAHpAi_zOBpCN16uxntCGie9eNiWOc',\n",
       "   'summonerName': 'Start',\n",
       "   'leaguePoints': 0,\n",
       "   'rank': 'I',\n",
       "   'wins': 314,\n",
       "   'losses': 221,\n",
       "   'veteran': False,\n",
       "   'inactive': False,\n",
       "   'freshBlood': True,\n",
       "   'hotStreak': False},\n",
       "  {'summonerId': 'gq4o9TU9RNKlj_zA_3HaiD_1O8PV9_1f7GNmEtt5JWwtCK4',\n",
       "   'summonerName': 'Viceera',\n",
       "   'leaguePoints': 0,\n",
       "   'rank': 'I',\n",
       "   'wins': 68,\n",
       "   'losses': 49,\n",
       "   'veteran': False,\n",
       "   'inactive': False,\n",
       "   'freshBlood': False,\n",
       "   'hotStreak': False},\n",
       "  {'summonerId': 'AFgepaUAET53FmFaCs2kQ_ipGaze2v_hxYPcuzSA7f0F0hw',\n",
       "   'summonerName': 'Gli',\n",
       "   'leaguePoints': 0,\n",
       "   'rank': 'I',\n",
       "   'wins': 94,\n",
       "   'losses': 86,\n",
       "   'veteran': False,\n",
       "   'inactive': False,\n",
       "   'freshBlood': True,\n",
       "   'hotStreak': False},\n",
       "  {'summonerId': 'GFlNcag2rLzch-Gf3I16V9-TtTm9oEZV7XWAcSAG4xrGwr8',\n",
       "   'summonerName': 'UF Dan',\n",
       "   'leaguePoints': 0,\n",
       "   'rank': 'I',\n",
       "   'wins': 383,\n",
       "   'losses': 357,\n",
       "   'veteran': False,\n",
       "   'inactive': False,\n",
       "   'freshBlood': True,\n",
       "   'hotStreak': False},\n",
       "  {'summonerId': 'IqDx5UKEF_b44f1QAaw-ca8aZvFvJ14SPbCQS3-jAgnIaMA',\n",
       "   'summonerName': 'Subaru Natsuki',\n",
       "   'leaguePoints': 20,\n",
       "   'rank': 'I',\n",
       "   'wins': 467,\n",
       "   'losses': 460,\n",
       "   'veteran': False,\n",
       "   'inactive': False,\n",
       "   'freshBlood': False,\n",
       "   'hotStreak': False},\n",
       "  {'summonerId': 'd8656VbDgYabt5rM7gIVpN_U8uJKFRSp2p-LaGvSrf8XjhI',\n",
       "   'summonerName': 'Meowing Cat',\n",
       "   'leaguePoints': 0,\n",
       "   'rank': 'I',\n",
       "   'wins': 126,\n",
       "   'losses': 116,\n",
       "   'veteran': False,\n",
       "   'inactive': False,\n",
       "   'freshBlood': True,\n",
       "   'hotStreak': False},\n",
       "  {'summonerId': '6ioNzvBeFDL2WyUbXJe1qxVnV33A4KsVlhhMypXHQJM',\n",
       "   'summonerName': 'AquaBlue',\n",
       "   'leaguePoints': 0,\n",
       "   'rank': 'I',\n",
       "   'wins': 462,\n",
       "   'losses': 446,\n",
       "   'veteran': False,\n",
       "   'inactive': False,\n",
       "   'freshBlood': True,\n",
       "   'hotStreak': True},\n",
       "  {'summonerId': 'zGm0L-OsSmWDX9t8NWtR7rJYWzOGOFMLJL7UAu35tggu3mY',\n",
       "   'summonerName': 'Damonte',\n",
       "   'leaguePoints': 28,\n",
       "   'rank': 'I',\n",
       "   'wins': 209,\n",
       "   'losses': 202,\n",
       "   'veteran': False,\n",
       "   'inactive': False,\n",
       "   'freshBlood': True,\n",
       "   'hotStreak': False},\n",
       "  {'summonerId': 'Jm0S3SKHFpowUS4eR2mi4GgCVtRDIQXNIvFa8rUNTBjmolLQ',\n",
       "   'summonerName': 'clonesheep3',\n",
       "   'leaguePoints': 0,\n",
       "   'rank': 'I',\n",
       "   'wins': 447,\n",
       "   'losses': 414,\n",
       "   'veteran': False,\n",
       "   'inactive': False,\n",
       "   'freshBlood': True,\n",
       "   'hotStreak': False},\n",
       "  {'summonerId': 'qc9quBL8y9oa2F_VbdesivUhkcxdJ8bQbml4s4DIWeLNXEQ',\n",
       "   'summonerName': 'MetaSolaray',\n",
       "   'leaguePoints': 38,\n",
       "   'rank': 'I',\n",
       "   'wins': 585,\n",
       "   'losses': 562,\n",
       "   'veteran': False,\n",
       "   'inactive': False,\n",
       "   'freshBlood': False,\n",
       "   'hotStreak': False},\n",
       "  {'summonerId': 'I2jA96c3S2aBXAvY5nuyICEnKXULStJTHDAlB0nUa2p0oGrn',\n",
       "   'summonerName': 'Neglect',\n",
       "   'leaguePoints': 27,\n",
       "   'rank': 'I',\n",
       "   'wins': 436,\n",
       "   'losses': 361,\n",
       "   'veteran': False,\n",
       "   'inactive': False,\n",
       "   'freshBlood': True,\n",
       "   'hotStreak': False},\n",
       "  {'summonerId': '1fGUQqkiYifkBy5vTjQCzcydpxwpnEfzeMVT-OjZkxOqGgs',\n",
       "   'summonerName': 'Bánh Mì xD',\n",
       "   'leaguePoints': 16,\n",
       "   'rank': 'I',\n",
       "   'wins': 329,\n",
       "   'losses': 325,\n",
       "   'veteran': False,\n",
       "   'inactive': False,\n",
       "   'freshBlood': True,\n",
       "   'hotStreak': False},\n",
       "  {'summonerId': 'cd2OpPYc1-vuzj2UPAnT-fDFGPSOFmce66zR9m9gL_eLjFY',\n",
       "   'summonerName': 'Alex Blais',\n",
       "   'leaguePoints': 29,\n",
       "   'rank': 'I',\n",
       "   'wins': 280,\n",
       "   'losses': 276,\n",
       "   'veteran': False,\n",
       "   'inactive': False,\n",
       "   'freshBlood': True,\n",
       "   'hotStreak': False},\n",
       "  {'summonerId': 'ejc_jSon_VkiOszr013bGvmttOTu-9ZTDL_eqfebE4Db6Bc',\n",
       "   'summonerName': 'Rivëń',\n",
       "   'leaguePoints': 12,\n",
       "   'rank': 'I',\n",
       "   'wins': 164,\n",
       "   'losses': 127,\n",
       "   'veteran': False,\n",
       "   'inactive': False,\n",
       "   'freshBlood': True,\n",
       "   'hotStreak': False},\n",
       "  {'summonerId': '5oAg7FXVgG-J4cKk-ZU3NwWnk21SG72d_6lR3C4H_2IJ3IY',\n",
       "   'summonerName': 'eLLi nOISE',\n",
       "   'leaguePoints': 26,\n",
       "   'rank': 'I',\n",
       "   'wins': 61,\n",
       "   'losses': 48,\n",
       "   'veteran': False,\n",
       "   'inactive': False,\n",
       "   'freshBlood': False,\n",
       "   'hotStreak': False},\n",
       "  {'summonerId': 'atQUC1S_n_aZmU-Eju2OAHB0Ho56l-m5YRHa-0mfiW2kENY',\n",
       "   'summonerName': 'Puppęh',\n",
       "   'leaguePoints': 0,\n",
       "   'rank': 'I',\n",
       "   'wins': 371,\n",
       "   'losses': 339,\n",
       "   'veteran': False,\n",
       "   'inactive': False,\n",
       "   'freshBlood': True,\n",
       "   'hotStreak': False},\n",
       "  {'summonerId': 'LjxzrfJiKxIwZDaAFnUnkQlEj9rtN0OV9PDunTnzlER_ih8',\n",
       "   'summonerName': 'Nakyung Flover',\n",
       "   'leaguePoints': 19,\n",
       "   'rank': 'I',\n",
       "   'wins': 100,\n",
       "   'losses': 80,\n",
       "   'veteran': False,\n",
       "   'inactive': False,\n",
       "   'freshBlood': True,\n",
       "   'hotStreak': True},\n",
       "  {'summonerId': 'K8VeKdLm9s4tUUtmNv8MDcHLR4ULYyY2MuMKy1ha_KwncoY',\n",
       "   'summonerName': '17039501',\n",
       "   'leaguePoints': 0,\n",
       "   'rank': 'I',\n",
       "   'wins': 133,\n",
       "   'losses': 126,\n",
       "   'veteran': False,\n",
       "   'inactive': False,\n",
       "   'freshBlood': True,\n",
       "   'hotStreak': False},\n",
       "  {'summonerId': 'TDIy46h5o3Bbk6cQvdUAiybr83tCWxXVE6XlSkM4EYhiIg8',\n",
       "   'summonerName': 'Cyrus D',\n",
       "   'leaguePoints': 15,\n",
       "   'rank': 'I',\n",
       "   'wins': 165,\n",
       "   'losses': 134,\n",
       "   'veteran': False,\n",
       "   'inactive': False,\n",
       "   'freshBlood': False,\n",
       "   'hotStreak': False},\n",
       "  {'summonerId': 'FRE5-CZAG8IHaviwsdT_sGjq_x-3ygLSPWxbOAnIiumTHhMZ',\n",
       "   'summonerName': 'dldydwnsg',\n",
       "   'leaguePoints': 42,\n",
       "   'rank': 'I',\n",
       "   'wins': 98,\n",
       "   'losses': 41,\n",
       "   'veteran': False,\n",
       "   'inactive': False,\n",
       "   'freshBlood': False,\n",
       "   'hotStreak': False},\n",
       "  {'summonerId': 'NE-JPN8RATRIvjDQYbfm2jvSZz9WKQOVpGPm8qzWRdpfEuU',\n",
       "   'summonerName': 'Dendrophilia',\n",
       "   'leaguePoints': 28,\n",
       "   'rank': 'I',\n",
       "   'wins': 122,\n",
       "   'losses': 97,\n",
       "   'veteran': False,\n",
       "   'inactive': False,\n",
       "   'freshBlood': True,\n",
       "   'hotStreak': False},\n",
       "  {'summonerId': '6mINqCLZkB3Dw0jal5ZFljL2B2u6ppqtcWL1pGklBq7JlN6T',\n",
       "   'summonerName': '0o x x 0o',\n",
       "   'leaguePoints': 14,\n",
       "   'rank': 'I',\n",
       "   'wins': 131,\n",
       "   'losses': 71,\n",
       "   'veteran': False,\n",
       "   'inactive': False,\n",
       "   'freshBlood': True,\n",
       "   'hotStreak': False},\n",
       "  {'summonerId': 'fsRzTeyInqjKCf5QPIPezcsr4fLSXbmIyKak3JK8C0bLWpU',\n",
       "   'summonerName': 'yum boogers',\n",
       "   'leaguePoints': 0,\n",
       "   'rank': 'I',\n",
       "   'wins': 173,\n",
       "   'losses': 153,\n",
       "   'veteran': False,\n",
       "   'inactive': False,\n",
       "   'freshBlood': True,\n",
       "   'hotStreak': False},\n",
       "  {'summonerId': 'y8WTWiLYKW7HPiXcKJa6ncDLAfHYU0d2JZ-N4qFCvBGuzzk',\n",
       "   'summonerName': 'TwTv BTangLoL',\n",
       "   'leaguePoints': 0,\n",
       "   'rank': 'I',\n",
       "   'wins': 119,\n",
       "   'losses': 50,\n",
       "   'veteran': False,\n",
       "   'inactive': False,\n",
       "   'freshBlood': False,\n",
       "   'hotStreak': False},\n",
       "  {'summonerId': 'PPGa28t33BxQfFvQu7FUmJfzTZbGbz126h9HzlZEb773UWI',\n",
       "   'summonerName': 'HaappyFace',\n",
       "   'leaguePoints': 0,\n",
       "   'rank': 'I',\n",
       "   'wins': 132,\n",
       "   'losses': 118,\n",
       "   'veteran': False,\n",
       "   'inactive': False,\n",
       "   'freshBlood': False,\n",
       "   'hotStreak': False},\n",
       "  {'summonerId': 'hmtWx1O4w_UkW6G7SLGmV3y3bgSLH-sdnzcNGrrk0eONwbxO',\n",
       "   'summonerName': 'skin is black',\n",
       "   'leaguePoints': 0,\n",
       "   'rank': 'I',\n",
       "   'wins': 259,\n",
       "   'losses': 240,\n",
       "   'veteran': False,\n",
       "   'inactive': False,\n",
       "   'freshBlood': True,\n",
       "   'hotStreak': False},\n",
       "  {'summonerId': '8AQf-TJo0ClkmK_2bLIfdHBrO1x5J-AZp_gc0OGeLb2J9TQ',\n",
       "   'summonerName': 'Dig FeniX',\n",
       "   'leaguePoints': 35,\n",
       "   'rank': 'I',\n",
       "   'wins': 185,\n",
       "   'losses': 169,\n",
       "   'veteran': False,\n",
       "   'inactive': False,\n",
       "   'freshBlood': True,\n",
       "   'hotStreak': False},\n",
       "  {'summonerId': 'Is_fHJ-HBPHhHugkadxy476iivrdcFTx47KIfRNwo4L0dOg',\n",
       "   'summonerName': 'Kîmì',\n",
       "   'leaguePoints': 0,\n",
       "   'rank': 'I',\n",
       "   'wins': 356,\n",
       "   'losses': 316,\n",
       "   'veteran': False,\n",
       "   'inactive': False,\n",
       "   'freshBlood': True,\n",
       "   'hotStreak': False},\n",
       "  {'summonerId': 'rzm_HgFiDlxhnPhBnjgHuN0zpRzTPFwn1BwahARLtVFXym4',\n",
       "   'summonerName': 'CarryPottér',\n",
       "   'leaguePoints': 0,\n",
       "   'rank': 'I',\n",
       "   'wins': 480,\n",
       "   'losses': 466,\n",
       "   'veteran': False,\n",
       "   'inactive': False,\n",
       "   'freshBlood': True,\n",
       "   'hotStreak': False},\n",
       "  {'summonerId': 'pVnT7klU-BnAbHNOB_nqMihAtj8yjct6j2n21p8WbpOJp89A',\n",
       "   'summonerName': 'TheIastDance',\n",
       "   'leaguePoints': 0,\n",
       "   'rank': 'I',\n",
       "   'wins': 168,\n",
       "   'losses': 96,\n",
       "   'veteran': False,\n",
       "   'inactive': False,\n",
       "   'freshBlood': True,\n",
       "   'hotStreak': False},\n",
       "  {'summonerId': 'LveM0f8MAS7om1HHY6WWcS0Sd_oBD-biaD4ZZArAXcoJwiU',\n",
       "   'summonerName': 'Awake dreaming',\n",
       "   'leaguePoints': 0,\n",
       "   'rank': 'I',\n",
       "   'wins': 667,\n",
       "   'losses': 611,\n",
       "   'veteran': False,\n",
       "   'inactive': False,\n",
       "   'freshBlood': True,\n",
       "   'hotStreak': False},\n",
       "  {'summonerId': 'Fjayw34V9rmMpIPBlNnf2w0jbqTPFhNzB4x3SMgvQxmgJU8',\n",
       "   'summonerName': 'the boxer',\n",
       "   'leaguePoints': 34,\n",
       "   'rank': 'I',\n",
       "   'wins': 109,\n",
       "   'losses': 75,\n",
       "   'veteran': False,\n",
       "   'inactive': False,\n",
       "   'freshBlood': True,\n",
       "   'hotStreak': False},\n",
       "  {'summonerId': '234ZiufGX4Fh7TCAnVaDpfd8lC_T-SxUfbq7EsG7lrYT2Ks',\n",
       "   'summonerName': 'Majorjetlag',\n",
       "   'leaguePoints': 0,\n",
       "   'rank': 'I',\n",
       "   'wins': 234,\n",
       "   'losses': 204,\n",
       "   'veteran': False,\n",
       "   'inactive': False,\n",
       "   'freshBlood': False,\n",
       "   'hotStreak': False},\n",
       "  {'summonerId': 'tOeNAdHWpKflG-N4GG7ZxccMT-dZngtDAuuj1ZlDitu5iGI',\n",
       "   'summonerName': 'P3radox',\n",
       "   'leaguePoints': 0,\n",
       "   'rank': 'I',\n",
       "   'wins': 281,\n",
       "   'losses': 204,\n",
       "   'veteran': False,\n",
       "   'inactive': False,\n",
       "   'freshBlood': True,\n",
       "   'hotStreak': True},\n",
       "  {'summonerId': 'tvvBIRTp3TnDaqIDKA-eKa_9f1h5lIf9a6f0ue3cyOWXkIk',\n",
       "   'summonerName': 'TopLop',\n",
       "   'leaguePoints': 15,\n",
       "   'rank': 'I',\n",
       "   'wins': 599,\n",
       "   'losses': 584,\n",
       "   'veteran': False,\n",
       "   'inactive': False,\n",
       "   'freshBlood': True,\n",
       "   'hotStreak': False},\n",
       "  {'summonerId': 'b39E9pS0gENH6fAAIYRrDXM08fqlg0kRSzD5Y3ect6g9q_k',\n",
       "   'summonerName': 'Jodyz',\n",
       "   'leaguePoints': 14,\n",
       "   'rank': 'I',\n",
       "   'wins': 390,\n",
       "   'losses': 312,\n",
       "   'veteran': False,\n",
       "   'inactive': False,\n",
       "   'freshBlood': False,\n",
       "   'hotStreak': False},\n",
       "  {'summonerId': '3m65a3x8Un2GByWZMXaTjKsVpNJXAn17gdV0A2HlgUqdfXI',\n",
       "   'summonerName': 'FSU Pain',\n",
       "   'leaguePoints': 17,\n",
       "   'rank': 'I',\n",
       "   'wins': 316,\n",
       "   'losses': 310,\n",
       "   'veteran': False,\n",
       "   'inactive': False,\n",
       "   'freshBlood': True,\n",
       "   'hotStreak': True},\n",
       "  {'summonerId': 'DlaUvT8zCLNA3Qicq8LqfBaB12JPBgaMLXdcjBTTCqkti_z9',\n",
       "   'summonerName': 'bohe1',\n",
       "   'leaguePoints': 0,\n",
       "   'rank': 'I',\n",
       "   'wins': 162,\n",
       "   'losses': 101,\n",
       "   'veteran': False,\n",
       "   'inactive': False,\n",
       "   'freshBlood': True,\n",
       "   'hotStreak': False},\n",
       "  {'summonerId': 'J73ytxXPsANgEs_2gUhmbAM2a8bsyR0Z49Wt59tpHnXJ240',\n",
       "   'summonerName': 'Which Card',\n",
       "   'leaguePoints': 0,\n",
       "   'rank': 'I',\n",
       "   'wins': 92,\n",
       "   'losses': 71,\n",
       "   'veteran': False,\n",
       "   'inactive': False,\n",
       "   'freshBlood': True,\n",
       "   'hotStreak': True},\n",
       "  {'summonerId': '4YKTjNwjs62wxmUilHaBQdQmuSPIHKZI-QKrXmXwt964YRs',\n",
       "   'summonerName': 'TwTv lol Wero',\n",
       "   'leaguePoints': 0,\n",
       "   'rank': 'I',\n",
       "   'wins': 125,\n",
       "   'losses': 105,\n",
       "   'veteran': False,\n",
       "   'inactive': False,\n",
       "   'freshBlood': False,\n",
       "   'hotStreak': False},\n",
       "  {'summonerId': 'UmdFn085Mvo05syudPc3DUI625g5p3MrbIOWOsAicX1V2EI',\n",
       "   'summonerName': 'Cinnamon Bread',\n",
       "   'leaguePoints': 9,\n",
       "   'rank': 'I',\n",
       "   'wins': 175,\n",
       "   'losses': 151,\n",
       "   'veteran': False,\n",
       "   'inactive': False,\n",
       "   'freshBlood': True,\n",
       "   'hotStreak': False},\n",
       "  {'summonerId': 'zZeNPH_twHVZXKLcW9y-TmaSzViGJuwD5akt63rLbrS8JRM',\n",
       "   'summonerName': 'mua',\n",
       "   'leaguePoints': 12,\n",
       "   'rank': 'I',\n",
       "   'wins': 70,\n",
       "   'losses': 50,\n",
       "   'veteran': False,\n",
       "   'inactive': False,\n",
       "   'freshBlood': False,\n",
       "   'hotStreak': False},\n",
       "  {'summonerId': 'ZmWRCVLf-nZNMZuSoCn7T3H16JbIfMRkkDNLRixvJ4feaXA',\n",
       "   'summonerName': 'Blotter',\n",
       "   'leaguePoints': 5,\n",
       "   'rank': 'I',\n",
       "   'wins': 93,\n",
       "   'losses': 86,\n",
       "   'veteran': False,\n",
       "   'inactive': False,\n",
       "   'freshBlood': True,\n",
       "   'hotStreak': False},\n",
       "  {'summonerId': '66Sga_URWsMujMxhIcHuksf71biwEqS-gRHSq0brqA_tiBc',\n",
       "   'summonerName': 'ºAhelaº',\n",
       "   'leaguePoints': 0,\n",
       "   'rank': 'I',\n",
       "   'wins': 144,\n",
       "   'losses': 127,\n",
       "   'veteran': False,\n",
       "   'inactive': False,\n",
       "   'freshBlood': True,\n",
       "   'hotStreak': False},\n",
       "  {'summonerId': 'jdSXlrvEARRnqE7vLAyEyrupaCa9EaGFStfI7iR_NHH3DR4',\n",
       "   'summonerName': 'Blazze',\n",
       "   'leaguePoints': 5,\n",
       "   'rank': 'I',\n",
       "   'wins': 80,\n",
       "   'losses': 61,\n",
       "   'veteran': False,\n",
       "   'inactive': False,\n",
       "   'freshBlood': True,\n",
       "   'hotStreak': False},\n",
       "  {'summonerId': '8r5UIphCebYdzRvWJZGCoMPAXCPMR3FCtrkAdCYbMRpqnh8',\n",
       "   'summonerName': 'yue yue ovo',\n",
       "   'leaguePoints': 0,\n",
       "   'rank': 'I',\n",
       "   'wins': 149,\n",
       "   'losses': 75,\n",
       "   'veteran': False,\n",
       "   'inactive': False,\n",
       "   'freshBlood': True,\n",
       "   'hotStreak': False},\n",
       "  {'summonerId': 'DR2-usZ7SbaEvYNsDISEPpTpJK30wSHda7lqLsHiOAu1K9c',\n",
       "   'summonerName': 'FirstTimeCaitlyn',\n",
       "   'leaguePoints': 0,\n",
       "   'rank': 'I',\n",
       "   'wins': 360,\n",
       "   'losses': 358,\n",
       "   'veteran': False,\n",
       "   'inactive': False,\n",
       "   'freshBlood': True,\n",
       "   'hotStreak': False},\n",
       "  {'summonerId': 'wpyehsNPbEAQ7V-uvTG5XhpYvtKSt9GHnTs5_ZUTnGsz_ds',\n",
       "   'summonerName': 'TTV vsekai',\n",
       "   'leaguePoints': 0,\n",
       "   'rank': 'I',\n",
       "   'wins': 1006,\n",
       "   'losses': 993,\n",
       "   'veteran': False,\n",
       "   'inactive': False,\n",
       "   'freshBlood': True,\n",
       "   'hotStreak': False},\n",
       "  {'summonerId': 'BrsT-PFbotLX-m0Jk_SJEP9ZIK_qS1I_iP7vfRbWRI8v',\n",
       "   'summonerName': 'Unholy Wish',\n",
       "   'leaguePoints': 34,\n",
       "   'rank': 'I',\n",
       "   'wins': 164,\n",
       "   'losses': 150,\n",
       "   'veteran': False,\n",
       "   'inactive': False,\n",
       "   'freshBlood': True,\n",
       "   'hotStreak': False},\n",
       "  {'summonerId': 'sG6sDJO82CojAoYT0NZkvjznEOrg2L8i2wUDfbtfYqMMMBMX',\n",
       "   'summonerName': '12 yr old girl',\n",
       "   'leaguePoints': 0,\n",
       "   'rank': 'I',\n",
       "   'wins': 64,\n",
       "   'losses': 36,\n",
       "   'veteran': False,\n",
       "   'inactive': False,\n",
       "   'freshBlood': True,\n",
       "   'hotStreak': False},\n",
       "  {'summonerId': 'GSYIv6HbeQHHNhuhRYzyaPdX7J5qdpaWoxsXiDw0O-DXpaY',\n",
       "   'summonerName': 'MaskedZero',\n",
       "   'leaguePoints': 37,\n",
       "   'rank': 'I',\n",
       "   'wins': 237,\n",
       "   'losses': 230,\n",
       "   'veteran': False,\n",
       "   'inactive': False,\n",
       "   'freshBlood': False,\n",
       "   'hotStreak': False},\n",
       "  {'summonerId': '7_dEqBEHxIVJnPVcaRNEYU-2ho159zOspMmDxj5EhTBlMeY',\n",
       "   'summonerName': 'Kwond0m',\n",
       "   'leaguePoints': 19,\n",
       "   'rank': 'I',\n",
       "   'wins': 557,\n",
       "   'losses': 540,\n",
       "   'veteran': False,\n",
       "   'inactive': False,\n",
       "   'freshBlood': True,\n",
       "   'hotStreak': True},\n",
       "  {'summonerId': 'lt2oL0WznBykdVa2gAsEkTrUhEZFNzUGMQm8uGtSOF9ffjg',\n",
       "   'summonerName': 'L9KILLINGMACHINE',\n",
       "   'leaguePoints': 0,\n",
       "   'rank': 'I',\n",
       "   'wins': 146,\n",
       "   'losses': 138,\n",
       "   'veteran': False,\n",
       "   'inactive': False,\n",
       "   'freshBlood': True,\n",
       "   'hotStreak': True},\n",
       "  {'summonerId': 'wehZb2l1wvA4LK4pcEXbS6jq3vmvrsDjbVaQfQGEn4Tz9jY',\n",
       "   'summonerName': 'ThePyroGod',\n",
       "   'leaguePoints': 0,\n",
       "   'rank': 'I',\n",
       "   'wins': 151,\n",
       "   'losses': 130,\n",
       "   'veteran': False,\n",
       "   'inactive': False,\n",
       "   'freshBlood': True,\n",
       "   'hotStreak': False},\n",
       "  {'summonerId': 'zono56pXdD9O_jPq4vi3nQb0LbdHZWo7MjiD2qpQRF61uMc',\n",
       "   'summonerName': 'GU ER BEN GU',\n",
       "   'leaguePoints': 16,\n",
       "   'rank': 'I',\n",
       "   'wins': 157,\n",
       "   'losses': 106,\n",
       "   'veteran': False,\n",
       "   'inactive': False,\n",
       "   'freshBlood': False,\n",
       "   'hotStreak': False},\n",
       "  {'summonerId': 'Fil4E1iPYrJ5CbBTBCGMLmrXxu2Dci1M7KlCiumglTN3jJE',\n",
       "   'summonerName': 'UCLACutestJG',\n",
       "   'leaguePoints': 12,\n",
       "   'rank': 'I',\n",
       "   'wins': 200,\n",
       "   'losses': 153,\n",
       "   'veteran': False,\n",
       "   'inactive': False,\n",
       "   'freshBlood': False,\n",
       "   'hotStreak': False},\n",
       "  {'summonerId': 'KMq-GoQBf3b8_WKemllQWCsJtANRmxpqzvYLjlaOgkWVeAw',\n",
       "   'summonerName': 'MechanicalReapr',\n",
       "   'leaguePoints': 0,\n",
       "   'rank': 'I',\n",
       "   'wins': 61,\n",
       "   'losses': 40,\n",
       "   'veteran': False,\n",
       "   'inactive': False,\n",
       "   'freshBlood': True,\n",
       "   'hotStreak': False},\n",
       "  {'summonerId': '9KugD-1mZxFe3gyiUAOffRpoPrs1BMTevmnbWLhxU0DL5qE',\n",
       "   'summonerName': 'I worry',\n",
       "   'leaguePoints': 33,\n",
       "   'rank': 'I',\n",
       "   'wins': 90,\n",
       "   'losses': 66,\n",
       "   'veteran': False,\n",
       "   'inactive': False,\n",
       "   'freshBlood': True,\n",
       "   'hotStreak': False},\n",
       "  {'summonerId': 'K5qSWRJb0Dl1HWXKfG5wHakZ7ynJrqGGIn4dYOyNka_2zcw',\n",
       "   'summonerName': 'St4ge Fright',\n",
       "   'leaguePoints': 5,\n",
       "   'rank': 'I',\n",
       "   'wins': 283,\n",
       "   'losses': 254,\n",
       "   'veteran': False,\n",
       "   'inactive': False,\n",
       "   'freshBlood': True,\n",
       "   'hotStreak': False},\n",
       "  {'summonerId': 'h4oQF39hnwX7hdWBeJninU4bFgoP3wBpEHPtUsq3eNx0c3Q',\n",
       "   'summonerName': 'Super Big Ego',\n",
       "   'leaguePoints': 19,\n",
       "   'rank': 'I',\n",
       "   'wins': 216,\n",
       "   'losses': 205,\n",
       "   'veteran': False,\n",
       "   'inactive': False,\n",
       "   'freshBlood': True,\n",
       "   'hotStreak': False},\n",
       "  {'summonerId': 'fx9IEC2hhZi44kW8DRwaO1pOCyVyfpEpCCYiZ7kkd-EUOIo',\n",
       "   'summonerName': 'OMG Arin Fans',\n",
       "   'leaguePoints': 20,\n",
       "   'rank': 'I',\n",
       "   'wins': 54,\n",
       "   'losses': 39,\n",
       "   'veteran': False,\n",
       "   'inactive': False,\n",
       "   'freshBlood': True,\n",
       "   'hotStreak': False},\n",
       "  {'summonerId': 'iMZe5iMdOxHzNtUIWjkIJhDMM-AynsmgHWbDIehBNtFGooE',\n",
       "   'summonerName': 'Dacoda',\n",
       "   'leaguePoints': 41,\n",
       "   'rank': 'I',\n",
       "   'wins': 251,\n",
       "   'losses': 187,\n",
       "   'veteran': False,\n",
       "   'inactive': False,\n",
       "   'freshBlood': False,\n",
       "   'hotStreak': True},\n",
       "  {'summonerId': 'CjmoOZvQDwOCDmtBso67baY4gw5SPGcJfsEeUl3rR8rpkG4',\n",
       "   'summonerName': 'I Shadow I',\n",
       "   'leaguePoints': 30,\n",
       "   'rank': 'I',\n",
       "   'wins': 417,\n",
       "   'losses': 412,\n",
       "   'veteran': False,\n",
       "   'inactive': False,\n",
       "   'freshBlood': True,\n",
       "   'hotStreak': False},\n",
       "  {'summonerId': 'blXL8heA0-eGJV99R8C7vF1xE7jjP6YS1hqGWcZHAk3G9eo',\n",
       "   'summonerName': 'LittleChimp',\n",
       "   'leaguePoints': 23,\n",
       "   'rank': 'I',\n",
       "   'wins': 193,\n",
       "   'losses': 183,\n",
       "   'veteran': False,\n",
       "   'inactive': False,\n",
       "   'freshBlood': True,\n",
       "   'hotStreak': False},\n",
       "  {'summonerId': '6fvZrA_nv99NClYqBYPxBchuOtXXUZNSCxYDL04TO5t1u58',\n",
       "   'summonerName': 'Loyal',\n",
       "   'leaguePoints': 32,\n",
       "   'rank': 'I',\n",
       "   'wins': 230,\n",
       "   'losses': 226,\n",
       "   'veteran': False,\n",
       "   'inactive': False,\n",
       "   'freshBlood': False,\n",
       "   'hotStreak': False},\n",
       "  {'summonerId': 'q1TnddSuVV1UZh6vHVhwPUuSM4BFpFfBGC1RzCKIycPX98E',\n",
       "   'summonerName': 'Twocutz',\n",
       "   'leaguePoints': 28,\n",
       "   'rank': 'I',\n",
       "   'wins': 211,\n",
       "   'losses': 183,\n",
       "   'veteran': False,\n",
       "   'inactive': False,\n",
       "   'freshBlood': True,\n",
       "   'hotStreak': False},\n",
       "  {'summonerId': 'uuzhKMe68_15QkXDUq5DQG0A2V2ppA3iK-VwG1XiBVGcdnQ',\n",
       "   'summonerName': 'eBrixton 2',\n",
       "   'leaguePoints': 0,\n",
       "   'rank': 'I',\n",
       "   'wins': 199,\n",
       "   'losses': 166,\n",
       "   'veteran': False,\n",
       "   'inactive': False,\n",
       "   'freshBlood': True,\n",
       "   'hotStreak': True},\n",
       "  {'summonerId': 'drIZcmJet7P3LtkBu9W-PVGS5OwYLuoqDb1ORlL5vEoh84g',\n",
       "   'summonerName': 'Rìchie',\n",
       "   'leaguePoints': 2,\n",
       "   'rank': 'I',\n",
       "   'wins': 135,\n",
       "   'losses': 113,\n",
       "   'veteran': False,\n",
       "   'inactive': False,\n",
       "   'freshBlood': True,\n",
       "   'hotStreak': False},\n",
       "  {'summonerId': 'DNOXxmktJ5gzSeCkjqmIgcSWPq5lLbDLz2rK5efw9XmfdVE',\n",
       "   'summonerName': 'bnag bop blast',\n",
       "   'leaguePoints': 33,\n",
       "   'rank': 'I',\n",
       "   'wins': 237,\n",
       "   'losses': 219,\n",
       "   'veteran': False,\n",
       "   'inactive': False,\n",
       "   'freshBlood': False,\n",
       "   'hotStreak': False},\n",
       "  {'summonerId': 'i-bIMgBJUMEniNJadO53Q79TLrTuWF5Z9461BKdod9lne-s',\n",
       "   'summonerName': 'LFFN',\n",
       "   'leaguePoints': 0,\n",
       "   'rank': 'I',\n",
       "   'wins': 397,\n",
       "   'losses': 387,\n",
       "   'veteran': False,\n",
       "   'inactive': False,\n",
       "   'freshBlood': False,\n",
       "   'hotStreak': False},\n",
       "  {'summonerId': 'FHqszVznJJSSLpWfi_kklBHtrDgpjESuatv80ZLmB8tPdTYf',\n",
       "   'summonerName': 'iQQ1035716423',\n",
       "   'leaguePoints': 18,\n",
       "   'rank': 'I',\n",
       "   'wins': 330,\n",
       "   'losses': 307,\n",
       "   'veteran': False,\n",
       "   'inactive': False,\n",
       "   'freshBlood': True,\n",
       "   'hotStreak': False},\n",
       "  {'summonerId': 'h6R64BWyz4mLx961JHe-IUvoZVLzEKrdI7GdoUq2Uwq2oeU',\n",
       "   'summonerName': 'JasønWoo',\n",
       "   'leaguePoints': 0,\n",
       "   'rank': 'I',\n",
       "   'wins': 115,\n",
       "   'losses': 99,\n",
       "   'veteran': False,\n",
       "   'inactive': False,\n",
       "   'freshBlood': True,\n",
       "   'hotStreak': False},\n",
       "  {'summonerId': 'U6BEZ2EsrcyFObIHqrjJ-_XBFew2YucPcZWu6JTJEAvqxr0',\n",
       "   'summonerName': 'C405',\n",
       "   'leaguePoints': 30,\n",
       "   'rank': 'I',\n",
       "   'wins': 253,\n",
       "   'losses': 233,\n",
       "   'veteran': False,\n",
       "   'inactive': False,\n",
       "   'freshBlood': True,\n",
       "   'hotStreak': False},\n",
       "  {'summonerId': '0nV-mMIa0-bZsIebWxn-aJc-oQeTqK8pvcLEYT5YqBR03yg',\n",
       "   'summonerName': 'Weed Panda',\n",
       "   'leaguePoints': 0,\n",
       "   'rank': 'I',\n",
       "   'wins': 372,\n",
       "   'losses': 344,\n",
       "   'veteran': False,\n",
       "   'inactive': False,\n",
       "   'freshBlood': True,\n",
       "   'hotStreak': False},\n",
       "  {'summonerId': 'yXvTYfgVRr0SSli67UX9TLIq1S9Q0zrmVZVKPs_ZVAuiiv4',\n",
       "   'summonerName': 'minui',\n",
       "   'leaguePoints': 20,\n",
       "   'rank': 'I',\n",
       "   'wins': 825,\n",
       "   'losses': 817,\n",
       "   'veteran': False,\n",
       "   'inactive': False,\n",
       "   'freshBlood': True,\n",
       "   'hotStreak': False},\n",
       "  {'summonerId': 'InHuo7O5TmvQRj3l2lymroG75FEmB4lcx9WRw2e8mQv7wkk',\n",
       "   'summonerName': 'Srkenji',\n",
       "   'leaguePoints': 33,\n",
       "   'rank': 'I',\n",
       "   'wins': 628,\n",
       "   'losses': 631,\n",
       "   'veteran': False,\n",
       "   'inactive': False,\n",
       "   'freshBlood': True,\n",
       "   'hotStreak': False},\n",
       "  {'summonerId': 'dKkepjCFfs9aQEZ33hMWndq8OQrC4WG7wU6z_TN0ljFRtIw',\n",
       "   'summonerName': 'Tears of Winter',\n",
       "   'leaguePoints': 0,\n",
       "   'rank': 'I',\n",
       "   'wins': 42,\n",
       "   'losses': 29,\n",
       "   'veteran': False,\n",
       "   'inactive': False,\n",
       "   'freshBlood': True,\n",
       "   'hotStreak': True},\n",
       "  {'summonerId': 'oBKx64RZINfQGVTaBbotuoA7tVuo8PoxVyRuH8A6LgLRCZw1',\n",
       "   'summonerName': 'BlueMangoBall',\n",
       "   'leaguePoints': 0,\n",
       "   'rank': 'I',\n",
       "   'wins': 261,\n",
       "   'losses': 205,\n",
       "   'veteran': False,\n",
       "   'inactive': False,\n",
       "   'freshBlood': True,\n",
       "   'hotStreak': False},\n",
       "  {'summonerId': 'nLzE5wzB-eo7Mr3Yok4xmzZv-zdTJSqsQGZXI0-6mFUz4-s',\n",
       "   'summonerName': 'atkins2',\n",
       "   'leaguePoints': 0,\n",
       "   'rank': 'I',\n",
       "   'wins': 94,\n",
       "   'losses': 84,\n",
       "   'veteran': False,\n",
       "   'inactive': False,\n",
       "   'freshBlood': True,\n",
       "   'hotStreak': False},\n",
       "  {'summonerId': 'mcaroZVq-NkyzitgiKOQr-fI3RsqrILT-6Ayw-Ko5-CgHAkE',\n",
       "   'summonerName': 'Infectrix',\n",
       "   'leaguePoints': 0,\n",
       "   'rank': 'I',\n",
       "   'wins': 145,\n",
       "   'losses': 125,\n",
       "   'veteran': False,\n",
       "   'inactive': False,\n",
       "   'freshBlood': True,\n",
       "   'hotStreak': False},\n",
       "  {'summonerId': 'lPrdF_RLfRs9H7p_CH68yuCXFhtL-AqrAGdAzJjl8qfDYS1C',\n",
       "   'summonerName': 'peanutbutter23',\n",
       "   'leaguePoints': 0,\n",
       "   'rank': 'I',\n",
       "   'wins': 188,\n",
       "   'losses': 123,\n",
       "   'veteran': False,\n",
       "   'inactive': False,\n",
       "   'freshBlood': True,\n",
       "   'hotStreak': False},\n",
       "  {'summonerId': 'xhKtZ3oh5KxiBl3EHtspPyUfcsZJQTsZ19y8nkBpcYHiq4I',\n",
       "   'summonerName': 'RoboCroc',\n",
       "   'leaguePoints': 0,\n",
       "   'rank': 'I',\n",
       "   'wins': 532,\n",
       "   'losses': 496,\n",
       "   'veteran': False,\n",
       "   'inactive': False,\n",
       "   'freshBlood': True,\n",
       "   'hotStreak': True},\n",
       "  {'summonerId': 'JZxda_Z0469ETWy2emKeTV7tOy7jEs9J0o5-iqIIF6Jrpi4',\n",
       "   'summonerName': 'I Mr K I ',\n",
       "   'leaguePoints': 15,\n",
       "   'rank': 'I',\n",
       "   'wins': 139,\n",
       "   'losses': 123,\n",
       "   'veteran': False,\n",
       "   'inactive': False,\n",
       "   'freshBlood': True,\n",
       "   'hotStreak': False},\n",
       "  {'summonerId': 'vKTIb-9eaTNSAaCQ9oocsS-OWmoCujzbmuXFBVCkL8xIeaU',\n",
       "   'summonerName': 'SagittariusSis',\n",
       "   'leaguePoints': 0,\n",
       "   'rank': 'I',\n",
       "   'wins': 138,\n",
       "   'losses': 104,\n",
       "   'veteran': False,\n",
       "   'inactive': False,\n",
       "   'freshBlood': True,\n",
       "   'hotStreak': False},\n",
       "  {'summonerId': 'Nwsfv5zjDgfdLUkRt-RiJIwlb6KcT54hDEWZQf_PFzCZ4zQ',\n",
       "   'summonerName': 'iAmounti',\n",
       "   'leaguePoints': 0,\n",
       "   'rank': 'I',\n",
       "   'wins': 543,\n",
       "   'losses': 450,\n",
       "   'veteran': False,\n",
       "   'inactive': False,\n",
       "   'freshBlood': False,\n",
       "   'hotStreak': False},\n",
       "  {'summonerId': 'QvuJzjnVcx_6M70twFApPi_vfLok1HRNMZwUA43BSg53f8Q',\n",
       "   'summonerName': 'The Holy Slurp',\n",
       "   'leaguePoints': 0,\n",
       "   'rank': 'I',\n",
       "   'wins': 100,\n",
       "   'losses': 96,\n",
       "   'veteran': False,\n",
       "   'inactive': False,\n",
       "   'freshBlood': True,\n",
       "   'hotStreak': False},\n",
       "  {'summonerId': '68i2dTiJcJrWb5L2eTFk__hjgudU_LlsDkxpw3mvpt4s',\n",
       "   'summonerName': 'xFSN Saber',\n",
       "   'leaguePoints': 0,\n",
       "   'rank': 'I',\n",
       "   'wins': 256,\n",
       "   'losses': 248,\n",
       "   'veteran': False,\n",
       "   'inactive': False,\n",
       "   'freshBlood': True,\n",
       "   'hotStreak': False},\n",
       "  {'summonerId': '275Uv1Wfn93Al-fLO465oG3lY7NcNJ2HpNoPChuI1HAl1cs',\n",
       "   'summonerName': 'Booky Boos',\n",
       "   'leaguePoints': 0,\n",
       "   'rank': 'I',\n",
       "   'wins': 555,\n",
       "   'losses': 547,\n",
       "   'veteran': False,\n",
       "   'inactive': False,\n",
       "   'freshBlood': True,\n",
       "   'hotStreak': False},\n",
       "  {'summonerId': 'nQBXKbAScuIK9P6aeUO6mp9worpM0O9RNv6sTvh1dXSTLWw',\n",
       "   'summonerName': 'Susan the Cane',\n",
       "   'leaguePoints': 0,\n",
       "   'rank': 'I',\n",
       "   'wins': 120,\n",
       "   'losses': 77,\n",
       "   'veteran': False,\n",
       "   'inactive': False,\n",
       "   'freshBlood': True,\n",
       "   'hotStreak': True},\n",
       "  {'summonerId': 'h_WruGr1iLJ-wwOvRssLRpYTOcRwD-d1Ywbvqyo8gMHYUSc',\n",
       "   'summonerName': 'rem',\n",
       "   'leaguePoints': 39,\n",
       "   'rank': 'I',\n",
       "   'wins': 148,\n",
       "   'losses': 124,\n",
       "   'veteran': False,\n",
       "   'inactive': False,\n",
       "   'freshBlood': True,\n",
       "   'hotStreak': False},\n",
       "  {'summonerId': '5WZuJUg3FJ6nD3nHljygZVUlnGibdFOvQlSGlFCvh3Q_lZ8',\n",
       "   'summonerName': 'LDCs',\n",
       "   'leaguePoints': 0,\n",
       "   'rank': 'I',\n",
       "   'wins': 96,\n",
       "   'losses': 88,\n",
       "   'veteran': False,\n",
       "   'inactive': False,\n",
       "   'freshBlood': True,\n",
       "   'hotStreak': False},\n",
       "  {'summonerId': 'TzLw-rxM-VV7ZRXJIpEgzUYXdIKuCjuGi7xBREDBVaHdxcU',\n",
       "   'summonerName': 'snakbox',\n",
       "   'leaguePoints': 17,\n",
       "   'rank': 'I',\n",
       "   'wins': 417,\n",
       "   'losses': 409,\n",
       "   'veteran': False,\n",
       "   'inactive': False,\n",
       "   'freshBlood': True,\n",
       "   'hotStreak': False},\n",
       "  {'summonerId': 'PN3PqbzLqVx94c7UuugeVKXGX-JrMLxF1LjHufHP3sZ0r5Y',\n",
       "   'summonerName': 'Panthalon',\n",
       "   'leaguePoints': 0,\n",
       "   'rank': 'I',\n",
       "   'wins': 215,\n",
       "   'losses': 117,\n",
       "   'veteran': False,\n",
       "   'inactive': False,\n",
       "   'freshBlood': True,\n",
       "   'hotStreak': True},\n",
       "  {'summonerId': 'RMdDKb0V_9BEtTAo9KFSb9AY-cc9Bs-Q5a1IdvJyBDnoVi4',\n",
       "   'summonerName': 'TSM Sarcasm',\n",
       "   'leaguePoints': 0,\n",
       "   'rank': 'I',\n",
       "   'wins': 174,\n",
       "   'losses': 138,\n",
       "   'veteran': False,\n",
       "   'inactive': False,\n",
       "   'freshBlood': True,\n",
       "   'hotStreak': False},\n",
       "  {'summonerId': 'srMNs8EJAXW6ysZgSGrXPHWzcWvoBHwO7DE4ISSxAu13',\n",
       "   'summonerName': 'dawolfsclaw',\n",
       "   'leaguePoints': 18,\n",
       "   'rank': 'I',\n",
       "   'wins': 235,\n",
       "   'losses': 225,\n",
       "   'veteran': False,\n",
       "   'inactive': False,\n",
       "   'freshBlood': True,\n",
       "   'hotStreak': False},\n",
       "  {'summonerId': 'R2DiZ9O6QBo5RkXdwrKj74vqYBuDgNTlsKdLgm8LjbTvlnD2',\n",
       "   'summonerName': 'Sumrfing LanLan',\n",
       "   'leaguePoints': 31,\n",
       "   'rank': 'I',\n",
       "   'wins': 230,\n",
       "   'losses': 185,\n",
       "   'veteran': False,\n",
       "   'inactive': False,\n",
       "   'freshBlood': True,\n",
       "   'hotStreak': False},\n",
       "  {'summonerId': 'ySTPxe6qK7MfudSR1wbknwAghcKqwxzzDAq9SAIGTJ2ohlM',\n",
       "   'summonerName': 'reniart',\n",
       "   'leaguePoints': 0,\n",
       "   'rank': 'I',\n",
       "   'wins': 130,\n",
       "   'losses': 107,\n",
       "   'veteran': False,\n",
       "   'inactive': False,\n",
       "   'freshBlood': False,\n",
       "   'hotStreak': False},\n",
       "  {'summonerId': 'evLnUyMefUfBVqkA5ner5RFiMJjLOvlj165kTHZIt2S4bQY',\n",
       "   'summonerName': 'TwTv Teamluketv',\n",
       "   'leaguePoints': 0,\n",
       "   'rank': 'I',\n",
       "   'wins': 62,\n",
       "   'losses': 48,\n",
       "   'veteran': False,\n",
       "   'inactive': False,\n",
       "   'freshBlood': True,\n",
       "   'hotStreak': False},\n",
       "  {'summonerId': 'ASehsPT2pR8inmc_hCCkWXIlC4-eHOA0X3YDpT2xrad70kw',\n",
       "   'summonerName': 'Riverell',\n",
       "   'leaguePoints': 21,\n",
       "   'rank': 'I',\n",
       "   'wins': 165,\n",
       "   'losses': 152,\n",
       "   'veteran': False,\n",
       "   'inactive': False,\n",
       "   'freshBlood': True,\n",
       "   'hotStreak': False},\n",
       "  {'summonerId': '9xfEMwTyVxkMUv-7ePs02x2uOwP7zyM10JZyDUqY7-fA704',\n",
       "   'summonerName': 'Artis',\n",
       "   'leaguePoints': 15,\n",
       "   'rank': 'I',\n",
       "   'wins': 646,\n",
       "   'losses': 631,\n",
       "   'veteran': False,\n",
       "   'inactive': False,\n",
       "   'freshBlood': True,\n",
       "   'hotStreak': True},\n",
       "  {'summonerId': '4NSssezLT5qrLH-tJW7INjzj_ELHZrlz4BOPTCUa3adJXbIh',\n",
       "   'summonerName': 'Lv Jiang Dan Pai',\n",
       "   'leaguePoints': 1,\n",
       "   'rank': 'I',\n",
       "   'wins': 100,\n",
       "   'losses': 36,\n",
       "   'veteran': False,\n",
       "   'inactive': False,\n",
       "   'freshBlood': False,\n",
       "   'hotStreak': False},\n",
       "  {'summonerId': 'l5TtTBfPWIIMNhpvx70EWhNq4gXOdKkSntI9y0sYV9jR_mId',\n",
       "   'summonerName': 'the sad goblin',\n",
       "   'leaguePoints': 0,\n",
       "   'rank': 'I',\n",
       "   'wins': 112,\n",
       "   'losses': 42,\n",
       "   'veteran': False,\n",
       "   'inactive': False,\n",
       "   'freshBlood': False,\n",
       "   'hotStreak': False},\n",
       "  {'summonerId': 'xX-MsTM-Btp26_JSMnbczmVKMxr0ihCgdvjhFgQ7IuoMV0gC',\n",
       "   'summonerName': 'snartxx',\n",
       "   'leaguePoints': 13,\n",
       "   'rank': 'I',\n",
       "   'wins': 263,\n",
       "   'losses': 218,\n",
       "   'veteran': False,\n",
       "   'inactive': False,\n",
       "   'freshBlood': True,\n",
       "   'hotStreak': False},\n",
       "  {'summonerId': 'JYq0rx8NS_I90pu35LARAH2IxnyH5LZT5VIkZqfAk8F_F20',\n",
       "   'summonerName': 'Iamiuru2',\n",
       "   'leaguePoints': 34,\n",
       "   'rank': 'I',\n",
       "   'wins': 299,\n",
       "   'losses': 283,\n",
       "   'veteran': False,\n",
       "   'inactive': False,\n",
       "   'freshBlood': True,\n",
       "   'hotStreak': False},\n",
       "  {'summonerId': 'GxTfZl3HHsqLfjaALIiH3sLOMJFwgSBKKmfX7q4ZrMsg9mM',\n",
       "   'summonerName': 'DRX Deft7',\n",
       "   'leaguePoints': 33,\n",
       "   'rank': 'I',\n",
       "   'wins': 173,\n",
       "   'losses': 133,\n",
       "   'veteran': False,\n",
       "   'inactive': False,\n",
       "   'freshBlood': True,\n",
       "   'hotStreak': False},\n",
       "  {'summonerId': 'wv2r-Efd51Gm6GFRi3tSJmbuck2l9WPV41c1UfwI9IZ4uNM',\n",
       "   'summonerName': 'Chûck',\n",
       "   'leaguePoints': 32,\n",
       "   'rank': 'I',\n",
       "   'wins': 276,\n",
       "   'losses': 251,\n",
       "   'veteran': False,\n",
       "   'inactive': False,\n",
       "   'freshBlood': True,\n",
       "   'hotStreak': True},\n",
       "  {'summonerId': 'QtAM6ryCU8VnluA-vlsSWDUe4J_BHbWPzmfQxQui6TBA03U',\n",
       "   'summonerName': 'PR3TZEL',\n",
       "   'leaguePoints': 12,\n",
       "   'rank': 'I',\n",
       "   'wins': 267,\n",
       "   'losses': 224,\n",
       "   'veteran': False,\n",
       "   'inactive': False,\n",
       "   'freshBlood': True,\n",
       "   'hotStreak': False},\n",
       "  {'summonerId': 'JN1s02Uq7-kOsy9LiBOcXWpdhPzq64aezLm18DSom3Ng5Y4',\n",
       "   'summonerName': 'Kzykendy',\n",
       "   'leaguePoints': 0,\n",
       "   'rank': 'I',\n",
       "   'wins': 688,\n",
       "   'losses': 679,\n",
       "   'veteran': False,\n",
       "   'inactive': False,\n",
       "   'freshBlood': True,\n",
       "   'hotStreak': True},\n",
       "  {'summonerId': 'FtZumY4j3bcPxzCmWT8M6agexvIiz9gpdrDh73buf_gCrv4',\n",
       "   'summonerName': 'Barrier',\n",
       "   'leaguePoints': 0,\n",
       "   'rank': 'I',\n",
       "   'wins': 148,\n",
       "   'losses': 121,\n",
       "   'veteran': False,\n",
       "   'inactive': False,\n",
       "   'freshBlood': False,\n",
       "   'hotStreak': False},\n",
       "  {'summonerId': 'A5tJ-bvzdhP4K4Km7dHSZwTBBV5iTGnge4yDTQX8eRdrABY',\n",
       "   'summonerName': 'Taiden11',\n",
       "   'leaguePoints': 0,\n",
       "   'rank': 'I',\n",
       "   'wins': 58,\n",
       "   'losses': 36,\n",
       "   'veteran': False,\n",
       "   'inactive': False,\n",
       "   'freshBlood': True,\n",
       "   'hotStreak': False},\n",
       "  {'summonerId': 'eKwwCU6hqGIvhJ2B0HCIGJknHXh8SVCt24ud5J9AclDPfvA',\n",
       "   'summonerName': 'acryllix',\n",
       "   'leaguePoints': 23,\n",
       "   'rank': 'I',\n",
       "   'wins': 201,\n",
       "   'losses': 168,\n",
       "   'veteran': False,\n",
       "   'inactive': False,\n",
       "   'freshBlood': True,\n",
       "   'hotStreak': False},\n",
       "  {'summonerId': '3mesOBIjuKaDwkCHOZ3aFB0KCN5saPD1C4kywvkZGpZZ3m5a',\n",
       "   'summonerName': 'Zoou',\n",
       "   'leaguePoints': 0,\n",
       "   'rank': 'I',\n",
       "   'wins': 466,\n",
       "   'losses': 373,\n",
       "   'veteran': False,\n",
       "   'inactive': False,\n",
       "   'freshBlood': True,\n",
       "   'hotStreak': True},\n",
       "  {'summonerId': 'twL9u60jAm70aonjOMelHhcu_jniA1Ea3KOf6pcNUNrKS_jX',\n",
       "   'summonerName': 'sjetrstjkwet',\n",
       "   'leaguePoints': 27,\n",
       "   'rank': 'I',\n",
       "   'wins': 153,\n",
       "   'losses': 86,\n",
       "   'veteran': False,\n",
       "   'inactive': False,\n",
       "   'freshBlood': True,\n",
       "   'hotStreak': False},\n",
       "  {'summonerId': '74DRi9J_sW_XNufP4hf8R0oaHeyKPQlQ79Fos-yS5y2lGN4',\n",
       "   'summonerName': 'BestRengarAfrica',\n",
       "   'leaguePoints': 10,\n",
       "   'rank': 'I',\n",
       "   'wins': 191,\n",
       "   'losses': 177,\n",
       "   'veteran': False,\n",
       "   'inactive': False,\n",
       "   'freshBlood': True,\n",
       "   'hotStreak': False},\n",
       "  {'summonerId': 'EnGsf9yektUNh5_PSJZBgp33wXpslSMPYxqukxt8po1TYWk',\n",
       "   'summonerName': 'ﬁddlestick',\n",
       "   'leaguePoints': 0,\n",
       "   'rank': 'I',\n",
       "   'wins': 115,\n",
       "   'losses': 96,\n",
       "   'veteran': False,\n",
       "   'inactive': False,\n",
       "   'freshBlood': False,\n",
       "   'hotStreak': True},\n",
       "  {'summonerId': 'jUXYBsVnb2pzPbs6Q_Crh42CPG-VXLOndTb5gHO011J2-YQ',\n",
       "   'summonerName': 'Nightblue3',\n",
       "   'leaguePoints': 18,\n",
       "   'rank': 'I',\n",
       "   'wins': 1001,\n",
       "   'losses': 1003,\n",
       "   'veteran': False,\n",
       "   'inactive': False,\n",
       "   'freshBlood': True,\n",
       "   'hotStreak': False},\n",
       "  {'summonerId': 'LH9-VT5b6S2jayczDRsGaX_SSls_gpsdhOu3xH6Viz1pd6E',\n",
       "   'summonerName': 'VX ffjjnpnp',\n",
       "   'leaguePoints': 0,\n",
       "   'rank': 'I',\n",
       "   'wins': 223,\n",
       "   'losses': 135,\n",
       "   'veteran': False,\n",
       "   'inactive': False,\n",
       "   'freshBlood': True,\n",
       "   'hotStreak': False},\n",
       "  {'summonerId': 'botR0i68D5wAL8scwD3RXMT8YeC74ItdSyYIbwrXe-rdmmU',\n",
       "   'summonerName': 'duoclown1',\n",
       "   'leaguePoints': 0,\n",
       "   'rank': 'I',\n",
       "   'wins': 93,\n",
       "   'losses': 62,\n",
       "   'veteran': False,\n",
       "   'inactive': False,\n",
       "   'freshBlood': True,\n",
       "   'hotStreak': True},\n",
       "  {'summonerId': 'GKjB94_Xnv-Cpi3Oo7QYrvJRo8Ee0xZD4C7vucRNlE_cZbwf',\n",
       "   'summonerName': 'YOUNGBOY99',\n",
       "   'leaguePoints': 37,\n",
       "   'rank': 'I',\n",
       "   'wins': 109,\n",
       "   'losses': 57,\n",
       "   'veteran': False,\n",
       "   'inactive': False,\n",
       "   'freshBlood': True,\n",
       "   'hotStreak': False},\n",
       "  {'summonerId': 'KmseTnDRkrhwVu_heYBOsxAzWgXvFxp9Kg6VZOMLJD1rtLw',\n",
       "   'summonerName': 'DanasaurLoL',\n",
       "   'leaguePoints': 0,\n",
       "   'rank': 'I',\n",
       "   'wins': 535,\n",
       "   'losses': 530,\n",
       "   'veteran': False,\n",
       "   'inactive': False,\n",
       "   'freshBlood': True,\n",
       "   'hotStreak': True},\n",
       "  {'summonerId': '6OqY5MtihVp0TnlaQF6KxuWuLgsw2NA4QlwawceiGI26ATMa',\n",
       "   'summonerName': 'Chomtax',\n",
       "   'leaguePoints': 20,\n",
       "   'rank': 'I',\n",
       "   'wins': 144,\n",
       "   'losses': 75,\n",
       "   'veteran': False,\n",
       "   'inactive': False,\n",
       "   'freshBlood': True,\n",
       "   'hotStreak': False},\n",
       "  {'summonerId': 'W6a6_yR2Um1B61RAsVNdkUK22X5WJzyylxCZMOd3alUyShQ',\n",
       "   'summonerName': 'smart play',\n",
       "   'leaguePoints': 5,\n",
       "   'rank': 'I',\n",
       "   'wins': 133,\n",
       "   'losses': 135,\n",
       "   'veteran': False,\n",
       "   'inactive': False,\n",
       "   'freshBlood': True,\n",
       "   'hotStreak': False},\n",
       "  {'summonerId': 'zRgqff-e89RRVYHA4qL_dC4AB0E3fsiLH_H6njRtcKukJ4U',\n",
       "   'summonerName': 'IGetTheSauce',\n",
       "   'leaguePoints': 0,\n",
       "   'rank': 'I',\n",
       "   'wins': 423,\n",
       "   'losses': 422,\n",
       "   'veteran': False,\n",
       "   'inactive': False,\n",
       "   'freshBlood': True,\n",
       "   'hotStreak': False},\n",
       "  {'summonerId': 'rJIN9aOC89jL37Lcu2x2znM_70OMhrX-dBluXyCx-aL0J6o',\n",
       "   'summonerName': 'ZED888',\n",
       "   'leaguePoints': 0,\n",
       "   'rank': 'I',\n",
       "   'wins': 189,\n",
       "   'losses': 179,\n",
       "   'veteran': False,\n",
       "   'inactive': False,\n",
       "   'freshBlood': False,\n",
       "   'hotStreak': False},\n",
       "  {'summonerId': 'f871X7ryJghcHofYOK-T5alwa_gVKCgFUszKU2LhE8YuPxY',\n",
       "   'summonerName': 'Sohnar',\n",
       "   'leaguePoints': 0,\n",
       "   'rank': 'I',\n",
       "   'wins': 140,\n",
       "   'losses': 129,\n",
       "   'veteran': False,\n",
       "   'inactive': False,\n",
       "   'freshBlood': True,\n",
       "   'hotStreak': False},\n",
       "  {'summonerId': 'iaPkG5gCfjSCg7x1dg6cLqLj3gshYA9EQ0UtpCIIy0zyBjo',\n",
       "   'summonerName': 'StefStef Supreme',\n",
       "   'leaguePoints': 0,\n",
       "   'rank': 'I',\n",
       "   'wins': 181,\n",
       "   'losses': 173,\n",
       "   'veteran': False,\n",
       "   'inactive': False,\n",
       "   'freshBlood': False,\n",
       "   'hotStreak': False},\n",
       "  {'summonerId': '9JJzM1eCFbltrb8hxhSM9kI9hpX7oKifzkDZ7LxAQkUc_AI',\n",
       "   'summonerName': 'monkaSHAKEE',\n",
       "   'leaguePoints': 0,\n",
       "   'rank': 'I',\n",
       "   'wins': 399,\n",
       "   'losses': 369,\n",
       "   'veteran': False,\n",
       "   'inactive': False,\n",
       "   'freshBlood': True,\n",
       "   'hotStreak': True},\n",
       "  {'summonerId': 'SSpIeLPITnNqu369GgXWTjj37c_OyzIUsDaafVQNMmkFWhk',\n",
       "   'summonerName': 'tofu thiccy',\n",
       "   'leaguePoints': 68,\n",
       "   'rank': 'I',\n",
       "   'wins': 297,\n",
       "   'losses': 281,\n",
       "   'veteran': False,\n",
       "   'inactive': False,\n",
       "   'freshBlood': False,\n",
       "   'hotStreak': True},\n",
       "  {'summonerId': 'V_g5Nve-KYcI9IrTpYnrBq6b2W7atJeC-JFgKSb9bFhZajQ',\n",
       "   'summonerName': 'Young Tactician',\n",
       "   'leaguePoints': 0,\n",
       "   'rank': 'I',\n",
       "   'wins': 339,\n",
       "   'losses': 316,\n",
       "   'veteran': False,\n",
       "   'inactive': False,\n",
       "   'freshBlood': True,\n",
       "   'hotStreak': False},\n",
       "  {'summonerId': 'dW72h8GeK7aG-5MECxGRGSILS9WapaxIvCEV8SFSNpFs2vM',\n",
       "   'summonerName': 'a winning player',\n",
       "   'leaguePoints': 2,\n",
       "   'rank': 'I',\n",
       "   'wins': 510,\n",
       "   'losses': 500,\n",
       "   'veteran': False,\n",
       "   'inactive': False,\n",
       "   'freshBlood': True,\n",
       "   'hotStreak': False},\n",
       "  {'summonerId': 'umO3LrqJhmJBDu2iXzJilC6kx1pkGDjMBwUj7s0LUN-dzqQ',\n",
       "   'summonerName': 'McMango',\n",
       "   'leaguePoints': 15,\n",
       "   'rank': 'I',\n",
       "   'wins': 150,\n",
       "   'losses': 125,\n",
       "   'veteran': False,\n",
       "   'inactive': False,\n",
       "   'freshBlood': False,\n",
       "   'hotStreak': False}]}"
      ]
     },
     "execution_count": 175,
     "metadata": {},
     "output_type": "execute_result"
    }
   ],
   "source": [
    "data"
   ]
  },
  {
   "cell_type": "code",
   "execution_count": 184,
   "metadata": {},
   "outputs": [
    {
     "name": "stdout",
     "output_type": "stream",
     "text": [
      "{'id': 'ZrkrmU_B22CJ8UPpZObUj0gI1NF_GlMDgjyri4JKsK2-EsQ', 'accountId': 'rQHdKfUYc9lrkkKjYs0iEQWr-tv8PMjI6uxgQBvs52UejQ', 'puuid': 'K1yJ3Hdf-sZoaXKTe-w4zcMzEwTxX9f5OGp-ZyypBCHrKlQUJK4KDXPQ6pnAB0-9FU_hFLt9ngWj-g', 'name': 'RedamancyA', 'profileIconId': 7, 'revisionDate': 1595966761000, 'summonerLevel': 214}\n",
      "rQHdKfUYc9lrkkKjYs0iEQWr-tv8PMjI6uxgQBvs52UejQ\n"
     ]
    }
   ],
   "source": [
    "# get encrypted account ID from summonerId\n",
    "summonerID = 'ZrkrmU_B22CJ8UPpZObUj0gI1NF_GlMDgjyri4JKsK2-EsQ'\n",
    "resp = requests.get(f'https://na1.api.riotgames.com/lol/summoner/v4/summoners/{summonerID}', headers=payload)\n",
    "data = json.loads(resp.content)\n",
    "print(data)\n",
    "accountId = data['accountId']\n",
    "print(accountId)"
   ]
  },
  {
   "cell_type": "code",
   "execution_count": 238,
   "metadata": {},
   "outputs": [],
   "source": [
    "\n"
   ]
  },
  {
   "cell_type": "code",
   "execution_count": 7,
   "metadata": {},
   "outputs": [
    {
     "name": "stdout",
     "output_type": "stream",
     "text": [
      "PLATINUM\n",
      "\t98509 of 140856\t140855 of 140856\n",
      "DIAMOND\n",
      "\t37419 of 37420\n",
      "MASTER\n",
      "\t284 of 285\n",
      "GRANDMASTER\n",
      "\t696 of 697\n",
      "CHALLENGER\n",
      "\t299 of 300\n"
     ]
    }
   ],
   "source": [
    "checkpoint = 1350\n",
    "# for upper ranks, get account id for summoners\n",
    "files = ['PLATINUM','DIAMOND','MASTER','GRANDMASTER','CHALLENGER']\n",
    "for file in files:\n",
    "    filename = f'./League of Legends/data/{file}.csv'\n",
    "    df = pd.read_csv(filename)    \n",
    "    totalItems = len(df)\n",
    "    print(file)\n",
    "    count = 0\n",
    "    for index, row in df.iterrows():        \n",
    "        print(f'\\r\\t{index} of {totalItems}',end=\"\")        \n",
    "        #display(row)\n",
    "        \n",
    "        summonerId = row['summonerId']        \n",
    "        if pd.isnull(row['accountId']):\n",
    "            count += 1\n",
    "            resp = requests.get(f'https://na1.api.riotgames.com/lol/summoner/v4/summoners/{summonerId}', headers=payload)            \n",
    "            time.sleep(1/rate)\n",
    "            if resp.ok:\n",
    "                data = json.loads(resp.content)            \n",
    "                df['accountId'][index] = data['accountId']\n",
    "            else:\n",
    "                display(resp)\n",
    "                raise Exception(\"bad response from server: \"+resp.status_code)\n",
    "        \n",
    "        if count>=checkpoint:\n",
    "            print(f'\\ncheckpoint')\n",
    "            df.to_csv(filename,index=False)\n",
    "            count = 0\n",
    "            print()\n",
    "        \n",
    "    df.to_csv(filename,index=False)\n",
    "    print()\n",
    "    \n",
    "        \n",
    "        \n",
    "    "
   ]
  },
  {
   "cell_type": "code",
   "execution_count": 73,
   "metadata": {
    "scrolled": true
   },
   "outputs": [
    {
     "name": "stdout",
     "output_type": "stream",
     "text": [
      "[0, 4, 6, 5, 2, 9, 8, 3, 1, 7]\n"
     ]
    }
   ],
   "source": [
    "#display(df[['summonerId','accountId']][0:1])\n",
    "accountId = df['accountId'][0]\n",
    "req = f'https://na1.api.riotgames.com/lol/match/v4/matchlists/by-account/{accountId}'\n",
    "#print(req)\n",
    "resp = requests.get(req, headers=payload)\n",
    "data = json.loads(resp.content)\n",
    "\n",
    "#display(data)\n",
    "#display([a['gameId'] for a in data['matches'] if a['queue']==420])\n",
    "r = list(range(10))\n",
    "random.shuffle(r)\n",
    "print(r)"
   ]
  },
  {
   "cell_type": "code",
   "execution_count": 172,
   "metadata": {},
   "outputs": [
    {
     "name": "stdout",
     "output_type": "stream",
     "text": [
      "PLATINUM\n",
      "494 of 1000"
     ]
    },
    {
     "data": {
      "text/plain": [
       "<Response [503]>"
      ]
     },
     "metadata": {},
     "output_type": "display_data"
    },
    {
     "name": "stdout",
     "output_type": "stream",
     "text": [
      "521 of 1000"
     ]
    },
    {
     "data": {
      "text/plain": [
       "<Response [504]>"
      ]
     },
     "metadata": {},
     "output_type": "display_data"
    },
    {
     "name": "stdout",
     "output_type": "stream",
     "text": [
      "947 of 1000"
     ]
    },
    {
     "data": {
      "text/plain": [
       "<Response [504]>"
      ]
     },
     "metadata": {},
     "output_type": "display_data"
    },
    {
     "name": "stdout",
     "output_type": "stream",
     "text": [
      "1000 of 1000\n",
      "DIAMOND\n",
      "19 of 1000"
     ]
    },
    {
     "data": {
      "text/plain": [
       "<Response [504]>"
      ]
     },
     "metadata": {},
     "output_type": "display_data"
    },
    {
     "name": "stdout",
     "output_type": "stream",
     "text": [
      "333 of 1000"
     ]
    },
    {
     "data": {
      "text/plain": [
       "<Response [504]>"
      ]
     },
     "metadata": {},
     "output_type": "display_data"
    },
    {
     "name": "stdout",
     "output_type": "stream",
     "text": [
      "708 of 1000"
     ]
    },
    {
     "data": {
      "text/plain": [
       "<Response [504]>"
      ]
     },
     "metadata": {},
     "output_type": "display_data"
    },
    {
     "name": "stdout",
     "output_type": "stream",
     "text": [
      "898 of 1000"
     ]
    },
    {
     "data": {
      "text/plain": [
       "<Response [503]>"
      ]
     },
     "metadata": {},
     "output_type": "display_data"
    },
    {
     "name": "stdout",
     "output_type": "stream",
     "text": [
      "1000 of 1000\n",
      "MASTER\n",
      "206 of 285"
     ]
    },
    {
     "data": {
      "text/plain": [
       "<Response [504]>"
      ]
     },
     "metadata": {},
     "output_type": "display_data"
    },
    {
     "name": "stdout",
     "output_type": "stream",
     "text": [
      "285 of 285\n",
      "GRANDMASTER\n",
      "697 of 697\n",
      "CHALLENGER\n",
      "64 of 300"
     ]
    },
    {
     "data": {
      "text/plain": [
       "<Response [504]>"
      ]
     },
     "metadata": {},
     "output_type": "display_data"
    },
    {
     "name": "stdout",
     "output_type": "stream",
     "text": [
      "149 of 300"
     ]
    },
    {
     "data": {
      "text/plain": [
       "<Response [504]>"
      ]
     },
     "metadata": {},
     "output_type": "display_data"
    },
    {
     "name": "stdout",
     "output_type": "stream",
     "text": [
      "277 of 300"
     ]
    },
    {
     "data": {
      "text/plain": [
       "<Response [504]>"
      ]
     },
     "metadata": {},
     "output_type": "display_data"
    },
    {
     "name": "stdout",
     "output_type": "stream",
     "text": [
      "300 of 300\n"
     ]
    }
   ],
   "source": [
    "# for upper ranks, get list of games for summoners (only a sample of plat/diamond)\n",
    "files = ['PLATINUM','DIAMOND','MASTER','GRANDMASTER','CHALLENGER'] #'PLATINUM',\n",
    "max_num_of_summoners = 1000\n",
    "for file in files:\n",
    "    filename = f'./League of Legends/data/{file}.csv'\n",
    "    df = pd.read_csv(filename)\n",
    "    totalItems = len(df)\n",
    "    print(file)\n",
    "    count = 0\n",
    "    games = list()\n",
    "    rows = list(range(len(df)))\n",
    "    if len(rows)>max_num_of_summoners:\n",
    "        random.shuffle(rows)\n",
    "        rows = rows[0:max_num_of_summoners]\n",
    "    index = 0\n",
    "    while index<len(rows):\n",
    "        row = rows[index]\n",
    "        print(f\"\\r{index+1} of {len(rows)}\", end=\"\")\n",
    "        accountId = df['accountId'][row:row+1].values[0]        \n",
    "        resp = requests.get(f'https://na1.api.riotgames.com/lol/match/v4/matchlists/by-account/{accountId}', headers=payload)\n",
    "        time.sleep(1/rate)\n",
    "        if resp.ok:\n",
    "            data = json.loads(resp.content)\n",
    "            gameIds = [a['gameId'] for a in data['matches'] if a['queue']==420]# or a['queue']==440]\n",
    "            for g in gameIds:\n",
    "                games.append(g)\n",
    "            index += 1\n",
    "        else:\n",
    "            display(resp)\n",
    "            if resp.status_code>=400 and resp.status_code < 420:\n",
    "                raise Exception(f\"bad response from server: {resp.status_code}\")\n",
    "            \n",
    "    print()\n",
    "    games = list(set(games))\n",
    "    out = pd.DataFrame(games)\n",
    "    out.columns = ['gameId']\n",
    "    out.to_csv(f'./League of Legends/data/{file}_games.csv', index=False)\n",
    "        "
   ]
  },
  {
   "cell_type": "code",
   "execution_count": 139,
   "metadata": {},
   "outputs": [
    {
     "data": {
      "text/plain": [
       "{'gameId': 3522963095,\n",
       " 'platformId': 'NA1',\n",
       " 'gameCreation': 1596680011573,\n",
       " 'gameDuration': 1062,\n",
       " 'queueId': 440,\n",
       " 'mapId': 11,\n",
       " 'seasonId': 13,\n",
       " 'gameVersion': '10.16.330.9186',\n",
       " 'gameMode': 'CLASSIC',\n",
       " 'gameType': 'MATCHED_GAME',\n",
       " 'participants': [{'participantId': 1,\n",
       "   'teamId': 100,\n",
       "   'championId': 101,\n",
       "   'spell1Id': 4,\n",
       "   'spell2Id': 12,\n",
       "   'stats': {'participantId': 1,\n",
       "    'win': False,\n",
       "    'item0': 1001,\n",
       "    'item1': 3285,\n",
       "    'item2': 2423,\n",
       "    'item3': 1056,\n",
       "    'item4': 0,\n",
       "    'item5': 0,\n",
       "    'item6': 3340,\n",
       "    'kills': 0,\n",
       "    'deaths': 3,\n",
       "    'assists': 3,\n",
       "    'largestKillingSpree': 0,\n",
       "    'largestMultiKill': 0,\n",
       "    'killingSprees': 0,\n",
       "    'longestTimeSpentLiving': 687,\n",
       "    'doubleKills': 0,\n",
       "    'tripleKills': 0,\n",
       "    'quadraKills': 0,\n",
       "    'pentaKills': 0,\n",
       "    'unrealKills': 0,\n",
       "    'totalDamageDealt': 43595,\n",
       "    'magicDamageDealt': 37839,\n",
       "    'physicalDamageDealt': 5756,\n",
       "    'trueDamageDealt': 0,\n",
       "    'largestCriticalStrike': 0,\n",
       "    'totalDamageDealtToChampions': 5413,\n",
       "    'magicDamageDealtToChampions': 5365,\n",
       "    'physicalDamageDealtToChampions': 48,\n",
       "    'trueDamageDealtToChampions': 0,\n",
       "    'totalHeal': 0,\n",
       "    'totalUnitsHealed': 0,\n",
       "    'damageSelfMitigated': 2164,\n",
       "    'damageDealtToObjectives': 0,\n",
       "    'damageDealtToTurrets': 0,\n",
       "    'visionScore': 5,\n",
       "    'timeCCingOthers': 18,\n",
       "    'totalDamageTaken': 7421,\n",
       "    'magicalDamageTaken': 2611,\n",
       "    'physicalDamageTaken': 3185,\n",
       "    'trueDamageTaken': 1625,\n",
       "    'goldEarned': 4689,\n",
       "    'goldSpent': 4000,\n",
       "    'turretKills': 0,\n",
       "    'inhibitorKills': 0,\n",
       "    'totalMinionsKilled': 96,\n",
       "    'neutralMinionsKilled': 0,\n",
       "    'neutralMinionsKilledTeamJungle': 0,\n",
       "    'neutralMinionsKilledEnemyJungle': 0,\n",
       "    'totalTimeCrowdControlDealt': 186,\n",
       "    'champLevel': 10,\n",
       "    'visionWardsBoughtInGame': 0,\n",
       "    'sightWardsBoughtInGame': 0,\n",
       "    'wardsPlaced': 4,\n",
       "    'wardsKilled': 0,\n",
       "    'firstBloodKill': False,\n",
       "    'firstBloodAssist': False,\n",
       "    'firstTowerKill': False,\n",
       "    'firstTowerAssist': False,\n",
       "    'firstInhibitorKill': False,\n",
       "    'firstInhibitorAssist': False,\n",
       "    'combatPlayerScore': 0,\n",
       "    'objectivePlayerScore': 0,\n",
       "    'totalPlayerScore': 0,\n",
       "    'totalScoreRank': 0,\n",
       "    'playerScore0': 0,\n",
       "    'playerScore1': 0,\n",
       "    'playerScore2': 0,\n",
       "    'playerScore3': 0,\n",
       "    'playerScore4': 0,\n",
       "    'playerScore5': 0,\n",
       "    'playerScore6': 0,\n",
       "    'playerScore7': 0,\n",
       "    'playerScore8': 0,\n",
       "    'playerScore9': 0,\n",
       "    'perk0': 8229,\n",
       "    'perk0Var1': 942,\n",
       "    'perk0Var2': 0,\n",
       "    'perk0Var3': 0,\n",
       "    'perk1': 8226,\n",
       "    'perk1Var1': 250,\n",
       "    'perk1Var2': 540,\n",
       "    'perk1Var3': 0,\n",
       "    'perk2': 8210,\n",
       "    'perk2Var1': 0,\n",
       "    'perk2Var2': 0,\n",
       "    'perk2Var3': 0,\n",
       "    'perk3': 8236,\n",
       "    'perk3Var1': 8,\n",
       "    'perk3Var2': 0,\n",
       "    'perk3Var3': 0,\n",
       "    'perk4': 8313,\n",
       "    'perk4Var1': 0,\n",
       "    'perk4Var2': 0,\n",
       "    'perk4Var3': 0,\n",
       "    'perk5': 8345,\n",
       "    'perk5Var1': 3,\n",
       "    'perk5Var2': 0,\n",
       "    'perk5Var3': 0,\n",
       "    'perkPrimaryStyle': 8200,\n",
       "    'perkSubStyle': 8300,\n",
       "    'statPerk0': 5008,\n",
       "    'statPerk1': 5008,\n",
       "    'statPerk2': 5002},\n",
       "   'timeline': {'participantId': 1,\n",
       "    'creepsPerMinDeltas': {'0-10': 6.4},\n",
       "    'xpPerMinDeltas': {'0-10': 431.09999999999997},\n",
       "    'goldPerMinDeltas': {'0-10': 242.8},\n",
       "    'csDiffPerMinDeltas': {'0-10': 0.3800000000000001},\n",
       "    'xpDiffPerMinDeltas': {'0-10': -42.44},\n",
       "    'damageTakenPerMinDeltas': {'0-10': 213.6},\n",
       "    'damageTakenDiffPerMinDeltas': {'0-10': 80.11999999999998},\n",
       "    'role': 'DUO_SUPPORT',\n",
       "    'lane': 'NONE'}},\n",
       "  {'participantId': 2,\n",
       "   'teamId': 100,\n",
       "   'championId': 876,\n",
       "   'spell1Id': 4,\n",
       "   'spell2Id': 3,\n",
       "   'stats': {'participantId': 2,\n",
       "    'win': False,\n",
       "    'item0': 2055,\n",
       "    'item1': 3859,\n",
       "    'item2': 1026,\n",
       "    'item3': 3136,\n",
       "    'item4': 0,\n",
       "    'item5': 3111,\n",
       "    'item6': 3364,\n",
       "    'kills': 2,\n",
       "    'deaths': 4,\n",
       "    'assists': 1,\n",
       "    'largestKillingSpree': 0,\n",
       "    'largestMultiKill': 1,\n",
       "    'killingSprees': 0,\n",
       "    'longestTimeSpentLiving': 301,\n",
       "    'doubleKills': 0,\n",
       "    'tripleKills': 0,\n",
       "    'quadraKills': 0,\n",
       "    'pentaKills': 0,\n",
       "    'unrealKills': 0,\n",
       "    'totalDamageDealt': 19933,\n",
       "    'magicDamageDealt': 9740,\n",
       "    'physicalDamageDealt': 5554,\n",
       "    'trueDamageDealt': 4638,\n",
       "    'largestCriticalStrike': 0,\n",
       "    'totalDamageDealtToChampions': 2690,\n",
       "    'magicDamageDealtToChampions': 1892,\n",
       "    'physicalDamageDealtToChampions': 509,\n",
       "    'trueDamageDealtToChampions': 288,\n",
       "    'totalHeal': 0,\n",
       "    'totalUnitsHealed': 0,\n",
       "    'damageSelfMitigated': 2444,\n",
       "    'damageDealtToObjectives': 497,\n",
       "    'damageDealtToTurrets': 0,\n",
       "    'visionScore': 14,\n",
       "    'timeCCingOthers': 12,\n",
       "    'totalDamageTaken': 6320,\n",
       "    'magicalDamageTaken': 1536,\n",
       "    'physicalDamageTaken': 4313,\n",
       "    'trueDamageTaken': 470,\n",
       "    'goldEarned': 4343,\n",
       "    'goldSpent': 4175,\n",
       "    'turretKills': 0,\n",
       "    'inhibitorKills': 0,\n",
       "    'totalMinionsKilled': 44,\n",
       "    'neutralMinionsKilled': 1,\n",
       "    'neutralMinionsKilledTeamJungle': 0,\n",
       "    'neutralMinionsKilledEnemyJungle': 0,\n",
       "    'totalTimeCrowdControlDealt': 93,\n",
       "    'champLevel': 9,\n",
       "    'visionWardsBoughtInGame': 3,\n",
       "    'sightWardsBoughtInGame': 0,\n",
       "    'wardsPlaced': 8,\n",
       "    'wardsKilled': 1,\n",
       "    'firstBloodKill': False,\n",
       "    'firstBloodAssist': False,\n",
       "    'firstTowerKill': False,\n",
       "    'firstTowerAssist': False,\n",
       "    'firstInhibitorKill': False,\n",
       "    'firstInhibitorAssist': False,\n",
       "    'combatPlayerScore': 0,\n",
       "    'objectivePlayerScore': 0,\n",
       "    'totalPlayerScore': 0,\n",
       "    'totalScoreRank': 0,\n",
       "    'playerScore0': 0,\n",
       "    'playerScore1': 0,\n",
       "    'playerScore2': 0,\n",
       "    'playerScore3': 0,\n",
       "    'playerScore4': 0,\n",
       "    'playerScore5': 0,\n",
       "    'playerScore6': 0,\n",
       "    'playerScore7': 0,\n",
       "    'playerScore8': 0,\n",
       "    'playerScore9': 0,\n",
       "    'perk0': 8230,\n",
       "    'perk0Var1': 6,\n",
       "    'perk0Var2': 0,\n",
       "    'perk0Var3': 0,\n",
       "    'perk1': 8226,\n",
       "    'perk1Var1': 250,\n",
       "    'perk1Var2': 111,\n",
       "    'perk1Var3': 0,\n",
       "    'perk2': 8210,\n",
       "    'perk2Var1': 0,\n",
       "    'perk2Var2': 0,\n",
       "    'perk2Var3': 0,\n",
       "    'perk3': 8232,\n",
       "    'perk3Var1': 0,\n",
       "    'perk3Var2': 10,\n",
       "    'perk3Var3': 0,\n",
       "    'perk4': 8345,\n",
       "    'perk4Var1': 3,\n",
       "    'perk4Var2': 0,\n",
       "    'perk4Var3': 0,\n",
       "    'perk5': 8347,\n",
       "    'perk5Var1': 0,\n",
       "    'perk5Var2': 0,\n",
       "    'perk5Var3': 0,\n",
       "    'perkPrimaryStyle': 8200,\n",
       "    'perkSubStyle': 8300,\n",
       "    'statPerk0': 5008,\n",
       "    'statPerk1': 5008,\n",
       "    'statPerk2': 5002},\n",
       "   'timeline': {'participantId': 2,\n",
       "    'creepsPerMinDeltas': {'0-10': 2.5},\n",
       "    'xpPerMinDeltas': {'0-10': 228.7},\n",
       "    'goldPerMinDeltas': {'0-10': 183.5},\n",
       "    'csDiffPerMinDeltas': {'0-10': 0.3800000000000001},\n",
       "    'xpDiffPerMinDeltas': {'0-10': -42.44},\n",
       "    'damageTakenPerMinDeltas': {'0-10': 352.70000000000005},\n",
       "    'damageTakenDiffPerMinDeltas': {'0-10': 80.11999999999998},\n",
       "    'role': 'DUO_SUPPORT',\n",
       "    'lane': 'NONE'}},\n",
       "  {'participantId': 3,\n",
       "   'teamId': 100,\n",
       "   'championId': 115,\n",
       "   'spell1Id': 12,\n",
       "   'spell2Id': 4,\n",
       "   'stats': {'participantId': 3,\n",
       "    'win': False,\n",
       "    'item0': 1056,\n",
       "    'item1': 1056,\n",
       "    'item2': 1056,\n",
       "    'item3': 1056,\n",
       "    'item4': 1056,\n",
       "    'item5': 1056,\n",
       "    'item6': 3340,\n",
       "    'kills': 0,\n",
       "    'deaths': 8,\n",
       "    'assists': 1,\n",
       "    'largestKillingSpree': 0,\n",
       "    'largestMultiKill': 0,\n",
       "    'killingSprees': 0,\n",
       "    'longestTimeSpentLiving': 149,\n",
       "    'doubleKills': 0,\n",
       "    'tripleKills': 0,\n",
       "    'quadraKills': 0,\n",
       "    'pentaKills': 0,\n",
       "    'unrealKills': 0,\n",
       "    'totalDamageDealt': 30826,\n",
       "    'magicDamageDealt': 23287,\n",
       "    'physicalDamageDealt': 4363,\n",
       "    'trueDamageDealt': 3175,\n",
       "    'largestCriticalStrike': 0,\n",
       "    'totalDamageDealtToChampions': 4597,\n",
       "    'magicDamageDealtToChampions': 4053,\n",
       "    'physicalDamageDealtToChampions': 543,\n",
       "    'trueDamageDealtToChampions': 0,\n",
       "    'totalHeal': 0,\n",
       "    'totalUnitsHealed': 0,\n",
       "    'damageSelfMitigated': 3079,\n",
       "    'damageDealtToObjectives': 174,\n",
       "    'damageDealtToTurrets': 0,\n",
       "    'visionScore': 12,\n",
       "    'timeCCingOthers': 7,\n",
       "    'totalDamageTaken': 9153,\n",
       "    'magicalDamageTaken': 2584,\n",
       "    'physicalDamageTaken': 6001,\n",
       "    'trueDamageTaken': 568,\n",
       "    'goldEarned': 3682,\n",
       "    'goldSpent': 2575,\n",
       "    'turretKills': 0,\n",
       "    'inhibitorKills': 0,\n",
       "    'totalMinionsKilled': 63,\n",
       "    'neutralMinionsKilled': 0,\n",
       "    'neutralMinionsKilledTeamJungle': 0,\n",
       "    'neutralMinionsKilledEnemyJungle': 0,\n",
       "    'totalTimeCrowdControlDealt': 88,\n",
       "    'champLevel': 7,\n",
       "    'visionWardsBoughtInGame': 1,\n",
       "    'sightWardsBoughtInGame': 0,\n",
       "    'wardsPlaced': 5,\n",
       "    'wardsKilled': 2,\n",
       "    'firstBloodKill': False,\n",
       "    'firstBloodAssist': False,\n",
       "    'firstTowerKill': False,\n",
       "    'firstTowerAssist': False,\n",
       "    'firstInhibitorKill': False,\n",
       "    'firstInhibitorAssist': False,\n",
       "    'combatPlayerScore': 0,\n",
       "    'objectivePlayerScore': 0,\n",
       "    'totalPlayerScore': 0,\n",
       "    'totalScoreRank': 0,\n",
       "    'playerScore0': 0,\n",
       "    'playerScore1': 0,\n",
       "    'playerScore2': 0,\n",
       "    'playerScore3': 0,\n",
       "    'playerScore4': 0,\n",
       "    'playerScore5': 0,\n",
       "    'playerScore6': 0,\n",
       "    'playerScore7': 0,\n",
       "    'playerScore8': 0,\n",
       "    'playerScore9': 0,\n",
       "    'perk0': 8229,\n",
       "    'perk0Var1': 410,\n",
       "    'perk0Var2': 0,\n",
       "    'perk0Var3': 0,\n",
       "    'perk1': 8226,\n",
       "    'perk1Var1': 250,\n",
       "    'perk1Var2': 115,\n",
       "    'perk1Var3': 0,\n",
       "    'perk2': 8233,\n",
       "    'perk2Var1': 11,\n",
       "    'perk2Var2': 10,\n",
       "    'perk2Var3': 0,\n",
       "    'perk3': 8237,\n",
       "    'perk3Var1': 213,\n",
       "    'perk3Var2': 0,\n",
       "    'perk3Var3': 0,\n",
       "    'perk4': 8009,\n",
       "    'perk4Var1': 0,\n",
       "    'perk4Var2': 100,\n",
       "    'perk4Var3': 0,\n",
       "    'perk5': 8014,\n",
       "    'perk5Var1': 50,\n",
       "    'perk5Var2': 0,\n",
       "    'perk5Var3': 0,\n",
       "    'perkPrimaryStyle': 8200,\n",
       "    'perkSubStyle': 8000,\n",
       "    'statPerk0': 5005,\n",
       "    'statPerk1': 5008,\n",
       "    'statPerk2': 5002},\n",
       "   'timeline': {'participantId': 3,\n",
       "    'creepsPerMinDeltas': {'0-10': 4.7},\n",
       "    'xpPerMinDeltas': {'0-10': 252.89999999999998},\n",
       "    'goldPerMinDeltas': {'0-10': 199.2},\n",
       "    'csDiffPerMinDeltas': {'0-10': 0.3800000000000001},\n",
       "    'xpDiffPerMinDeltas': {'0-10': -42.44},\n",
       "    'damageTakenPerMinDeltas': {'0-10': 506.4},\n",
       "    'damageTakenDiffPerMinDeltas': {'0-10': 80.11999999999998},\n",
       "    'role': 'DUO_SUPPORT',\n",
       "    'lane': 'NONE'}},\n",
       "  {'participantId': 4,\n",
       "   'teamId': 100,\n",
       "   'championId': 164,\n",
       "   'spell1Id': 12,\n",
       "   'spell2Id': 4,\n",
       "   'stats': {'participantId': 4,\n",
       "    'win': False,\n",
       "    'item0': 1036,\n",
       "    'item1': 3074,\n",
       "    'item2': 1028,\n",
       "    'item3': 1055,\n",
       "    'item4': 2422,\n",
       "    'item5': 0,\n",
       "    'item6': 3340,\n",
       "    'kills': 2,\n",
       "    'deaths': 6,\n",
       "    'assists': 1,\n",
       "    'largestKillingSpree': 0,\n",
       "    'largestMultiKill': 1,\n",
       "    'killingSprees': 0,\n",
       "    'longestTimeSpentLiving': 318,\n",
       "    'doubleKills': 0,\n",
       "    'tripleKills': 0,\n",
       "    'quadraKills': 0,\n",
       "    'pentaKills': 0,\n",
       "    'unrealKills': 0,\n",
       "    'totalDamageDealt': 32647,\n",
       "    'magicDamageDealt': 172,\n",
       "    'physicalDamageDealt': 29495,\n",
       "    'trueDamageDealt': 2979,\n",
       "    'largestCriticalStrike': 0,\n",
       "    'totalDamageDealtToChampions': 6146,\n",
       "    'magicDamageDealtToChampions': 172,\n",
       "    'physicalDamageDealtToChampions': 5234,\n",
       "    'trueDamageDealtToChampions': 739,\n",
       "    'totalHeal': 743,\n",
       "    'totalUnitsHealed': 1,\n",
       "    'damageSelfMitigated': 6968,\n",
       "    'damageDealtToObjectives': 4708,\n",
       "    'damageDealtToTurrets': 2267,\n",
       "    'visionScore': 17,\n",
       "    'timeCCingOthers': 11,\n",
       "    'totalDamageTaken': 11304,\n",
       "    'magicalDamageTaken': 4203,\n",
       "    'physicalDamageTaken': 5743,\n",
       "    'trueDamageTaken': 1357,\n",
       "    'goldEarned': 5303,\n",
       "    'goldSpent': 4975,\n",
       "    'turretKills': 0,\n",
       "    'inhibitorKills': 0,\n",
       "    'totalMinionsKilled': 70,\n",
       "    'neutralMinionsKilled': 4,\n",
       "    'neutralMinionsKilledTeamJungle': 0,\n",
       "    'neutralMinionsKilledEnemyJungle': 0,\n",
       "    'totalTimeCrowdControlDealt': 59,\n",
       "    'champLevel': 10,\n",
       "    'visionWardsBoughtInGame': 3,\n",
       "    'sightWardsBoughtInGame': 0,\n",
       "    'wardsPlaced': 8,\n",
       "    'wardsKilled': 0,\n",
       "    'firstBloodKill': False,\n",
       "    'firstBloodAssist': False,\n",
       "    'firstTowerKill': False,\n",
       "    'firstTowerAssist': False,\n",
       "    'firstInhibitorKill': False,\n",
       "    'firstInhibitorAssist': False,\n",
       "    'combatPlayerScore': 0,\n",
       "    'objectivePlayerScore': 0,\n",
       "    'totalPlayerScore': 0,\n",
       "    'totalScoreRank': 0,\n",
       "    'playerScore0': 0,\n",
       "    'playerScore1': 0,\n",
       "    'playerScore2': 0,\n",
       "    'playerScore3': 0,\n",
       "    'playerScore4': 0,\n",
       "    'playerScore5': 0,\n",
       "    'playerScore6': 0,\n",
       "    'playerScore7': 0,\n",
       "    'playerScore8': 0,\n",
       "    'playerScore9': 0,\n",
       "    'perk0': 8005,\n",
       "    'perk0Var1': 491,\n",
       "    'perk0Var2': 352,\n",
       "    'perk0Var3': 138,\n",
       "    'perk1': 9111,\n",
       "    'perk1Var1': 209,\n",
       "    'perk1Var2': 60,\n",
       "    'perk1Var3': 0,\n",
       "    'perk2': 9104,\n",
       "    'perk2Var1': 0,\n",
       "    'perk2Var2': 0,\n",
       "    'perk2Var3': 0,\n",
       "    'perk3': 8014,\n",
       "    'perk3Var1': 78,\n",
       "    'perk3Var2': 0,\n",
       "    'perk3Var3': 0,\n",
       "    'perk4': 8304,\n",
       "    'perk4Var1': 10,\n",
       "    'perk4Var2': 3,\n",
       "    'perk4Var3': 0,\n",
       "    'perk5': 8345,\n",
       "    'perk5Var1': 3,\n",
       "    'perk5Var2': 0,\n",
       "    'perk5Var3': 0,\n",
       "    'perkPrimaryStyle': 8000,\n",
       "    'perkSubStyle': 8300,\n",
       "    'statPerk0': 5005,\n",
       "    'statPerk1': 5008,\n",
       "    'statPerk2': 5002},\n",
       "   'timeline': {'participantId': 4,\n",
       "    'creepsPerMinDeltas': {'0-10': 5.1},\n",
       "    'xpPerMinDeltas': {'0-10': 382.5},\n",
       "    'goldPerMinDeltas': {'0-10': 250.4},\n",
       "    'csDiffPerMinDeltas': {'0-10': 0.3800000000000001},\n",
       "    'xpDiffPerMinDeltas': {'0-10': -42.44},\n",
       "    'damageTakenPerMinDeltas': {'0-10': 478.3},\n",
       "    'damageTakenDiffPerMinDeltas': {'0-10': 80.11999999999998},\n",
       "    'role': 'DUO_SUPPORT',\n",
       "    'lane': 'NONE'}},\n",
       "  {'participantId': 5,\n",
       "   'teamId': 100,\n",
       "   'championId': 121,\n",
       "   'spell1Id': 4,\n",
       "   'spell2Id': 11,\n",
       "   'stats': {'participantId': 5,\n",
       "    'win': False,\n",
       "    'item0': 1400,\n",
       "    'item1': 3134,\n",
       "    'item2': 2031,\n",
       "    'item3': 1001,\n",
       "    'item4': 0,\n",
       "    'item5': 3147,\n",
       "    'item6': 3513,\n",
       "    'kills': 7,\n",
       "    'deaths': 4,\n",
       "    'assists': 1,\n",
       "    'largestKillingSpree': 2,\n",
       "    'largestMultiKill': 1,\n",
       "    'killingSprees': 3,\n",
       "    'longestTimeSpentLiving': 369,\n",
       "    'doubleKills': 0,\n",
       "    'tripleKills': 0,\n",
       "    'quadraKills': 0,\n",
       "    'pentaKills': 0,\n",
       "    'unrealKills': 0,\n",
       "    'totalDamageDealt': 81883,\n",
       "    'magicDamageDealt': 4013,\n",
       "    'physicalDamageDealt': 71228,\n",
       "    'trueDamageDealt': 6642,\n",
       "    'largestCriticalStrike': 0,\n",
       "    'totalDamageDealtToChampions': 7390,\n",
       "    'magicDamageDealtToChampions': 512,\n",
       "    'physicalDamageDealtToChampions': 6586,\n",
       "    'trueDamageDealtToChampions': 292,\n",
       "    'totalHeal': 7545,\n",
       "    'totalUnitsHealed': 1,\n",
       "    'damageSelfMitigated': 7171,\n",
       "    'damageDealtToObjectives': 11768,\n",
       "    'damageDealtToTurrets': 0,\n",
       "    'visionScore': 12,\n",
       "    'timeCCingOthers': 3,\n",
       "    'totalDamageTaken': 16451,\n",
       "    'magicalDamageTaken': 6108,\n",
       "    'physicalDamageTaken': 9263,\n",
       "    'trueDamageTaken': 1079,\n",
       "    'goldEarned': 8364,\n",
       "    'goldSpent': 7225,\n",
       "    'turretKills': 0,\n",
       "    'inhibitorKills': 0,\n",
       "    'totalMinionsKilled': 24,\n",
       "    'neutralMinionsKilled': 70,\n",
       "    'neutralMinionsKilledTeamJungle': 63,\n",
       "    'neutralMinionsKilledEnemyJungle': 0,\n",
       "    'totalTimeCrowdControlDealt': 126,\n",
       "    'champLevel': 10,\n",
       "    'visionWardsBoughtInGame': 2,\n",
       "    'sightWardsBoughtInGame': 0,\n",
       "    'wardsPlaced': 3,\n",
       "    'wardsKilled': 1,\n",
       "    'firstBloodKill': False,\n",
       "    'firstBloodAssist': False,\n",
       "    'firstTowerKill': False,\n",
       "    'firstTowerAssist': False,\n",
       "    'firstInhibitorKill': False,\n",
       "    'firstInhibitorAssist': False,\n",
       "    'combatPlayerScore': 0,\n",
       "    'objectivePlayerScore': 0,\n",
       "    'totalPlayerScore': 0,\n",
       "    'totalScoreRank': 0,\n",
       "    'playerScore0': 0,\n",
       "    'playerScore1': 0,\n",
       "    'playerScore2': 0,\n",
       "    'playerScore3': 0,\n",
       "    'playerScore4': 0,\n",
       "    'playerScore5': 0,\n",
       "    'playerScore6': 0,\n",
       "    'playerScore7': 0,\n",
       "    'playerScore8': 0,\n",
       "    'playerScore9': 0,\n",
       "    'perk0': 8112,\n",
       "    'perk0Var1': 420,\n",
       "    'perk0Var2': 0,\n",
       "    'perk0Var3': 0,\n",
       "    'perk1': 8143,\n",
       "    'perk1Var1': 162,\n",
       "    'perk1Var2': 0,\n",
       "    'perk1Var3': 0,\n",
       "    'perk2': 8138,\n",
       "    'perk2Var1': 9,\n",
       "    'perk2Var2': 0,\n",
       "    'perk2Var3': 0,\n",
       "    'perk3': 8135,\n",
       "    'perk3Var1': 3453,\n",
       "    'perk3Var2': 4,\n",
       "    'perk3Var3': 0,\n",
       "    'perk4': 8233,\n",
       "    'perk4Var1': 10,\n",
       "    'perk4Var2': 10,\n",
       "    'perk4Var3': 0,\n",
       "    'perk5': 8232,\n",
       "    'perk5Var1': 3,\n",
       "    'perk5Var2': 0,\n",
       "    'perk5Var3': 0,\n",
       "    'perkPrimaryStyle': 8100,\n",
       "    'perkSubStyle': 8200,\n",
       "    'statPerk0': 5008,\n",
       "    'statPerk1': 5008,\n",
       "    'statPerk2': 5002},\n",
       "   'timeline': {'participantId': 5,\n",
       "    'creepsPerMinDeltas': {'0-10': 0.6},\n",
       "    'xpPerMinDeltas': {'0-10': 345.4},\n",
       "    'goldPerMinDeltas': {'0-10': 330.2},\n",
       "    'csDiffPerMinDeltas': {'0-10': 0.3800000000000001},\n",
       "    'xpDiffPerMinDeltas': {'0-10': -42.44},\n",
       "    'damageTakenPerMinDeltas': {'0-10': 687.8},\n",
       "    'damageTakenDiffPerMinDeltas': {'0-10': 80.11999999999998},\n",
       "    'role': 'DUO_SUPPORT',\n",
       "    'lane': 'NONE'}},\n",
       "  {'participantId': 6,\n",
       "   'teamId': 200,\n",
       "   'championId': 17,\n",
       "   'spell1Id': 4,\n",
       "   'spell2Id': 14,\n",
       "   'stats': {'participantId': 6,\n",
       "    'win': True,\n",
       "    'item0': 1056,\n",
       "    'item1': 3136,\n",
       "    'item2': 3003,\n",
       "    'item3': 0,\n",
       "    'item4': 3047,\n",
       "    'item5': 0,\n",
       "    'item6': 3340,\n",
       "    'kills': 3,\n",
       "    'deaths': 5,\n",
       "    'assists': 2,\n",
       "    'largestKillingSpree': 0,\n",
       "    'largestMultiKill': 1,\n",
       "    'killingSprees': 0,\n",
       "    'longestTimeSpentLiving': 267,\n",
       "    'doubleKills': 0,\n",
       "    'tripleKills': 0,\n",
       "    'quadraKills': 0,\n",
       "    'pentaKills': 0,\n",
       "    'unrealKills': 0,\n",
       "    'totalDamageDealt': 51635,\n",
       "    'magicDamageDealt': 33381,\n",
       "    'physicalDamageDealt': 15640,\n",
       "    'trueDamageDealt': 2613,\n",
       "    'largestCriticalStrike': 0,\n",
       "    'totalDamageDealtToChampions': 9377,\n",
       "    'magicDamageDealtToChampions': 6495,\n",
       "    'physicalDamageDealtToChampions': 1988,\n",
       "    'trueDamageDealtToChampions': 893,\n",
       "    'totalHeal': 609,\n",
       "    'totalUnitsHealed': 1,\n",
       "    'damageSelfMitigated': 4741,\n",
       "    'damageDealtToObjectives': 3070,\n",
       "    'damageDealtToTurrets': 3070,\n",
       "    'visionScore': 4,\n",
       "    'timeCCingOthers': 19,\n",
       "    'totalDamageTaken': 9430,\n",
       "    'magicalDamageTaken': 531,\n",
       "    'physicalDamageTaken': 8198,\n",
       "    'trueDamageTaken': 699,\n",
       "    'goldEarned': 6843,\n",
       "    'goldSpent': 6450,\n",
       "    'turretKills': 1,\n",
       "    'inhibitorKills': 0,\n",
       "    'totalMinionsKilled': 97,\n",
       "    'neutralMinionsKilled': 0,\n",
       "    'neutralMinionsKilledTeamJungle': 0,\n",
       "    'neutralMinionsKilledEnemyJungle': 0,\n",
       "    'totalTimeCrowdControlDealt': 189,\n",
       "    'champLevel': 11,\n",
       "    'visionWardsBoughtInGame': 0,\n",
       "    'sightWardsBoughtInGame': 0,\n",
       "    'wardsPlaced': 2,\n",
       "    'wardsKilled': 1,\n",
       "    'firstBloodKill': False,\n",
       "    'firstBloodAssist': False,\n",
       "    'firstTowerKill': False,\n",
       "    'firstTowerAssist': False,\n",
       "    'firstInhibitorKill': False,\n",
       "    'firstInhibitorAssist': False,\n",
       "    'combatPlayerScore': 0,\n",
       "    'objectivePlayerScore': 0,\n",
       "    'totalPlayerScore': 0,\n",
       "    'totalScoreRank': 0,\n",
       "    'playerScore0': 0,\n",
       "    'playerScore1': 0,\n",
       "    'playerScore2': 0,\n",
       "    'playerScore3': 0,\n",
       "    'playerScore4': 0,\n",
       "    'playerScore5': 0,\n",
       "    'playerScore6': 0,\n",
       "    'playerScore7': 0,\n",
       "    'playerScore8': 0,\n",
       "    'playerScore9': 0,\n",
       "    'perk0': 8112,\n",
       "    'perk0Var1': 681,\n",
       "    'perk0Var2': 0,\n",
       "    'perk0Var3': 0,\n",
       "    'perk1': 8126,\n",
       "    'perk1Var1': 469,\n",
       "    'perk1Var2': 0,\n",
       "    'perk1Var3': 0,\n",
       "    'perk2': 8138,\n",
       "    'perk2Var1': 10,\n",
       "    'perk2Var2': 0,\n",
       "    'perk2Var3': 0,\n",
       "    'perk3': 8106,\n",
       "    'perk3Var1': 2,\n",
       "    'perk3Var2': 0,\n",
       "    'perk3Var3': 0,\n",
       "    'perk4': 9104,\n",
       "    'perk4Var1': 0,\n",
       "    'perk4Var2': 0,\n",
       "    'perk4Var3': 0,\n",
       "    'perk5': 8014,\n",
       "    'perk5Var1': 168,\n",
       "    'perk5Var2': 0,\n",
       "    'perk5Var3': 0,\n",
       "    'perkPrimaryStyle': 8100,\n",
       "    'perkSubStyle': 8000,\n",
       "    'statPerk0': 5005,\n",
       "    'statPerk1': 5008,\n",
       "    'statPerk2': 5002},\n",
       "   'timeline': {'participantId': 6,\n",
       "    'creepsPerMinDeltas': {'0-10': 4.6},\n",
       "    'xpPerMinDeltas': {'0-10': 389.7},\n",
       "    'goldPerMinDeltas': {'0-10': 267.9},\n",
       "    'csDiffPerMinDeltas': {'0-10': -0.3800000000000001},\n",
       "    'xpDiffPerMinDeltas': {'0-10': 42.44},\n",
       "    'damageTakenPerMinDeltas': {'0-10': 398.7},\n",
       "    'damageTakenDiffPerMinDeltas': {'0-10': -80.11999999999998},\n",
       "    'role': 'DUO_SUPPORT',\n",
       "    'lane': 'NONE'}},\n",
       "  {'participantId': 7,\n",
       "   'teamId': 200,\n",
       "   'championId': 29,\n",
       "   'spell1Id': 4,\n",
       "   'spell2Id': 7,\n",
       "   'stats': {'participantId': 7,\n",
       "    'win': True,\n",
       "    'item0': 1055,\n",
       "    'item1': 1083,\n",
       "    'item2': 3004,\n",
       "    'item3': 3006,\n",
       "    'item4': 1038,\n",
       "    'item5': 1042,\n",
       "    'item6': 3340,\n",
       "    'kills': 11,\n",
       "    'deaths': 3,\n",
       "    'assists': 2,\n",
       "    'largestKillingSpree': 8,\n",
       "    'largestMultiKill': 1,\n",
       "    'killingSprees': 2,\n",
       "    'longestTimeSpentLiving': 637,\n",
       "    'doubleKills': 0,\n",
       "    'tripleKills': 0,\n",
       "    'quadraKills': 0,\n",
       "    'pentaKills': 0,\n",
       "    'unrealKills': 0,\n",
       "    'totalDamageDealt': 73614,\n",
       "    'magicDamageDealt': 6340,\n",
       "    'physicalDamageDealt': 60039,\n",
       "    'trueDamageDealt': 7235,\n",
       "    'largestCriticalStrike': 0,\n",
       "    'totalDamageDealtToChampions': 10521,\n",
       "    'magicDamageDealtToChampions': 1097,\n",
       "    'physicalDamageDealtToChampions': 8585,\n",
       "    'trueDamageDealtToChampions': 839,\n",
       "    'totalHeal': 2711,\n",
       "    'totalUnitsHealed': 3,\n",
       "    'damageSelfMitigated': 4382,\n",
       "    'damageDealtToObjectives': 8334,\n",
       "    'damageDealtToTurrets': 5437,\n",
       "    'visionScore': 15,\n",
       "    'timeCCingOthers': 5,\n",
       "    'totalDamageTaken': 11005,\n",
       "    'magicalDamageTaken': 4405,\n",
       "    'physicalDamageTaken': 4464,\n",
       "    'trueDamageTaken': 2135,\n",
       "    'goldEarned': 9447,\n",
       "    'goldSpent': 6125,\n",
       "    'turretKills': 0,\n",
       "    'inhibitorKills': 0,\n",
       "    'totalMinionsKilled': 109,\n",
       "    'neutralMinionsKilled': 8,\n",
       "    'neutralMinionsKilledTeamJungle': 0,\n",
       "    'neutralMinionsKilledEnemyJungle': 4,\n",
       "    'totalTimeCrowdControlDealt': 191,\n",
       "    'champLevel': 10,\n",
       "    'visionWardsBoughtInGame': 1,\n",
       "    'sightWardsBoughtInGame': 0,\n",
       "    'wardsPlaced': 6,\n",
       "    'wardsKilled': 1,\n",
       "    'firstBloodKill': True,\n",
       "    'firstBloodAssist': False,\n",
       "    'firstTowerKill': False,\n",
       "    'firstTowerAssist': True,\n",
       "    'firstInhibitorKill': False,\n",
       "    'firstInhibitorAssist': True,\n",
       "    'combatPlayerScore': 0,\n",
       "    'objectivePlayerScore': 0,\n",
       "    'totalPlayerScore': 0,\n",
       "    'totalScoreRank': 0,\n",
       "    'playerScore0': 0,\n",
       "    'playerScore1': 0,\n",
       "    'playerScore2': 0,\n",
       "    'playerScore3': 0,\n",
       "    'playerScore4': 0,\n",
       "    'playerScore5': 0,\n",
       "    'playerScore6': 0,\n",
       "    'playerScore7': 0,\n",
       "    'playerScore8': 0,\n",
       "    'playerScore9': 0,\n",
       "    'perk0': 8008,\n",
       "    'perk0Var1': 1,\n",
       "    'perk0Var2': 50,\n",
       "    'perk0Var3': 0,\n",
       "    'perk1': 8009,\n",
       "    'perk1Var1': 1863,\n",
       "    'perk1Var2': 500,\n",
       "    'perk1Var3': 0,\n",
       "    'perk2': 9104,\n",
       "    'perk2Var1': 8,\n",
       "    'perk2Var2': 50,\n",
       "    'perk2Var3': 0,\n",
       "    'perk3': 8014,\n",
       "    'perk3Var1': 337,\n",
       "    'perk3Var2': 0,\n",
       "    'perk3Var3': 0,\n",
       "    'perk4': 8275,\n",
       "    'perk4Var1': 7,\n",
       "    'perk4Var2': 0,\n",
       "    'perk4Var3': 0,\n",
       "    'perk5': 8236,\n",
       "    'perk5Var1': 4,\n",
       "    'perk5Var2': 0,\n",
       "    'perk5Var3': 0,\n",
       "    'perkPrimaryStyle': 8000,\n",
       "    'perkSubStyle': 8200,\n",
       "    'statPerk0': 5005,\n",
       "    'statPerk1': 5008,\n",
       "    'statPerk2': 5002},\n",
       "   'timeline': {'participantId': 7,\n",
       "    'creepsPerMinDeltas': {'0-10': 6},\n",
       "    'xpPerMinDeltas': {'0-10': 299.70000000000005},\n",
       "    'goldPerMinDeltas': {'0-10': 433.1},\n",
       "    'csDiffPerMinDeltas': {'0-10': -0.3800000000000001},\n",
       "    'xpDiffPerMinDeltas': {'0-10': 42.44},\n",
       "    'damageTakenPerMinDeltas': {'0-10': 394.9},\n",
       "    'damageTakenDiffPerMinDeltas': {'0-10': -80.11999999999998},\n",
       "    'role': 'DUO_SUPPORT',\n",
       "    'lane': 'NONE'}},\n",
       "  {'participantId': 8,\n",
       "   'teamId': 200,\n",
       "   'championId': 117,\n",
       "   'spell1Id': 4,\n",
       "   'spell2Id': 14,\n",
       "   'stats': {'participantId': 8,\n",
       "    'win': True,\n",
       "    'item0': 0,\n",
       "    'item1': 3853,\n",
       "    'item2': 2055,\n",
       "    'item3': 3108,\n",
       "    'item4': 3504,\n",
       "    'item5': 3009,\n",
       "    'item6': 3364,\n",
       "    'kills': 2,\n",
       "    'deaths': 0,\n",
       "    'assists': 13,\n",
       "    'largestKillingSpree': 2,\n",
       "    'largestMultiKill': 1,\n",
       "    'killingSprees': 1,\n",
       "    'longestTimeSpentLiving': 0,\n",
       "    'doubleKills': 0,\n",
       "    'tripleKills': 0,\n",
       "    'quadraKills': 0,\n",
       "    'pentaKills': 0,\n",
       "    'unrealKills': 0,\n",
       "    'totalDamageDealt': 17037,\n",
       "    'magicDamageDealt': 13156,\n",
       "    'physicalDamageDealt': 3545,\n",
       "    'trueDamageDealt': 336,\n",
       "    'largestCriticalStrike': 0,\n",
       "    'totalDamageDealtToChampions': 4438,\n",
       "    'magicDamageDealtToChampions': 2967,\n",
       "    'physicalDamageDealtToChampions': 1134,\n",
       "    'trueDamageDealtToChampions': 336,\n",
       "    'totalHeal': 346,\n",
       "    'totalUnitsHealed': 1,\n",
       "    'damageSelfMitigated': 1391,\n",
       "    'damageDealtToObjectives': 4470,\n",
       "    'damageDealtToTurrets': 3798,\n",
       "    'visionScore': 24,\n",
       "    'timeCCingOthers': 11,\n",
       "    'totalDamageTaken': 3163,\n",
       "    'magicalDamageTaken': 1236,\n",
       "    'physicalDamageTaken': 1848,\n",
       "    'trueDamageTaken': 78,\n",
       "    'goldEarned': 6352,\n",
       "    'goldSpent': 4825,\n",
       "    'turretKills': 3,\n",
       "    'inhibitorKills': 0,\n",
       "    'totalMinionsKilled': 5,\n",
       "    'neutralMinionsKilled': 0,\n",
       "    'neutralMinionsKilledTeamJungle': 0,\n",
       "    'neutralMinionsKilledEnemyJungle': 0,\n",
       "    'totalTimeCrowdControlDealt': 185,\n",
       "    'champLevel': 10,\n",
       "    'visionWardsBoughtInGame': 3,\n",
       "    'sightWardsBoughtInGame': 0,\n",
       "    'wardsPlaced': 12,\n",
       "    'wardsKilled': 2,\n",
       "    'firstBloodKill': False,\n",
       "    'firstBloodAssist': False,\n",
       "    'firstTowerKill': False,\n",
       "    'firstTowerAssist': True,\n",
       "    'firstInhibitorKill': False,\n",
       "    'firstInhibitorAssist': True,\n",
       "    'combatPlayerScore': 0,\n",
       "    'objectivePlayerScore': 0,\n",
       "    'totalPlayerScore': 0,\n",
       "    'totalScoreRank': 0,\n",
       "    'playerScore0': 0,\n",
       "    'playerScore1': 0,\n",
       "    'playerScore2': 0,\n",
       "    'playerScore3': 0,\n",
       "    'playerScore4': 0,\n",
       "    'playerScore5': 0,\n",
       "    'playerScore6': 0,\n",
       "    'playerScore7': 0,\n",
       "    'playerScore8': 0,\n",
       "    'playerScore9': 0,\n",
       "    'perk0': 8214,\n",
       "    'perk0Var1': 317,\n",
       "    'perk0Var2': 944,\n",
       "    'perk0Var3': 0,\n",
       "    'perk1': 8226,\n",
       "    'perk1Var1': 250,\n",
       "    'perk1Var2': 574,\n",
       "    'perk1Var3': 0,\n",
       "    'perk2': 8210,\n",
       "    'perk2Var1': 0,\n",
       "    'perk2Var2': 0,\n",
       "    'perk2Var3': 0,\n",
       "    'perk3': 8237,\n",
       "    'perk3Var1': 227,\n",
       "    'perk3Var2': 0,\n",
       "    'perk3Var3': 0,\n",
       "    'perk4': 8345,\n",
       "    'perk4Var1': 3,\n",
       "    'perk4Var2': 0,\n",
       "    'perk4Var3': 0,\n",
       "    'perk5': 8347,\n",
       "    'perk5Var1': 0,\n",
       "    'perk5Var2': 0,\n",
       "    'perk5Var3': 0,\n",
       "    'perkPrimaryStyle': 8200,\n",
       "    'perkSubStyle': 8300,\n",
       "    'statPerk0': 5005,\n",
       "    'statPerk1': 5008,\n",
       "    'statPerk2': 5002},\n",
       "   'timeline': {'participantId': 8,\n",
       "    'creepsPerMinDeltas': {'0-10': 0.4},\n",
       "    'xpPerMinDeltas': {'0-10': 320.4},\n",
       "    'goldPerMinDeltas': {'0-10': 280.7},\n",
       "    'csDiffPerMinDeltas': {'0-10': -0.3800000000000001},\n",
       "    'xpDiffPerMinDeltas': {'0-10': 42.44},\n",
       "    'damageTakenPerMinDeltas': {'0-10': 191.9},\n",
       "    'damageTakenDiffPerMinDeltas': {'0-10': -80.11999999999998},\n",
       "    'role': 'DUO_SUPPORT',\n",
       "    'lane': 'NONE'}},\n",
       "  {'participantId': 9,\n",
       "   'teamId': 200,\n",
       "   'championId': 104,\n",
       "   'spell1Id': 4,\n",
       "   'spell2Id': 11,\n",
       "   'stats': {'participantId': 9,\n",
       "    'win': True,\n",
       "    'item0': 2055,\n",
       "    'item1': 3047,\n",
       "    'item2': 3071,\n",
       "    'item3': 1053,\n",
       "    'item4': 1036,\n",
       "    'item5': 1412,\n",
       "    'item6': 3364,\n",
       "    'kills': 7,\n",
       "    'deaths': 1,\n",
       "    'assists': 6,\n",
       "    'largestKillingSpree': 5,\n",
       "    'largestMultiKill': 1,\n",
       "    'killingSprees': 2,\n",
       "    'longestTimeSpentLiving': 366,\n",
       "    'doubleKills': 0,\n",
       "    'tripleKills': 0,\n",
       "    'quadraKills': 0,\n",
       "    'pentaKills': 0,\n",
       "    'unrealKills': 0,\n",
       "    'totalDamageDealt': 110966,\n",
       "    'magicDamageDealt': 6905,\n",
       "    'physicalDamageDealt': 100196,\n",
       "    'trueDamageDealt': 3864,\n",
       "    'largestCriticalStrike': 0,\n",
       "    'totalDamageDealtToChampions': 8857,\n",
       "    'magicDamageDealtToChampions': 921,\n",
       "    'physicalDamageDealtToChampions': 6830,\n",
       "    'trueDamageDealtToChampions': 1106,\n",
       "    'totalHeal': 5695,\n",
       "    'totalUnitsHealed': 1,\n",
       "    'damageSelfMitigated': 7993,\n",
       "    'damageDealtToObjectives': 12951,\n",
       "    'damageDealtToTurrets': 4332,\n",
       "    'visionScore': 11,\n",
       "    'timeCCingOthers': 10,\n",
       "    'totalDamageTaken': 11095,\n",
       "    'magicalDamageTaken': 3191,\n",
       "    'physicalDamageTaken': 7590,\n",
       "    'trueDamageTaken': 313,\n",
       "    'goldEarned': 9185,\n",
       "    'goldSpent': 8200,\n",
       "    'turretKills': 2,\n",
       "    'inhibitorKills': 0,\n",
       "    'totalMinionsKilled': 32,\n",
       "    'neutralMinionsKilled': 108,\n",
       "    'neutralMinionsKilledTeamJungle': 76,\n",
       "    'neutralMinionsKilledEnemyJungle': 4,\n",
       "    'totalTimeCrowdControlDealt': 357,\n",
       "    'champLevel': 11,\n",
       "    'visionWardsBoughtInGame': 1,\n",
       "    'sightWardsBoughtInGame': 0,\n",
       "    'wardsPlaced': 1,\n",
       "    'wardsKilled': 2,\n",
       "    'firstBloodKill': False,\n",
       "    'firstBloodAssist': False,\n",
       "    'firstTowerKill': True,\n",
       "    'firstTowerAssist': False,\n",
       "    'firstInhibitorKill': False,\n",
       "    'firstInhibitorAssist': True,\n",
       "    'combatPlayerScore': 0,\n",
       "    'objectivePlayerScore': 0,\n",
       "    'totalPlayerScore': 0,\n",
       "    'totalScoreRank': 0,\n",
       "    'playerScore0': 0,\n",
       "    'playerScore1': 0,\n",
       "    'playerScore2': 0,\n",
       "    'playerScore3': 0,\n",
       "    'playerScore4': 0,\n",
       "    'playerScore5': 0,\n",
       "    'playerScore6': 0,\n",
       "    'playerScore7': 0,\n",
       "    'playerScore8': 0,\n",
       "    'playerScore9': 0,\n",
       "    'perk0': 8230,\n",
       "    'perk0Var1': 9,\n",
       "    'perk0Var2': 0,\n",
       "    'perk0Var3': 0,\n",
       "    'perk1': 8275,\n",
       "    'perk1Var1': 11,\n",
       "    'perk1Var2': 0,\n",
       "    'perk1Var3': 0,\n",
       "    'perk2': 8233,\n",
       "    'perk2Var1': 7,\n",
       "    'perk2Var2': 40,\n",
       "    'perk2Var3': 0,\n",
       "    'perk3': 8232,\n",
       "    'perk3Var1': 3,\n",
       "    'perk3Var2': 0,\n",
       "    'perk3Var3': 0,\n",
       "    'perk4': 9111,\n",
       "    'perk4Var1': 696,\n",
       "    'perk4Var2': 260,\n",
       "    'perk4Var3': 0,\n",
       "    'perk5': 9104,\n",
       "    'perk5Var1': 9,\n",
       "    'perk5Var2': 10,\n",
       "    'perk5Var3': 0,\n",
       "    'perkPrimaryStyle': 8200,\n",
       "    'perkSubStyle': 8000,\n",
       "    'statPerk0': 5005,\n",
       "    'statPerk1': 5008,\n",
       "    'statPerk2': 5002},\n",
       "   'timeline': {'participantId': 9,\n",
       "    'creepsPerMinDeltas': {'0-10': 0.2},\n",
       "    'xpPerMinDeltas': {'0-10': 427.5},\n",
       "    'goldPerMinDeltas': {'0-10': 412.79999999999995},\n",
       "    'csDiffPerMinDeltas': {'0-10': -0.3800000000000001},\n",
       "    'xpDiffPerMinDeltas': {'0-10': 42.44},\n",
       "    'damageTakenPerMinDeltas': {'0-10': 500.79999999999995},\n",
       "    'damageTakenDiffPerMinDeltas': {'0-10': -80.11999999999998},\n",
       "    'role': 'DUO_SUPPORT',\n",
       "    'lane': 'NONE'}},\n",
       "  {'participantId': 10,\n",
       "   'teamId': 200,\n",
       "   'championId': 103,\n",
       "   'spell1Id': 14,\n",
       "   'spell2Id': 4,\n",
       "   'stats': {'participantId': 10,\n",
       "    'win': True,\n",
       "    'item0': 1056,\n",
       "    'item1': 1056,\n",
       "    'item2': 2031,\n",
       "    'item3': 3020,\n",
       "    'item4': 3802,\n",
       "    'item5': 1026,\n",
       "    'item6': 3340,\n",
       "    'kills': 2,\n",
       "    'deaths': 2,\n",
       "    'assists': 0,\n",
       "    'largestKillingSpree': 0,\n",
       "    'largestMultiKill': 1,\n",
       "    'killingSprees': 0,\n",
       "    'longestTimeSpentLiving': 487,\n",
       "    'doubleKills': 0,\n",
       "    'tripleKills': 0,\n",
       "    'quadraKills': 0,\n",
       "    'pentaKills': 0,\n",
       "    'unrealKills': 0,\n",
       "    'totalDamageDealt': 61998,\n",
       "    'magicDamageDealt': 31651,\n",
       "    'physicalDamageDealt': 11126,\n",
       "    'trueDamageDealt': 19220,\n",
       "    'largestCriticalStrike': 0,\n",
       "    'totalDamageDealtToChampions': 5674,\n",
       "    'magicDamageDealtToChampions': 3469,\n",
       "    'physicalDamageDealtToChampions': 278,\n",
       "    'trueDamageDealtToChampions': 1926,\n",
       "    'totalHeal': 1405,\n",
       "    'totalUnitsHealed': 1,\n",
       "    'damageSelfMitigated': 2626,\n",
       "    'damageDealtToObjectives': 5714,\n",
       "    'damageDealtToTurrets': 5714,\n",
       "    'visionScore': 9,\n",
       "    'timeCCingOthers': 4,\n",
       "    'totalDamageTaken': 7325,\n",
       "    'magicalDamageTaken': 4404,\n",
       "    'physicalDamageTaken': 2828,\n",
       "    'trueDamageTaken': 92,\n",
       "    'goldEarned': 6595,\n",
       "    'goldSpent': 4375,\n",
       "    'turretKills': 2,\n",
       "    'inhibitorKills': 1,\n",
       "    'totalMinionsKilled': 116,\n",
       "    'neutralMinionsKilled': 0,\n",
       "    'neutralMinionsKilledTeamJungle': 0,\n",
       "    'neutralMinionsKilledEnemyJungle': 0,\n",
       "    'totalTimeCrowdControlDealt': 9,\n",
       "    'champLevel': 12,\n",
       "    'visionWardsBoughtInGame': 1,\n",
       "    'sightWardsBoughtInGame': 0,\n",
       "    'wardsPlaced': 6,\n",
       "    'wardsKilled': 0,\n",
       "    'firstBloodKill': False,\n",
       "    'firstBloodAssist': False,\n",
       "    'firstTowerKill': False,\n",
       "    'firstTowerAssist': False,\n",
       "    'firstInhibitorKill': True,\n",
       "    'firstInhibitorAssist': False,\n",
       "    'combatPlayerScore': 0,\n",
       "    'objectivePlayerScore': 0,\n",
       "    'totalPlayerScore': 0,\n",
       "    'totalScoreRank': 0,\n",
       "    'playerScore0': 0,\n",
       "    'playerScore1': 0,\n",
       "    'playerScore2': 0,\n",
       "    'playerScore3': 0,\n",
       "    'playerScore4': 0,\n",
       "    'playerScore5': 0,\n",
       "    'playerScore6': 0,\n",
       "    'playerScore7': 0,\n",
       "    'playerScore8': 0,\n",
       "    'playerScore9': 0,\n",
       "    'perk0': 8112,\n",
       "    'perk0Var1': 355,\n",
       "    'perk0Var2': 0,\n",
       "    'perk0Var3': 0,\n",
       "    'perk1': 8143,\n",
       "    'perk1Var1': 71,\n",
       "    'perk1Var2': 0,\n",
       "    'perk1Var3': 0,\n",
       "    'perk2': 8138,\n",
       "    'perk2Var1': 4,\n",
       "    'perk2Var2': 0,\n",
       "    'perk2Var3': 0,\n",
       "    'perk3': 8135,\n",
       "    'perk3Var1': 406,\n",
       "    'perk3Var2': 2,\n",
       "    'perk3Var3': 0,\n",
       "    'perk4': 8210,\n",
       "    'perk4Var1': 0,\n",
       "    'perk4Var2': 0,\n",
       "    'perk4Var3': 0,\n",
       "    'perk5': 8236,\n",
       "    'perk5Var1': 8,\n",
       "    'perk5Var2': 0,\n",
       "    'perk5Var3': 0,\n",
       "    'perkPrimaryStyle': 8100,\n",
       "    'perkSubStyle': 8200,\n",
       "    'statPerk0': 5008,\n",
       "    'statPerk1': 5008,\n",
       "    'statPerk2': 5002},\n",
       "   'timeline': {'participantId': 10,\n",
       "    'creepsPerMinDeltas': {'0-10': 6.199999999999999},\n",
       "    'xpPerMinDeltas': {'0-10': 415.5},\n",
       "    'goldPerMinDeltas': {'0-10': 242.8},\n",
       "    'csDiffPerMinDeltas': {'0-10': -0.3800000000000001},\n",
       "    'xpDiffPerMinDeltas': {'0-10': 42.44},\n",
       "    'damageTakenPerMinDeltas': {'0-10': 351.9},\n",
       "    'damageTakenDiffPerMinDeltas': {'0-10': -80.11999999999998},\n",
       "    'role': 'DUO',\n",
       "    'lane': 'NONE'}}],\n",
       " 'participantIdentities': [{'participantId': 1,\n",
       "   'player': {'platformId': 'NA1',\n",
       "    'accountId': 'NjqAsXi1MBJepsNAg2rvBtdI9UnQ4NHsjOeUX0BKy6zL3Q',\n",
       "    'summonerName': 'Airplanegowoosh',\n",
       "    'summonerId': '8DLUxJuuWNPvvPBF0nJfDAQ_7O4Aev-yTA47xQu9lm3aO1g',\n",
       "    'currentPlatformId': 'NA1',\n",
       "    'currentAccountId': 'NjqAsXi1MBJepsNAg2rvBtdI9UnQ4NHsjOeUX0BKy6zL3Q',\n",
       "    'matchHistoryUri': '/v1/stats/player_history/NA1/43671238',\n",
       "    'profileIcon': 4660}},\n",
       "  {'participantId': 2,\n",
       "   'player': {'platformId': 'NA1',\n",
       "    'accountId': 'afhUQ-04SazTSTNhZ-6RuO333x2l9NLgj1aGx3EBZntLZIs',\n",
       "    'summonerName': 'Drlazerbeam',\n",
       "    'summonerId': '3DCdqpIXoJEcUJfGxh4omZ7e3aglVgXOsFJUJdX2xud9Fqc',\n",
       "    'currentPlatformId': 'NA1',\n",
       "    'currentAccountId': 'afhUQ-04SazTSTNhZ-6RuO333x2l9NLgj1aGx3EBZntLZIs',\n",
       "    'matchHistoryUri': '/v1/stats/player_history/NA1/209452195',\n",
       "    'profileIcon': 3017}},\n",
       "  {'participantId': 3,\n",
       "   'player': {'platformId': 'NA1',\n",
       "    'accountId': 'nmr3EHGEmJLEGhMMFwqpwBpAKNS4ZUMqTsUsdrq8uc83Ygg',\n",
       "    'summonerName': 'Coronacation',\n",
       "    'summonerId': '0iOTqjhpQjq70iM5Q2W6-Aakv5Il8K3ayxjVadUeTRZ2t5E',\n",
       "    'currentPlatformId': 'NA1',\n",
       "    'currentAccountId': 'nmr3EHGEmJLEGhMMFwqpwBpAKNS4ZUMqTsUsdrq8uc83Ygg',\n",
       "    'matchHistoryUri': '/v1/stats/player_history/NA1/222701334',\n",
       "    'profileIcon': 4249}},\n",
       "  {'participantId': 4,\n",
       "   'player': {'platformId': 'NA1',\n",
       "    'accountId': '83Cf9yCvxbpODSmJ6bVaHv0kxYOpSHRPuGZM2jQsWHNFylw',\n",
       "    'summonerName': 'NK Hardstuck LUL',\n",
       "    'summonerId': 'n7PPW33u2eQhGnQTzD05mDPEVl-ixnDbwt9zeMy1etthffc',\n",
       "    'currentPlatformId': 'NA1',\n",
       "    'currentAccountId': '83Cf9yCvxbpODSmJ6bVaHv0kxYOpSHRPuGZM2jQsWHNFylw',\n",
       "    'matchHistoryUri': '/v1/stats/player_history/NA1/221260891',\n",
       "    'profileIcon': 3440}},\n",
       "  {'participantId': 5,\n",
       "   'player': {'platformId': 'NA1',\n",
       "    'accountId': 'vn2x2izg66cwkyokRCxS1dgFg5dhbaeArJm8s_myMYO7PGI',\n",
       "    'summonerName': 'Aodren',\n",
       "    'summonerId': 'u1e8l8DMgIgNgkGQ5NjQj35RDwKV5A57bHlfDKUrMAt3MGU',\n",
       "    'currentPlatformId': 'NA1',\n",
       "    'currentAccountId': 'vn2x2izg66cwkyokRCxS1dgFg5dhbaeArJm8s_myMYO7PGI',\n",
       "    'matchHistoryUri': '/v1/stats/player_history/NA1/200424323',\n",
       "    'profileIcon': 1310}},\n",
       "  {'participantId': 6,\n",
       "   'player': {'platformId': 'NA1',\n",
       "    'accountId': '0mgxQD259FxZzhe1WRma3kU51tP1Iiu1Fc_7_0k64LIl0g',\n",
       "    'summonerName': 'Chumbles',\n",
       "    'summonerId': '4_uy_aYBfgf9Gemy2VU4h1irosuygFxoE3ka6TxSskowPdc',\n",
       "    'currentPlatformId': 'NA1',\n",
       "    'currentAccountId': '0mgxQD259FxZzhe1WRma3kU51tP1Iiu1Fc_7_0k64LIl0g',\n",
       "    'matchHistoryUri': '/v1/stats/player_history/NA1/45665808',\n",
       "    'profileIcon': 2074}},\n",
       "  {'participantId': 7,\n",
       "   'player': {'platformId': 'NA',\n",
       "    'accountId': 'XvBB0-GcowEX8Q1ASK78NDNp0S2rsElr7n6uhQ1du_oK-g',\n",
       "    'summonerName': 'Ice Alarm',\n",
       "    'summonerId': 'tN5aQevHheLTVY__NMm6QFQdDrs7eeTDffqtHZasRDNzrtY',\n",
       "    'currentPlatformId': 'NA1',\n",
       "    'currentAccountId': 'XvBB0-GcowEX8Q1ASK78NDNp0S2rsElr7n6uhQ1du_oK-g',\n",
       "    'matchHistoryUri': '/v1/stats/player_history/NA/33021879',\n",
       "    'profileIcon': 502}},\n",
       "  {'participantId': 8,\n",
       "   'player': {'platformId': 'NA',\n",
       "    'accountId': '-NemHZpHOUu_PVvRZGskHe0Y8QPH69TB1woEK7lfJeGn1w',\n",
       "    'summonerName': '7 5',\n",
       "    'summonerId': 'Ii-QtcDghwep71n89Nvp-u72_MRUjadfkqFIEh1DOZEC2Cg',\n",
       "    'currentPlatformId': 'NA1',\n",
       "    'currentAccountId': '-NemHZpHOUu_PVvRZGskHe0Y8QPH69TB1woEK7lfJeGn1w',\n",
       "    'matchHistoryUri': '/v1/stats/player_history/NA/39117302',\n",
       "    'profileIcon': 574}},\n",
       "  {'participantId': 9,\n",
       "   'player': {'platformId': 'NA1',\n",
       "    'accountId': 'jHCzPW3p83FeRZ9Ya5Da8ervVDAoNsMq86qesZ7lxBF7p6c',\n",
       "    'summonerName': 'Shådows',\n",
       "    'summonerId': 'ZX0oquFdWIK3Sntrb_2rVqOkgr1S7MSHwVA4CkmEkd-NvlY',\n",
       "    'currentPlatformId': 'NA1',\n",
       "    'currentAccountId': 'jHCzPW3p83FeRZ9Ya5Da8ervVDAoNsMq86qesZ7lxBF7p6c',\n",
       "    'matchHistoryUri': '/v1/stats/player_history/NA1/231801588',\n",
       "    'profileIcon': 3367}},\n",
       "  {'participantId': 10,\n",
       "   'player': {'platformId': 'NA1',\n",
       "    'accountId': 'No035BaU40ulgvBmHfPoomGqsHzHtKiSImJcFAz1r0O9E7c',\n",
       "    'summonerName': 'sexyCman',\n",
       "    'summonerId': 'VTd5N4dE7GFJecOmF6G96P4AJ2FtStoQH20TwB-1Qn_dVSc',\n",
       "    'currentPlatformId': 'NA1',\n",
       "    'currentAccountId': 'No035BaU40ulgvBmHfPoomGqsHzHtKiSImJcFAz1r0O9E7c',\n",
       "    'matchHistoryUri': '/v1/stats/player_history/NA1/201609959',\n",
       "    'profileIcon': 575}}],\n",
       " 'win': 'red',\n",
       " 'firstBlood': 'red',\n",
       " 'firstTower': 'red',\n",
       " 'firstInhibitor': 'red',\n",
       " 'firstBaron': 'None',\n",
       " 'firstDragon': 'red',\n",
       " 'firstRiftHerald': 'blue',\n",
       " 'blue_towerKills': 0,\n",
       " 'red_towerKills': 8,\n",
       " 'blue_inhibitorKills': 0,\n",
       " 'red_inhibitorKills': 1,\n",
       " 'blue_baronKills': 0,\n",
       " 'red_baronKills': 0,\n",
       " 'blue_dragonKills': 0,\n",
       " 'red_dragonKills': 2,\n",
       " 'blue_riftHeraldKills': 1,\n",
       " 'red_riftHeraldKills': 0}"
      ]
     },
     "metadata": {},
     "output_type": "display_data"
    }
   ],
   "source": [
    "display(data.keys)"
   ]
  },
  {
   "cell_type": "code",
   "execution_count": 271,
   "metadata": {},
   "outputs": [
    {
     "data": {
      "text/plain": [
       "dict_keys(['status'])"
      ]
     },
     "metadata": {},
     "output_type": "display_data"
    },
    {
     "ename": "KeyError",
     "evalue": "'participantIdentities'",
     "output_type": "error",
     "traceback": [
      "\u001b[1;31m---------------------------------------------------------------------------\u001b[0m",
      "\u001b[1;31mKeyError\u001b[0m                                  Traceback (most recent call last)",
      "\u001b[1;32m<ipython-input-271-2a765cadabc9>\u001b[0m in \u001b[0;36m<module>\u001b[1;34m\u001b[0m\n\u001b[0;32m      3\u001b[0m \u001b[0mdata\u001b[0m \u001b[1;33m=\u001b[0m \u001b[0mjson\u001b[0m\u001b[1;33m.\u001b[0m\u001b[0mloads\u001b[0m\u001b[1;33m(\u001b[0m\u001b[0mresp\u001b[0m\u001b[1;33m.\u001b[0m\u001b[0mcontent\u001b[0m\u001b[1;33m)\u001b[0m\u001b[1;33m\u001b[0m\u001b[1;33m\u001b[0m\u001b[0m\n\u001b[0;32m      4\u001b[0m \u001b[0mdisplay\u001b[0m\u001b[1;33m(\u001b[0m\u001b[0mdata\u001b[0m\u001b[1;33m.\u001b[0m\u001b[0mkeys\u001b[0m\u001b[1;33m(\u001b[0m\u001b[1;33m)\u001b[0m\u001b[1;33m)\u001b[0m\u001b[1;33m\u001b[0m\u001b[1;33m\u001b[0m\u001b[0m\n\u001b[1;32m----> 5\u001b[1;33m \u001b[0mdisplay\u001b[0m\u001b[1;33m(\u001b[0m\u001b[0mdata\u001b[0m\u001b[1;33m[\u001b[0m\u001b[1;34m'participantIdentities'\u001b[0m\u001b[1;33m]\u001b[0m\u001b[1;33m[\u001b[0m\u001b[1;36m0\u001b[0m\u001b[1;33m]\u001b[0m\u001b[1;33m[\u001b[0m\u001b[1;34m'player'\u001b[0m\u001b[1;33m]\u001b[0m\u001b[1;33m[\u001b[0m\u001b[1;34m'summonerId'\u001b[0m\u001b[1;33m]\u001b[0m\u001b[1;33m)\u001b[0m\u001b[1;33m\u001b[0m\u001b[1;33m\u001b[0m\u001b[0m\n\u001b[0m",
      "\u001b[1;31mKeyError\u001b[0m: 'participantIdentities'"
     ]
    }
   ],
   "source": [
    "gameId = '2476737486'\n",
    "resp = requests.get(f'https://na1.api.riotgames.com/lol/match/v4/matches/{gameId}', headers = payload)\n",
    "data = json.loads(resp.content)\n",
    "display(data.keys())\n",
    "display(data['participantIdentities'][0]['player']['summonerId'])"
   ]
  },
  {
   "cell_type": "code",
   "execution_count": 32,
   "metadata": {},
   "outputs": [],
   "source": [
    "# get game information\n",
    "blueTeamId = 100\n",
    "redTeamId = 200\n",
    "gameId = '3490775054'\n",
    "def getGameInfo(region, gameId, payload):\n",
    "    resp = requests.get(f'https://na1.api.riotgames.com/lol/match/v4/matches/{gameId}', headers = payload)\n",
    "    data = json.loads(resp.content)\n",
    "    if not resp.ok:\n",
    "        display(resp)        \n",
    "        return None, resp.status_code\n",
    "    #display(data)    \n",
    "    blue = 0\n",
    "    red = 1\n",
    "    out = dict()\n",
    "    if data['teams'][0]['teamId']==redTeamId: # blue team is 100, red team is 200\n",
    "        blue = 1\n",
    "        red = 0\n",
    "    keys = ['gameId', 'platformId', 'gameCreation', 'gameDuration', 'queueId', 'mapId', 'seasonId', 'gameVersion', 'gameMode',\n",
    "            'gameType']\n",
    "    for key in keys:\n",
    "        out[key] = data[key]\n",
    "    keys = ['win', 'firstBlood', 'firstTower', 'firstInhibitor','firstBaron','firstDragon','firstRiftHerald']\n",
    "    for key in keys:\n",
    "        out[key] = 0\n",
    "        if data['teams'][blue][key] != False and data['teams'][blue][key] != 'Fail':\n",
    "            out[key] = 100\n",
    "        elif data['teams'][red][key] != False and data['teams'][red][key] != 'Fail':\n",
    "            out[key] = 200\n",
    "    out['blue_towerKills'] = data['teams'][blue]['towerKills']\n",
    "    out['red_towerKills'] = data['teams'][red]['towerKills']\n",
    "    out['blue_inhibitorKills'] = data['teams'][blue]['inhibitorKills']\n",
    "    out['red_inhibitorKills'] = data['teams'][red]['inhibitorKills']\n",
    "    out['blue_baronKills'] = data['teams'][blue]['baronKills']\n",
    "    out['red_baronKills'] = data['teams'][red]['baronKills']\n",
    "    out['blue_dragonKills'] = data['teams'][blue]['dragonKills']\n",
    "    out['red_dragonKills'] = data['teams'][red]['dragonKills']\n",
    "    out['blue_riftHeraldKills'] = data['teams'][blue]['riftHeraldKills']\n",
    "    out['red_riftHeraldKills'] = data['teams'][red]['riftHeraldKills']    \n",
    "    #participants = data['participants']\n",
    "    #blueTeam = [a for a in participants if a['teamId']==blueTeamId]\n",
    "    #redTeam = [a for a in participants if a['teamId']==redTeamId]\n",
    "    for idx, participant in enumerate(data['participants']):\n",
    "        p = reduce_participant_fields(participant)\n",
    "        if 'player' in data['participantIdentities'][idx].keys() and 'summonerId' in data['participantIdentities'][idx]['player'].keys():\n",
    "            out[f\"p{participant['participantId']}_summonerId\"] = data['participantIdentities'][idx]['player']['summonerId']\n",
    "        else:\n",
    "            out[f\"p{participant['participantId']}_summonerId\"] = '0'        \n",
    "        for key in p.keys():            \n",
    "            out[f\"p{participant['participantId']}_{key}\"] = p[key]\n",
    "        \n",
    "    return out, resp.status_code\n"
   ]
  },
  {
   "cell_type": "code",
   "execution_count": 9,
   "metadata": {},
   "outputs": [],
   "source": [
    "def reduce_participant_fields(participant):\n",
    "\n",
    "    keys = ['championId','spell1Id','spell2Id']\n",
    "    out = dict()\n",
    "    for key in keys:\n",
    "        if key in participant.keys():\n",
    "            out[key] = participant[key]\n",
    "        else:\n",
    "            out[key] = np.nan\n",
    "\n",
    "    # from stats:\n",
    "    keys = ['item0','item1','item2','item3','item4','item5','kills','deaths','assists',\n",
    "    'totalDamageDealtToChampions','magicDamageDealtToChampions', 'physicalDamageDealtToChampions', 'trueDamageDealtToChampions',\n",
    "    'totalHeal','damageSelfMitigated','damageDealtToObjectives','damageDealtToTurrets',\n",
    "    'visionScore','timeCCingOthers','totalDamageTaken','magicalDamageTaken','physicalDamageTaken','trueDamageTaken',\n",
    "    'goldEarned','goldSpent','turretKills','inhibitorKills','totalMinionsKilled',\n",
    "    'champLevel','visionWardsBoughtInGame','sightWardsBoughtInGame','wardsPlaced','wardsKilled',\n",
    "    'perk0','perk1','perk2','perk3','perk4','perk5','perkPrimaryStyle','perkSubStyle']\n",
    "    for key in keys:\n",
    "        if key in participant['stats'].keys():\n",
    "            out[key] = participant['stats'][key]\n",
    "        else:\n",
    "            out[key] = np.nan\n",
    "    # from timeline\n",
    "    keys=['role','lane']\n",
    "    for key in keys:\n",
    "        if key in participant['timeline'].keys():\n",
    "            out[key] = participant['timeline'][key]    \n",
    "        else:\n",
    "            out[key] = np.nan\n",
    "    \n",
    "    return out"
   ]
  },
  {
   "cell_type": "code",
   "execution_count": 230,
   "metadata": {},
   "outputs": [
    {
     "data": {
      "text/html": [
       "<div>\n",
       "<style scoped>\n",
       "    .dataframe tbody tr th:only-of-type {\n",
       "        vertical-align: middle;\n",
       "    }\n",
       "\n",
       "    .dataframe tbody tr th {\n",
       "        vertical-align: top;\n",
       "    }\n",
       "\n",
       "    .dataframe thead th {\n",
       "        text-align: right;\n",
       "    }\n",
       "</style>\n",
       "<table border=\"1\" class=\"dataframe\">\n",
       "  <thead>\n",
       "    <tr style=\"text-align: right;\">\n",
       "      <th></th>\n",
       "      <th>tier</th>\n",
       "      <th>gameId</th>\n",
       "      <th>platformId</th>\n",
       "      <th>gameCreation</th>\n",
       "      <th>gameDuration</th>\n",
       "      <th>queueId</th>\n",
       "      <th>mapId</th>\n",
       "      <th>seasonId</th>\n",
       "      <th>gameVersion</th>\n",
       "      <th>gameMode</th>\n",
       "      <th>...</th>\n",
       "      <th>p1_summonerId</th>\n",
       "      <th>p2_summonerId</th>\n",
       "      <th>p3_summonerId</th>\n",
       "      <th>p4_summonerId</th>\n",
       "      <th>p5_summonerId</th>\n",
       "      <th>p6_summonerId</th>\n",
       "      <th>p7_summonerId</th>\n",
       "      <th>p8_summonerId</th>\n",
       "      <th>p9_summonerId</th>\n",
       "      <th>p10_summonerId</th>\n",
       "    </tr>\n",
       "  </thead>\n",
       "  <tbody>\n",
       "    <tr>\n",
       "      <th>0</th>\n",
       "      <td>CHALLENGER</td>\n",
       "      <td>3426025473</td>\n",
       "      <td>NA1</td>\n",
       "      <td>1.589823e+12</td>\n",
       "      <td>1873.0</td>\n",
       "      <td>420.0</td>\n",
       "      <td>11.0</td>\n",
       "      <td>13.0</td>\n",
       "      <td>10.10.320.3039</td>\n",
       "      <td>CLASSIC</td>\n",
       "      <td>...</td>\n",
       "      <td>NaN</td>\n",
       "      <td>NaN</td>\n",
       "      <td>NaN</td>\n",
       "      <td>NaN</td>\n",
       "      <td>NaN</td>\n",
       "      <td>NaN</td>\n",
       "      <td>NaN</td>\n",
       "      <td>NaN</td>\n",
       "      <td>NaN</td>\n",
       "      <td>NaN</td>\n",
       "    </tr>\n",
       "    <tr>\n",
       "      <th>1</th>\n",
       "      <td>CHALLENGER</td>\n",
       "      <td>3515547651</td>\n",
       "      <td>NA1</td>\n",
       "      <td>1.596171e+12</td>\n",
       "      <td>195.0</td>\n",
       "      <td>420.0</td>\n",
       "      <td>11.0</td>\n",
       "      <td>13.0</td>\n",
       "      <td>10.15.330.344</td>\n",
       "      <td>CLASSIC</td>\n",
       "      <td>...</td>\n",
       "      <td>NaN</td>\n",
       "      <td>NaN</td>\n",
       "      <td>NaN</td>\n",
       "      <td>NaN</td>\n",
       "      <td>NaN</td>\n",
       "      <td>NaN</td>\n",
       "      <td>NaN</td>\n",
       "      <td>NaN</td>\n",
       "      <td>NaN</td>\n",
       "      <td>NaN</td>\n",
       "    </tr>\n",
       "    <tr>\n",
       "      <th>2</th>\n",
       "      <td>CHALLENGER</td>\n",
       "      <td>3518726149</td>\n",
       "      <td>NA1</td>\n",
       "      <td>1.596390e+12</td>\n",
       "      <td>1873.0</td>\n",
       "      <td>420.0</td>\n",
       "      <td>11.0</td>\n",
       "      <td>13.0</td>\n",
       "      <td>10.15.330.344</td>\n",
       "      <td>CLASSIC</td>\n",
       "      <td>...</td>\n",
       "      <td>NaN</td>\n",
       "      <td>NaN</td>\n",
       "      <td>NaN</td>\n",
       "      <td>NaN</td>\n",
       "      <td>NaN</td>\n",
       "      <td>NaN</td>\n",
       "      <td>NaN</td>\n",
       "      <td>NaN</td>\n",
       "      <td>NaN</td>\n",
       "      <td>NaN</td>\n",
       "    </tr>\n",
       "    <tr>\n",
       "      <th>3</th>\n",
       "      <td>CHALLENGER</td>\n",
       "      <td>3516497926</td>\n",
       "      <td>NA1</td>\n",
       "      <td>1.596234e+12</td>\n",
       "      <td>1558.0</td>\n",
       "      <td>420.0</td>\n",
       "      <td>11.0</td>\n",
       "      <td>13.0</td>\n",
       "      <td>10.15.330.344</td>\n",
       "      <td>CLASSIC</td>\n",
       "      <td>...</td>\n",
       "      <td>NaN</td>\n",
       "      <td>NaN</td>\n",
       "      <td>NaN</td>\n",
       "      <td>NaN</td>\n",
       "      <td>NaN</td>\n",
       "      <td>NaN</td>\n",
       "      <td>NaN</td>\n",
       "      <td>NaN</td>\n",
       "      <td>NaN</td>\n",
       "      <td>NaN</td>\n",
       "    </tr>\n",
       "    <tr>\n",
       "      <th>4</th>\n",
       "      <td>CHALLENGER</td>\n",
       "      <td>3425927177</td>\n",
       "      <td>NA1</td>\n",
       "      <td>1.589811e+12</td>\n",
       "      <td>1548.0</td>\n",
       "      <td>420.0</td>\n",
       "      <td>11.0</td>\n",
       "      <td>13.0</td>\n",
       "      <td>10.10.320.3039</td>\n",
       "      <td>CLASSIC</td>\n",
       "      <td>...</td>\n",
       "      <td>NaN</td>\n",
       "      <td>NaN</td>\n",
       "      <td>NaN</td>\n",
       "      <td>NaN</td>\n",
       "      <td>NaN</td>\n",
       "      <td>NaN</td>\n",
       "      <td>NaN</td>\n",
       "      <td>NaN</td>\n",
       "      <td>NaN</td>\n",
       "      <td>NaN</td>\n",
       "    </tr>\n",
       "    <tr>\n",
       "      <th>...</th>\n",
       "      <td>...</td>\n",
       "      <td>...</td>\n",
       "      <td>...</td>\n",
       "      <td>...</td>\n",
       "      <td>...</td>\n",
       "      <td>...</td>\n",
       "      <td>...</td>\n",
       "      <td>...</td>\n",
       "      <td>...</td>\n",
       "      <td>...</td>\n",
       "      <td>...</td>\n",
       "      <td>...</td>\n",
       "      <td>...</td>\n",
       "      <td>...</td>\n",
       "      <td>...</td>\n",
       "      <td>...</td>\n",
       "      <td>...</td>\n",
       "      <td>...</td>\n",
       "      <td>...</td>\n",
       "      <td>...</td>\n",
       "      <td>...</td>\n",
       "    </tr>\n",
       "    <tr>\n",
       "      <th>144124</th>\n",
       "      <td>PLATINUM</td>\n",
       "      <td>3479044076</td>\n",
       "      <td>NaN</td>\n",
       "      <td>NaN</td>\n",
       "      <td>NaN</td>\n",
       "      <td>NaN</td>\n",
       "      <td>NaN</td>\n",
       "      <td>NaN</td>\n",
       "      <td>NaN</td>\n",
       "      <td>NaN</td>\n",
       "      <td>...</td>\n",
       "      <td>NaN</td>\n",
       "      <td>NaN</td>\n",
       "      <td>NaN</td>\n",
       "      <td>NaN</td>\n",
       "      <td>NaN</td>\n",
       "      <td>NaN</td>\n",
       "      <td>NaN</td>\n",
       "      <td>NaN</td>\n",
       "      <td>NaN</td>\n",
       "      <td>NaN</td>\n",
       "    </tr>\n",
       "    <tr>\n",
       "      <th>144125</th>\n",
       "      <td>PLATINUM</td>\n",
       "      <td>3509190635</td>\n",
       "      <td>NaN</td>\n",
       "      <td>NaN</td>\n",
       "      <td>NaN</td>\n",
       "      <td>NaN</td>\n",
       "      <td>NaN</td>\n",
       "      <td>NaN</td>\n",
       "      <td>NaN</td>\n",
       "      <td>NaN</td>\n",
       "      <td>...</td>\n",
       "      <td>NaN</td>\n",
       "      <td>NaN</td>\n",
       "      <td>NaN</td>\n",
       "      <td>NaN</td>\n",
       "      <td>NaN</td>\n",
       "      <td>NaN</td>\n",
       "      <td>NaN</td>\n",
       "      <td>NaN</td>\n",
       "      <td>NaN</td>\n",
       "      <td>NaN</td>\n",
       "    </tr>\n",
       "    <tr>\n",
       "      <th>144126</th>\n",
       "      <td>PLATINUM</td>\n",
       "      <td>3482845171</td>\n",
       "      <td>NaN</td>\n",
       "      <td>NaN</td>\n",
       "      <td>NaN</td>\n",
       "      <td>NaN</td>\n",
       "      <td>NaN</td>\n",
       "      <td>NaN</td>\n",
       "      <td>NaN</td>\n",
       "      <td>NaN</td>\n",
       "      <td>...</td>\n",
       "      <td>NaN</td>\n",
       "      <td>NaN</td>\n",
       "      <td>NaN</td>\n",
       "      <td>NaN</td>\n",
       "      <td>NaN</td>\n",
       "      <td>NaN</td>\n",
       "      <td>NaN</td>\n",
       "      <td>NaN</td>\n",
       "      <td>NaN</td>\n",
       "      <td>NaN</td>\n",
       "    </tr>\n",
       "    <tr>\n",
       "      <th>144127</th>\n",
       "      <td>PLATINUM</td>\n",
       "      <td>3385327605</td>\n",
       "      <td>NaN</td>\n",
       "      <td>NaN</td>\n",
       "      <td>NaN</td>\n",
       "      <td>NaN</td>\n",
       "      <td>NaN</td>\n",
       "      <td>NaN</td>\n",
       "      <td>NaN</td>\n",
       "      <td>NaN</td>\n",
       "      <td>...</td>\n",
       "      <td>NaN</td>\n",
       "      <td>NaN</td>\n",
       "      <td>NaN</td>\n",
       "      <td>NaN</td>\n",
       "      <td>NaN</td>\n",
       "      <td>NaN</td>\n",
       "      <td>NaN</td>\n",
       "      <td>NaN</td>\n",
       "      <td>NaN</td>\n",
       "      <td>NaN</td>\n",
       "    </tr>\n",
       "    <tr>\n",
       "      <th>144128</th>\n",
       "      <td>PLATINUM</td>\n",
       "      <td>3440508927</td>\n",
       "      <td>NaN</td>\n",
       "      <td>NaN</td>\n",
       "      <td>NaN</td>\n",
       "      <td>NaN</td>\n",
       "      <td>NaN</td>\n",
       "      <td>NaN</td>\n",
       "      <td>NaN</td>\n",
       "      <td>NaN</td>\n",
       "      <td>...</td>\n",
       "      <td>NaN</td>\n",
       "      <td>NaN</td>\n",
       "      <td>NaN</td>\n",
       "      <td>NaN</td>\n",
       "      <td>NaN</td>\n",
       "      <td>NaN</td>\n",
       "      <td>NaN</td>\n",
       "      <td>NaN</td>\n",
       "      <td>NaN</td>\n",
       "      <td>NaN</td>\n",
       "    </tr>\n",
       "  </tbody>\n",
       "</table>\n",
       "<p>144129 rows × 498 columns</p>\n",
       "</div>"
      ],
      "text/plain": [
       "              tier      gameId platformId  gameCreation  gameDuration  \\\n",
       "0       CHALLENGER  3426025473        NA1  1.589823e+12        1873.0   \n",
       "1       CHALLENGER  3515547651        NA1  1.596171e+12         195.0   \n",
       "2       CHALLENGER  3518726149        NA1  1.596390e+12        1873.0   \n",
       "3       CHALLENGER  3516497926        NA1  1.596234e+12        1558.0   \n",
       "4       CHALLENGER  3425927177        NA1  1.589811e+12        1548.0   \n",
       "...            ...         ...        ...           ...           ...   \n",
       "144124    PLATINUM  3479044076        NaN           NaN           NaN   \n",
       "144125    PLATINUM  3509190635        NaN           NaN           NaN   \n",
       "144126    PLATINUM  3482845171        NaN           NaN           NaN   \n",
       "144127    PLATINUM  3385327605        NaN           NaN           NaN   \n",
       "144128    PLATINUM  3440508927        NaN           NaN           NaN   \n",
       "\n",
       "        queueId  mapId  seasonId     gameVersion gameMode  ... p1_summonerId  \\\n",
       "0         420.0   11.0      13.0  10.10.320.3039  CLASSIC  ...           NaN   \n",
       "1         420.0   11.0      13.0   10.15.330.344  CLASSIC  ...           NaN   \n",
       "2         420.0   11.0      13.0   10.15.330.344  CLASSIC  ...           NaN   \n",
       "3         420.0   11.0      13.0   10.15.330.344  CLASSIC  ...           NaN   \n",
       "4         420.0   11.0      13.0  10.10.320.3039  CLASSIC  ...           NaN   \n",
       "...         ...    ...       ...             ...      ...  ...           ...   \n",
       "144124      NaN    NaN       NaN             NaN      NaN  ...           NaN   \n",
       "144125      NaN    NaN       NaN             NaN      NaN  ...           NaN   \n",
       "144126      NaN    NaN       NaN             NaN      NaN  ...           NaN   \n",
       "144127      NaN    NaN       NaN             NaN      NaN  ...           NaN   \n",
       "144128      NaN    NaN       NaN             NaN      NaN  ...           NaN   \n",
       "\n",
       "        p2_summonerId  p3_summonerId  p4_summonerId  p5_summonerId  \\\n",
       "0                 NaN            NaN            NaN            NaN   \n",
       "1                 NaN            NaN            NaN            NaN   \n",
       "2                 NaN            NaN            NaN            NaN   \n",
       "3                 NaN            NaN            NaN            NaN   \n",
       "4                 NaN            NaN            NaN            NaN   \n",
       "...               ...            ...            ...            ...   \n",
       "144124            NaN            NaN            NaN            NaN   \n",
       "144125            NaN            NaN            NaN            NaN   \n",
       "144126            NaN            NaN            NaN            NaN   \n",
       "144127            NaN            NaN            NaN            NaN   \n",
       "144128            NaN            NaN            NaN            NaN   \n",
       "\n",
       "        p6_summonerId  p7_summonerId  p8_summonerId  p9_summonerId  \\\n",
       "0                 NaN            NaN            NaN            NaN   \n",
       "1                 NaN            NaN            NaN            NaN   \n",
       "2                 NaN            NaN            NaN            NaN   \n",
       "3                 NaN            NaN            NaN            NaN   \n",
       "4                 NaN            NaN            NaN            NaN   \n",
       "...               ...            ...            ...            ...   \n",
       "144124            NaN            NaN            NaN            NaN   \n",
       "144125            NaN            NaN            NaN            NaN   \n",
       "144126            NaN            NaN            NaN            NaN   \n",
       "144127            NaN            NaN            NaN            NaN   \n",
       "144128            NaN            NaN            NaN            NaN   \n",
       "\n",
       "        p10_summonerId  \n",
       "0                  NaN  \n",
       "1                  NaN  \n",
       "2                  NaN  \n",
       "3                  NaN  \n",
       "4                  NaN  \n",
       "...                ...  \n",
       "144124             NaN  \n",
       "144125             NaN  \n",
       "144126             NaN  \n",
       "144127             NaN  \n",
       "144128             NaN  \n",
       "\n",
       "[144129 rows x 498 columns]"
      ]
     },
     "metadata": {},
     "output_type": "display_data"
    }
   ],
   "source": [
    "#df = pd.read_csv('./League of Legends/data/games_na1.csv')\n",
    "for p in range(10):\n",
    "    df[f\"p{p+1}_summonerId\"] = np.nan\n",
    "'''\n",
    "columns = list()\n",
    "existing = df.columns\n",
    "for e in existing:\n",
    "    columns.append(e)\n",
    "for key in game.keys():\n",
    "    columns.append(key)\n",
    "df = df.reindex(columns=columns)\n",
    "'''\n",
    "display(df)"
   ]
  },
  {
   "cell_type": "code",
   "execution_count": 231,
   "metadata": {},
   "outputs": [],
   "source": [
    "df.to_csv('./League of Legends/data/games_na1.csv', index = False)"
   ]
  },
  {
   "cell_type": "code",
   "execution_count": 35,
   "metadata": {},
   "outputs": [
    {
     "name": "stdout",
     "output_type": "stream",
     "text": [
      "\r",
      "105386 of 144128"
     ]
    },
    {
     "name": "stderr",
     "output_type": "stream",
     "text": [
      "C:\\Users\\zackw.000\\.conda\\envs\\insight\\lib\\site-packages\\ipykernel_launcher.py:34: SettingWithCopyWarning: \n",
      "A value is trying to be set on a copy of a slice from a DataFrame\n",
      "\n",
      "See the caveats in the documentation: https://pandas.pydata.org/pandas-docs/stable/user_guide/indexing.html#returning-a-view-versus-a-copy\n"
     ]
    },
    {
     "name": "stdout",
     "output_type": "stream",
     "text": [
      "105868 of 144128"
     ]
    },
    {
     "data": {
      "text/plain": [
       "<Response [404]>"
      ]
     },
     "metadata": {},
     "output_type": "display_data"
    },
    {
     "name": "stdout",
     "output_type": "stream",
     "text": [
      "\r",
      "105868 of 144128"
     ]
    },
    {
     "data": {
      "text/plain": [
       "<Response [404]>"
      ]
     },
     "metadata": {},
     "output_type": "display_data"
    },
    {
     "name": "stdout",
     "output_type": "stream",
     "text": [
      "\r",
      "105868 of 144128"
     ]
    },
    {
     "data": {
      "text/plain": [
       "<Response [404]>"
      ]
     },
     "metadata": {},
     "output_type": "display_data"
    },
    {
     "name": "stdout",
     "output_type": "stream",
     "text": [
      "\r",
      "105868 of 144128"
     ]
    },
    {
     "data": {
      "text/plain": [
       "<Response [404]>"
      ]
     },
     "metadata": {},
     "output_type": "display_data"
    },
    {
     "name": "stdout",
     "output_type": "stream",
     "text": [
      "\r",
      "105868 of 144128"
     ]
    },
    {
     "data": {
      "text/plain": [
       "<Response [404]>"
      ]
     },
     "metadata": {},
     "output_type": "display_data"
    },
    {
     "name": "stdout",
     "output_type": "stream",
     "text": [
      "\r",
      "105868 of 144128"
     ]
    },
    {
     "data": {
      "text/plain": [
       "<Response [404]>"
      ]
     },
     "metadata": {},
     "output_type": "display_data"
    },
    {
     "name": "stdout",
     "output_type": "stream",
     "text": [
      "\r",
      "105868 of 144128"
     ]
    },
    {
     "data": {
      "text/plain": [
       "<Response [404]>"
      ]
     },
     "metadata": {},
     "output_type": "display_data"
    },
    {
     "name": "stdout",
     "output_type": "stream",
     "text": [
      "\r",
      "105868 of 144128"
     ]
    },
    {
     "data": {
      "text/plain": [
       "<Response [404]>"
      ]
     },
     "metadata": {},
     "output_type": "display_data"
    },
    {
     "name": "stdout",
     "output_type": "stream",
     "text": [
      "\r",
      "105868 of 144128"
     ]
    },
    {
     "data": {
      "text/plain": [
       "<Response [404]>"
      ]
     },
     "metadata": {},
     "output_type": "display_data"
    },
    {
     "name": "stdout",
     "output_type": "stream",
     "text": [
      "\r",
      "105868 of 144128"
     ]
    },
    {
     "data": {
      "text/plain": [
       "<Response [404]>"
      ]
     },
     "metadata": {},
     "output_type": "display_data"
    },
    {
     "name": "stdout",
     "output_type": "stream",
     "text": [
      "\n",
      "4723864809\n",
      "404 not found: exceeded max retries for 4723864809\n",
      "106168 of 144128"
     ]
    },
    {
     "data": {
      "text/plain": [
       "<Response [404]>"
      ]
     },
     "metadata": {},
     "output_type": "display_data"
    },
    {
     "name": "stdout",
     "output_type": "stream",
     "text": [
      "\r",
      "106168 of 144128"
     ]
    },
    {
     "data": {
      "text/plain": [
       "<Response [404]>"
      ]
     },
     "metadata": {},
     "output_type": "display_data"
    },
    {
     "name": "stdout",
     "output_type": "stream",
     "text": [
      "\r",
      "106168 of 144128"
     ]
    },
    {
     "data": {
      "text/plain": [
       "<Response [404]>"
      ]
     },
     "metadata": {},
     "output_type": "display_data"
    },
    {
     "name": "stdout",
     "output_type": "stream",
     "text": [
      "\r",
      "106168 of 144128"
     ]
    },
    {
     "data": {
      "text/plain": [
       "<Response [404]>"
      ]
     },
     "metadata": {},
     "output_type": "display_data"
    },
    {
     "name": "stdout",
     "output_type": "stream",
     "text": [
      "\r",
      "106168 of 144128"
     ]
    },
    {
     "data": {
      "text/plain": [
       "<Response [404]>"
      ]
     },
     "metadata": {},
     "output_type": "display_data"
    },
    {
     "name": "stdout",
     "output_type": "stream",
     "text": [
      "\r",
      "106168 of 144128"
     ]
    },
    {
     "data": {
      "text/plain": [
       "<Response [404]>"
      ]
     },
     "metadata": {},
     "output_type": "display_data"
    },
    {
     "name": "stdout",
     "output_type": "stream",
     "text": [
      "\r",
      "106168 of 144128"
     ]
    },
    {
     "data": {
      "text/plain": [
       "<Response [404]>"
      ]
     },
     "metadata": {},
     "output_type": "display_data"
    },
    {
     "name": "stdout",
     "output_type": "stream",
     "text": [
      "\r",
      "106168 of 144128"
     ]
    },
    {
     "data": {
      "text/plain": [
       "<Response [404]>"
      ]
     },
     "metadata": {},
     "output_type": "display_data"
    },
    {
     "name": "stdout",
     "output_type": "stream",
     "text": [
      "\r",
      "106168 of 144128"
     ]
    },
    {
     "data": {
      "text/plain": [
       "<Response [404]>"
      ]
     },
     "metadata": {},
     "output_type": "display_data"
    },
    {
     "name": "stdout",
     "output_type": "stream",
     "text": [
      "\r",
      "106168 of 144128"
     ]
    },
    {
     "data": {
      "text/plain": [
       "<Response [404]>"
      ]
     },
     "metadata": {},
     "output_type": "display_data"
    },
    {
     "name": "stdout",
     "output_type": "stream",
     "text": [
      "\n",
      "4723734507\n",
      "404 not found: exceeded max retries for 4723734507\n",
      "106183 of 144128"
     ]
    },
    {
     "data": {
      "text/plain": [
       "<Response [504]>"
      ]
     },
     "metadata": {},
     "output_type": "display_data"
    },
    {
     "name": "stdout",
     "output_type": "stream",
     "text": [
      "106400 of 144128"
     ]
    },
    {
     "data": {
      "text/plain": [
       "<Response [504]>"
      ]
     },
     "metadata": {},
     "output_type": "display_data"
    },
    {
     "name": "stdout",
     "output_type": "stream",
     "text": [
      "106415 of 144128"
     ]
    },
    {
     "data": {
      "text/plain": [
       "<Response [504]>"
      ]
     },
     "metadata": {},
     "output_type": "display_data"
    },
    {
     "name": "stdout",
     "output_type": "stream",
     "text": [
      "106642 of 144128"
     ]
    },
    {
     "data": {
      "text/plain": [
       "<Response [504]>"
      ]
     },
     "metadata": {},
     "output_type": "display_data"
    },
    {
     "name": "stdout",
     "output_type": "stream",
     "text": [
      "106737 of 144128\n",
      "checkpoint\n",
      "\n",
      "106977 of 144128"
     ]
    },
    {
     "data": {
      "text/plain": [
       "<Response [504]>"
      ]
     },
     "metadata": {},
     "output_type": "display_data"
    },
    {
     "name": "stdout",
     "output_type": "stream",
     "text": [
      "107015 of 144128"
     ]
    },
    {
     "data": {
      "text/plain": [
       "<Response [504]>"
      ]
     },
     "metadata": {},
     "output_type": "display_data"
    },
    {
     "name": "stdout",
     "output_type": "stream",
     "text": [
      "107297 of 144128"
     ]
    },
    {
     "data": {
      "text/plain": [
       "<Response [504]>"
      ]
     },
     "metadata": {},
     "output_type": "display_data"
    },
    {
     "name": "stdout",
     "output_type": "stream",
     "text": [
      "107765 of 144128"
     ]
    },
    {
     "data": {
      "text/plain": [
       "<Response [504]>"
      ]
     },
     "metadata": {},
     "output_type": "display_data"
    },
    {
     "name": "stdout",
     "output_type": "stream",
     "text": [
      "107818 of 144128"
     ]
    },
    {
     "data": {
      "text/plain": [
       "<Response [504]>"
      ]
     },
     "metadata": {},
     "output_type": "display_data"
    },
    {
     "name": "stdout",
     "output_type": "stream",
     "text": [
      "107837 of 144128"
     ]
    },
    {
     "data": {
      "text/plain": [
       "<Response [504]>"
      ]
     },
     "metadata": {},
     "output_type": "display_data"
    },
    {
     "name": "stdout",
     "output_type": "stream",
     "text": [
      "108087 of 144128\n",
      "checkpoint\n",
      "\n",
      "108199 of 144128"
     ]
    },
    {
     "data": {
      "text/plain": [
       "<Response [504]>"
      ]
     },
     "metadata": {},
     "output_type": "display_data"
    },
    {
     "name": "stdout",
     "output_type": "stream",
     "text": [
      "108241 of 144128"
     ]
    },
    {
     "data": {
      "text/plain": [
       "<Response [504]>"
      ]
     },
     "metadata": {},
     "output_type": "display_data"
    },
    {
     "name": "stdout",
     "output_type": "stream",
     "text": [
      "108523 of 144128"
     ]
    },
    {
     "data": {
      "text/plain": [
       "<Response [404]>"
      ]
     },
     "metadata": {},
     "output_type": "display_data"
    },
    {
     "name": "stdout",
     "output_type": "stream",
     "text": [
      "\r",
      "108523 of 144128"
     ]
    },
    {
     "data": {
      "text/plain": [
       "<Response [404]>"
      ]
     },
     "metadata": {},
     "output_type": "display_data"
    },
    {
     "name": "stdout",
     "output_type": "stream",
     "text": [
      "\r",
      "108523 of 144128"
     ]
    },
    {
     "data": {
      "text/plain": [
       "<Response [404]>"
      ]
     },
     "metadata": {},
     "output_type": "display_data"
    },
    {
     "name": "stdout",
     "output_type": "stream",
     "text": [
      "\r",
      "108523 of 144128"
     ]
    },
    {
     "data": {
      "text/plain": [
       "<Response [404]>"
      ]
     },
     "metadata": {},
     "output_type": "display_data"
    },
    {
     "name": "stdout",
     "output_type": "stream",
     "text": [
      "\r",
      "108523 of 144128"
     ]
    },
    {
     "data": {
      "text/plain": [
       "<Response [404]>"
      ]
     },
     "metadata": {},
     "output_type": "display_data"
    },
    {
     "name": "stdout",
     "output_type": "stream",
     "text": [
      "\r",
      "108523 of 144128"
     ]
    },
    {
     "data": {
      "text/plain": [
       "<Response [404]>"
      ]
     },
     "metadata": {},
     "output_type": "display_data"
    },
    {
     "name": "stdout",
     "output_type": "stream",
     "text": [
      "\r",
      "108523 of 144128"
     ]
    },
    {
     "data": {
      "text/plain": [
       "<Response [404]>"
      ]
     },
     "metadata": {},
     "output_type": "display_data"
    },
    {
     "name": "stdout",
     "output_type": "stream",
     "text": [
      "\r",
      "108523 of 144128"
     ]
    },
    {
     "data": {
      "text/plain": [
       "<Response [404]>"
      ]
     },
     "metadata": {},
     "output_type": "display_data"
    },
    {
     "name": "stdout",
     "output_type": "stream",
     "text": [
      "\r",
      "108523 of 144128"
     ]
    },
    {
     "data": {
      "text/plain": [
       "<Response [404]>"
      ]
     },
     "metadata": {},
     "output_type": "display_data"
    },
    {
     "name": "stdout",
     "output_type": "stream",
     "text": [
      "\r",
      "108523 of 144128"
     ]
    },
    {
     "data": {
      "text/plain": [
       "<Response [404]>"
      ]
     },
     "metadata": {},
     "output_type": "display_data"
    },
    {
     "name": "stdout",
     "output_type": "stream",
     "text": [
      "\n",
      "4721774960\n",
      "404 not found: exceeded max retries for 4721774960\n",
      "109169 of 144128"
     ]
    },
    {
     "data": {
      "text/plain": [
       "<Response [404]>"
      ]
     },
     "metadata": {},
     "output_type": "display_data"
    },
    {
     "name": "stdout",
     "output_type": "stream",
     "text": [
      "\r",
      "109169 of 144128"
     ]
    },
    {
     "data": {
      "text/plain": [
       "<Response [404]>"
      ]
     },
     "metadata": {},
     "output_type": "display_data"
    },
    {
     "name": "stdout",
     "output_type": "stream",
     "text": [
      "\r",
      "109169 of 144128"
     ]
    },
    {
     "data": {
      "text/plain": [
       "<Response [404]>"
      ]
     },
     "metadata": {},
     "output_type": "display_data"
    },
    {
     "name": "stdout",
     "output_type": "stream",
     "text": [
      "\r",
      "109169 of 144128"
     ]
    },
    {
     "data": {
      "text/plain": [
       "<Response [404]>"
      ]
     },
     "metadata": {},
     "output_type": "display_data"
    },
    {
     "name": "stdout",
     "output_type": "stream",
     "text": [
      "\r",
      "109169 of 144128"
     ]
    },
    {
     "data": {
      "text/plain": [
       "<Response [404]>"
      ]
     },
     "metadata": {},
     "output_type": "display_data"
    },
    {
     "name": "stdout",
     "output_type": "stream",
     "text": [
      "\r",
      "109169 of 144128"
     ]
    },
    {
     "data": {
      "text/plain": [
       "<Response [404]>"
      ]
     },
     "metadata": {},
     "output_type": "display_data"
    },
    {
     "name": "stdout",
     "output_type": "stream",
     "text": [
      "\r",
      "109169 of 144128"
     ]
    },
    {
     "data": {
      "text/plain": [
       "<Response [404]>"
      ]
     },
     "metadata": {},
     "output_type": "display_data"
    },
    {
     "name": "stdout",
     "output_type": "stream",
     "text": [
      "\r",
      "109169 of 144128"
     ]
    },
    {
     "data": {
      "text/plain": [
       "<Response [404]>"
      ]
     },
     "metadata": {},
     "output_type": "display_data"
    },
    {
     "name": "stdout",
     "output_type": "stream",
     "text": [
      "\r",
      "109169 of 144128"
     ]
    },
    {
     "data": {
      "text/plain": [
       "<Response [404]>"
      ]
     },
     "metadata": {},
     "output_type": "display_data"
    },
    {
     "name": "stdout",
     "output_type": "stream",
     "text": [
      "\r",
      "109169 of 144128"
     ]
    },
    {
     "data": {
      "text/plain": [
       "<Response [404]>"
      ]
     },
     "metadata": {},
     "output_type": "display_data"
    },
    {
     "name": "stdout",
     "output_type": "stream",
     "text": [
      "\n",
      "684890092\n",
      "404 not found: exceeded max retries for 684890092\n",
      "109186 of 144128"
     ]
    },
    {
     "data": {
      "text/plain": [
       "<Response [404]>"
      ]
     },
     "metadata": {},
     "output_type": "display_data"
    },
    {
     "name": "stdout",
     "output_type": "stream",
     "text": [
      "\r",
      "109186 of 144128"
     ]
    },
    {
     "data": {
      "text/plain": [
       "<Response [404]>"
      ]
     },
     "metadata": {},
     "output_type": "display_data"
    },
    {
     "name": "stdout",
     "output_type": "stream",
     "text": [
      "\r",
      "109186 of 144128"
     ]
    },
    {
     "data": {
      "text/plain": [
       "<Response [404]>"
      ]
     },
     "metadata": {},
     "output_type": "display_data"
    },
    {
     "name": "stdout",
     "output_type": "stream",
     "text": [
      "\r",
      "109186 of 144128"
     ]
    },
    {
     "data": {
      "text/plain": [
       "<Response [404]>"
      ]
     },
     "metadata": {},
     "output_type": "display_data"
    },
    {
     "name": "stdout",
     "output_type": "stream",
     "text": [
      "\r",
      "109186 of 144128"
     ]
    },
    {
     "data": {
      "text/plain": [
       "<Response [404]>"
      ]
     },
     "metadata": {},
     "output_type": "display_data"
    },
    {
     "name": "stdout",
     "output_type": "stream",
     "text": [
      "\r",
      "109186 of 144128"
     ]
    },
    {
     "data": {
      "text/plain": [
       "<Response [404]>"
      ]
     },
     "metadata": {},
     "output_type": "display_data"
    },
    {
     "name": "stdout",
     "output_type": "stream",
     "text": [
      "\r",
      "109186 of 144128"
     ]
    },
    {
     "data": {
      "text/plain": [
       "<Response [404]>"
      ]
     },
     "metadata": {},
     "output_type": "display_data"
    },
    {
     "name": "stdout",
     "output_type": "stream",
     "text": [
      "\r",
      "109186 of 144128"
     ]
    },
    {
     "data": {
      "text/plain": [
       "<Response [404]>"
      ]
     },
     "metadata": {},
     "output_type": "display_data"
    },
    {
     "name": "stdout",
     "output_type": "stream",
     "text": [
      "\r",
      "109186 of 144128"
     ]
    },
    {
     "data": {
      "text/plain": [
       "<Response [404]>"
      ]
     },
     "metadata": {},
     "output_type": "display_data"
    },
    {
     "name": "stdout",
     "output_type": "stream",
     "text": [
      "\r",
      "109186 of 144128"
     ]
    },
    {
     "data": {
      "text/plain": [
       "<Response [404]>"
      ]
     },
     "metadata": {},
     "output_type": "display_data"
    },
    {
     "name": "stdout",
     "output_type": "stream",
     "text": [
      "\n",
      "225875998\n",
      "404 not found: exceeded max retries for 225875998\n",
      "109440 of 144128\n",
      "checkpoint\n",
      "\n",
      "109673 of 144128"
     ]
    },
    {
     "data": {
      "text/plain": [
       "<Response [404]>"
      ]
     },
     "metadata": {},
     "output_type": "display_data"
    },
    {
     "name": "stdout",
     "output_type": "stream",
     "text": [
      "\r",
      "109673 of 144128"
     ]
    },
    {
     "data": {
      "text/plain": [
       "<Response [404]>"
      ]
     },
     "metadata": {},
     "output_type": "display_data"
    },
    {
     "name": "stdout",
     "output_type": "stream",
     "text": [
      "\r",
      "109673 of 144128"
     ]
    },
    {
     "data": {
      "text/plain": [
       "<Response [404]>"
      ]
     },
     "metadata": {},
     "output_type": "display_data"
    },
    {
     "name": "stdout",
     "output_type": "stream",
     "text": [
      "\r",
      "109673 of 144128"
     ]
    },
    {
     "data": {
      "text/plain": [
       "<Response [404]>"
      ]
     },
     "metadata": {},
     "output_type": "display_data"
    },
    {
     "name": "stdout",
     "output_type": "stream",
     "text": [
      "\r",
      "109673 of 144128"
     ]
    },
    {
     "data": {
      "text/plain": [
       "<Response [404]>"
      ]
     },
     "metadata": {},
     "output_type": "display_data"
    },
    {
     "name": "stdout",
     "output_type": "stream",
     "text": [
      "\r",
      "109673 of 144128"
     ]
    },
    {
     "data": {
      "text/plain": [
       "<Response [404]>"
      ]
     },
     "metadata": {},
     "output_type": "display_data"
    },
    {
     "name": "stdout",
     "output_type": "stream",
     "text": [
      "\r",
      "109673 of 144128"
     ]
    },
    {
     "data": {
      "text/plain": [
       "<Response [404]>"
      ]
     },
     "metadata": {},
     "output_type": "display_data"
    },
    {
     "name": "stdout",
     "output_type": "stream",
     "text": [
      "\r",
      "109673 of 144128"
     ]
    },
    {
     "data": {
      "text/plain": [
       "<Response [404]>"
      ]
     },
     "metadata": {},
     "output_type": "display_data"
    },
    {
     "name": "stdout",
     "output_type": "stream",
     "text": [
      "\r",
      "109673 of 144128"
     ]
    },
    {
     "data": {
      "text/plain": [
       "<Response [404]>"
      ]
     },
     "metadata": {},
     "output_type": "display_data"
    },
    {
     "name": "stdout",
     "output_type": "stream",
     "text": [
      "\r",
      "109673 of 144128"
     ]
    },
    {
     "data": {
      "text/plain": [
       "<Response [404]>"
      ]
     },
     "metadata": {},
     "output_type": "display_data"
    },
    {
     "name": "stdout",
     "output_type": "stream",
     "text": [
      "\n",
      "4723613005\n",
      "404 not found: exceeded max retries for 4723613005\n",
      "109776 of 144128"
     ]
    },
    {
     "data": {
      "text/plain": [
       "<Response [404]>"
      ]
     },
     "metadata": {},
     "output_type": "display_data"
    },
    {
     "name": "stdout",
     "output_type": "stream",
     "text": [
      "\r",
      "109776 of 144128"
     ]
    },
    {
     "data": {
      "text/plain": [
       "<Response [404]>"
      ]
     },
     "metadata": {},
     "output_type": "display_data"
    },
    {
     "name": "stdout",
     "output_type": "stream",
     "text": [
      "\r",
      "109776 of 144128"
     ]
    },
    {
     "data": {
      "text/plain": [
       "<Response [404]>"
      ]
     },
     "metadata": {},
     "output_type": "display_data"
    },
    {
     "name": "stdout",
     "output_type": "stream",
     "text": [
      "\r",
      "109776 of 144128"
     ]
    },
    {
     "data": {
      "text/plain": [
       "<Response [404]>"
      ]
     },
     "metadata": {},
     "output_type": "display_data"
    },
    {
     "name": "stdout",
     "output_type": "stream",
     "text": [
      "\r",
      "109776 of 144128"
     ]
    },
    {
     "data": {
      "text/plain": [
       "<Response [404]>"
      ]
     },
     "metadata": {},
     "output_type": "display_data"
    },
    {
     "name": "stdout",
     "output_type": "stream",
     "text": [
      "\r",
      "109776 of 144128"
     ]
    },
    {
     "data": {
      "text/plain": [
       "<Response [404]>"
      ]
     },
     "metadata": {},
     "output_type": "display_data"
    },
    {
     "name": "stdout",
     "output_type": "stream",
     "text": [
      "\r",
      "109776 of 144128"
     ]
    },
    {
     "data": {
      "text/plain": [
       "<Response [404]>"
      ]
     },
     "metadata": {},
     "output_type": "display_data"
    },
    {
     "name": "stdout",
     "output_type": "stream",
     "text": [
      "\r",
      "109776 of 144128"
     ]
    },
    {
     "data": {
      "text/plain": [
       "<Response [404]>"
      ]
     },
     "metadata": {},
     "output_type": "display_data"
    },
    {
     "name": "stdout",
     "output_type": "stream",
     "text": [
      "\r",
      "109776 of 144128"
     ]
    },
    {
     "data": {
      "text/plain": [
       "<Response [404]>"
      ]
     },
     "metadata": {},
     "output_type": "display_data"
    },
    {
     "name": "stdout",
     "output_type": "stream",
     "text": [
      "\r",
      "109776 of 144128"
     ]
    },
    {
     "data": {
      "text/plain": [
       "<Response [404]>"
      ]
     },
     "metadata": {},
     "output_type": "display_data"
    },
    {
     "name": "stdout",
     "output_type": "stream",
     "text": [
      "\n",
      "225746518\n",
      "404 not found: exceeded max retries for 225746518\n",
      "109838 of 144128"
     ]
    },
    {
     "data": {
      "text/plain": [
       "<Response [404]>"
      ]
     },
     "metadata": {},
     "output_type": "display_data"
    },
    {
     "name": "stdout",
     "output_type": "stream",
     "text": [
      "\r",
      "109838 of 144128"
     ]
    },
    {
     "data": {
      "text/plain": [
       "<Response [404]>"
      ]
     },
     "metadata": {},
     "output_type": "display_data"
    },
    {
     "name": "stdout",
     "output_type": "stream",
     "text": [
      "\r",
      "109838 of 144128"
     ]
    },
    {
     "data": {
      "text/plain": [
       "<Response [404]>"
      ]
     },
     "metadata": {},
     "output_type": "display_data"
    },
    {
     "name": "stdout",
     "output_type": "stream",
     "text": [
      "\r",
      "109838 of 144128"
     ]
    },
    {
     "data": {
      "text/plain": [
       "<Response [404]>"
      ]
     },
     "metadata": {},
     "output_type": "display_data"
    },
    {
     "name": "stdout",
     "output_type": "stream",
     "text": [
      "\r",
      "109838 of 144128"
     ]
    },
    {
     "data": {
      "text/plain": [
       "<Response [404]>"
      ]
     },
     "metadata": {},
     "output_type": "display_data"
    },
    {
     "name": "stdout",
     "output_type": "stream",
     "text": [
      "\r",
      "109838 of 144128"
     ]
    },
    {
     "data": {
      "text/plain": [
       "<Response [404]>"
      ]
     },
     "metadata": {},
     "output_type": "display_data"
    },
    {
     "name": "stdout",
     "output_type": "stream",
     "text": [
      "\r",
      "109838 of 144128"
     ]
    },
    {
     "data": {
      "text/plain": [
       "<Response [404]>"
      ]
     },
     "metadata": {},
     "output_type": "display_data"
    },
    {
     "name": "stdout",
     "output_type": "stream",
     "text": [
      "\r",
      "109838 of 144128"
     ]
    },
    {
     "data": {
      "text/plain": [
       "<Response [404]>"
      ]
     },
     "metadata": {},
     "output_type": "display_data"
    },
    {
     "name": "stdout",
     "output_type": "stream",
     "text": [
      "\r",
      "109838 of 144128"
     ]
    },
    {
     "data": {
      "text/plain": [
       "<Response [404]>"
      ]
     },
     "metadata": {},
     "output_type": "display_data"
    },
    {
     "name": "stdout",
     "output_type": "stream",
     "text": [
      "\r",
      "109838 of 144128"
     ]
    },
    {
     "data": {
      "text/plain": [
       "<Response [404]>"
      ]
     },
     "metadata": {},
     "output_type": "display_data"
    },
    {
     "name": "stdout",
     "output_type": "stream",
     "text": [
      "\n",
      "225877717\n",
      "404 not found: exceeded max retries for 225877717\n",
      "109857 of 144128"
     ]
    },
    {
     "data": {
      "text/plain": [
       "<Response [404]>"
      ]
     },
     "metadata": {},
     "output_type": "display_data"
    },
    {
     "name": "stdout",
     "output_type": "stream",
     "text": [
      "\r",
      "109857 of 144128"
     ]
    },
    {
     "data": {
      "text/plain": [
       "<Response [404]>"
      ]
     },
     "metadata": {},
     "output_type": "display_data"
    },
    {
     "name": "stdout",
     "output_type": "stream",
     "text": [
      "\r",
      "109857 of 144128"
     ]
    },
    {
     "data": {
      "text/plain": [
       "<Response [404]>"
      ]
     },
     "metadata": {},
     "output_type": "display_data"
    },
    {
     "name": "stdout",
     "output_type": "stream",
     "text": [
      "\r",
      "109857 of 144128"
     ]
    },
    {
     "data": {
      "text/plain": [
       "<Response [404]>"
      ]
     },
     "metadata": {},
     "output_type": "display_data"
    },
    {
     "name": "stdout",
     "output_type": "stream",
     "text": [
      "\r",
      "109857 of 144128"
     ]
    },
    {
     "data": {
      "text/plain": [
       "<Response [404]>"
      ]
     },
     "metadata": {},
     "output_type": "display_data"
    },
    {
     "name": "stdout",
     "output_type": "stream",
     "text": [
      "\r",
      "109857 of 144128"
     ]
    },
    {
     "data": {
      "text/plain": [
       "<Response [404]>"
      ]
     },
     "metadata": {},
     "output_type": "display_data"
    },
    {
     "name": "stdout",
     "output_type": "stream",
     "text": [
      "\r",
      "109857 of 144128"
     ]
    },
    {
     "data": {
      "text/plain": [
       "<Response [404]>"
      ]
     },
     "metadata": {},
     "output_type": "display_data"
    },
    {
     "name": "stdout",
     "output_type": "stream",
     "text": [
      "\r",
      "109857 of 144128"
     ]
    },
    {
     "data": {
      "text/plain": [
       "<Response [404]>"
      ]
     },
     "metadata": {},
     "output_type": "display_data"
    },
    {
     "name": "stdout",
     "output_type": "stream",
     "text": [
      "\r",
      "109857 of 144128"
     ]
    },
    {
     "data": {
      "text/plain": [
       "<Response [404]>"
      ]
     },
     "metadata": {},
     "output_type": "display_data"
    },
    {
     "name": "stdout",
     "output_type": "stream",
     "text": [
      "\r",
      "109857 of 144128"
     ]
    },
    {
     "data": {
      "text/plain": [
       "<Response [404]>"
      ]
     },
     "metadata": {},
     "output_type": "display_data"
    },
    {
     "name": "stdout",
     "output_type": "stream",
     "text": [
      "\n",
      "684629754\n",
      "404 not found: exceeded max retries for 684629754\n",
      "110125 of 144128"
     ]
    },
    {
     "data": {
      "text/plain": [
       "<Response [504]>"
      ]
     },
     "metadata": {},
     "output_type": "display_data"
    },
    {
     "name": "stdout",
     "output_type": "stream",
     "text": [
      "110345 of 144128"
     ]
    },
    {
     "data": {
      "text/plain": [
       "<Response [504]>"
      ]
     },
     "metadata": {},
     "output_type": "display_data"
    },
    {
     "name": "stdout",
     "output_type": "stream",
     "text": [
      "110404 of 144128"
     ]
    },
    {
     "data": {
      "text/plain": [
       "<Response [404]>"
      ]
     },
     "metadata": {},
     "output_type": "display_data"
    },
    {
     "name": "stdout",
     "output_type": "stream",
     "text": [
      "\r",
      "110404 of 144128"
     ]
    },
    {
     "data": {
      "text/plain": [
       "<Response [404]>"
      ]
     },
     "metadata": {},
     "output_type": "display_data"
    },
    {
     "name": "stdout",
     "output_type": "stream",
     "text": [
      "\r",
      "110404 of 144128"
     ]
    },
    {
     "data": {
      "text/plain": [
       "<Response [404]>"
      ]
     },
     "metadata": {},
     "output_type": "display_data"
    },
    {
     "name": "stdout",
     "output_type": "stream",
     "text": [
      "\r",
      "110404 of 144128"
     ]
    },
    {
     "data": {
      "text/plain": [
       "<Response [404]>"
      ]
     },
     "metadata": {},
     "output_type": "display_data"
    },
    {
     "name": "stdout",
     "output_type": "stream",
     "text": [
      "\r",
      "110404 of 144128"
     ]
    },
    {
     "data": {
      "text/plain": [
       "<Response [404]>"
      ]
     },
     "metadata": {},
     "output_type": "display_data"
    },
    {
     "name": "stdout",
     "output_type": "stream",
     "text": [
      "\r",
      "110404 of 144128"
     ]
    },
    {
     "data": {
      "text/plain": [
       "<Response [404]>"
      ]
     },
     "metadata": {},
     "output_type": "display_data"
    },
    {
     "name": "stdout",
     "output_type": "stream",
     "text": [
      "\r",
      "110404 of 144128"
     ]
    },
    {
     "data": {
      "text/plain": [
       "<Response [404]>"
      ]
     },
     "metadata": {},
     "output_type": "display_data"
    },
    {
     "name": "stdout",
     "output_type": "stream",
     "text": [
      "\r",
      "110404 of 144128"
     ]
    },
    {
     "data": {
      "text/plain": [
       "<Response [404]>"
      ]
     },
     "metadata": {},
     "output_type": "display_data"
    },
    {
     "name": "stdout",
     "output_type": "stream",
     "text": [
      "\r",
      "110404 of 144128"
     ]
    },
    {
     "data": {
      "text/plain": [
       "<Response [404]>"
      ]
     },
     "metadata": {},
     "output_type": "display_data"
    },
    {
     "name": "stdout",
     "output_type": "stream",
     "text": [
      "\r",
      "110404 of 144128"
     ]
    },
    {
     "data": {
      "text/plain": [
       "<Response [404]>"
      ]
     },
     "metadata": {},
     "output_type": "display_data"
    },
    {
     "name": "stdout",
     "output_type": "stream",
     "text": [
      "\n",
      "225879237\n",
      "404 not found: exceeded max retries for 225879237\n",
      "110596 of 144128"
     ]
    },
    {
     "data": {
      "text/plain": [
       "<Response [404]>"
      ]
     },
     "metadata": {},
     "output_type": "display_data"
    },
    {
     "name": "stdout",
     "output_type": "stream",
     "text": [
      "\r",
      "110596 of 144128"
     ]
    },
    {
     "data": {
      "text/plain": [
       "<Response [404]>"
      ]
     },
     "metadata": {},
     "output_type": "display_data"
    },
    {
     "name": "stdout",
     "output_type": "stream",
     "text": [
      "\r",
      "110596 of 144128"
     ]
    },
    {
     "data": {
      "text/plain": [
       "<Response [404]>"
      ]
     },
     "metadata": {},
     "output_type": "display_data"
    },
    {
     "name": "stdout",
     "output_type": "stream",
     "text": [
      "\r",
      "110596 of 144128"
     ]
    },
    {
     "data": {
      "text/plain": [
       "<Response [404]>"
      ]
     },
     "metadata": {},
     "output_type": "display_data"
    },
    {
     "name": "stdout",
     "output_type": "stream",
     "text": [
      "\r",
      "110596 of 144128"
     ]
    },
    {
     "data": {
      "text/plain": [
       "<Response [404]>"
      ]
     },
     "metadata": {},
     "output_type": "display_data"
    },
    {
     "name": "stdout",
     "output_type": "stream",
     "text": [
      "\r",
      "110596 of 144128"
     ]
    },
    {
     "data": {
      "text/plain": [
       "<Response [404]>"
      ]
     },
     "metadata": {},
     "output_type": "display_data"
    },
    {
     "name": "stdout",
     "output_type": "stream",
     "text": [
      "\r",
      "110596 of 144128"
     ]
    },
    {
     "data": {
      "text/plain": [
       "<Response [404]>"
      ]
     },
     "metadata": {},
     "output_type": "display_data"
    },
    {
     "name": "stdout",
     "output_type": "stream",
     "text": [
      "\r",
      "110596 of 144128"
     ]
    },
    {
     "data": {
      "text/plain": [
       "<Response [404]>"
      ]
     },
     "metadata": {},
     "output_type": "display_data"
    },
    {
     "name": "stdout",
     "output_type": "stream",
     "text": [
      "\r",
      "110596 of 144128"
     ]
    },
    {
     "data": {
      "text/plain": [
       "<Response [404]>"
      ]
     },
     "metadata": {},
     "output_type": "display_data"
    },
    {
     "name": "stdout",
     "output_type": "stream",
     "text": [
      "\r",
      "110596 of 144128"
     ]
    },
    {
     "data": {
      "text/plain": [
       "<Response [404]>"
      ]
     },
     "metadata": {},
     "output_type": "display_data"
    },
    {
     "name": "stdout",
     "output_type": "stream",
     "text": [
      "\n",
      "225748664\n",
      "404 not found: exceeded max retries for 225748664\n",
      "\r",
      "110597 of 144128"
     ]
    },
    {
     "data": {
      "text/plain": [
       "<Response [504]>"
      ]
     },
     "metadata": {},
     "output_type": "display_data"
    },
    {
     "name": "stdout",
     "output_type": "stream",
     "text": [
      "110716 of 144128"
     ]
    },
    {
     "data": {
      "text/plain": [
       "<Response [404]>"
      ]
     },
     "metadata": {},
     "output_type": "display_data"
    },
    {
     "name": "stdout",
     "output_type": "stream",
     "text": [
      "\r",
      "110716 of 144128"
     ]
    },
    {
     "data": {
      "text/plain": [
       "<Response [404]>"
      ]
     },
     "metadata": {},
     "output_type": "display_data"
    },
    {
     "name": "stdout",
     "output_type": "stream",
     "text": [
      "\r",
      "110716 of 144128"
     ]
    },
    {
     "data": {
      "text/plain": [
       "<Response [404]>"
      ]
     },
     "metadata": {},
     "output_type": "display_data"
    },
    {
     "name": "stdout",
     "output_type": "stream",
     "text": [
      "\r",
      "110716 of 144128"
     ]
    },
    {
     "data": {
      "text/plain": [
       "<Response [404]>"
      ]
     },
     "metadata": {},
     "output_type": "display_data"
    },
    {
     "name": "stdout",
     "output_type": "stream",
     "text": [
      "\r",
      "110716 of 144128"
     ]
    },
    {
     "data": {
      "text/plain": [
       "<Response [404]>"
      ]
     },
     "metadata": {},
     "output_type": "display_data"
    },
    {
     "name": "stdout",
     "output_type": "stream",
     "text": [
      "\r",
      "110716 of 144128"
     ]
    },
    {
     "data": {
      "text/plain": [
       "<Response [404]>"
      ]
     },
     "metadata": {},
     "output_type": "display_data"
    },
    {
     "name": "stdout",
     "output_type": "stream",
     "text": [
      "\r",
      "110716 of 144128"
     ]
    },
    {
     "data": {
      "text/plain": [
       "<Response [404]>"
      ]
     },
     "metadata": {},
     "output_type": "display_data"
    },
    {
     "name": "stdout",
     "output_type": "stream",
     "text": [
      "\r",
      "110716 of 144128"
     ]
    },
    {
     "data": {
      "text/plain": [
       "<Response [404]>"
      ]
     },
     "metadata": {},
     "output_type": "display_data"
    },
    {
     "name": "stdout",
     "output_type": "stream",
     "text": [
      "\r",
      "110716 of 144128"
     ]
    },
    {
     "data": {
      "text/plain": [
       "<Response [404]>"
      ]
     },
     "metadata": {},
     "output_type": "display_data"
    },
    {
     "name": "stdout",
     "output_type": "stream",
     "text": [
      "\r",
      "110716 of 144128"
     ]
    },
    {
     "data": {
      "text/plain": [
       "<Response [404]>"
      ]
     },
     "metadata": {},
     "output_type": "display_data"
    },
    {
     "name": "stdout",
     "output_type": "stream",
     "text": [
      "\n",
      "236890067\n",
      "404 not found: exceeded max retries for 236890067\n",
      "110797 of 144128\n",
      "checkpoint\n",
      "\n",
      "110977 of 144128"
     ]
    },
    {
     "data": {
      "text/plain": [
       "<Response [503]>"
      ]
     },
     "metadata": {},
     "output_type": "display_data"
    },
    {
     "name": "stdout",
     "output_type": "stream",
     "text": [
      "111592 of 144128"
     ]
    },
    {
     "data": {
      "text/plain": [
       "<Response [503]>"
      ]
     },
     "metadata": {},
     "output_type": "display_data"
    },
    {
     "name": "stdout",
     "output_type": "stream",
     "text": [
      "111730 of 144128"
     ]
    },
    {
     "data": {
      "text/plain": [
       "<Response [504]>"
      ]
     },
     "metadata": {},
     "output_type": "display_data"
    },
    {
     "name": "stdout",
     "output_type": "stream",
     "text": [
      "112043 of 144128"
     ]
    },
    {
     "data": {
      "text/plain": [
       "<Response [404]>"
      ]
     },
     "metadata": {},
     "output_type": "display_data"
    },
    {
     "name": "stdout",
     "output_type": "stream",
     "text": [
      "\r",
      "112043 of 144128"
     ]
    },
    {
     "data": {
      "text/plain": [
       "<Response [404]>"
      ]
     },
     "metadata": {},
     "output_type": "display_data"
    },
    {
     "name": "stdout",
     "output_type": "stream",
     "text": [
      "\r",
      "112043 of 144128"
     ]
    },
    {
     "data": {
      "text/plain": [
       "<Response [404]>"
      ]
     },
     "metadata": {},
     "output_type": "display_data"
    },
    {
     "name": "stdout",
     "output_type": "stream",
     "text": [
      "\r",
      "112043 of 144128"
     ]
    },
    {
     "data": {
      "text/plain": [
       "<Response [404]>"
      ]
     },
     "metadata": {},
     "output_type": "display_data"
    },
    {
     "name": "stdout",
     "output_type": "stream",
     "text": [
      "\r",
      "112043 of 144128"
     ]
    },
    {
     "data": {
      "text/plain": [
       "<Response [404]>"
      ]
     },
     "metadata": {},
     "output_type": "display_data"
    },
    {
     "name": "stdout",
     "output_type": "stream",
     "text": [
      "\r",
      "112043 of 144128"
     ]
    },
    {
     "data": {
      "text/plain": [
       "<Response [404]>"
      ]
     },
     "metadata": {},
     "output_type": "display_data"
    },
    {
     "name": "stdout",
     "output_type": "stream",
     "text": [
      "\r",
      "112043 of 144128"
     ]
    },
    {
     "data": {
      "text/plain": [
       "<Response [404]>"
      ]
     },
     "metadata": {},
     "output_type": "display_data"
    },
    {
     "name": "stdout",
     "output_type": "stream",
     "text": [
      "\r",
      "112043 of 144128"
     ]
    },
    {
     "data": {
      "text/plain": [
       "<Response [404]>"
      ]
     },
     "metadata": {},
     "output_type": "display_data"
    },
    {
     "name": "stdout",
     "output_type": "stream",
     "text": [
      "\r",
      "112043 of 144128"
     ]
    },
    {
     "data": {
      "text/plain": [
       "<Response [404]>"
      ]
     },
     "metadata": {},
     "output_type": "display_data"
    },
    {
     "name": "stdout",
     "output_type": "stream",
     "text": [
      "\r",
      "112043 of 144128"
     ]
    },
    {
     "data": {
      "text/plain": [
       "<Response [404]>"
      ]
     },
     "metadata": {},
     "output_type": "display_data"
    },
    {
     "name": "stdout",
     "output_type": "stream",
     "text": [
      "\n",
      "4723750245\n",
      "404 not found: exceeded max retries for 4723750245\n",
      "112148 of 144128\n",
      "checkpoint\n",
      "\n",
      "112206 of 144128"
     ]
    },
    {
     "data": {
      "text/plain": [
       "<Response [504]>"
      ]
     },
     "metadata": {},
     "output_type": "display_data"
    },
    {
     "name": "stdout",
     "output_type": "stream",
     "text": [
      "112272 of 144128"
     ]
    },
    {
     "data": {
      "text/plain": [
       "<Response [503]>"
      ]
     },
     "metadata": {},
     "output_type": "display_data"
    },
    {
     "name": "stdout",
     "output_type": "stream",
     "text": [
      "112515 of 144128"
     ]
    },
    {
     "data": {
      "text/plain": [
       "<Response [404]>"
      ]
     },
     "metadata": {},
     "output_type": "display_data"
    },
    {
     "name": "stdout",
     "output_type": "stream",
     "text": [
      "\r",
      "112515 of 144128"
     ]
    },
    {
     "data": {
      "text/plain": [
       "<Response [404]>"
      ]
     },
     "metadata": {},
     "output_type": "display_data"
    },
    {
     "name": "stdout",
     "output_type": "stream",
     "text": [
      "\r",
      "112515 of 144128"
     ]
    },
    {
     "data": {
      "text/plain": [
       "<Response [404]>"
      ]
     },
     "metadata": {},
     "output_type": "display_data"
    },
    {
     "name": "stdout",
     "output_type": "stream",
     "text": [
      "\r",
      "112515 of 144128"
     ]
    },
    {
     "data": {
      "text/plain": [
       "<Response [404]>"
      ]
     },
     "metadata": {},
     "output_type": "display_data"
    },
    {
     "name": "stdout",
     "output_type": "stream",
     "text": [
      "\r",
      "112515 of 144128"
     ]
    },
    {
     "data": {
      "text/plain": [
       "<Response [404]>"
      ]
     },
     "metadata": {},
     "output_type": "display_data"
    },
    {
     "name": "stdout",
     "output_type": "stream",
     "text": [
      "\r",
      "112515 of 144128"
     ]
    },
    {
     "data": {
      "text/plain": [
       "<Response [404]>"
      ]
     },
     "metadata": {},
     "output_type": "display_data"
    },
    {
     "name": "stdout",
     "output_type": "stream",
     "text": [
      "\r",
      "112515 of 144128"
     ]
    },
    {
     "data": {
      "text/plain": [
       "<Response [404]>"
      ]
     },
     "metadata": {},
     "output_type": "display_data"
    },
    {
     "name": "stdout",
     "output_type": "stream",
     "text": [
      "\r",
      "112515 of 144128"
     ]
    },
    {
     "data": {
      "text/plain": [
       "<Response [404]>"
      ]
     },
     "metadata": {},
     "output_type": "display_data"
    },
    {
     "name": "stdout",
     "output_type": "stream",
     "text": [
      "\r",
      "112515 of 144128"
     ]
    },
    {
     "data": {
      "text/plain": [
       "<Response [404]>"
      ]
     },
     "metadata": {},
     "output_type": "display_data"
    },
    {
     "name": "stdout",
     "output_type": "stream",
     "text": [
      "\r",
      "112515 of 144128"
     ]
    },
    {
     "data": {
      "text/plain": [
       "<Response [404]>"
      ]
     },
     "metadata": {},
     "output_type": "display_data"
    },
    {
     "name": "stdout",
     "output_type": "stream",
     "text": [
      "\n",
      "4721654204\n",
      "404 not found: exceeded max retries for 4721654204\n",
      "112649 of 144128"
     ]
    },
    {
     "data": {
      "text/plain": [
       "<Response [504]>"
      ]
     },
     "metadata": {},
     "output_type": "display_data"
    },
    {
     "name": "stdout",
     "output_type": "stream",
     "text": [
      "112982 of 144128"
     ]
    },
    {
     "data": {
      "text/plain": [
       "<Response [504]>"
      ]
     },
     "metadata": {},
     "output_type": "display_data"
    },
    {
     "name": "stdout",
     "output_type": "stream",
     "text": [
      "113135 of 144128"
     ]
    },
    {
     "data": {
      "text/plain": [
       "<Response [504]>"
      ]
     },
     "metadata": {},
     "output_type": "display_data"
    },
    {
     "name": "stdout",
     "output_type": "stream",
     "text": [
      "113326 of 144128"
     ]
    },
    {
     "data": {
      "text/plain": [
       "<Response [504]>"
      ]
     },
     "metadata": {},
     "output_type": "display_data"
    },
    {
     "name": "stdout",
     "output_type": "stream",
     "text": [
      "113451 of 144128"
     ]
    },
    {
     "data": {
      "text/plain": [
       "<Response [404]>"
      ]
     },
     "metadata": {},
     "output_type": "display_data"
    },
    {
     "name": "stdout",
     "output_type": "stream",
     "text": [
      "\r",
      "113451 of 144128"
     ]
    },
    {
     "data": {
      "text/plain": [
       "<Response [404]>"
      ]
     },
     "metadata": {},
     "output_type": "display_data"
    },
    {
     "name": "stdout",
     "output_type": "stream",
     "text": [
      "\r",
      "113451 of 144128"
     ]
    },
    {
     "data": {
      "text/plain": [
       "<Response [404]>"
      ]
     },
     "metadata": {},
     "output_type": "display_data"
    },
    {
     "name": "stdout",
     "output_type": "stream",
     "text": [
      "\r",
      "113451 of 144128"
     ]
    },
    {
     "data": {
      "text/plain": [
       "<Response [404]>"
      ]
     },
     "metadata": {},
     "output_type": "display_data"
    },
    {
     "name": "stdout",
     "output_type": "stream",
     "text": [
      "\r",
      "113451 of 144128"
     ]
    },
    {
     "data": {
      "text/plain": [
       "<Response [404]>"
      ]
     },
     "metadata": {},
     "output_type": "display_data"
    },
    {
     "name": "stdout",
     "output_type": "stream",
     "text": [
      "\r",
      "113451 of 144128"
     ]
    },
    {
     "data": {
      "text/plain": [
       "<Response [404]>"
      ]
     },
     "metadata": {},
     "output_type": "display_data"
    },
    {
     "name": "stdout",
     "output_type": "stream",
     "text": [
      "\r",
      "113451 of 144128"
     ]
    },
    {
     "data": {
      "text/plain": [
       "<Response [404]>"
      ]
     },
     "metadata": {},
     "output_type": "display_data"
    },
    {
     "name": "stdout",
     "output_type": "stream",
     "text": [
      "\r",
      "113451 of 144128"
     ]
    },
    {
     "data": {
      "text/plain": [
       "<Response [404]>"
      ]
     },
     "metadata": {},
     "output_type": "display_data"
    },
    {
     "name": "stdout",
     "output_type": "stream",
     "text": [
      "\r",
      "113451 of 144128"
     ]
    },
    {
     "data": {
      "text/plain": [
       "<Response [404]>"
      ]
     },
     "metadata": {},
     "output_type": "display_data"
    },
    {
     "name": "stdout",
     "output_type": "stream",
     "text": [
      "\r",
      "113451 of 144128"
     ]
    },
    {
     "data": {
      "text/plain": [
       "<Response [404]>"
      ]
     },
     "metadata": {},
     "output_type": "display_data"
    },
    {
     "name": "stdout",
     "output_type": "stream",
     "text": [
      "\n",
      "684770238\n",
      "404 not found: exceeded max retries for 684770238\n",
      "113500 of 144128\n",
      "checkpoint\n",
      "\n",
      "113706 of 144128"
     ]
    },
    {
     "data": {
      "text/plain": [
       "<Response [504]>"
      ]
     },
     "metadata": {},
     "output_type": "display_data"
    },
    {
     "name": "stdout",
     "output_type": "stream",
     "text": [
      "113734 of 144128"
     ]
    },
    {
     "data": {
      "text/plain": [
       "<Response [504]>"
      ]
     },
     "metadata": {},
     "output_type": "display_data"
    },
    {
     "name": "stdout",
     "output_type": "stream",
     "text": [
      "113920 of 144128"
     ]
    },
    {
     "data": {
      "text/plain": [
       "<Response [504]>"
      ]
     },
     "metadata": {},
     "output_type": "display_data"
    },
    {
     "name": "stdout",
     "output_type": "stream",
     "text": [
      "114470 of 144128"
     ]
    },
    {
     "data": {
      "text/plain": [
       "<Response [504]>"
      ]
     },
     "metadata": {},
     "output_type": "display_data"
    },
    {
     "name": "stdout",
     "output_type": "stream",
     "text": [
      "114485 of 144128"
     ]
    },
    {
     "data": {
      "text/plain": [
       "<Response [404]>"
      ]
     },
     "metadata": {},
     "output_type": "display_data"
    },
    {
     "name": "stdout",
     "output_type": "stream",
     "text": [
      "\r",
      "114485 of 144128"
     ]
    },
    {
     "data": {
      "text/plain": [
       "<Response [404]>"
      ]
     },
     "metadata": {},
     "output_type": "display_data"
    },
    {
     "name": "stdout",
     "output_type": "stream",
     "text": [
      "\r",
      "114485 of 144128"
     ]
    },
    {
     "data": {
      "text/plain": [
       "<Response [404]>"
      ]
     },
     "metadata": {},
     "output_type": "display_data"
    },
    {
     "name": "stdout",
     "output_type": "stream",
     "text": [
      "\r",
      "114485 of 144128"
     ]
    },
    {
     "data": {
      "text/plain": [
       "<Response [404]>"
      ]
     },
     "metadata": {},
     "output_type": "display_data"
    },
    {
     "name": "stdout",
     "output_type": "stream",
     "text": [
      "\r",
      "114485 of 144128"
     ]
    },
    {
     "data": {
      "text/plain": [
       "<Response [404]>"
      ]
     },
     "metadata": {},
     "output_type": "display_data"
    },
    {
     "name": "stdout",
     "output_type": "stream",
     "text": [
      "\r",
      "114485 of 144128"
     ]
    },
    {
     "data": {
      "text/plain": [
       "<Response [404]>"
      ]
     },
     "metadata": {},
     "output_type": "display_data"
    },
    {
     "name": "stdout",
     "output_type": "stream",
     "text": [
      "\r",
      "114485 of 144128"
     ]
    },
    {
     "data": {
      "text/plain": [
       "<Response [404]>"
      ]
     },
     "metadata": {},
     "output_type": "display_data"
    },
    {
     "name": "stdout",
     "output_type": "stream",
     "text": [
      "\r",
      "114485 of 144128"
     ]
    },
    {
     "data": {
      "text/plain": [
       "<Response [404]>"
      ]
     },
     "metadata": {},
     "output_type": "display_data"
    },
    {
     "name": "stdout",
     "output_type": "stream",
     "text": [
      "\r",
      "114485 of 144128"
     ]
    },
    {
     "data": {
      "text/plain": [
       "<Response [404]>"
      ]
     },
     "metadata": {},
     "output_type": "display_data"
    },
    {
     "name": "stdout",
     "output_type": "stream",
     "text": [
      "\r",
      "114485 of 144128"
     ]
    },
    {
     "data": {
      "text/plain": [
       "<Response [404]>"
      ]
     },
     "metadata": {},
     "output_type": "display_data"
    },
    {
     "name": "stdout",
     "output_type": "stream",
     "text": [
      "\n",
      "225889841\n",
      "404 not found: exceeded max retries for 225889841\n",
      "114552 of 144128"
     ]
    },
    {
     "data": {
      "text/plain": [
       "<Response [504]>"
      ]
     },
     "metadata": {},
     "output_type": "display_data"
    },
    {
     "name": "stdout",
     "output_type": "stream",
     "text": [
      "114801 of 144128"
     ]
    },
    {
     "data": {
      "text/plain": [
       "<Response [504]>"
      ]
     },
     "metadata": {},
     "output_type": "display_data"
    },
    {
     "name": "stdout",
     "output_type": "stream",
     "text": [
      "114851 of 144128\n",
      "checkpoint\n",
      "\n",
      "115201 of 144128"
     ]
    },
    {
     "data": {
      "text/plain": [
       "<Response [404]>"
      ]
     },
     "metadata": {},
     "output_type": "display_data"
    },
    {
     "name": "stdout",
     "output_type": "stream",
     "text": [
      "\r",
      "115201 of 144128"
     ]
    },
    {
     "data": {
      "text/plain": [
       "<Response [404]>"
      ]
     },
     "metadata": {},
     "output_type": "display_data"
    },
    {
     "name": "stdout",
     "output_type": "stream",
     "text": [
      "\r",
      "115201 of 144128"
     ]
    },
    {
     "data": {
      "text/plain": [
       "<Response [404]>"
      ]
     },
     "metadata": {},
     "output_type": "display_data"
    },
    {
     "name": "stdout",
     "output_type": "stream",
     "text": [
      "\r",
      "115201 of 144128"
     ]
    },
    {
     "data": {
      "text/plain": [
       "<Response [404]>"
      ]
     },
     "metadata": {},
     "output_type": "display_data"
    },
    {
     "name": "stdout",
     "output_type": "stream",
     "text": [
      "\r",
      "115201 of 144128"
     ]
    },
    {
     "data": {
      "text/plain": [
       "<Response [404]>"
      ]
     },
     "metadata": {},
     "output_type": "display_data"
    },
    {
     "name": "stdout",
     "output_type": "stream",
     "text": [
      "\r",
      "115201 of 144128"
     ]
    },
    {
     "data": {
      "text/plain": [
       "<Response [404]>"
      ]
     },
     "metadata": {},
     "output_type": "display_data"
    },
    {
     "name": "stdout",
     "output_type": "stream",
     "text": [
      "\r",
      "115201 of 144128"
     ]
    },
    {
     "data": {
      "text/plain": [
       "<Response [404]>"
      ]
     },
     "metadata": {},
     "output_type": "display_data"
    },
    {
     "name": "stdout",
     "output_type": "stream",
     "text": [
      "\r",
      "115201 of 144128"
     ]
    },
    {
     "data": {
      "text/plain": [
       "<Response [404]>"
      ]
     },
     "metadata": {},
     "output_type": "display_data"
    },
    {
     "name": "stdout",
     "output_type": "stream",
     "text": [
      "\r",
      "115201 of 144128"
     ]
    },
    {
     "data": {
      "text/plain": [
       "<Response [404]>"
      ]
     },
     "metadata": {},
     "output_type": "display_data"
    },
    {
     "name": "stdout",
     "output_type": "stream",
     "text": [
      "\r",
      "115201 of 144128"
     ]
    },
    {
     "data": {
      "text/plain": [
       "<Response [404]>"
      ]
     },
     "metadata": {},
     "output_type": "display_data"
    },
    {
     "name": "stdout",
     "output_type": "stream",
     "text": [
      "\n",
      "686347684\n",
      "404 not found: exceeded max retries for 686347684\n",
      "115263 of 144128"
     ]
    },
    {
     "data": {
      "text/plain": [
       "<Response [504]>"
      ]
     },
     "metadata": {},
     "output_type": "display_data"
    },
    {
     "name": "stdout",
     "output_type": "stream",
     "text": [
      "115473 of 144128"
     ]
    },
    {
     "data": {
      "text/plain": [
       "<Response [404]>"
      ]
     },
     "metadata": {},
     "output_type": "display_data"
    },
    {
     "name": "stdout",
     "output_type": "stream",
     "text": [
      "\r",
      "115473 of 144128"
     ]
    },
    {
     "data": {
      "text/plain": [
       "<Response [404]>"
      ]
     },
     "metadata": {},
     "output_type": "display_data"
    },
    {
     "name": "stdout",
     "output_type": "stream",
     "text": [
      "\r",
      "115473 of 144128"
     ]
    },
    {
     "data": {
      "text/plain": [
       "<Response [404]>"
      ]
     },
     "metadata": {},
     "output_type": "display_data"
    },
    {
     "name": "stdout",
     "output_type": "stream",
     "text": [
      "\r",
      "115473 of 144128"
     ]
    },
    {
     "data": {
      "text/plain": [
       "<Response [404]>"
      ]
     },
     "metadata": {},
     "output_type": "display_data"
    },
    {
     "name": "stdout",
     "output_type": "stream",
     "text": [
      "\r",
      "115473 of 144128"
     ]
    },
    {
     "data": {
      "text/plain": [
       "<Response [404]>"
      ]
     },
     "metadata": {},
     "output_type": "display_data"
    },
    {
     "name": "stdout",
     "output_type": "stream",
     "text": [
      "\r",
      "115473 of 144128"
     ]
    },
    {
     "data": {
      "text/plain": [
       "<Response [404]>"
      ]
     },
     "metadata": {},
     "output_type": "display_data"
    },
    {
     "name": "stdout",
     "output_type": "stream",
     "text": [
      "\r",
      "115473 of 144128"
     ]
    },
    {
     "data": {
      "text/plain": [
       "<Response [404]>"
      ]
     },
     "metadata": {},
     "output_type": "display_data"
    },
    {
     "name": "stdout",
     "output_type": "stream",
     "text": [
      "\r",
      "115473 of 144128"
     ]
    },
    {
     "data": {
      "text/plain": [
       "<Response [404]>"
      ]
     },
     "metadata": {},
     "output_type": "display_data"
    },
    {
     "name": "stdout",
     "output_type": "stream",
     "text": [
      "\r",
      "115473 of 144128"
     ]
    },
    {
     "data": {
      "text/plain": [
       "<Response [404]>"
      ]
     },
     "metadata": {},
     "output_type": "display_data"
    },
    {
     "name": "stdout",
     "output_type": "stream",
     "text": [
      "\r",
      "115473 of 144128"
     ]
    },
    {
     "data": {
      "text/plain": [
       "<Response [404]>"
      ]
     },
     "metadata": {},
     "output_type": "display_data"
    },
    {
     "name": "stdout",
     "output_type": "stream",
     "text": [
      "\n",
      "4723103834\n",
      "404 not found: exceeded max retries for 4723103834\n",
      "115908 of 144128"
     ]
    },
    {
     "data": {
      "text/plain": [
       "<Response [504]>"
      ]
     },
     "metadata": {},
     "output_type": "display_data"
    },
    {
     "name": "stdout",
     "output_type": "stream",
     "text": [
      "116203 of 144128\n",
      "checkpoint\n",
      "\n",
      "116329 of 144128"
     ]
    },
    {
     "data": {
      "text/plain": [
       "<Response [504]>"
      ]
     },
     "metadata": {},
     "output_type": "display_data"
    },
    {
     "name": "stdout",
     "output_type": "stream",
     "text": [
      "116671 of 144128"
     ]
    },
    {
     "data": {
      "text/plain": [
       "<Response [504]>"
      ]
     },
     "metadata": {},
     "output_type": "display_data"
    },
    {
     "name": "stdout",
     "output_type": "stream",
     "text": [
      "116751 of 144128"
     ]
    },
    {
     "data": {
      "text/plain": [
       "<Response [504]>"
      ]
     },
     "metadata": {},
     "output_type": "display_data"
    },
    {
     "name": "stdout",
     "output_type": "stream",
     "text": [
      "116950 of 144128"
     ]
    },
    {
     "data": {
      "text/plain": [
       "<Response [404]>"
      ]
     },
     "metadata": {},
     "output_type": "display_data"
    },
    {
     "name": "stdout",
     "output_type": "stream",
     "text": [
      "\r",
      "116950 of 144128"
     ]
    },
    {
     "data": {
      "text/plain": [
       "<Response [404]>"
      ]
     },
     "metadata": {},
     "output_type": "display_data"
    },
    {
     "name": "stdout",
     "output_type": "stream",
     "text": [
      "\r",
      "116950 of 144128"
     ]
    },
    {
     "data": {
      "text/plain": [
       "<Response [404]>"
      ]
     },
     "metadata": {},
     "output_type": "display_data"
    },
    {
     "name": "stdout",
     "output_type": "stream",
     "text": [
      "\r",
      "116950 of 144128"
     ]
    },
    {
     "data": {
      "text/plain": [
       "<Response [404]>"
      ]
     },
     "metadata": {},
     "output_type": "display_data"
    },
    {
     "name": "stdout",
     "output_type": "stream",
     "text": [
      "\r",
      "116950 of 144128"
     ]
    },
    {
     "data": {
      "text/plain": [
       "<Response [404]>"
      ]
     },
     "metadata": {},
     "output_type": "display_data"
    },
    {
     "name": "stdout",
     "output_type": "stream",
     "text": [
      "\r",
      "116950 of 144128"
     ]
    },
    {
     "data": {
      "text/plain": [
       "<Response [404]>"
      ]
     },
     "metadata": {},
     "output_type": "display_data"
    },
    {
     "name": "stdout",
     "output_type": "stream",
     "text": [
      "\r",
      "116950 of 144128"
     ]
    },
    {
     "data": {
      "text/plain": [
       "<Response [404]>"
      ]
     },
     "metadata": {},
     "output_type": "display_data"
    },
    {
     "name": "stdout",
     "output_type": "stream",
     "text": [
      "\r",
      "116950 of 144128"
     ]
    },
    {
     "data": {
      "text/plain": [
       "<Response [404]>"
      ]
     },
     "metadata": {},
     "output_type": "display_data"
    },
    {
     "name": "stdout",
     "output_type": "stream",
     "text": [
      "\r",
      "116950 of 144128"
     ]
    },
    {
     "data": {
      "text/plain": [
       "<Response [404]>"
      ]
     },
     "metadata": {},
     "output_type": "display_data"
    },
    {
     "name": "stdout",
     "output_type": "stream",
     "text": [
      "\r",
      "116950 of 144128"
     ]
    },
    {
     "data": {
      "text/plain": [
       "<Response [404]>"
      ]
     },
     "metadata": {},
     "output_type": "display_data"
    },
    {
     "name": "stdout",
     "output_type": "stream",
     "text": [
      "\n",
      "686352107\n",
      "404 not found: exceeded max retries for 686352107\n",
      "117175 of 144128"
     ]
    },
    {
     "data": {
      "text/plain": [
       "<Response [404]>"
      ]
     },
     "metadata": {},
     "output_type": "display_data"
    },
    {
     "name": "stdout",
     "output_type": "stream",
     "text": [
      "\r",
      "117175 of 144128"
     ]
    },
    {
     "data": {
      "text/plain": [
       "<Response [404]>"
      ]
     },
     "metadata": {},
     "output_type": "display_data"
    },
    {
     "name": "stdout",
     "output_type": "stream",
     "text": [
      "\r",
      "117175 of 144128"
     ]
    },
    {
     "data": {
      "text/plain": [
       "<Response [404]>"
      ]
     },
     "metadata": {},
     "output_type": "display_data"
    },
    {
     "name": "stdout",
     "output_type": "stream",
     "text": [
      "\r",
      "117175 of 144128"
     ]
    },
    {
     "data": {
      "text/plain": [
       "<Response [404]>"
      ]
     },
     "metadata": {},
     "output_type": "display_data"
    },
    {
     "name": "stdout",
     "output_type": "stream",
     "text": [
      "\r",
      "117175 of 144128"
     ]
    },
    {
     "data": {
      "text/plain": [
       "<Response [404]>"
      ]
     },
     "metadata": {},
     "output_type": "display_data"
    },
    {
     "name": "stdout",
     "output_type": "stream",
     "text": [
      "\r",
      "117175 of 144128"
     ]
    },
    {
     "data": {
      "text/plain": [
       "<Response [404]>"
      ]
     },
     "metadata": {},
     "output_type": "display_data"
    },
    {
     "name": "stdout",
     "output_type": "stream",
     "text": [
      "\r",
      "117175 of 144128"
     ]
    },
    {
     "data": {
      "text/plain": [
       "<Response [404]>"
      ]
     },
     "metadata": {},
     "output_type": "display_data"
    },
    {
     "name": "stdout",
     "output_type": "stream",
     "text": [
      "\r",
      "117175 of 144128"
     ]
    },
    {
     "data": {
      "text/plain": [
       "<Response [404]>"
      ]
     },
     "metadata": {},
     "output_type": "display_data"
    },
    {
     "name": "stdout",
     "output_type": "stream",
     "text": [
      "\r",
      "117175 of 144128"
     ]
    },
    {
     "data": {
      "text/plain": [
       "<Response [404]>"
      ]
     },
     "metadata": {},
     "output_type": "display_data"
    },
    {
     "name": "stdout",
     "output_type": "stream",
     "text": [
      "\r",
      "117175 of 144128"
     ]
    },
    {
     "data": {
      "text/plain": [
       "<Response [404]>"
      ]
     },
     "metadata": {},
     "output_type": "display_data"
    },
    {
     "name": "stdout",
     "output_type": "stream",
     "text": [
      "\n",
      "225896757\n",
      "404 not found: exceeded max retries for 225896757\n",
      "117387 of 144128"
     ]
    },
    {
     "data": {
      "text/plain": [
       "<Response [404]>"
      ]
     },
     "metadata": {},
     "output_type": "display_data"
    },
    {
     "name": "stdout",
     "output_type": "stream",
     "text": [
      "\r",
      "117387 of 144128"
     ]
    },
    {
     "data": {
      "text/plain": [
       "<Response [404]>"
      ]
     },
     "metadata": {},
     "output_type": "display_data"
    },
    {
     "name": "stdout",
     "output_type": "stream",
     "text": [
      "\r",
      "117387 of 144128"
     ]
    },
    {
     "data": {
      "text/plain": [
       "<Response [404]>"
      ]
     },
     "metadata": {},
     "output_type": "display_data"
    },
    {
     "name": "stdout",
     "output_type": "stream",
     "text": [
      "\r",
      "117387 of 144128"
     ]
    },
    {
     "data": {
      "text/plain": [
       "<Response [404]>"
      ]
     },
     "metadata": {},
     "output_type": "display_data"
    },
    {
     "name": "stdout",
     "output_type": "stream",
     "text": [
      "\r",
      "117387 of 144128"
     ]
    },
    {
     "data": {
      "text/plain": [
       "<Response [404]>"
      ]
     },
     "metadata": {},
     "output_type": "display_data"
    },
    {
     "name": "stdout",
     "output_type": "stream",
     "text": [
      "\r",
      "117387 of 144128"
     ]
    },
    {
     "data": {
      "text/plain": [
       "<Response [404]>"
      ]
     },
     "metadata": {},
     "output_type": "display_data"
    },
    {
     "name": "stdout",
     "output_type": "stream",
     "text": [
      "\r",
      "117387 of 144128"
     ]
    },
    {
     "data": {
      "text/plain": [
       "<Response [404]>"
      ]
     },
     "metadata": {},
     "output_type": "display_data"
    },
    {
     "name": "stdout",
     "output_type": "stream",
     "text": [
      "\r",
      "117387 of 144128"
     ]
    },
    {
     "data": {
      "text/plain": [
       "<Response [404]>"
      ]
     },
     "metadata": {},
     "output_type": "display_data"
    },
    {
     "name": "stdout",
     "output_type": "stream",
     "text": [
      "\r",
      "117387 of 144128"
     ]
    },
    {
     "data": {
      "text/plain": [
       "<Response [404]>"
      ]
     },
     "metadata": {},
     "output_type": "display_data"
    },
    {
     "name": "stdout",
     "output_type": "stream",
     "text": [
      "\r",
      "117387 of 144128"
     ]
    },
    {
     "data": {
      "text/plain": [
       "<Response [404]>"
      ]
     },
     "metadata": {},
     "output_type": "display_data"
    },
    {
     "name": "stdout",
     "output_type": "stream",
     "text": [
      "\n",
      "4732939079\n",
      "404 not found: exceeded max retries for 4732939079\n",
      "117556 of 144128\n",
      "checkpoint\n",
      "\n",
      "117850 of 144128"
     ]
    },
    {
     "data": {
      "text/plain": [
       "<Response [404]>"
      ]
     },
     "metadata": {},
     "output_type": "display_data"
    },
    {
     "name": "stdout",
     "output_type": "stream",
     "text": [
      "\r",
      "117850 of 144128"
     ]
    },
    {
     "data": {
      "text/plain": [
       "<Response [404]>"
      ]
     },
     "metadata": {},
     "output_type": "display_data"
    },
    {
     "name": "stdout",
     "output_type": "stream",
     "text": [
      "\r",
      "117850 of 144128"
     ]
    },
    {
     "data": {
      "text/plain": [
       "<Response [404]>"
      ]
     },
     "metadata": {},
     "output_type": "display_data"
    },
    {
     "name": "stdout",
     "output_type": "stream",
     "text": [
      "\r",
      "117850 of 144128"
     ]
    },
    {
     "data": {
      "text/plain": [
       "<Response [404]>"
      ]
     },
     "metadata": {},
     "output_type": "display_data"
    },
    {
     "name": "stdout",
     "output_type": "stream",
     "text": [
      "\r",
      "117850 of 144128"
     ]
    },
    {
     "data": {
      "text/plain": [
       "<Response [404]>"
      ]
     },
     "metadata": {},
     "output_type": "display_data"
    },
    {
     "name": "stdout",
     "output_type": "stream",
     "text": [
      "\r",
      "117850 of 144128"
     ]
    },
    {
     "data": {
      "text/plain": [
       "<Response [404]>"
      ]
     },
     "metadata": {},
     "output_type": "display_data"
    },
    {
     "name": "stdout",
     "output_type": "stream",
     "text": [
      "\r",
      "117850 of 144128"
     ]
    },
    {
     "data": {
      "text/plain": [
       "<Response [404]>"
      ]
     },
     "metadata": {},
     "output_type": "display_data"
    },
    {
     "name": "stdout",
     "output_type": "stream",
     "text": [
      "\r",
      "117850 of 144128"
     ]
    },
    {
     "data": {
      "text/plain": [
       "<Response [404]>"
      ]
     },
     "metadata": {},
     "output_type": "display_data"
    },
    {
     "name": "stdout",
     "output_type": "stream",
     "text": [
      "\r",
      "117850 of 144128"
     ]
    },
    {
     "data": {
      "text/plain": [
       "<Response [404]>"
      ]
     },
     "metadata": {},
     "output_type": "display_data"
    },
    {
     "name": "stdout",
     "output_type": "stream",
     "text": [
      "\r",
      "117850 of 144128"
     ]
    },
    {
     "data": {
      "text/plain": [
       "<Response [404]>"
      ]
     },
     "metadata": {},
     "output_type": "display_data"
    },
    {
     "name": "stdout",
     "output_type": "stream",
     "text": [
      "\n",
      "684912653\n",
      "404 not found: exceeded max retries for 684912653\n",
      "118907 of 144128\n",
      "checkpoint\n",
      "\n",
      "120173 of 144128"
     ]
    },
    {
     "data": {
      "text/plain": [
       "<Response [504]>"
      ]
     },
     "metadata": {},
     "output_type": "display_data"
    },
    {
     "name": "stdout",
     "output_type": "stream",
     "text": [
      "120257 of 144128\n",
      "checkpoint\n",
      "\n",
      "120484 of 144128"
     ]
    },
    {
     "data": {
      "text/plain": [
       "<Response [504]>"
      ]
     },
     "metadata": {},
     "output_type": "display_data"
    },
    {
     "name": "stdout",
     "output_type": "stream",
     "text": [
      "120753 of 144128"
     ]
    },
    {
     "data": {
      "text/plain": [
       "<Response [504]>"
      ]
     },
     "metadata": {},
     "output_type": "display_data"
    },
    {
     "name": "stdout",
     "output_type": "stream",
     "text": [
      "121128 of 144128"
     ]
    },
    {
     "data": {
      "text/plain": [
       "<Response [504]>"
      ]
     },
     "metadata": {},
     "output_type": "display_data"
    },
    {
     "name": "stdout",
     "output_type": "stream",
     "text": [
      "121225 of 144128"
     ]
    },
    {
     "data": {
      "text/plain": [
       "<Response [504]>"
      ]
     },
     "metadata": {},
     "output_type": "display_data"
    },
    {
     "name": "stdout",
     "output_type": "stream",
     "text": [
      "121353 of 144128"
     ]
    },
    {
     "data": {
      "text/plain": [
       "<Response [504]>"
      ]
     },
     "metadata": {},
     "output_type": "display_data"
    },
    {
     "name": "stdout",
     "output_type": "stream",
     "text": [
      "121463 of 144128"
     ]
    },
    {
     "data": {
      "text/plain": [
       "<Response [504]>"
      ]
     },
     "metadata": {},
     "output_type": "display_data"
    },
    {
     "name": "stdout",
     "output_type": "stream",
     "text": [
      "121607 of 144128\n",
      "checkpoint\n",
      "\n",
      "121661 of 144128"
     ]
    },
    {
     "data": {
      "text/plain": [
       "<Response [404]>"
      ]
     },
     "metadata": {},
     "output_type": "display_data"
    },
    {
     "name": "stdout",
     "output_type": "stream",
     "text": [
      "\r",
      "121661 of 144128"
     ]
    },
    {
     "data": {
      "text/plain": [
       "<Response [404]>"
      ]
     },
     "metadata": {},
     "output_type": "display_data"
    },
    {
     "name": "stdout",
     "output_type": "stream",
     "text": [
      "\r",
      "121661 of 144128"
     ]
    },
    {
     "data": {
      "text/plain": [
       "<Response [404]>"
      ]
     },
     "metadata": {},
     "output_type": "display_data"
    },
    {
     "name": "stdout",
     "output_type": "stream",
     "text": [
      "\r",
      "121661 of 144128"
     ]
    },
    {
     "data": {
      "text/plain": [
       "<Response [404]>"
      ]
     },
     "metadata": {},
     "output_type": "display_data"
    },
    {
     "name": "stdout",
     "output_type": "stream",
     "text": [
      "\r",
      "121661 of 144128"
     ]
    },
    {
     "data": {
      "text/plain": [
       "<Response [404]>"
      ]
     },
     "metadata": {},
     "output_type": "display_data"
    },
    {
     "name": "stdout",
     "output_type": "stream",
     "text": [
      "\r",
      "121661 of 144128"
     ]
    },
    {
     "data": {
      "text/plain": [
       "<Response [404]>"
      ]
     },
     "metadata": {},
     "output_type": "display_data"
    },
    {
     "name": "stdout",
     "output_type": "stream",
     "text": [
      "\r",
      "121661 of 144128"
     ]
    },
    {
     "data": {
      "text/plain": [
       "<Response [404]>"
      ]
     },
     "metadata": {},
     "output_type": "display_data"
    },
    {
     "name": "stdout",
     "output_type": "stream",
     "text": [
      "\r",
      "121661 of 144128"
     ]
    },
    {
     "data": {
      "text/plain": [
       "<Response [404]>"
      ]
     },
     "metadata": {},
     "output_type": "display_data"
    },
    {
     "name": "stdout",
     "output_type": "stream",
     "text": [
      "\r",
      "121661 of 144128"
     ]
    },
    {
     "data": {
      "text/plain": [
       "<Response [404]>"
      ]
     },
     "metadata": {},
     "output_type": "display_data"
    },
    {
     "name": "stdout",
     "output_type": "stream",
     "text": [
      "\r",
      "121661 of 144128"
     ]
    },
    {
     "data": {
      "text/plain": [
       "<Response [404]>"
      ]
     },
     "metadata": {},
     "output_type": "display_data"
    },
    {
     "name": "stdout",
     "output_type": "stream",
     "text": [
      "\n",
      "684660734\n",
      "404 not found: exceeded max retries for 684660734\n",
      "121894 of 144128"
     ]
    },
    {
     "data": {
      "text/plain": [
       "<Response [504]>"
      ]
     },
     "metadata": {},
     "output_type": "display_data"
    },
    {
     "name": "stdout",
     "output_type": "stream",
     "text": [
      "122425 of 144128"
     ]
    },
    {
     "data": {
      "text/plain": [
       "<Response [504]>"
      ]
     },
     "metadata": {},
     "output_type": "display_data"
    },
    {
     "name": "stdout",
     "output_type": "stream",
     "text": [
      "122439 of 144128"
     ]
    },
    {
     "data": {
      "text/plain": [
       "<Response [504]>"
      ]
     },
     "metadata": {},
     "output_type": "display_data"
    },
    {
     "name": "stdout",
     "output_type": "stream",
     "text": [
      "122554 of 144128"
     ]
    },
    {
     "data": {
      "text/plain": [
       "<Response [504]>"
      ]
     },
     "metadata": {},
     "output_type": "display_data"
    },
    {
     "name": "stdout",
     "output_type": "stream",
     "text": [
      "122600 of 144128"
     ]
    },
    {
     "data": {
      "text/plain": [
       "<Response [504]>"
      ]
     },
     "metadata": {},
     "output_type": "display_data"
    },
    {
     "name": "stdout",
     "output_type": "stream",
     "text": [
      "122958 of 144128\n",
      "checkpoint\n",
      "\n",
      "123054 of 144128"
     ]
    },
    {
     "data": {
      "text/plain": [
       "<Response [404]>"
      ]
     },
     "metadata": {},
     "output_type": "display_data"
    },
    {
     "name": "stdout",
     "output_type": "stream",
     "text": [
      "\r",
      "123054 of 144128"
     ]
    },
    {
     "data": {
      "text/plain": [
       "<Response [404]>"
      ]
     },
     "metadata": {},
     "output_type": "display_data"
    },
    {
     "name": "stdout",
     "output_type": "stream",
     "text": [
      "\r",
      "123054 of 144128"
     ]
    },
    {
     "data": {
      "text/plain": [
       "<Response [404]>"
      ]
     },
     "metadata": {},
     "output_type": "display_data"
    },
    {
     "name": "stdout",
     "output_type": "stream",
     "text": [
      "\r",
      "123054 of 144128"
     ]
    },
    {
     "data": {
      "text/plain": [
       "<Response [404]>"
      ]
     },
     "metadata": {},
     "output_type": "display_data"
    },
    {
     "name": "stdout",
     "output_type": "stream",
     "text": [
      "\r",
      "123054 of 144128"
     ]
    },
    {
     "data": {
      "text/plain": [
       "<Response [404]>"
      ]
     },
     "metadata": {},
     "output_type": "display_data"
    },
    {
     "name": "stdout",
     "output_type": "stream",
     "text": [
      "\r",
      "123054 of 144128"
     ]
    },
    {
     "data": {
      "text/plain": [
       "<Response [404]>"
      ]
     },
     "metadata": {},
     "output_type": "display_data"
    },
    {
     "name": "stdout",
     "output_type": "stream",
     "text": [
      "\r",
      "123054 of 144128"
     ]
    },
    {
     "data": {
      "text/plain": [
       "<Response [404]>"
      ]
     },
     "metadata": {},
     "output_type": "display_data"
    },
    {
     "name": "stdout",
     "output_type": "stream",
     "text": [
      "\r",
      "123054 of 144128"
     ]
    },
    {
     "data": {
      "text/plain": [
       "<Response [404]>"
      ]
     },
     "metadata": {},
     "output_type": "display_data"
    },
    {
     "name": "stdout",
     "output_type": "stream",
     "text": [
      "\r",
      "123054 of 144128"
     ]
    },
    {
     "data": {
      "text/plain": [
       "<Response [404]>"
      ]
     },
     "metadata": {},
     "output_type": "display_data"
    },
    {
     "name": "stdout",
     "output_type": "stream",
     "text": [
      "\r",
      "123054 of 144128"
     ]
    },
    {
     "data": {
      "text/plain": [
       "<Response [404]>"
      ]
     },
     "metadata": {},
     "output_type": "display_data"
    },
    {
     "name": "stdout",
     "output_type": "stream",
     "text": [
      "\n",
      "4724041231\n",
      "404 not found: exceeded max retries for 4724041231\n",
      "123110 of 144128"
     ]
    },
    {
     "data": {
      "text/plain": [
       "<Response [404]>"
      ]
     },
     "metadata": {},
     "output_type": "display_data"
    },
    {
     "name": "stdout",
     "output_type": "stream",
     "text": [
      "\r",
      "123110 of 144128"
     ]
    },
    {
     "data": {
      "text/plain": [
       "<Response [404]>"
      ]
     },
     "metadata": {},
     "output_type": "display_data"
    },
    {
     "name": "stdout",
     "output_type": "stream",
     "text": [
      "\r",
      "123110 of 144128"
     ]
    },
    {
     "data": {
      "text/plain": [
       "<Response [404]>"
      ]
     },
     "metadata": {},
     "output_type": "display_data"
    },
    {
     "name": "stdout",
     "output_type": "stream",
     "text": [
      "\r",
      "123110 of 144128"
     ]
    },
    {
     "data": {
      "text/plain": [
       "<Response [404]>"
      ]
     },
     "metadata": {},
     "output_type": "display_data"
    },
    {
     "name": "stdout",
     "output_type": "stream",
     "text": [
      "\r",
      "123110 of 144128"
     ]
    },
    {
     "data": {
      "text/plain": [
       "<Response [404]>"
      ]
     },
     "metadata": {},
     "output_type": "display_data"
    },
    {
     "name": "stdout",
     "output_type": "stream",
     "text": [
      "\r",
      "123110 of 144128"
     ]
    },
    {
     "data": {
      "text/plain": [
       "<Response [404]>"
      ]
     },
     "metadata": {},
     "output_type": "display_data"
    },
    {
     "name": "stdout",
     "output_type": "stream",
     "text": [
      "\r",
      "123110 of 144128"
     ]
    },
    {
     "data": {
      "text/plain": [
       "<Response [404]>"
      ]
     },
     "metadata": {},
     "output_type": "display_data"
    },
    {
     "name": "stdout",
     "output_type": "stream",
     "text": [
      "\r",
      "123110 of 144128"
     ]
    },
    {
     "data": {
      "text/plain": [
       "<Response [404]>"
      ]
     },
     "metadata": {},
     "output_type": "display_data"
    },
    {
     "name": "stdout",
     "output_type": "stream",
     "text": [
      "\r",
      "123110 of 144128"
     ]
    },
    {
     "data": {
      "text/plain": [
       "<Response [404]>"
      ]
     },
     "metadata": {},
     "output_type": "display_data"
    },
    {
     "name": "stdout",
     "output_type": "stream",
     "text": [
      "\r",
      "123110 of 144128"
     ]
    },
    {
     "data": {
      "text/plain": [
       "<Response [404]>"
      ]
     },
     "metadata": {},
     "output_type": "display_data"
    },
    {
     "name": "stdout",
     "output_type": "stream",
     "text": [
      "\n",
      "684926608\n",
      "404 not found: exceeded max retries for 684926608\n",
      "123119 of 144128"
     ]
    },
    {
     "data": {
      "text/plain": [
       "<Response [404]>"
      ]
     },
     "metadata": {},
     "output_type": "display_data"
    },
    {
     "name": "stdout",
     "output_type": "stream",
     "text": [
      "\r",
      "123119 of 144128"
     ]
    },
    {
     "data": {
      "text/plain": [
       "<Response [404]>"
      ]
     },
     "metadata": {},
     "output_type": "display_data"
    },
    {
     "name": "stdout",
     "output_type": "stream",
     "text": [
      "\r",
      "123119 of 144128"
     ]
    },
    {
     "data": {
      "text/plain": [
       "<Response [404]>"
      ]
     },
     "metadata": {},
     "output_type": "display_data"
    },
    {
     "name": "stdout",
     "output_type": "stream",
     "text": [
      "\r",
      "123119 of 144128"
     ]
    },
    {
     "data": {
      "text/plain": [
       "<Response [404]>"
      ]
     },
     "metadata": {},
     "output_type": "display_data"
    },
    {
     "name": "stdout",
     "output_type": "stream",
     "text": [
      "\r",
      "123119 of 144128"
     ]
    },
    {
     "data": {
      "text/plain": [
       "<Response [404]>"
      ]
     },
     "metadata": {},
     "output_type": "display_data"
    },
    {
     "name": "stdout",
     "output_type": "stream",
     "text": [
      "\r",
      "123119 of 144128"
     ]
    },
    {
     "data": {
      "text/plain": [
       "<Response [404]>"
      ]
     },
     "metadata": {},
     "output_type": "display_data"
    },
    {
     "name": "stdout",
     "output_type": "stream",
     "text": [
      "\r",
      "123119 of 144128"
     ]
    },
    {
     "data": {
      "text/plain": [
       "<Response [404]>"
      ]
     },
     "metadata": {},
     "output_type": "display_data"
    },
    {
     "name": "stdout",
     "output_type": "stream",
     "text": [
      "\r",
      "123119 of 144128"
     ]
    },
    {
     "data": {
      "text/plain": [
       "<Response [404]>"
      ]
     },
     "metadata": {},
     "output_type": "display_data"
    },
    {
     "name": "stdout",
     "output_type": "stream",
     "text": [
      "\r",
      "123119 of 144128"
     ]
    },
    {
     "data": {
      "text/plain": [
       "<Response [404]>"
      ]
     },
     "metadata": {},
     "output_type": "display_data"
    },
    {
     "name": "stdout",
     "output_type": "stream",
     "text": [
      "\r",
      "123119 of 144128"
     ]
    },
    {
     "data": {
      "text/plain": [
       "<Response [404]>"
      ]
     },
     "metadata": {},
     "output_type": "display_data"
    },
    {
     "name": "stdout",
     "output_type": "stream",
     "text": [
      "\n",
      "684664472\n",
      "404 not found: exceeded max retries for 684664472\n",
      "123157 of 144128"
     ]
    },
    {
     "data": {
      "text/plain": [
       "<Response [404]>"
      ]
     },
     "metadata": {},
     "output_type": "display_data"
    },
    {
     "name": "stdout",
     "output_type": "stream",
     "text": [
      "\r",
      "123157 of 144128"
     ]
    },
    {
     "data": {
      "text/plain": [
       "<Response [404]>"
      ]
     },
     "metadata": {},
     "output_type": "display_data"
    },
    {
     "name": "stdout",
     "output_type": "stream",
     "text": [
      "\r",
      "123157 of 144128"
     ]
    },
    {
     "data": {
      "text/plain": [
       "<Response [404]>"
      ]
     },
     "metadata": {},
     "output_type": "display_data"
    },
    {
     "name": "stdout",
     "output_type": "stream",
     "text": [
      "\r",
      "123157 of 144128"
     ]
    },
    {
     "data": {
      "text/plain": [
       "<Response [404]>"
      ]
     },
     "metadata": {},
     "output_type": "display_data"
    },
    {
     "name": "stdout",
     "output_type": "stream",
     "text": [
      "\r",
      "123157 of 144128"
     ]
    },
    {
     "data": {
      "text/plain": [
       "<Response [404]>"
      ]
     },
     "metadata": {},
     "output_type": "display_data"
    },
    {
     "name": "stdout",
     "output_type": "stream",
     "text": [
      "\r",
      "123157 of 144128"
     ]
    },
    {
     "data": {
      "text/plain": [
       "<Response [404]>"
      ]
     },
     "metadata": {},
     "output_type": "display_data"
    },
    {
     "name": "stdout",
     "output_type": "stream",
     "text": [
      "\r",
      "123157 of 144128"
     ]
    },
    {
     "data": {
      "text/plain": [
       "<Response [404]>"
      ]
     },
     "metadata": {},
     "output_type": "display_data"
    },
    {
     "name": "stdout",
     "output_type": "stream",
     "text": [
      "\r",
      "123157 of 144128"
     ]
    },
    {
     "data": {
      "text/plain": [
       "<Response [404]>"
      ]
     },
     "metadata": {},
     "output_type": "display_data"
    },
    {
     "name": "stdout",
     "output_type": "stream",
     "text": [
      "\r",
      "123157 of 144128"
     ]
    },
    {
     "data": {
      "text/plain": [
       "<Response [404]>"
      ]
     },
     "metadata": {},
     "output_type": "display_data"
    },
    {
     "name": "stdout",
     "output_type": "stream",
     "text": [
      "\r",
      "123157 of 144128"
     ]
    },
    {
     "data": {
      "text/plain": [
       "<Response [404]>"
      ]
     },
     "metadata": {},
     "output_type": "display_data"
    },
    {
     "name": "stdout",
     "output_type": "stream",
     "text": [
      "\n",
      "4732954330\n",
      "404 not found: exceeded max retries for 4732954330\n",
      "123253 of 144128"
     ]
    },
    {
     "data": {
      "text/plain": [
       "<Response [504]>"
      ]
     },
     "metadata": {},
     "output_type": "display_data"
    },
    {
     "name": "stdout",
     "output_type": "stream",
     "text": [
      "123267 of 144128"
     ]
    },
    {
     "data": {
      "text/plain": [
       "<Response [504]>"
      ]
     },
     "metadata": {},
     "output_type": "display_data"
    },
    {
     "name": "stdout",
     "output_type": "stream",
     "text": [
      "124031 of 144128"
     ]
    },
    {
     "data": {
      "text/plain": [
       "<Response [504]>"
      ]
     },
     "metadata": {},
     "output_type": "display_data"
    },
    {
     "name": "stdout",
     "output_type": "stream",
     "text": [
      "124095 of 144128"
     ]
    },
    {
     "data": {
      "text/plain": [
       "<Response [504]>"
      ]
     },
     "metadata": {},
     "output_type": "display_data"
    },
    {
     "name": "stdout",
     "output_type": "stream",
     "text": [
      "124193 of 144128"
     ]
    },
    {
     "data": {
      "text/plain": [
       "<Response [404]>"
      ]
     },
     "metadata": {},
     "output_type": "display_data"
    },
    {
     "name": "stdout",
     "output_type": "stream",
     "text": [
      "\r",
      "124193 of 144128"
     ]
    },
    {
     "data": {
      "text/plain": [
       "<Response [404]>"
      ]
     },
     "metadata": {},
     "output_type": "display_data"
    },
    {
     "name": "stdout",
     "output_type": "stream",
     "text": [
      "\r",
      "124193 of 144128"
     ]
    },
    {
     "data": {
      "text/plain": [
       "<Response [404]>"
      ]
     },
     "metadata": {},
     "output_type": "display_data"
    },
    {
     "name": "stdout",
     "output_type": "stream",
     "text": [
      "\r",
      "124193 of 144128"
     ]
    },
    {
     "data": {
      "text/plain": [
       "<Response [404]>"
      ]
     },
     "metadata": {},
     "output_type": "display_data"
    },
    {
     "name": "stdout",
     "output_type": "stream",
     "text": [
      "\r",
      "124193 of 144128"
     ]
    },
    {
     "data": {
      "text/plain": [
       "<Response [404]>"
      ]
     },
     "metadata": {},
     "output_type": "display_data"
    },
    {
     "name": "stdout",
     "output_type": "stream",
     "text": [
      "\r",
      "124193 of 144128"
     ]
    },
    {
     "data": {
      "text/plain": [
       "<Response [404]>"
      ]
     },
     "metadata": {},
     "output_type": "display_data"
    },
    {
     "name": "stdout",
     "output_type": "stream",
     "text": [
      "\r",
      "124193 of 144128"
     ]
    },
    {
     "data": {
      "text/plain": [
       "<Response [404]>"
      ]
     },
     "metadata": {},
     "output_type": "display_data"
    },
    {
     "name": "stdout",
     "output_type": "stream",
     "text": [
      "\r",
      "124193 of 144128"
     ]
    },
    {
     "data": {
      "text/plain": [
       "<Response [404]>"
      ]
     },
     "metadata": {},
     "output_type": "display_data"
    },
    {
     "name": "stdout",
     "output_type": "stream",
     "text": [
      "\r",
      "124193 of 144128"
     ]
    },
    {
     "data": {
      "text/plain": [
       "<Response [404]>"
      ]
     },
     "metadata": {},
     "output_type": "display_data"
    },
    {
     "name": "stdout",
     "output_type": "stream",
     "text": [
      "\r",
      "124193 of 144128"
     ]
    },
    {
     "data": {
      "text/plain": [
       "<Response [404]>"
      ]
     },
     "metadata": {},
     "output_type": "display_data"
    },
    {
     "name": "stdout",
     "output_type": "stream",
     "text": [
      "\n",
      "225915307\n",
      "404 not found: exceeded max retries for 225915307\n",
      "124207 of 144128"
     ]
    },
    {
     "data": {
      "text/plain": [
       "<Response [504]>"
      ]
     },
     "metadata": {},
     "output_type": "display_data"
    },
    {
     "name": "stdout",
     "output_type": "stream",
     "text": [
      "124313 of 144128\n",
      "checkpoint\n",
      "\n",
      "124337 of 144128"
     ]
    },
    {
     "data": {
      "text/plain": [
       "<Response [504]>"
      ]
     },
     "metadata": {},
     "output_type": "display_data"
    },
    {
     "name": "stdout",
     "output_type": "stream",
     "text": [
      "124615 of 144128"
     ]
    },
    {
     "data": {
      "text/plain": [
       "<Response [504]>"
      ]
     },
     "metadata": {},
     "output_type": "display_data"
    },
    {
     "name": "stdout",
     "output_type": "stream",
     "text": [
      "124920 of 144128"
     ]
    },
    {
     "data": {
      "text/plain": [
       "<Response [504]>"
      ]
     },
     "metadata": {},
     "output_type": "display_data"
    },
    {
     "name": "stdout",
     "output_type": "stream",
     "text": [
      "125323 of 144128"
     ]
    },
    {
     "data": {
      "text/plain": [
       "<Response [404]>"
      ]
     },
     "metadata": {},
     "output_type": "display_data"
    },
    {
     "name": "stdout",
     "output_type": "stream",
     "text": [
      "\r",
      "125323 of 144128"
     ]
    },
    {
     "data": {
      "text/plain": [
       "<Response [404]>"
      ]
     },
     "metadata": {},
     "output_type": "display_data"
    },
    {
     "name": "stdout",
     "output_type": "stream",
     "text": [
      "\r",
      "125323 of 144128"
     ]
    },
    {
     "data": {
      "text/plain": [
       "<Response [404]>"
      ]
     },
     "metadata": {},
     "output_type": "display_data"
    },
    {
     "name": "stdout",
     "output_type": "stream",
     "text": [
      "\r",
      "125323 of 144128"
     ]
    },
    {
     "data": {
      "text/plain": [
       "<Response [404]>"
      ]
     },
     "metadata": {},
     "output_type": "display_data"
    },
    {
     "name": "stdout",
     "output_type": "stream",
     "text": [
      "\r",
      "125323 of 144128"
     ]
    },
    {
     "data": {
      "text/plain": [
       "<Response [404]>"
      ]
     },
     "metadata": {},
     "output_type": "display_data"
    },
    {
     "name": "stdout",
     "output_type": "stream",
     "text": [
      "\r",
      "125323 of 144128"
     ]
    },
    {
     "data": {
      "text/plain": [
       "<Response [404]>"
      ]
     },
     "metadata": {},
     "output_type": "display_data"
    },
    {
     "name": "stdout",
     "output_type": "stream",
     "text": [
      "\r",
      "125323 of 144128"
     ]
    },
    {
     "data": {
      "text/plain": [
       "<Response [404]>"
      ]
     },
     "metadata": {},
     "output_type": "display_data"
    },
    {
     "name": "stdout",
     "output_type": "stream",
     "text": [
      "\r",
      "125323 of 144128"
     ]
    },
    {
     "data": {
      "text/plain": [
       "<Response [404]>"
      ]
     },
     "metadata": {},
     "output_type": "display_data"
    },
    {
     "name": "stdout",
     "output_type": "stream",
     "text": [
      "\r",
      "125323 of 144128"
     ]
    },
    {
     "data": {
      "text/plain": [
       "<Response [404]>"
      ]
     },
     "metadata": {},
     "output_type": "display_data"
    },
    {
     "name": "stdout",
     "output_type": "stream",
     "text": [
      "\r",
      "125323 of 144128"
     ]
    },
    {
     "data": {
      "text/plain": [
       "<Response [404]>"
      ]
     },
     "metadata": {},
     "output_type": "display_data"
    },
    {
     "name": "stdout",
     "output_type": "stream",
     "text": [
      "\n",
      "225918241\n",
      "404 not found: exceeded max retries for 225918241\n",
      "125664 of 144128\n",
      "checkpoint\n",
      "\n",
      "125695 of 144128"
     ]
    },
    {
     "data": {
      "text/plain": [
       "<Response [504]>"
      ]
     },
     "metadata": {},
     "output_type": "display_data"
    },
    {
     "name": "stdout",
     "output_type": "stream",
     "text": [
      "125764 of 144128"
     ]
    },
    {
     "data": {
      "text/plain": [
       "<Response [504]>"
      ]
     },
     "metadata": {},
     "output_type": "display_data"
    },
    {
     "name": "stdout",
     "output_type": "stream",
     "text": [
      "127014 of 144128\n",
      "checkpoint\n",
      "\n",
      "127993 of 144128"
     ]
    },
    {
     "data": {
      "text/plain": [
       "<Response [503]>"
      ]
     },
     "metadata": {},
     "output_type": "display_data"
    },
    {
     "name": "stdout",
     "output_type": "stream",
     "text": [
      "128182 of 144128"
     ]
    },
    {
     "data": {
      "text/plain": [
       "<Response [504]>"
      ]
     },
     "metadata": {},
     "output_type": "display_data"
    },
    {
     "name": "stdout",
     "output_type": "stream",
     "text": [
      "128364 of 144128\n",
      "checkpoint\n",
      "\n",
      "128465 of 144128"
     ]
    },
    {
     "data": {
      "text/plain": [
       "<Response [504]>"
      ]
     },
     "metadata": {},
     "output_type": "display_data"
    },
    {
     "name": "stdout",
     "output_type": "stream",
     "text": [
      "128602 of 144128"
     ]
    },
    {
     "data": {
      "text/plain": [
       "<Response [504]>"
      ]
     },
     "metadata": {},
     "output_type": "display_data"
    },
    {
     "name": "stdout",
     "output_type": "stream",
     "text": [
      "128879 of 144128"
     ]
    },
    {
     "data": {
      "text/plain": [
       "<Response [504]>"
      ]
     },
     "metadata": {},
     "output_type": "display_data"
    },
    {
     "name": "stdout",
     "output_type": "stream",
     "text": [
      "129061 of 144128"
     ]
    },
    {
     "data": {
      "text/plain": [
       "<Response [504]>"
      ]
     },
     "metadata": {},
     "output_type": "display_data"
    },
    {
     "name": "stdout",
     "output_type": "stream",
     "text": [
      "129462 of 144128"
     ]
    },
    {
     "data": {
      "text/plain": [
       "<Response [504]>"
      ]
     },
     "metadata": {},
     "output_type": "display_data"
    },
    {
     "name": "stdout",
     "output_type": "stream",
     "text": [
      "129676 of 144128"
     ]
    },
    {
     "data": {
      "text/plain": [
       "<Response [504]>"
      ]
     },
     "metadata": {},
     "output_type": "display_data"
    },
    {
     "name": "stdout",
     "output_type": "stream",
     "text": [
      "129714 of 144128\n",
      "checkpoint\n",
      "\n",
      "129886 of 144128"
     ]
    },
    {
     "data": {
      "text/plain": [
       "<Response [404]>"
      ]
     },
     "metadata": {},
     "output_type": "display_data"
    },
    {
     "name": "stdout",
     "output_type": "stream",
     "text": [
      "\r",
      "129886 of 144128"
     ]
    },
    {
     "data": {
      "text/plain": [
       "<Response [404]>"
      ]
     },
     "metadata": {},
     "output_type": "display_data"
    },
    {
     "name": "stdout",
     "output_type": "stream",
     "text": [
      "\r",
      "129886 of 144128"
     ]
    },
    {
     "data": {
      "text/plain": [
       "<Response [404]>"
      ]
     },
     "metadata": {},
     "output_type": "display_data"
    },
    {
     "name": "stdout",
     "output_type": "stream",
     "text": [
      "\r",
      "129886 of 144128"
     ]
    },
    {
     "data": {
      "text/plain": [
       "<Response [404]>"
      ]
     },
     "metadata": {},
     "output_type": "display_data"
    },
    {
     "name": "stdout",
     "output_type": "stream",
     "text": [
      "\r",
      "129886 of 144128"
     ]
    },
    {
     "data": {
      "text/plain": [
       "<Response [404]>"
      ]
     },
     "metadata": {},
     "output_type": "display_data"
    },
    {
     "name": "stdout",
     "output_type": "stream",
     "text": [
      "\r",
      "129886 of 144128"
     ]
    },
    {
     "data": {
      "text/plain": [
       "<Response [404]>"
      ]
     },
     "metadata": {},
     "output_type": "display_data"
    },
    {
     "name": "stdout",
     "output_type": "stream",
     "text": [
      "\r",
      "129886 of 144128"
     ]
    },
    {
     "data": {
      "text/plain": [
       "<Response [404]>"
      ]
     },
     "metadata": {},
     "output_type": "display_data"
    },
    {
     "name": "stdout",
     "output_type": "stream",
     "text": [
      "\r",
      "129886 of 144128"
     ]
    },
    {
     "data": {
      "text/plain": [
       "<Response [404]>"
      ]
     },
     "metadata": {},
     "output_type": "display_data"
    },
    {
     "name": "stdout",
     "output_type": "stream",
     "text": [
      "\r",
      "129886 of 144128"
     ]
    },
    {
     "data": {
      "text/plain": [
       "<Response [404]>"
      ]
     },
     "metadata": {},
     "output_type": "display_data"
    },
    {
     "name": "stdout",
     "output_type": "stream",
     "text": [
      "\r",
      "129886 of 144128"
     ]
    },
    {
     "data": {
      "text/plain": [
       "<Response [404]>"
      ]
     },
     "metadata": {},
     "output_type": "display_data"
    },
    {
     "name": "stdout",
     "output_type": "stream",
     "text": [
      "\n",
      "684944517\n",
      "404 not found: exceeded max retries for 684944517\n",
      "129904 of 144128"
     ]
    },
    {
     "data": {
      "text/plain": [
       "<Response [504]>"
      ]
     },
     "metadata": {},
     "output_type": "display_data"
    },
    {
     "name": "stdout",
     "output_type": "stream",
     "text": [
      "129951 of 144128"
     ]
    },
    {
     "data": {
      "text/plain": [
       "<Response [504]>"
      ]
     },
     "metadata": {},
     "output_type": "display_data"
    },
    {
     "name": "stdout",
     "output_type": "stream",
     "text": [
      "130364 of 144128"
     ]
    },
    {
     "data": {
      "text/plain": [
       "<Response [404]>"
      ]
     },
     "metadata": {},
     "output_type": "display_data"
    },
    {
     "name": "stdout",
     "output_type": "stream",
     "text": [
      "\r",
      "130364 of 144128"
     ]
    },
    {
     "data": {
      "text/plain": [
       "<Response [404]>"
      ]
     },
     "metadata": {},
     "output_type": "display_data"
    },
    {
     "name": "stdout",
     "output_type": "stream",
     "text": [
      "\r",
      "130364 of 144128"
     ]
    },
    {
     "data": {
      "text/plain": [
       "<Response [404]>"
      ]
     },
     "metadata": {},
     "output_type": "display_data"
    },
    {
     "name": "stdout",
     "output_type": "stream",
     "text": [
      "\r",
      "130364 of 144128"
     ]
    },
    {
     "data": {
      "text/plain": [
       "<Response [404]>"
      ]
     },
     "metadata": {},
     "output_type": "display_data"
    },
    {
     "name": "stdout",
     "output_type": "stream",
     "text": [
      "\r",
      "130364 of 144128"
     ]
    },
    {
     "data": {
      "text/plain": [
       "<Response [404]>"
      ]
     },
     "metadata": {},
     "output_type": "display_data"
    },
    {
     "name": "stdout",
     "output_type": "stream",
     "text": [
      "\r",
      "130364 of 144128"
     ]
    },
    {
     "data": {
      "text/plain": [
       "<Response [404]>"
      ]
     },
     "metadata": {},
     "output_type": "display_data"
    },
    {
     "name": "stdout",
     "output_type": "stream",
     "text": [
      "\r",
      "130364 of 144128"
     ]
    },
    {
     "data": {
      "text/plain": [
       "<Response [404]>"
      ]
     },
     "metadata": {},
     "output_type": "display_data"
    },
    {
     "name": "stdout",
     "output_type": "stream",
     "text": [
      "\r",
      "130364 of 144128"
     ]
    },
    {
     "data": {
      "text/plain": [
       "<Response [404]>"
      ]
     },
     "metadata": {},
     "output_type": "display_data"
    },
    {
     "name": "stdout",
     "output_type": "stream",
     "text": [
      "\r",
      "130364 of 144128"
     ]
    },
    {
     "data": {
      "text/plain": [
       "<Response [404]>"
      ]
     },
     "metadata": {},
     "output_type": "display_data"
    },
    {
     "name": "stdout",
     "output_type": "stream",
     "text": [
      "\r",
      "130364 of 144128"
     ]
    },
    {
     "data": {
      "text/plain": [
       "<Response [404]>"
      ]
     },
     "metadata": {},
     "output_type": "display_data"
    },
    {
     "name": "stdout",
     "output_type": "stream",
     "text": [
      "\n",
      "4723667328\n",
      "404 not found: exceeded max retries for 4723667328\n",
      "130889 of 144128"
     ]
    },
    {
     "data": {
      "text/plain": [
       "<Response [504]>"
      ]
     },
     "metadata": {},
     "output_type": "display_data"
    },
    {
     "name": "stdout",
     "output_type": "stream",
     "text": [
      "131024 of 144128"
     ]
    },
    {
     "data": {
      "text/plain": [
       "<Response [404]>"
      ]
     },
     "metadata": {},
     "output_type": "display_data"
    },
    {
     "name": "stdout",
     "output_type": "stream",
     "text": [
      "\r",
      "131024 of 144128"
     ]
    },
    {
     "data": {
      "text/plain": [
       "<Response [404]>"
      ]
     },
     "metadata": {},
     "output_type": "display_data"
    },
    {
     "name": "stdout",
     "output_type": "stream",
     "text": [
      "\r",
      "131024 of 144128"
     ]
    },
    {
     "data": {
      "text/plain": [
       "<Response [404]>"
      ]
     },
     "metadata": {},
     "output_type": "display_data"
    },
    {
     "name": "stdout",
     "output_type": "stream",
     "text": [
      "\r",
      "131024 of 144128"
     ]
    },
    {
     "data": {
      "text/plain": [
       "<Response [404]>"
      ]
     },
     "metadata": {},
     "output_type": "display_data"
    },
    {
     "name": "stdout",
     "output_type": "stream",
     "text": [
      "\r",
      "131024 of 144128"
     ]
    },
    {
     "data": {
      "text/plain": [
       "<Response [404]>"
      ]
     },
     "metadata": {},
     "output_type": "display_data"
    },
    {
     "name": "stdout",
     "output_type": "stream",
     "text": [
      "\r",
      "131024 of 144128"
     ]
    },
    {
     "data": {
      "text/plain": [
       "<Response [404]>"
      ]
     },
     "metadata": {},
     "output_type": "display_data"
    },
    {
     "name": "stdout",
     "output_type": "stream",
     "text": [
      "\r",
      "131024 of 144128"
     ]
    },
    {
     "data": {
      "text/plain": [
       "<Response [404]>"
      ]
     },
     "metadata": {},
     "output_type": "display_data"
    },
    {
     "name": "stdout",
     "output_type": "stream",
     "text": [
      "\r",
      "131024 of 144128"
     ]
    },
    {
     "data": {
      "text/plain": [
       "<Response [404]>"
      ]
     },
     "metadata": {},
     "output_type": "display_data"
    },
    {
     "name": "stdout",
     "output_type": "stream",
     "text": [
      "\r",
      "131024 of 144128"
     ]
    },
    {
     "data": {
      "text/plain": [
       "<Response [404]>"
      ]
     },
     "metadata": {},
     "output_type": "display_data"
    },
    {
     "name": "stdout",
     "output_type": "stream",
     "text": [
      "\r",
      "131024 of 144128"
     ]
    },
    {
     "data": {
      "text/plain": [
       "<Response [404]>"
      ]
     },
     "metadata": {},
     "output_type": "display_data"
    },
    {
     "name": "stdout",
     "output_type": "stream",
     "text": [
      "\n",
      "227375179\n",
      "404 not found: exceeded max retries for 227375179\n",
      "131067 of 144128\n",
      "checkpoint\n",
      "\n",
      "131406 of 144128"
     ]
    },
    {
     "data": {
      "text/plain": [
       "<Response [404]>"
      ]
     },
     "metadata": {},
     "output_type": "display_data"
    },
    {
     "name": "stdout",
     "output_type": "stream",
     "text": [
      "\r",
      "131406 of 144128"
     ]
    },
    {
     "data": {
      "text/plain": [
       "<Response [404]>"
      ]
     },
     "metadata": {},
     "output_type": "display_data"
    },
    {
     "name": "stdout",
     "output_type": "stream",
     "text": [
      "\r",
      "131406 of 144128"
     ]
    },
    {
     "data": {
      "text/plain": [
       "<Response [404]>"
      ]
     },
     "metadata": {},
     "output_type": "display_data"
    },
    {
     "name": "stdout",
     "output_type": "stream",
     "text": [
      "\r",
      "131406 of 144128"
     ]
    },
    {
     "data": {
      "text/plain": [
       "<Response [404]>"
      ]
     },
     "metadata": {},
     "output_type": "display_data"
    },
    {
     "name": "stdout",
     "output_type": "stream",
     "text": [
      "\r",
      "131406 of 144128"
     ]
    },
    {
     "data": {
      "text/plain": [
       "<Response [404]>"
      ]
     },
     "metadata": {},
     "output_type": "display_data"
    },
    {
     "name": "stdout",
     "output_type": "stream",
     "text": [
      "\r",
      "131406 of 144128"
     ]
    },
    {
     "data": {
      "text/plain": [
       "<Response [404]>"
      ]
     },
     "metadata": {},
     "output_type": "display_data"
    },
    {
     "name": "stdout",
     "output_type": "stream",
     "text": [
      "\r",
      "131406 of 144128"
     ]
    },
    {
     "data": {
      "text/plain": [
       "<Response [404]>"
      ]
     },
     "metadata": {},
     "output_type": "display_data"
    },
    {
     "name": "stdout",
     "output_type": "stream",
     "text": [
      "\r",
      "131406 of 144128"
     ]
    },
    {
     "data": {
      "text/plain": [
       "<Response [404]>"
      ]
     },
     "metadata": {},
     "output_type": "display_data"
    },
    {
     "name": "stdout",
     "output_type": "stream",
     "text": [
      "\r",
      "131406 of 144128"
     ]
    },
    {
     "data": {
      "text/plain": [
       "<Response [404]>"
      ]
     },
     "metadata": {},
     "output_type": "display_data"
    },
    {
     "name": "stdout",
     "output_type": "stream",
     "text": [
      "\r",
      "131406 of 144128"
     ]
    },
    {
     "data": {
      "text/plain": [
       "<Response [404]>"
      ]
     },
     "metadata": {},
     "output_type": "display_data"
    },
    {
     "name": "stdout",
     "output_type": "stream",
     "text": [
      "\n",
      "227376234\n",
      "404 not found: exceeded max retries for 227376234\n",
      "131467 of 144128"
     ]
    },
    {
     "data": {
      "text/plain": [
       "<Response [404]>"
      ]
     },
     "metadata": {},
     "output_type": "display_data"
    },
    {
     "name": "stdout",
     "output_type": "stream",
     "text": [
      "\r",
      "131467 of 144128"
     ]
    },
    {
     "data": {
      "text/plain": [
       "<Response [404]>"
      ]
     },
     "metadata": {},
     "output_type": "display_data"
    },
    {
     "name": "stdout",
     "output_type": "stream",
     "text": [
      "\r",
      "131467 of 144128"
     ]
    },
    {
     "data": {
      "text/plain": [
       "<Response [404]>"
      ]
     },
     "metadata": {},
     "output_type": "display_data"
    },
    {
     "name": "stdout",
     "output_type": "stream",
     "text": [
      "\r",
      "131467 of 144128"
     ]
    },
    {
     "data": {
      "text/plain": [
       "<Response [404]>"
      ]
     },
     "metadata": {},
     "output_type": "display_data"
    },
    {
     "name": "stdout",
     "output_type": "stream",
     "text": [
      "\r",
      "131467 of 144128"
     ]
    },
    {
     "data": {
      "text/plain": [
       "<Response [404]>"
      ]
     },
     "metadata": {},
     "output_type": "display_data"
    },
    {
     "name": "stdout",
     "output_type": "stream",
     "text": [
      "\r",
      "131467 of 144128"
     ]
    },
    {
     "data": {
      "text/plain": [
       "<Response [404]>"
      ]
     },
     "metadata": {},
     "output_type": "display_data"
    },
    {
     "name": "stdout",
     "output_type": "stream",
     "text": [
      "\r",
      "131467 of 144128"
     ]
    },
    {
     "data": {
      "text/plain": [
       "<Response [404]>"
      ]
     },
     "metadata": {},
     "output_type": "display_data"
    },
    {
     "name": "stdout",
     "output_type": "stream",
     "text": [
      "\r",
      "131467 of 144128"
     ]
    },
    {
     "data": {
      "text/plain": [
       "<Response [404]>"
      ]
     },
     "metadata": {},
     "output_type": "display_data"
    },
    {
     "name": "stdout",
     "output_type": "stream",
     "text": [
      "\r",
      "131467 of 144128"
     ]
    },
    {
     "data": {
      "text/plain": [
       "<Response [404]>"
      ]
     },
     "metadata": {},
     "output_type": "display_data"
    },
    {
     "name": "stdout",
     "output_type": "stream",
     "text": [
      "\r",
      "131467 of 144128"
     ]
    },
    {
     "data": {
      "text/plain": [
       "<Response [404]>"
      ]
     },
     "metadata": {},
     "output_type": "display_data"
    },
    {
     "name": "stdout",
     "output_type": "stream",
     "text": [
      "\n",
      "684948756\n",
      "404 not found: exceeded max retries for 684948756\n",
      "132365 of 144128"
     ]
    },
    {
     "data": {
      "text/plain": [
       "<Response [504]>"
      ]
     },
     "metadata": {},
     "output_type": "display_data"
    },
    {
     "name": "stdout",
     "output_type": "stream",
     "text": [
      "132419 of 144128\n",
      "checkpoint\n",
      "\n",
      "133135 of 144128"
     ]
    },
    {
     "data": {
      "text/plain": [
       "<Response [504]>"
      ]
     },
     "metadata": {},
     "output_type": "display_data"
    },
    {
     "name": "stdout",
     "output_type": "stream",
     "text": [
      "133141 of 144128"
     ]
    },
    {
     "data": {
      "text/plain": [
       "<Response [504]>"
      ]
     },
     "metadata": {},
     "output_type": "display_data"
    },
    {
     "name": "stdout",
     "output_type": "stream",
     "text": [
      "133249 of 144128"
     ]
    },
    {
     "data": {
      "text/plain": [
       "<Response [404]>"
      ]
     },
     "metadata": {},
     "output_type": "display_data"
    },
    {
     "name": "stdout",
     "output_type": "stream",
     "text": [
      "\r",
      "133249 of 144128"
     ]
    },
    {
     "data": {
      "text/plain": [
       "<Response [404]>"
      ]
     },
     "metadata": {},
     "output_type": "display_data"
    },
    {
     "name": "stdout",
     "output_type": "stream",
     "text": [
      "\r",
      "133249 of 144128"
     ]
    },
    {
     "data": {
      "text/plain": [
       "<Response [404]>"
      ]
     },
     "metadata": {},
     "output_type": "display_data"
    },
    {
     "name": "stdout",
     "output_type": "stream",
     "text": [
      "\r",
      "133249 of 144128"
     ]
    },
    {
     "data": {
      "text/plain": [
       "<Response [404]>"
      ]
     },
     "metadata": {},
     "output_type": "display_data"
    },
    {
     "name": "stdout",
     "output_type": "stream",
     "text": [
      "\r",
      "133249 of 144128"
     ]
    },
    {
     "data": {
      "text/plain": [
       "<Response [404]>"
      ]
     },
     "metadata": {},
     "output_type": "display_data"
    },
    {
     "name": "stdout",
     "output_type": "stream",
     "text": [
      "\r",
      "133249 of 144128"
     ]
    },
    {
     "data": {
      "text/plain": [
       "<Response [404]>"
      ]
     },
     "metadata": {},
     "output_type": "display_data"
    },
    {
     "name": "stdout",
     "output_type": "stream",
     "text": [
      "\r",
      "133249 of 144128"
     ]
    },
    {
     "data": {
      "text/plain": [
       "<Response [404]>"
      ]
     },
     "metadata": {},
     "output_type": "display_data"
    },
    {
     "name": "stdout",
     "output_type": "stream",
     "text": [
      "\r",
      "133249 of 144128"
     ]
    },
    {
     "data": {
      "text/plain": [
       "<Response [404]>"
      ]
     },
     "metadata": {},
     "output_type": "display_data"
    },
    {
     "name": "stdout",
     "output_type": "stream",
     "text": [
      "\r",
      "133249 of 144128"
     ]
    },
    {
     "data": {
      "text/plain": [
       "<Response [404]>"
      ]
     },
     "metadata": {},
     "output_type": "display_data"
    },
    {
     "name": "stdout",
     "output_type": "stream",
     "text": [
      "\r",
      "133249 of 144128"
     ]
    },
    {
     "data": {
      "text/plain": [
       "<Response [404]>"
      ]
     },
     "metadata": {},
     "output_type": "display_data"
    },
    {
     "name": "stdout",
     "output_type": "stream",
     "text": [
      "\n",
      "684822467\n",
      "404 not found: exceeded max retries for 684822467\n",
      "133423 of 144128"
     ]
    },
    {
     "data": {
      "text/plain": [
       "<Response [404]>"
      ]
     },
     "metadata": {},
     "output_type": "display_data"
    },
    {
     "name": "stdout",
     "output_type": "stream",
     "text": [
      "\r",
      "133423 of 144128"
     ]
    },
    {
     "data": {
      "text/plain": [
       "<Response [404]>"
      ]
     },
     "metadata": {},
     "output_type": "display_data"
    },
    {
     "name": "stdout",
     "output_type": "stream",
     "text": [
      "\r",
      "133423 of 144128"
     ]
    },
    {
     "data": {
      "text/plain": [
       "<Response [404]>"
      ]
     },
     "metadata": {},
     "output_type": "display_data"
    },
    {
     "name": "stdout",
     "output_type": "stream",
     "text": [
      "\r",
      "133423 of 144128"
     ]
    },
    {
     "data": {
      "text/plain": [
       "<Response [404]>"
      ]
     },
     "metadata": {},
     "output_type": "display_data"
    },
    {
     "name": "stdout",
     "output_type": "stream",
     "text": [
      "\r",
      "133423 of 144128"
     ]
    },
    {
     "data": {
      "text/plain": [
       "<Response [404]>"
      ]
     },
     "metadata": {},
     "output_type": "display_data"
    },
    {
     "name": "stdout",
     "output_type": "stream",
     "text": [
      "\r",
      "133423 of 144128"
     ]
    },
    {
     "data": {
      "text/plain": [
       "<Response [404]>"
      ]
     },
     "metadata": {},
     "output_type": "display_data"
    },
    {
     "name": "stdout",
     "output_type": "stream",
     "text": [
      "\r",
      "133423 of 144128"
     ]
    },
    {
     "data": {
      "text/plain": [
       "<Response [404]>"
      ]
     },
     "metadata": {},
     "output_type": "display_data"
    },
    {
     "name": "stdout",
     "output_type": "stream",
     "text": [
      "\r",
      "133423 of 144128"
     ]
    },
    {
     "data": {
      "text/plain": [
       "<Response [404]>"
      ]
     },
     "metadata": {},
     "output_type": "display_data"
    },
    {
     "name": "stdout",
     "output_type": "stream",
     "text": [
      "\r",
      "133423 of 144128"
     ]
    },
    {
     "data": {
      "text/plain": [
       "<Response [404]>"
      ]
     },
     "metadata": {},
     "output_type": "display_data"
    },
    {
     "name": "stdout",
     "output_type": "stream",
     "text": [
      "\r",
      "133423 of 144128"
     ]
    },
    {
     "data": {
      "text/plain": [
       "<Response [404]>"
      ]
     },
     "metadata": {},
     "output_type": "display_data"
    },
    {
     "name": "stdout",
     "output_type": "stream",
     "text": [
      "\n",
      "4723020166\n",
      "404 not found: exceeded max retries for 4723020166\n",
      "133460 of 144128"
     ]
    },
    {
     "data": {
      "text/plain": [
       "<Response [504]>"
      ]
     },
     "metadata": {},
     "output_type": "display_data"
    },
    {
     "name": "stdout",
     "output_type": "stream",
     "text": [
      "133771 of 144128\n",
      "checkpoint\n",
      "\n",
      "134189 of 144128"
     ]
    },
    {
     "data": {
      "text/plain": [
       "<Response [504]>"
      ]
     },
     "metadata": {},
     "output_type": "display_data"
    },
    {
     "name": "stdout",
     "output_type": "stream",
     "text": [
      "134262 of 144128"
     ]
    },
    {
     "data": {
      "text/plain": [
       "<Response [404]>"
      ]
     },
     "metadata": {},
     "output_type": "display_data"
    },
    {
     "name": "stdout",
     "output_type": "stream",
     "text": [
      "\r",
      "134262 of 144128"
     ]
    },
    {
     "data": {
      "text/plain": [
       "<Response [404]>"
      ]
     },
     "metadata": {},
     "output_type": "display_data"
    },
    {
     "name": "stdout",
     "output_type": "stream",
     "text": [
      "\r",
      "134262 of 144128"
     ]
    },
    {
     "data": {
      "text/plain": [
       "<Response [404]>"
      ]
     },
     "metadata": {},
     "output_type": "display_data"
    },
    {
     "name": "stdout",
     "output_type": "stream",
     "text": [
      "\r",
      "134262 of 144128"
     ]
    },
    {
     "data": {
      "text/plain": [
       "<Response [404]>"
      ]
     },
     "metadata": {},
     "output_type": "display_data"
    },
    {
     "name": "stdout",
     "output_type": "stream",
     "text": [
      "\r",
      "134262 of 144128"
     ]
    },
    {
     "data": {
      "text/plain": [
       "<Response [404]>"
      ]
     },
     "metadata": {},
     "output_type": "display_data"
    },
    {
     "name": "stdout",
     "output_type": "stream",
     "text": [
      "\r",
      "134262 of 144128"
     ]
    },
    {
     "data": {
      "text/plain": [
       "<Response [404]>"
      ]
     },
     "metadata": {},
     "output_type": "display_data"
    },
    {
     "name": "stdout",
     "output_type": "stream",
     "text": [
      "\r",
      "134262 of 144128"
     ]
    },
    {
     "data": {
      "text/plain": [
       "<Response [404]>"
      ]
     },
     "metadata": {},
     "output_type": "display_data"
    },
    {
     "name": "stdout",
     "output_type": "stream",
     "text": [
      "\r",
      "134262 of 144128"
     ]
    },
    {
     "data": {
      "text/plain": [
       "<Response [404]>"
      ]
     },
     "metadata": {},
     "output_type": "display_data"
    },
    {
     "name": "stdout",
     "output_type": "stream",
     "text": [
      "\r",
      "134262 of 144128"
     ]
    },
    {
     "data": {
      "text/plain": [
       "<Response [404]>"
      ]
     },
     "metadata": {},
     "output_type": "display_data"
    },
    {
     "name": "stdout",
     "output_type": "stream",
     "text": [
      "\r",
      "134262 of 144128"
     ]
    },
    {
     "data": {
      "text/plain": [
       "<Response [404]>"
      ]
     },
     "metadata": {},
     "output_type": "display_data"
    },
    {
     "name": "stdout",
     "output_type": "stream",
     "text": [
      "\n",
      "4732852776\n",
      "404 not found: exceeded max retries for 4732852776\n",
      "135049 of 144128"
     ]
    },
    {
     "data": {
      "text/plain": [
       "<Response [504]>"
      ]
     },
     "metadata": {},
     "output_type": "display_data"
    },
    {
     "name": "stdout",
     "output_type": "stream",
     "text": [
      "135122 of 144128\n",
      "checkpoint\n",
      "\n",
      "135709 of 144128"
     ]
    },
    {
     "data": {
      "text/plain": [
       "<Response [404]>"
      ]
     },
     "metadata": {},
     "output_type": "display_data"
    },
    {
     "name": "stdout",
     "output_type": "stream",
     "text": [
      "\r",
      "135709 of 144128"
     ]
    },
    {
     "data": {
      "text/plain": [
       "<Response [404]>"
      ]
     },
     "metadata": {},
     "output_type": "display_data"
    },
    {
     "name": "stdout",
     "output_type": "stream",
     "text": [
      "\r",
      "135709 of 144128"
     ]
    },
    {
     "data": {
      "text/plain": [
       "<Response [404]>"
      ]
     },
     "metadata": {},
     "output_type": "display_data"
    },
    {
     "name": "stdout",
     "output_type": "stream",
     "text": [
      "\r",
      "135709 of 144128"
     ]
    },
    {
     "data": {
      "text/plain": [
       "<Response [404]>"
      ]
     },
     "metadata": {},
     "output_type": "display_data"
    },
    {
     "name": "stdout",
     "output_type": "stream",
     "text": [
      "\r",
      "135709 of 144128"
     ]
    },
    {
     "data": {
      "text/plain": [
       "<Response [404]>"
      ]
     },
     "metadata": {},
     "output_type": "display_data"
    },
    {
     "name": "stdout",
     "output_type": "stream",
     "text": [
      "\r",
      "135709 of 144128"
     ]
    },
    {
     "data": {
      "text/plain": [
       "<Response [404]>"
      ]
     },
     "metadata": {},
     "output_type": "display_data"
    },
    {
     "name": "stdout",
     "output_type": "stream",
     "text": [
      "\r",
      "135709 of 144128"
     ]
    },
    {
     "data": {
      "text/plain": [
       "<Response [404]>"
      ]
     },
     "metadata": {},
     "output_type": "display_data"
    },
    {
     "name": "stdout",
     "output_type": "stream",
     "text": [
      "\r",
      "135709 of 144128"
     ]
    },
    {
     "data": {
      "text/plain": [
       "<Response [404]>"
      ]
     },
     "metadata": {},
     "output_type": "display_data"
    },
    {
     "name": "stdout",
     "output_type": "stream",
     "text": [
      "\r",
      "135709 of 144128"
     ]
    },
    {
     "data": {
      "text/plain": [
       "<Response [404]>"
      ]
     },
     "metadata": {},
     "output_type": "display_data"
    },
    {
     "name": "stdout",
     "output_type": "stream",
     "text": [
      "\r",
      "135709 of 144128"
     ]
    },
    {
     "data": {
      "text/plain": [
       "<Response [404]>"
      ]
     },
     "metadata": {},
     "output_type": "display_data"
    },
    {
     "name": "stdout",
     "output_type": "stream",
     "text": [
      "\n",
      "225945937\n",
      "404 not found: exceeded max retries for 225945937\n",
      "135729 of 144128"
     ]
    },
    {
     "data": {
      "text/plain": [
       "<Response [504]>"
      ]
     },
     "metadata": {},
     "output_type": "display_data"
    },
    {
     "name": "stdout",
     "output_type": "stream",
     "text": [
      "136053 of 144128"
     ]
    },
    {
     "data": {
      "text/plain": [
       "<Response [504]>"
      ]
     },
     "metadata": {},
     "output_type": "display_data"
    },
    {
     "name": "stdout",
     "output_type": "stream",
     "text": [
      "136379 of 144128"
     ]
    },
    {
     "data": {
      "text/plain": [
       "<Response [404]>"
      ]
     },
     "metadata": {},
     "output_type": "display_data"
    },
    {
     "name": "stdout",
     "output_type": "stream",
     "text": [
      "\r",
      "136379 of 144128"
     ]
    },
    {
     "data": {
      "text/plain": [
       "<Response [404]>"
      ]
     },
     "metadata": {},
     "output_type": "display_data"
    },
    {
     "name": "stdout",
     "output_type": "stream",
     "text": [
      "\r",
      "136379 of 144128"
     ]
    },
    {
     "data": {
      "text/plain": [
       "<Response [404]>"
      ]
     },
     "metadata": {},
     "output_type": "display_data"
    },
    {
     "name": "stdout",
     "output_type": "stream",
     "text": [
      "\r",
      "136379 of 144128"
     ]
    },
    {
     "data": {
      "text/plain": [
       "<Response [404]>"
      ]
     },
     "metadata": {},
     "output_type": "display_data"
    },
    {
     "name": "stdout",
     "output_type": "stream",
     "text": [
      "\r",
      "136379 of 144128"
     ]
    },
    {
     "data": {
      "text/plain": [
       "<Response [404]>"
      ]
     },
     "metadata": {},
     "output_type": "display_data"
    },
    {
     "name": "stdout",
     "output_type": "stream",
     "text": [
      "\r",
      "136379 of 144128"
     ]
    },
    {
     "data": {
      "text/plain": [
       "<Response [404]>"
      ]
     },
     "metadata": {},
     "output_type": "display_data"
    },
    {
     "name": "stdout",
     "output_type": "stream",
     "text": [
      "\r",
      "136379 of 144128"
     ]
    },
    {
     "data": {
      "text/plain": [
       "<Response [404]>"
      ]
     },
     "metadata": {},
     "output_type": "display_data"
    },
    {
     "name": "stdout",
     "output_type": "stream",
     "text": [
      "\r",
      "136379 of 144128"
     ]
    },
    {
     "data": {
      "text/plain": [
       "<Response [404]>"
      ]
     },
     "metadata": {},
     "output_type": "display_data"
    },
    {
     "name": "stdout",
     "output_type": "stream",
     "text": [
      "\r",
      "136379 of 144128"
     ]
    },
    {
     "data": {
      "text/plain": [
       "<Response [404]>"
      ]
     },
     "metadata": {},
     "output_type": "display_data"
    },
    {
     "name": "stdout",
     "output_type": "stream",
     "text": [
      "\r",
      "136379 of 144128"
     ]
    },
    {
     "data": {
      "text/plain": [
       "<Response [404]>"
      ]
     },
     "metadata": {},
     "output_type": "display_data"
    },
    {
     "name": "stdout",
     "output_type": "stream",
     "text": [
      "\n",
      "225947592\n",
      "404 not found: exceeded max retries for 225947592\n",
      "136391 of 144128"
     ]
    },
    {
     "data": {
      "text/plain": [
       "<Response [504]>"
      ]
     },
     "metadata": {},
     "output_type": "display_data"
    },
    {
     "name": "stdout",
     "output_type": "stream",
     "text": [
      "136474 of 144128\n",
      "checkpoint\n",
      "\n",
      "136861 of 144128"
     ]
    },
    {
     "data": {
      "text/plain": [
       "<Response [404]>"
      ]
     },
     "metadata": {},
     "output_type": "display_data"
    },
    {
     "name": "stdout",
     "output_type": "stream",
     "text": [
      "\r",
      "136861 of 144128"
     ]
    },
    {
     "data": {
      "text/plain": [
       "<Response [404]>"
      ]
     },
     "metadata": {},
     "output_type": "display_data"
    },
    {
     "name": "stdout",
     "output_type": "stream",
     "text": [
      "\r",
      "136861 of 144128"
     ]
    },
    {
     "data": {
      "text/plain": [
       "<Response [404]>"
      ]
     },
     "metadata": {},
     "output_type": "display_data"
    },
    {
     "name": "stdout",
     "output_type": "stream",
     "text": [
      "\r",
      "136861 of 144128"
     ]
    },
    {
     "data": {
      "text/plain": [
       "<Response [404]>"
      ]
     },
     "metadata": {},
     "output_type": "display_data"
    },
    {
     "name": "stdout",
     "output_type": "stream",
     "text": [
      "\r",
      "136861 of 144128"
     ]
    },
    {
     "data": {
      "text/plain": [
       "<Response [404]>"
      ]
     },
     "metadata": {},
     "output_type": "display_data"
    },
    {
     "name": "stdout",
     "output_type": "stream",
     "text": [
      "\r",
      "136861 of 144128"
     ]
    },
    {
     "data": {
      "text/plain": [
       "<Response [404]>"
      ]
     },
     "metadata": {},
     "output_type": "display_data"
    },
    {
     "name": "stdout",
     "output_type": "stream",
     "text": [
      "\r",
      "136861 of 144128"
     ]
    },
    {
     "data": {
      "text/plain": [
       "<Response [404]>"
      ]
     },
     "metadata": {},
     "output_type": "display_data"
    },
    {
     "name": "stdout",
     "output_type": "stream",
     "text": [
      "\r",
      "136861 of 144128"
     ]
    },
    {
     "data": {
      "text/plain": [
       "<Response [404]>"
      ]
     },
     "metadata": {},
     "output_type": "display_data"
    },
    {
     "name": "stdout",
     "output_type": "stream",
     "text": [
      "\r",
      "136861 of 144128"
     ]
    },
    {
     "data": {
      "text/plain": [
       "<Response [404]>"
      ]
     },
     "metadata": {},
     "output_type": "display_data"
    },
    {
     "name": "stdout",
     "output_type": "stream",
     "text": [
      "\r",
      "136861 of 144128"
     ]
    },
    {
     "data": {
      "text/plain": [
       "<Response [404]>"
      ]
     },
     "metadata": {},
     "output_type": "display_data"
    },
    {
     "name": "stdout",
     "output_type": "stream",
     "text": [
      "\n",
      "236696649\n",
      "404 not found: exceeded max retries for 236696649\n",
      "137111 of 144128"
     ]
    },
    {
     "data": {
      "text/plain": [
       "<Response [504]>"
      ]
     },
     "metadata": {},
     "output_type": "display_data"
    },
    {
     "name": "stdout",
     "output_type": "stream",
     "text": [
      "137118 of 144128"
     ]
    },
    {
     "data": {
      "text/plain": [
       "<Response [404]>"
      ]
     },
     "metadata": {},
     "output_type": "display_data"
    },
    {
     "name": "stdout",
     "output_type": "stream",
     "text": [
      "\r",
      "137118 of 144128"
     ]
    },
    {
     "data": {
      "text/plain": [
       "<Response [404]>"
      ]
     },
     "metadata": {},
     "output_type": "display_data"
    },
    {
     "name": "stdout",
     "output_type": "stream",
     "text": [
      "\r",
      "137118 of 144128"
     ]
    },
    {
     "data": {
      "text/plain": [
       "<Response [404]>"
      ]
     },
     "metadata": {},
     "output_type": "display_data"
    },
    {
     "name": "stdout",
     "output_type": "stream",
     "text": [
      "\r",
      "137118 of 144128"
     ]
    },
    {
     "data": {
      "text/plain": [
       "<Response [404]>"
      ]
     },
     "metadata": {},
     "output_type": "display_data"
    },
    {
     "name": "stdout",
     "output_type": "stream",
     "text": [
      "\r",
      "137118 of 144128"
     ]
    },
    {
     "data": {
      "text/plain": [
       "<Response [404]>"
      ]
     },
     "metadata": {},
     "output_type": "display_data"
    },
    {
     "name": "stdout",
     "output_type": "stream",
     "text": [
      "\r",
      "137118 of 144128"
     ]
    },
    {
     "data": {
      "text/plain": [
       "<Response [404]>"
      ]
     },
     "metadata": {},
     "output_type": "display_data"
    },
    {
     "name": "stdout",
     "output_type": "stream",
     "text": [
      "\r",
      "137118 of 144128"
     ]
    },
    {
     "data": {
      "text/plain": [
       "<Response [404]>"
      ]
     },
     "metadata": {},
     "output_type": "display_data"
    },
    {
     "name": "stdout",
     "output_type": "stream",
     "text": [
      "\r",
      "137118 of 144128"
     ]
    },
    {
     "data": {
      "text/plain": [
       "<Response [404]>"
      ]
     },
     "metadata": {},
     "output_type": "display_data"
    },
    {
     "name": "stdout",
     "output_type": "stream",
     "text": [
      "\r",
      "137118 of 144128"
     ]
    },
    {
     "data": {
      "text/plain": [
       "<Response [404]>"
      ]
     },
     "metadata": {},
     "output_type": "display_data"
    },
    {
     "name": "stdout",
     "output_type": "stream",
     "text": [
      "\r",
      "137118 of 144128"
     ]
    },
    {
     "data": {
      "text/plain": [
       "<Response [404]>"
      ]
     },
     "metadata": {},
     "output_type": "display_data"
    },
    {
     "name": "stdout",
     "output_type": "stream",
     "text": [
      "\n",
      "4721719005\n",
      "404 not found: exceeded max retries for 4721719005\n",
      "137773 of 144128"
     ]
    },
    {
     "data": {
      "text/plain": [
       "<Response [504]>"
      ]
     },
     "metadata": {},
     "output_type": "display_data"
    },
    {
     "name": "stdout",
     "output_type": "stream",
     "text": [
      "137826 of 144128\n",
      "checkpoint\n",
      "\n",
      "138070 of 144128"
     ]
    },
    {
     "data": {
      "text/plain": [
       "<Response [504]>"
      ]
     },
     "metadata": {},
     "output_type": "display_data"
    },
    {
     "name": "stdout",
     "output_type": "stream",
     "text": [
      "139095 of 144128"
     ]
    },
    {
     "data": {
      "text/plain": [
       "<Response [404]>"
      ]
     },
     "metadata": {},
     "output_type": "display_data"
    },
    {
     "name": "stdout",
     "output_type": "stream",
     "text": [
      "\r",
      "139095 of 144128"
     ]
    },
    {
     "data": {
      "text/plain": [
       "<Response [404]>"
      ]
     },
     "metadata": {},
     "output_type": "display_data"
    },
    {
     "name": "stdout",
     "output_type": "stream",
     "text": [
      "\r",
      "139095 of 144128"
     ]
    },
    {
     "data": {
      "text/plain": [
       "<Response [404]>"
      ]
     },
     "metadata": {},
     "output_type": "display_data"
    },
    {
     "name": "stdout",
     "output_type": "stream",
     "text": [
      "\r",
      "139095 of 144128"
     ]
    },
    {
     "data": {
      "text/plain": [
       "<Response [404]>"
      ]
     },
     "metadata": {},
     "output_type": "display_data"
    },
    {
     "name": "stdout",
     "output_type": "stream",
     "text": [
      "\r",
      "139095 of 144128"
     ]
    },
    {
     "data": {
      "text/plain": [
       "<Response [404]>"
      ]
     },
     "metadata": {},
     "output_type": "display_data"
    },
    {
     "name": "stdout",
     "output_type": "stream",
     "text": [
      "\r",
      "139095 of 144128"
     ]
    },
    {
     "data": {
      "text/plain": [
       "<Response [404]>"
      ]
     },
     "metadata": {},
     "output_type": "display_data"
    },
    {
     "name": "stdout",
     "output_type": "stream",
     "text": [
      "\r",
      "139095 of 144128"
     ]
    },
    {
     "data": {
      "text/plain": [
       "<Response [404]>"
      ]
     },
     "metadata": {},
     "output_type": "display_data"
    },
    {
     "name": "stdout",
     "output_type": "stream",
     "text": [
      "\r",
      "139095 of 144128"
     ]
    },
    {
     "data": {
      "text/plain": [
       "<Response [404]>"
      ]
     },
     "metadata": {},
     "output_type": "display_data"
    },
    {
     "name": "stdout",
     "output_type": "stream",
     "text": [
      "\r",
      "139095 of 144128"
     ]
    },
    {
     "data": {
      "text/plain": [
       "<Response [404]>"
      ]
     },
     "metadata": {},
     "output_type": "display_data"
    },
    {
     "name": "stdout",
     "output_type": "stream",
     "text": [
      "\r",
      "139095 of 144128"
     ]
    },
    {
     "data": {
      "text/plain": [
       "<Response [404]>"
      ]
     },
     "metadata": {},
     "output_type": "display_data"
    },
    {
     "name": "stdout",
     "output_type": "stream",
     "text": [
      "\n",
      "684706534\n",
      "404 not found: exceeded max retries for 684706534\n",
      "139177 of 144128\n",
      "checkpoint\n",
      "\n",
      "139389 of 144128"
     ]
    },
    {
     "data": {
      "text/plain": [
       "<Response [504]>"
      ]
     },
     "metadata": {},
     "output_type": "display_data"
    },
    {
     "name": "stdout",
     "output_type": "stream",
     "text": [
      "139510 of 144128"
     ]
    },
    {
     "data": {
      "text/plain": [
       "<Response [504]>"
      ]
     },
     "metadata": {},
     "output_type": "display_data"
    },
    {
     "name": "stdout",
     "output_type": "stream",
     "text": [
      "140048 of 144128"
     ]
    },
    {
     "data": {
      "text/plain": [
       "<Response [404]>"
      ]
     },
     "metadata": {},
     "output_type": "display_data"
    },
    {
     "name": "stdout",
     "output_type": "stream",
     "text": [
      "\r",
      "140048 of 144128"
     ]
    },
    {
     "data": {
      "text/plain": [
       "<Response [404]>"
      ]
     },
     "metadata": {},
     "output_type": "display_data"
    },
    {
     "name": "stdout",
     "output_type": "stream",
     "text": [
      "\r",
      "140048 of 144128"
     ]
    },
    {
     "data": {
      "text/plain": [
       "<Response [404]>"
      ]
     },
     "metadata": {},
     "output_type": "display_data"
    },
    {
     "name": "stdout",
     "output_type": "stream",
     "text": [
      "\r",
      "140048 of 144128"
     ]
    },
    {
     "data": {
      "text/plain": [
       "<Response [404]>"
      ]
     },
     "metadata": {},
     "output_type": "display_data"
    },
    {
     "name": "stdout",
     "output_type": "stream",
     "text": [
      "\r",
      "140048 of 144128"
     ]
    },
    {
     "data": {
      "text/plain": [
       "<Response [404]>"
      ]
     },
     "metadata": {},
     "output_type": "display_data"
    },
    {
     "name": "stdout",
     "output_type": "stream",
     "text": [
      "\r",
      "140048 of 144128"
     ]
    },
    {
     "data": {
      "text/plain": [
       "<Response [404]>"
      ]
     },
     "metadata": {},
     "output_type": "display_data"
    },
    {
     "name": "stdout",
     "output_type": "stream",
     "text": [
      "\r",
      "140048 of 144128"
     ]
    },
    {
     "data": {
      "text/plain": [
       "<Response [404]>"
      ]
     },
     "metadata": {},
     "output_type": "display_data"
    },
    {
     "name": "stdout",
     "output_type": "stream",
     "text": [
      "\r",
      "140048 of 144128"
     ]
    },
    {
     "data": {
      "text/plain": [
       "<Response [404]>"
      ]
     },
     "metadata": {},
     "output_type": "display_data"
    },
    {
     "name": "stdout",
     "output_type": "stream",
     "text": [
      "\r",
      "140048 of 144128"
     ]
    },
    {
     "data": {
      "text/plain": [
       "<Response [404]>"
      ]
     },
     "metadata": {},
     "output_type": "display_data"
    },
    {
     "name": "stdout",
     "output_type": "stream",
     "text": [
      "\r",
      "140048 of 144128"
     ]
    },
    {
     "data": {
      "text/plain": [
       "<Response [404]>"
      ]
     },
     "metadata": {},
     "output_type": "display_data"
    },
    {
     "name": "stdout",
     "output_type": "stream",
     "text": [
      "\n",
      "4724086098\n",
      "404 not found: exceeded max retries for 4724086098\n",
      "140508 of 144128"
     ]
    },
    {
     "data": {
      "text/plain": [
       "<Response [504]>"
      ]
     },
     "metadata": {},
     "output_type": "display_data"
    },
    {
     "name": "stdout",
     "output_type": "stream",
     "text": [
      "140528 of 144128\n",
      "checkpoint\n",
      "\n",
      "140597 of 144128"
     ]
    },
    {
     "data": {
      "text/plain": [
       "<Response [504]>"
      ]
     },
     "metadata": {},
     "output_type": "display_data"
    },
    {
     "name": "stdout",
     "output_type": "stream",
     "text": [
      "140944 of 144128"
     ]
    },
    {
     "data": {
      "text/plain": [
       "<Response [404]>"
      ]
     },
     "metadata": {},
     "output_type": "display_data"
    },
    {
     "name": "stdout",
     "output_type": "stream",
     "text": [
      "\r",
      "140944 of 144128"
     ]
    },
    {
     "data": {
      "text/plain": [
       "<Response [404]>"
      ]
     },
     "metadata": {},
     "output_type": "display_data"
    },
    {
     "name": "stdout",
     "output_type": "stream",
     "text": [
      "\r",
      "140944 of 144128"
     ]
    },
    {
     "data": {
      "text/plain": [
       "<Response [404]>"
      ]
     },
     "metadata": {},
     "output_type": "display_data"
    },
    {
     "name": "stdout",
     "output_type": "stream",
     "text": [
      "\r",
      "140944 of 144128"
     ]
    },
    {
     "data": {
      "text/plain": [
       "<Response [404]>"
      ]
     },
     "metadata": {},
     "output_type": "display_data"
    },
    {
     "name": "stdout",
     "output_type": "stream",
     "text": [
      "\r",
      "140944 of 144128"
     ]
    },
    {
     "data": {
      "text/plain": [
       "<Response [404]>"
      ]
     },
     "metadata": {},
     "output_type": "display_data"
    },
    {
     "name": "stdout",
     "output_type": "stream",
     "text": [
      "\r",
      "140944 of 144128"
     ]
    },
    {
     "data": {
      "text/plain": [
       "<Response [404]>"
      ]
     },
     "metadata": {},
     "output_type": "display_data"
    },
    {
     "name": "stdout",
     "output_type": "stream",
     "text": [
      "\r",
      "140944 of 144128"
     ]
    },
    {
     "data": {
      "text/plain": [
       "<Response [404]>"
      ]
     },
     "metadata": {},
     "output_type": "display_data"
    },
    {
     "name": "stdout",
     "output_type": "stream",
     "text": [
      "\r",
      "140944 of 144128"
     ]
    },
    {
     "data": {
      "text/plain": [
       "<Response [404]>"
      ]
     },
     "metadata": {},
     "output_type": "display_data"
    },
    {
     "name": "stdout",
     "output_type": "stream",
     "text": [
      "\r",
      "140944 of 144128"
     ]
    },
    {
     "data": {
      "text/plain": [
       "<Response [404]>"
      ]
     },
     "metadata": {},
     "output_type": "display_data"
    },
    {
     "name": "stdout",
     "output_type": "stream",
     "text": [
      "\r",
      "140944 of 144128"
     ]
    },
    {
     "data": {
      "text/plain": [
       "<Response [404]>"
      ]
     },
     "metadata": {},
     "output_type": "display_data"
    },
    {
     "name": "stdout",
     "output_type": "stream",
     "text": [
      "\n",
      "684711424\n",
      "404 not found: exceeded max retries for 684711424\n",
      "141018 of 144128"
     ]
    },
    {
     "data": {
      "text/plain": [
       "<Response [504]>"
      ]
     },
     "metadata": {},
     "output_type": "display_data"
    },
    {
     "name": "stdout",
     "output_type": "stream",
     "text": [
      "141221 of 144128"
     ]
    },
    {
     "data": {
      "text/plain": [
       "<Response [504]>"
      ]
     },
     "metadata": {},
     "output_type": "display_data"
    },
    {
     "name": "stdout",
     "output_type": "stream",
     "text": [
      "141739 of 144128"
     ]
    },
    {
     "data": {
      "text/plain": [
       "<Response [504]>"
      ]
     },
     "metadata": {},
     "output_type": "display_data"
    },
    {
     "name": "stdout",
     "output_type": "stream",
     "text": [
      "141871 of 144128"
     ]
    },
    {
     "data": {
      "text/plain": [
       "<Response [504]>"
      ]
     },
     "metadata": {},
     "output_type": "display_data"
    },
    {
     "name": "stdout",
     "output_type": "stream",
     "text": [
      "141879 of 144128\n",
      "checkpoint\n",
      "\n",
      "141882 of 144128"
     ]
    },
    {
     "data": {
      "text/plain": [
       "<Response [504]>"
      ]
     },
     "metadata": {},
     "output_type": "display_data"
    },
    {
     "name": "stdout",
     "output_type": "stream",
     "text": [
      "142093 of 144128"
     ]
    },
    {
     "data": {
      "text/plain": [
       "<Response [504]>"
      ]
     },
     "metadata": {},
     "output_type": "display_data"
    },
    {
     "name": "stdout",
     "output_type": "stream",
     "text": [
      "142667 of 144128"
     ]
    },
    {
     "data": {
      "text/plain": [
       "<Response [504]>"
      ]
     },
     "metadata": {},
     "output_type": "display_data"
    },
    {
     "name": "stdout",
     "output_type": "stream",
     "text": [
      "142786 of 144128"
     ]
    },
    {
     "data": {
      "text/plain": [
       "<Response [504]>"
      ]
     },
     "metadata": {},
     "output_type": "display_data"
    },
    {
     "name": "stdout",
     "output_type": "stream",
     "text": [
      "142912 of 144128"
     ]
    },
    {
     "data": {
      "text/plain": [
       "<Response [504]>"
      ]
     },
     "metadata": {},
     "output_type": "display_data"
    },
    {
     "name": "stdout",
     "output_type": "stream",
     "text": [
      "143229 of 144128\n",
      "checkpoint\n",
      "\n",
      "144068 of 144128"
     ]
    },
    {
     "data": {
      "text/plain": [
       "<Response [429]>"
      ]
     },
     "metadata": {},
     "output_type": "display_data"
    },
    {
     "name": "stdout",
     "output_type": "stream",
     "text": [
      "144118 of 144128"
     ]
    },
    {
     "data": {
      "text/plain": [
       "<Response [404]>"
      ]
     },
     "metadata": {},
     "output_type": "display_data"
    },
    {
     "name": "stdout",
     "output_type": "stream",
     "text": [
      "\r",
      "144118 of 144128"
     ]
    },
    {
     "data": {
      "text/plain": [
       "<Response [404]>"
      ]
     },
     "metadata": {},
     "output_type": "display_data"
    },
    {
     "name": "stdout",
     "output_type": "stream",
     "text": [
      "\r",
      "144118 of 144128"
     ]
    },
    {
     "data": {
      "text/plain": [
       "<Response [404]>"
      ]
     },
     "metadata": {},
     "output_type": "display_data"
    },
    {
     "name": "stdout",
     "output_type": "stream",
     "text": [
      "\r",
      "144118 of 144128"
     ]
    },
    {
     "data": {
      "text/plain": [
       "<Response [404]>"
      ]
     },
     "metadata": {},
     "output_type": "display_data"
    },
    {
     "name": "stdout",
     "output_type": "stream",
     "text": [
      "\r",
      "144118 of 144128"
     ]
    },
    {
     "data": {
      "text/plain": [
       "<Response [404]>"
      ]
     },
     "metadata": {},
     "output_type": "display_data"
    },
    {
     "name": "stdout",
     "output_type": "stream",
     "text": [
      "\r",
      "144118 of 144128"
     ]
    },
    {
     "data": {
      "text/plain": [
       "<Response [404]>"
      ]
     },
     "metadata": {},
     "output_type": "display_data"
    },
    {
     "name": "stdout",
     "output_type": "stream",
     "text": [
      "\r",
      "144118 of 144128"
     ]
    },
    {
     "data": {
      "text/plain": [
       "<Response [404]>"
      ]
     },
     "metadata": {},
     "output_type": "display_data"
    },
    {
     "name": "stdout",
     "output_type": "stream",
     "text": [
      "\r",
      "144118 of 144128"
     ]
    },
    {
     "data": {
      "text/plain": [
       "<Response [404]>"
      ]
     },
     "metadata": {},
     "output_type": "display_data"
    },
    {
     "name": "stdout",
     "output_type": "stream",
     "text": [
      "\r",
      "144118 of 144128"
     ]
    },
    {
     "data": {
      "text/plain": [
       "<Response [404]>"
      ]
     },
     "metadata": {},
     "output_type": "display_data"
    },
    {
     "name": "stdout",
     "output_type": "stream",
     "text": [
      "\r",
      "144118 of 144128"
     ]
    },
    {
     "data": {
      "text/plain": [
       "<Response [404]>"
      ]
     },
     "metadata": {},
     "output_type": "display_data"
    },
    {
     "name": "stdout",
     "output_type": "stream",
     "text": [
      "\n",
      "684982242\n",
      "404 not found: exceeded max retries for 684982242\n",
      "144127 of 144128"
     ]
    }
   ],
   "source": [
    "filename = './League of Legends/data/games_na1.csv'\n",
    "df = pd.read_csv(filename)\n",
    "index = 0\n",
    "count = 0 \n",
    "checkpoint = 1350\n",
    "max_retries = 10\n",
    "bad_gameIds = load_list(\"./League of Legends/bad_gameIds.txt\")\n",
    "retry_count = 0\n",
    "while index < len(df):            \n",
    "    gameId = df['gameId'][index]    \n",
    "    if pd.isnull(df['p1_summonerId'][index]) and not (str(gameId) in bad_gameIds):\n",
    "        print(f\"\\r{index} of {len(df)}\", end=\"\")\n",
    "        #print(\"for\",gameId,\":\", not (str(gameId) in bad_gameIds) and pd.isnull(df['p1_summonerId'][index]))\n",
    "        row, status = getGameInfo('na1', gameId, payload)\n",
    "        time.sleep(1/rate)\n",
    "        if status != 200:\n",
    "            if status == 403:\n",
    "                raise Exception('Forbidden 403: Need to re-generate api key')            \n",
    "            elif status==404:\n",
    "                \n",
    "                retry_count+=1\n",
    "                if retry_count >= max_retries:\n",
    "                    print(\"\")\n",
    "                    print(gameId)\n",
    "                    print('404 not found: exceeded max retries for', df['gameId'][index])\n",
    "                    #df = df.drop(df.index[index])\n",
    "                    append_to_file(gameId,'./League of Legends/bad_gameIds.txt')                    \n",
    "                    index+=1\n",
    "                    retry_count=0                    \n",
    "                    \n",
    "        else:\n",
    "            retry_count = 0\n",
    "            for key in row.keys():\n",
    "                df[key][index] = row[key]\n",
    "            count += 1\n",
    "            index += 1\n",
    "    else:\n",
    "        index += 1\n",
    "        retry_count = 0\n",
    "    \n",
    "    if count>=checkpoint:\n",
    "        print(f'\\ncheckpoint')\n",
    "        df.to_csv(filename,index=False)\n",
    "        count = 0\n",
    "        print()\n",
    "    "
   ]
  },
  {
   "cell_type": "code",
   "execution_count": 13,
   "metadata": {},
   "outputs": [
    {
     "ename": "KeyError",
     "evalue": "'summonerId'",
     "output_type": "error",
     "traceback": [
      "\u001b[1;31m---------------------------------------------------------------------------\u001b[0m",
      "\u001b[1;31mKeyError\u001b[0m                                  Traceback (most recent call last)",
      "\u001b[1;32m<ipython-input-13-1a053bbec1c4>\u001b[0m in \u001b[0;36m<module>\u001b[1;34m\u001b[0m\n\u001b[0;32m      4\u001b[0m \u001b[0mindex\u001b[0m \u001b[1;33m=\u001b[0m \u001b[1;36m63197\u001b[0m\u001b[1;33m\u001b[0m\u001b[1;33m\u001b[0m\u001b[0m\n\u001b[0;32m      5\u001b[0m \u001b[0mgameId\u001b[0m \u001b[1;33m=\u001b[0m \u001b[0mdf\u001b[0m\u001b[1;33m[\u001b[0m\u001b[1;34m'gameId'\u001b[0m\u001b[1;33m]\u001b[0m\u001b[1;33m[\u001b[0m\u001b[0mindex\u001b[0m\u001b[1;33m]\u001b[0m\u001b[1;33m\u001b[0m\u001b[1;33m\u001b[0m\u001b[0m\n\u001b[1;32m----> 6\u001b[1;33m \u001b[0mrow\u001b[0m\u001b[1;33m,\u001b[0m \u001b[0mstatus\u001b[0m \u001b[1;33m=\u001b[0m \u001b[0mgetGameInfo\u001b[0m\u001b[1;33m(\u001b[0m\u001b[1;34m'na1'\u001b[0m\u001b[1;33m,\u001b[0m \u001b[0mgameId\u001b[0m\u001b[1;33m,\u001b[0m \u001b[0mpayload\u001b[0m\u001b[1;33m)\u001b[0m\u001b[1;33m\u001b[0m\u001b[1;33m\u001b[0m\u001b[0m\n\u001b[0m\u001b[0;32m      7\u001b[0m \u001b[0mdisplay\u001b[0m\u001b[1;33m(\u001b[0m\u001b[0mrow\u001b[0m\u001b[1;33m)\u001b[0m\u001b[1;33m\u001b[0m\u001b[1;33m\u001b[0m\u001b[0m\n\u001b[0;32m      8\u001b[0m \u001b[1;31m#for i in bad_gameIds:\u001b[0m\u001b[1;33m\u001b[0m\u001b[1;33m\u001b[0m\u001b[1;33m\u001b[0m\u001b[0m\n",
      "\u001b[1;32m<ipython-input-8-5212a1803a39>\u001b[0m in \u001b[0;36mgetGameInfo\u001b[1;34m(region, gameId, payload)\u001b[0m\n\u001b[0;32m     42\u001b[0m     \u001b[1;32mfor\u001b[0m \u001b[0midx\u001b[0m\u001b[1;33m,\u001b[0m \u001b[0mparticipant\u001b[0m \u001b[1;32min\u001b[0m \u001b[0menumerate\u001b[0m\u001b[1;33m(\u001b[0m\u001b[0mdata\u001b[0m\u001b[1;33m[\u001b[0m\u001b[1;34m'participants'\u001b[0m\u001b[1;33m]\u001b[0m\u001b[1;33m)\u001b[0m\u001b[1;33m:\u001b[0m\u001b[1;33m\u001b[0m\u001b[1;33m\u001b[0m\u001b[0m\n\u001b[0;32m     43\u001b[0m         \u001b[0mp\u001b[0m \u001b[1;33m=\u001b[0m \u001b[0mreduce_participant_fields\u001b[0m\u001b[1;33m(\u001b[0m\u001b[0mparticipant\u001b[0m\u001b[1;33m)\u001b[0m\u001b[1;33m\u001b[0m\u001b[1;33m\u001b[0m\u001b[0m\n\u001b[1;32m---> 44\u001b[1;33m         \u001b[0mout\u001b[0m\u001b[1;33m[\u001b[0m\u001b[1;34mf\"p{participant['participantId']}_summonerId\"\u001b[0m\u001b[1;33m]\u001b[0m \u001b[1;33m=\u001b[0m \u001b[0mdata\u001b[0m\u001b[1;33m[\u001b[0m\u001b[1;34m'participantIdentities'\u001b[0m\u001b[1;33m]\u001b[0m\u001b[1;33m[\u001b[0m\u001b[0midx\u001b[0m\u001b[1;33m]\u001b[0m\u001b[1;33m[\u001b[0m\u001b[1;34m'player'\u001b[0m\u001b[1;33m]\u001b[0m\u001b[1;33m[\u001b[0m\u001b[1;34m'summonerId'\u001b[0m\u001b[1;33m]\u001b[0m\u001b[1;33m\u001b[0m\u001b[1;33m\u001b[0m\u001b[0m\n\u001b[0m\u001b[0;32m     45\u001b[0m         \u001b[1;32mfor\u001b[0m \u001b[0mkey\u001b[0m \u001b[1;32min\u001b[0m \u001b[0mp\u001b[0m\u001b[1;33m.\u001b[0m\u001b[0mkeys\u001b[0m\u001b[1;33m(\u001b[0m\u001b[1;33m)\u001b[0m\u001b[1;33m:\u001b[0m\u001b[1;33m\u001b[0m\u001b[1;33m\u001b[0m\u001b[0m\n\u001b[0;32m     46\u001b[0m             \u001b[0mout\u001b[0m\u001b[1;33m[\u001b[0m\u001b[1;34mf\"p{participant['participantId']}_{key}\"\u001b[0m\u001b[1;33m]\u001b[0m \u001b[1;33m=\u001b[0m \u001b[0mp\u001b[0m\u001b[1;33m[\u001b[0m\u001b[0mkey\u001b[0m\u001b[1;33m]\u001b[0m\u001b[1;33m\u001b[0m\u001b[1;33m\u001b[0m\u001b[0m\n",
      "\u001b[1;31mKeyError\u001b[0m: 'summonerId'"
     ]
    }
   ],
   "source": [
    "#filename = './League of Legends/data/games_na1.csv'\n",
    "#df = pd.read_csv(filename)\n",
    "bad_gameIds = load_list(\"./League of Legends/bad_gameIds.txt\")\n",
    "index = 63197\n",
    "gameId = df['gameId'][index]\n",
    "row, status = getGameInfo('na1', gameId, payload)\n",
    "display(row)\n",
    "#for i in bad_gameIds:\n",
    "#    print(i)\n",
    "\n",
    "    \n"
   ]
  },
  {
   "cell_type": "code",
   "execution_count": 15,
   "metadata": {},
   "outputs": [
    {
     "ename": "KeyError",
     "evalue": "'summonerId'",
     "output_type": "error",
     "traceback": [
      "\u001b[1;31m---------------------------------------------------------------------------\u001b[0m",
      "\u001b[1;31mKeyError\u001b[0m                                  Traceback (most recent call last)",
      "\u001b[1;32m<ipython-input-15-fd22323e0cfe>\u001b[0m in \u001b[0;36m<module>\u001b[1;34m\u001b[0m\n\u001b[0;32m     43\u001b[0m \u001b[1;32mfor\u001b[0m \u001b[0midx\u001b[0m\u001b[1;33m,\u001b[0m \u001b[0mparticipant\u001b[0m \u001b[1;32min\u001b[0m \u001b[0menumerate\u001b[0m\u001b[1;33m(\u001b[0m\u001b[0mdata\u001b[0m\u001b[1;33m[\u001b[0m\u001b[1;34m'participants'\u001b[0m\u001b[1;33m]\u001b[0m\u001b[1;33m)\u001b[0m\u001b[1;33m:\u001b[0m\u001b[1;33m\u001b[0m\u001b[1;33m\u001b[0m\u001b[0m\n\u001b[0;32m     44\u001b[0m     \u001b[0mp\u001b[0m \u001b[1;33m=\u001b[0m \u001b[0mreduce_participant_fields\u001b[0m\u001b[1;33m(\u001b[0m\u001b[0mparticipant\u001b[0m\u001b[1;33m)\u001b[0m\u001b[1;33m\u001b[0m\u001b[1;33m\u001b[0m\u001b[0m\n\u001b[1;32m---> 45\u001b[1;33m     \u001b[0mout\u001b[0m\u001b[1;33m[\u001b[0m\u001b[1;34mf\"p{participant['participantId']}_summonerId\"\u001b[0m\u001b[1;33m]\u001b[0m \u001b[1;33m=\u001b[0m \u001b[0mdata\u001b[0m\u001b[1;33m[\u001b[0m\u001b[1;34m'participantIdentities'\u001b[0m\u001b[1;33m]\u001b[0m\u001b[1;33m[\u001b[0m\u001b[0midx\u001b[0m\u001b[1;33m]\u001b[0m\u001b[1;33m[\u001b[0m\u001b[1;34m'player'\u001b[0m\u001b[1;33m]\u001b[0m\u001b[1;33m[\u001b[0m\u001b[1;34m'summonerId'\u001b[0m\u001b[1;33m]\u001b[0m\u001b[1;33m\u001b[0m\u001b[1;33m\u001b[0m\u001b[0m\n\u001b[0m\u001b[0;32m     46\u001b[0m     \u001b[1;32mfor\u001b[0m \u001b[0mkey\u001b[0m \u001b[1;32min\u001b[0m \u001b[0mp\u001b[0m\u001b[1;33m.\u001b[0m\u001b[0mkeys\u001b[0m\u001b[1;33m(\u001b[0m\u001b[1;33m)\u001b[0m\u001b[1;33m:\u001b[0m\u001b[1;33m\u001b[0m\u001b[1;33m\u001b[0m\u001b[0m\n\u001b[0;32m     47\u001b[0m         \u001b[0mout\u001b[0m\u001b[1;33m[\u001b[0m\u001b[1;34mf\"p{participant['participantId']}_{key}\"\u001b[0m\u001b[1;33m]\u001b[0m \u001b[1;33m=\u001b[0m \u001b[0mp\u001b[0m\u001b[1;33m[\u001b[0m\u001b[0mkey\u001b[0m\u001b[1;33m]\u001b[0m\u001b[1;33m\u001b[0m\u001b[1;33m\u001b[0m\u001b[0m\n",
      "\u001b[1;31mKeyError\u001b[0m: 'summonerId'"
     ]
    }
   ],
   "source": []
  },
  {
   "cell_type": "code",
   "execution_count": 19,
   "metadata": {},
   "outputs": [
    {
     "data": {
      "text/plain": [
       "dict_keys(['platformId', 'accountId', 'summonerName', 'currentPlatformId', 'currentAccountId', 'matchHistoryUri', 'profileIcon'])"
      ]
     },
     "execution_count": 19,
     "metadata": {},
     "output_type": "execute_result"
    }
   ],
   "source": [
    "data['participantIdentities'][0]['player'].keys()"
   ]
  },
  {
   "cell_type": "code",
   "execution_count": 3,
   "metadata": {},
   "outputs": [
    {
     "name": "stderr",
     "output_type": "stream",
     "text": [
      "C:\\Users\\zackw.000\\.conda\\envs\\insight\\lib\\site-packages\\IPython\\core\\interactiveshell.py:3063: DtypeWarning: Columns (2,8,9,10,72,73,118,119,164,165,210,211,256,257,302,303,348,349,394,395,440,441,486,487,488,489,490,491,492,493,494,495,496,497) have mixed types.Specify dtype option on import or set low_memory=False.\n",
      "  interactivity=interactivity, compiler=compiler, result=result)\n"
     ]
    }
   ],
   "source": [
    "file = './data/games_na1.csv'\n",
    "df = pd.read_csv(file)\n"
   ]
  },
  {
   "cell_type": "code",
   "execution_count": 8,
   "metadata": {
    "scrolled": true
   },
   "outputs": [
    {
     "data": {
      "text/plain": [
       "144128"
      ]
     },
     "execution_count": 8,
     "metadata": {},
     "output_type": "execute_result"
    }
   ],
   "source": [
    "len(df)"
   ]
  },
  {
   "cell_type": "code",
   "execution_count": 94,
   "metadata": {},
   "outputs": [
    {
     "data": {
      "text/plain": [
       "Series([], Name: gameId, dtype: bool)"
      ]
     },
     "metadata": {},
     "output_type": "display_data"
    }
   ],
   "source": [
    "status = df['gameId'].duplicated()\n",
    "dupes = status[status==True]\n",
    "display(dupes)"
   ]
  },
  {
   "cell_type": "code",
   "execution_count": 85,
   "metadata": {},
   "outputs": [
    {
     "data": {
      "text/html": [
       "<div>\n",
       "<style scoped>\n",
       "    .dataframe tbody tr th:only-of-type {\n",
       "        vertical-align: middle;\n",
       "    }\n",
       "\n",
       "    .dataframe tbody tr th {\n",
       "        vertical-align: top;\n",
       "    }\n",
       "\n",
       "    .dataframe thead th {\n",
       "        text-align: right;\n",
       "    }\n",
       "</style>\n",
       "<table border=\"1\" class=\"dataframe\">\n",
       "  <thead>\n",
       "    <tr style=\"text-align: right;\">\n",
       "      <th></th>\n",
       "      <th>tier</th>\n",
       "      <th>gameId</th>\n",
       "      <th>platformId</th>\n",
       "      <th>gameCreation</th>\n",
       "      <th>gameDuration</th>\n",
       "      <th>queueId</th>\n",
       "      <th>mapId</th>\n",
       "      <th>seasonId</th>\n",
       "      <th>gameVersion</th>\n",
       "      <th>gameMode</th>\n",
       "      <th>...</th>\n",
       "      <th>p1_summonerId</th>\n",
       "      <th>p2_summonerId</th>\n",
       "      <th>p3_summonerId</th>\n",
       "      <th>p4_summonerId</th>\n",
       "      <th>p5_summonerId</th>\n",
       "      <th>p6_summonerId</th>\n",
       "      <th>p7_summonerId</th>\n",
       "      <th>p8_summonerId</th>\n",
       "      <th>p9_summonerId</th>\n",
       "      <th>p10_summonerId</th>\n",
       "    </tr>\n",
       "  </thead>\n",
       "  <tbody>\n",
       "    <tr>\n",
       "      <th>143575</th>\n",
       "      <td>PLATINUM</td>\n",
       "      <td>3494509136</td>\n",
       "      <td>NaN</td>\n",
       "      <td>NaN</td>\n",
       "      <td>NaN</td>\n",
       "      <td>NaN</td>\n",
       "      <td>NaN</td>\n",
       "      <td>NaN</td>\n",
       "      <td>NaN</td>\n",
       "      <td>NaN</td>\n",
       "      <td>...</td>\n",
       "      <td>NaN</td>\n",
       "      <td>NaN</td>\n",
       "      <td>NaN</td>\n",
       "      <td>NaN</td>\n",
       "      <td>NaN</td>\n",
       "      <td>NaN</td>\n",
       "      <td>NaN</td>\n",
       "      <td>NaN</td>\n",
       "      <td>NaN</td>\n",
       "      <td>NaN</td>\n",
       "    </tr>\n",
       "    <tr>\n",
       "      <th>143653</th>\n",
       "      <td>PLATINUM</td>\n",
       "      <td>3524524822</td>\n",
       "      <td>NaN</td>\n",
       "      <td>NaN</td>\n",
       "      <td>NaN</td>\n",
       "      <td>NaN</td>\n",
       "      <td>NaN</td>\n",
       "      <td>NaN</td>\n",
       "      <td>NaN</td>\n",
       "      <td>NaN</td>\n",
       "      <td>...</td>\n",
       "      <td>NaN</td>\n",
       "      <td>NaN</td>\n",
       "      <td>NaN</td>\n",
       "      <td>NaN</td>\n",
       "      <td>NaN</td>\n",
       "      <td>NaN</td>\n",
       "      <td>NaN</td>\n",
       "      <td>NaN</td>\n",
       "      <td>NaN</td>\n",
       "      <td>NaN</td>\n",
       "    </tr>\n",
       "    <tr>\n",
       "      <th>143849</th>\n",
       "      <td>PLATINUM</td>\n",
       "      <td>3469737250</td>\n",
       "      <td>NaN</td>\n",
       "      <td>NaN</td>\n",
       "      <td>NaN</td>\n",
       "      <td>NaN</td>\n",
       "      <td>NaN</td>\n",
       "      <td>NaN</td>\n",
       "      <td>NaN</td>\n",
       "      <td>NaN</td>\n",
       "      <td>...</td>\n",
       "      <td>NaN</td>\n",
       "      <td>NaN</td>\n",
       "      <td>NaN</td>\n",
       "      <td>NaN</td>\n",
       "      <td>NaN</td>\n",
       "      <td>NaN</td>\n",
       "      <td>NaN</td>\n",
       "      <td>NaN</td>\n",
       "      <td>NaN</td>\n",
       "      <td>NaN</td>\n",
       "    </tr>\n",
       "    <tr>\n",
       "      <th>143854</th>\n",
       "      <td>PLATINUM</td>\n",
       "      <td>3413638448</td>\n",
       "      <td>NaN</td>\n",
       "      <td>NaN</td>\n",
       "      <td>NaN</td>\n",
       "      <td>NaN</td>\n",
       "      <td>NaN</td>\n",
       "      <td>NaN</td>\n",
       "      <td>NaN</td>\n",
       "      <td>NaN</td>\n",
       "      <td>...</td>\n",
       "      <td>NaN</td>\n",
       "      <td>NaN</td>\n",
       "      <td>NaN</td>\n",
       "      <td>NaN</td>\n",
       "      <td>NaN</td>\n",
       "      <td>NaN</td>\n",
       "      <td>NaN</td>\n",
       "      <td>NaN</td>\n",
       "      <td>NaN</td>\n",
       "      <td>NaN</td>\n",
       "    </tr>\n",
       "    <tr>\n",
       "      <th>144010</th>\n",
       "      <td>PLATINUM</td>\n",
       "      <td>3471965841</td>\n",
       "      <td>NaN</td>\n",
       "      <td>NaN</td>\n",
       "      <td>NaN</td>\n",
       "      <td>NaN</td>\n",
       "      <td>NaN</td>\n",
       "      <td>NaN</td>\n",
       "      <td>NaN</td>\n",
       "      <td>NaN</td>\n",
       "      <td>...</td>\n",
       "      <td>NaN</td>\n",
       "      <td>NaN</td>\n",
       "      <td>NaN</td>\n",
       "      <td>NaN</td>\n",
       "      <td>NaN</td>\n",
       "      <td>NaN</td>\n",
       "      <td>NaN</td>\n",
       "      <td>NaN</td>\n",
       "      <td>NaN</td>\n",
       "      <td>NaN</td>\n",
       "    </tr>\n",
       "  </tbody>\n",
       "</table>\n",
       "<p>5 rows × 498 columns</p>\n",
       "</div>"
      ],
      "text/plain": [
       "            tier      gameId platformId  gameCreation  gameDuration  queueId  \\\n",
       "143575  PLATINUM  3494509136        NaN           NaN           NaN      NaN   \n",
       "143653  PLATINUM  3524524822        NaN           NaN           NaN      NaN   \n",
       "143849  PLATINUM  3469737250        NaN           NaN           NaN      NaN   \n",
       "143854  PLATINUM  3413638448        NaN           NaN           NaN      NaN   \n",
       "144010  PLATINUM  3471965841        NaN           NaN           NaN      NaN   \n",
       "\n",
       "        mapId  seasonId gameVersion gameMode  ... p1_summonerId  \\\n",
       "143575    NaN       NaN         NaN      NaN  ...           NaN   \n",
       "143653    NaN       NaN         NaN      NaN  ...           NaN   \n",
       "143849    NaN       NaN         NaN      NaN  ...           NaN   \n",
       "143854    NaN       NaN         NaN      NaN  ...           NaN   \n",
       "144010    NaN       NaN         NaN      NaN  ...           NaN   \n",
       "\n",
       "        p2_summonerId  p3_summonerId  p4_summonerId  p5_summonerId  \\\n",
       "143575            NaN            NaN            NaN            NaN   \n",
       "143653            NaN            NaN            NaN            NaN   \n",
       "143849            NaN            NaN            NaN            NaN   \n",
       "143854            NaN            NaN            NaN            NaN   \n",
       "144010            NaN            NaN            NaN            NaN   \n",
       "\n",
       "        p6_summonerId  p7_summonerId  p8_summonerId  p9_summonerId  \\\n",
       "143575            NaN            NaN            NaN            NaN   \n",
       "143653            NaN            NaN            NaN            NaN   \n",
       "143849            NaN            NaN            NaN            NaN   \n",
       "143854            NaN            NaN            NaN            NaN   \n",
       "144010            NaN            NaN            NaN            NaN   \n",
       "\n",
       "        p10_summonerId  \n",
       "143575             NaN  \n",
       "143653             NaN  \n",
       "143849             NaN  \n",
       "143854             NaN  \n",
       "144010             NaN  \n",
       "\n",
       "[5 rows x 498 columns]"
      ]
     },
     "metadata": {},
     "output_type": "display_data"
    }
   ],
   "source": [
    "display(df.loc[dupes.index[:]])\n"
   ]
  },
  {
   "cell_type": "code",
   "execution_count": 95,
   "metadata": {},
   "outputs": [],
   "source": [
    "conn = sqlite3.connect('data/data2.db')\n",
    "cursor = conn.cursor()\n",
    "df.to_sql('games',conn,index=False)"
   ]
  },
  {
   "cell_type": "code",
   "execution_count": 50,
   "metadata": {},
   "outputs": [
    {
     "data": {
      "text/html": [
       "<div>\n",
       "<style scoped>\n",
       "    .dataframe tbody tr th:only-of-type {\n",
       "        vertical-align: middle;\n",
       "    }\n",
       "\n",
       "    .dataframe tbody tr th {\n",
       "        vertical-align: top;\n",
       "    }\n",
       "\n",
       "    .dataframe thead th {\n",
       "        text-align: right;\n",
       "    }\n",
       "</style>\n",
       "<table border=\"1\" class=\"dataframe\">\n",
       "  <thead>\n",
       "    <tr style=\"text-align: right;\">\n",
       "      <th></th>\n",
       "      <th>tier</th>\n",
       "      <th>gameId</th>\n",
       "      <th>platformId</th>\n",
       "      <th>gameCreation</th>\n",
       "      <th>gameDuration</th>\n",
       "      <th>queueId</th>\n",
       "      <th>mapId</th>\n",
       "      <th>seasonId</th>\n",
       "      <th>gameVersion</th>\n",
       "      <th>gameMode</th>\n",
       "      <th>...</th>\n",
       "      <th>p1_summonerId</th>\n",
       "      <th>p2_summonerId</th>\n",
       "      <th>p3_summonerId</th>\n",
       "      <th>p4_summonerId</th>\n",
       "      <th>p5_summonerId</th>\n",
       "      <th>p6_summonerId</th>\n",
       "      <th>p7_summonerId</th>\n",
       "      <th>p8_summonerId</th>\n",
       "      <th>p9_summonerId</th>\n",
       "      <th>p10_summonerId</th>\n",
       "    </tr>\n",
       "  </thead>\n",
       "  <tbody>\n",
       "    <tr>\n",
       "      <th>8170</th>\n",
       "      <td>GRANDMASTER</td>\n",
       "      <td>3463315468</td>\n",
       "      <td>NA1</td>\n",
       "      <td>1.592286e+12</td>\n",
       "      <td>1499.0</td>\n",
       "      <td>420.0</td>\n",
       "      <td>11.0</td>\n",
       "      <td>13.0</td>\n",
       "      <td>10.12.324.5925</td>\n",
       "      <td>CLASSIC</td>\n",
       "      <td>...</td>\n",
       "      <td>xFusPxMEX5NsWHi1ZDuzsSZu12C7hESa871V961c2DqQqcnU</td>\n",
       "      <td>Ols34X0v5nbM0Vgo4E-Uods_Ch6oh9S-vjk8CChIpRb1</td>\n",
       "      <td>RirpEjhr3Ex5gsa9EwpCxhkrgjdKp7QnGG6caSbtZHNl3Ac</td>\n",
       "      <td>fLtRb8YqWwjWOuDZBqEP6zlUkBernVUCC9k0SGXyOdOsErkb</td>\n",
       "      <td>nwlqG6WMnvSnjVR1pfhM4Chs1pxHG4QdPctAKpFRhDL-QFwP</td>\n",
       "      <td>RAIBxYb5EiNFr1unOvAmoNw-Zfci9qbXtOUtToLhA8TDknKT</td>\n",
       "      <td>Igii9mTGDz4vLEPBH-U1f6cR0ZY1jviJpYWZdapb6LChRDE</td>\n",
       "      <td>Qka5zozhnXskkjK7eV2NcGtGpMeeRf1IiP0nCwd6qN7H8Ao</td>\n",
       "      <td>kmvKw6QowmUHAO4IoTEg8CkhzUOBJ0DamvWYsdYEaq_RFIY</td>\n",
       "      <td>uY6leWqOzokrH5gdvhrKn7MMZWPNG7hYYAgTwftt--Aq8iQ</td>\n",
       "    </tr>\n",
       "  </tbody>\n",
       "</table>\n",
       "<p>1 rows × 498 columns</p>\n",
       "</div>"
      ],
      "text/plain": [
       "             tier      gameId platformId  gameCreation  gameDuration  queueId  \\\n",
       "8170  GRANDMASTER  3463315468        NA1  1.592286e+12        1499.0    420.0   \n",
       "\n",
       "      mapId  seasonId     gameVersion gameMode  ...  \\\n",
       "8170   11.0      13.0  10.12.324.5925  CLASSIC  ...   \n",
       "\n",
       "                                         p1_summonerId  \\\n",
       "8170  xFusPxMEX5NsWHi1ZDuzsSZu12C7hESa871V961c2DqQqcnU   \n",
       "\n",
       "                                     p2_summonerId  \\\n",
       "8170  Ols34X0v5nbM0Vgo4E-Uods_Ch6oh9S-vjk8CChIpRb1   \n",
       "\n",
       "                                        p3_summonerId  \\\n",
       "8170  RirpEjhr3Ex5gsa9EwpCxhkrgjdKp7QnGG6caSbtZHNl3Ac   \n",
       "\n",
       "                                         p4_summonerId  \\\n",
       "8170  fLtRb8YqWwjWOuDZBqEP6zlUkBernVUCC9k0SGXyOdOsErkb   \n",
       "\n",
       "                                         p5_summonerId  \\\n",
       "8170  nwlqG6WMnvSnjVR1pfhM4Chs1pxHG4QdPctAKpFRhDL-QFwP   \n",
       "\n",
       "                                         p6_summonerId  \\\n",
       "8170  RAIBxYb5EiNFr1unOvAmoNw-Zfci9qbXtOUtToLhA8TDknKT   \n",
       "\n",
       "                                        p7_summonerId  \\\n",
       "8170  Igii9mTGDz4vLEPBH-U1f6cR0ZY1jviJpYWZdapb6LChRDE   \n",
       "\n",
       "                                        p8_summonerId  \\\n",
       "8170  Qka5zozhnXskkjK7eV2NcGtGpMeeRf1IiP0nCwd6qN7H8Ao   \n",
       "\n",
       "                                        p9_summonerId  \\\n",
       "8170  kmvKw6QowmUHAO4IoTEg8CkhzUOBJ0DamvWYsdYEaq_RFIY   \n",
       "\n",
       "                                       p10_summonerId  \n",
       "8170  uY6leWqOzokrH5gdvhrKn7MMZWPNG7hYYAgTwftt--Aq8iQ  \n",
       "\n",
       "[1 rows x 498 columns]"
      ]
     },
     "execution_count": 50,
     "metadata": {},
     "output_type": "execute_result"
    }
   ],
   "source": [
    "gameId = df.loc[[8170]]['gameId']"
   ]
  },
  {
   "cell_type": "code",
   "execution_count": 83,
   "metadata": {},
   "outputs": [
    {
     "name": "stdout",
     "output_type": "stream",
     "text": [
      "\r",
      "0 of 5\r",
      "1 of 5\r",
      "2 of 5\r",
      "3 of 5\r",
      "4 of 5"
     ]
    }
   ],
   "source": [
    "status = df['gameId'].duplicated()\n",
    "dupes = status[status==True]\n",
    "for idx, d_idx in enumerate(dupes.index):\n",
    "    print(f\"\\r{idx} of {len(dupes.index)}\", end = \"\")\n",
    "    gameId = df.loc[d_idx]['gameId']\n",
    "    t = df[df['gameId']==gameId]\n",
    "    if len(t)<=1:\n",
    "        continue\n",
    "    idx0 = t.index[0]\n",
    "    idx1 = t.index[1]\n",
    "\n",
    "    fields = ['gameId','platformId','gameCreation']\n",
    "    same = True\n",
    "    for field in fields:\n",
    "        if t.loc[idx0][field]!=t.loc[idx1][field]:\n",
    "            same = False\n",
    "            break\n",
    "\n",
    "    if same:\n",
    "        df = df.drop([idx0])\n",
    "\n",
    "\n",
    "    "
   ]
  },
  {
   "cell_type": "code",
   "execution_count": 81,
   "metadata": {},
   "outputs": [
    {
     "data": {
      "text/plain": [
       "4         False\n",
       "6         False\n",
       "8         False\n",
       "12        False\n",
       "14        False\n",
       "          ...  \n",
       "144123    False\n",
       "144124    False\n",
       "144125    False\n",
       "144126    False\n",
       "144127    False\n",
       "Length: 129109, dtype: bool"
      ]
     },
     "execution_count": 81,
     "metadata": {},
     "output_type": "execute_result"
    }
   ],
   "source": [
    "df.duplicated()"
   ]
  },
  {
   "cell_type": "code",
   "execution_count": 47,
   "metadata": {},
   "outputs": [
    {
     "data": {
      "text/html": [
       "<div>\n",
       "<style scoped>\n",
       "    .dataframe tbody tr th:only-of-type {\n",
       "        vertical-align: middle;\n",
       "    }\n",
       "\n",
       "    .dataframe tbody tr th {\n",
       "        vertical-align: top;\n",
       "    }\n",
       "\n",
       "    .dataframe thead th {\n",
       "        text-align: right;\n",
       "    }\n",
       "</style>\n",
       "<table border=\"1\" class=\"dataframe\">\n",
       "  <thead>\n",
       "    <tr style=\"text-align: right;\">\n",
       "      <th></th>\n",
       "      <th>tier</th>\n",
       "      <th>gameId</th>\n",
       "      <th>platformId</th>\n",
       "      <th>gameCreation</th>\n",
       "      <th>gameDuration</th>\n",
       "      <th>queueId</th>\n",
       "      <th>mapId</th>\n",
       "      <th>seasonId</th>\n",
       "      <th>gameVersion</th>\n",
       "      <th>gameMode</th>\n",
       "      <th>...</th>\n",
       "      <th>p1_summonerId</th>\n",
       "      <th>p2_summonerId</th>\n",
       "      <th>p3_summonerId</th>\n",
       "      <th>p4_summonerId</th>\n",
       "      <th>p5_summonerId</th>\n",
       "      <th>p6_summonerId</th>\n",
       "      <th>p7_summonerId</th>\n",
       "      <th>p8_summonerId</th>\n",
       "      <th>p9_summonerId</th>\n",
       "      <th>p10_summonerId</th>\n",
       "    </tr>\n",
       "  </thead>\n",
       "  <tbody>\n",
       "    <tr>\n",
       "      <th>39767</th>\n",
       "      <td>MASTER</td>\n",
       "      <td>3310507770</td>\n",
       "      <td>NA1</td>\n",
       "      <td>1.582961e+12</td>\n",
       "      <td>1847.0</td>\n",
       "      <td>420.0</td>\n",
       "      <td>11.0</td>\n",
       "      <td>13.0</td>\n",
       "      <td>10.4.308.9400</td>\n",
       "      <td>CLASSIC</td>\n",
       "      <td>...</td>\n",
       "      <td>7D6lZrl-uPoRs4mnWMTFdFT1U_KkDbxvPwljWp8vJ9fHOCr-</td>\n",
       "      <td>Rt6AIvrlOOT83S8vCW0HlkhDKI530UFAIlvRXwy1oZzQUvI</td>\n",
       "      <td>PL9F8Wir3p0GFIbS0fXlTLu1XfPfPbC6w3-p8KZBk9jYsTsP</td>\n",
       "      <td>riZReuqHA4MdPH7t9DDZjagdoXB5d4dhvWxawQrxNfZSIeI</td>\n",
       "      <td>WwPzERUXDYWsRTonndghd6wA2kI-9-I1ymSuMltlliMFqpg</td>\n",
       "      <td>iz80TA6UuzOH93qOhcFOKs8dIREqXa196vMniHX0Kp1lGQE</td>\n",
       "      <td>hpQ3suiurulv5b9VE9SjAmAfBDfiWymW8LllfoftCS-KEIM</td>\n",
       "      <td>O1F9xsbExZJhhXHFhqFDceALQE7FtDvElPLFuGS093s_Vow</td>\n",
       "      <td>IgY_jy8fXWrTqq__MnXxySyUFHykdKaFP_FCwbeBVMPZUspj</td>\n",
       "      <td>5a8noOVBzjEneWB3LWwYlBxPZuyJI1QN-yXY-TeMfssj1Vc</td>\n",
       "    </tr>\n",
       "  </tbody>\n",
       "</table>\n",
       "<p>1 rows × 498 columns</p>\n",
       "</div>"
      ],
      "text/plain": [
       "         tier      gameId platformId  gameCreation  gameDuration  queueId  \\\n",
       "39767  MASTER  3310507770        NA1  1.582961e+12        1847.0    420.0   \n",
       "\n",
       "       mapId  seasonId    gameVersion gameMode  ...  \\\n",
       "39767   11.0      13.0  10.4.308.9400  CLASSIC  ...   \n",
       "\n",
       "                                          p1_summonerId  \\\n",
       "39767  7D6lZrl-uPoRs4mnWMTFdFT1U_KkDbxvPwljWp8vJ9fHOCr-   \n",
       "\n",
       "                                         p2_summonerId  \\\n",
       "39767  Rt6AIvrlOOT83S8vCW0HlkhDKI530UFAIlvRXwy1oZzQUvI   \n",
       "\n",
       "                                          p3_summonerId  \\\n",
       "39767  PL9F8Wir3p0GFIbS0fXlTLu1XfPfPbC6w3-p8KZBk9jYsTsP   \n",
       "\n",
       "                                         p4_summonerId  \\\n",
       "39767  riZReuqHA4MdPH7t9DDZjagdoXB5d4dhvWxawQrxNfZSIeI   \n",
       "\n",
       "                                         p5_summonerId  \\\n",
       "39767  WwPzERUXDYWsRTonndghd6wA2kI-9-I1ymSuMltlliMFqpg   \n",
       "\n",
       "                                         p6_summonerId  \\\n",
       "39767  iz80TA6UuzOH93qOhcFOKs8dIREqXa196vMniHX0Kp1lGQE   \n",
       "\n",
       "                                         p7_summonerId  \\\n",
       "39767  hpQ3suiurulv5b9VE9SjAmAfBDfiWymW8LllfoftCS-KEIM   \n",
       "\n",
       "                                         p8_summonerId  \\\n",
       "39767  O1F9xsbExZJhhXHFhqFDceALQE7FtDvElPLFuGS093s_Vow   \n",
       "\n",
       "                                          p9_summonerId  \\\n",
       "39767  IgY_jy8fXWrTqq__MnXxySyUFHykdKaFP_FCwbeBVMPZUspj   \n",
       "\n",
       "                                        p10_summonerId  \n",
       "39767  5a8noOVBzjEneWB3LWwYlBxPZuyJI1QN-yXY-TeMfssj1Vc  \n",
       "\n",
       "[1 rows x 498 columns]"
      ]
     },
     "metadata": {},
     "output_type": "display_data"
    }
   ],
   "source": [
    "dfDupe = dfDupe.append(d)\n",
    "display(dfDupe)"
   ]
  },
  {
   "cell_type": "code",
   "execution_count": 46,
   "metadata": {},
   "outputs": [
    {
     "data": {
      "text/html": [
       "<div>\n",
       "<style scoped>\n",
       "    .dataframe tbody tr th:only-of-type {\n",
       "        vertical-align: middle;\n",
       "    }\n",
       "\n",
       "    .dataframe tbody tr th {\n",
       "        vertical-align: top;\n",
       "    }\n",
       "\n",
       "    .dataframe thead th {\n",
       "        text-align: right;\n",
       "    }\n",
       "</style>\n",
       "<table border=\"1\" class=\"dataframe\">\n",
       "  <thead>\n",
       "    <tr style=\"text-align: right;\">\n",
       "      <th></th>\n",
       "      <th>tier</th>\n",
       "      <th>gameId</th>\n",
       "      <th>platformId</th>\n",
       "      <th>gameCreation</th>\n",
       "      <th>gameDuration</th>\n",
       "      <th>queueId</th>\n",
       "      <th>mapId</th>\n",
       "      <th>seasonId</th>\n",
       "      <th>gameVersion</th>\n",
       "      <th>gameMode</th>\n",
       "      <th>...</th>\n",
       "      <th>p1_summonerId</th>\n",
       "      <th>p2_summonerId</th>\n",
       "      <th>p3_summonerId</th>\n",
       "      <th>p4_summonerId</th>\n",
       "      <th>p5_summonerId</th>\n",
       "      <th>p6_summonerId</th>\n",
       "      <th>p7_summonerId</th>\n",
       "      <th>p8_summonerId</th>\n",
       "      <th>p9_summonerId</th>\n",
       "      <th>p10_summonerId</th>\n",
       "    </tr>\n",
       "  </thead>\n",
       "  <tbody>\n",
       "    <tr>\n",
       "      <th>39767</th>\n",
       "      <td>MASTER</td>\n",
       "      <td>3310507770</td>\n",
       "      <td>NA1</td>\n",
       "      <td>1.582961e+12</td>\n",
       "      <td>1847.0</td>\n",
       "      <td>420.0</td>\n",
       "      <td>11.0</td>\n",
       "      <td>13.0</td>\n",
       "      <td>10.4.308.9400</td>\n",
       "      <td>CLASSIC</td>\n",
       "      <td>...</td>\n",
       "      <td>7D6lZrl-uPoRs4mnWMTFdFT1U_KkDbxvPwljWp8vJ9fHOCr-</td>\n",
       "      <td>Rt6AIvrlOOT83S8vCW0HlkhDKI530UFAIlvRXwy1oZzQUvI</td>\n",
       "      <td>PL9F8Wir3p0GFIbS0fXlTLu1XfPfPbC6w3-p8KZBk9jYsTsP</td>\n",
       "      <td>riZReuqHA4MdPH7t9DDZjagdoXB5d4dhvWxawQrxNfZSIeI</td>\n",
       "      <td>WwPzERUXDYWsRTonndghd6wA2kI-9-I1ymSuMltlliMFqpg</td>\n",
       "      <td>iz80TA6UuzOH93qOhcFOKs8dIREqXa196vMniHX0Kp1lGQE</td>\n",
       "      <td>hpQ3suiurulv5b9VE9SjAmAfBDfiWymW8LllfoftCS-KEIM</td>\n",
       "      <td>O1F9xsbExZJhhXHFhqFDceALQE7FtDvElPLFuGS093s_Vow</td>\n",
       "      <td>IgY_jy8fXWrTqq__MnXxySyUFHykdKaFP_FCwbeBVMPZUspj</td>\n",
       "      <td>5a8noOVBzjEneWB3LWwYlBxPZuyJI1QN-yXY-TeMfssj1Vc</td>\n",
       "    </tr>\n",
       "  </tbody>\n",
       "</table>\n",
       "<p>1 rows × 498 columns</p>\n",
       "</div>"
      ],
      "text/plain": [
       "         tier      gameId platformId  gameCreation  gameDuration  queueId  \\\n",
       "39767  MASTER  3310507770        NA1  1.582961e+12        1847.0    420.0   \n",
       "\n",
       "       mapId  seasonId    gameVersion gameMode  ...  \\\n",
       "39767   11.0      13.0  10.4.308.9400  CLASSIC  ...   \n",
       "\n",
       "                                          p1_summonerId  \\\n",
       "39767  7D6lZrl-uPoRs4mnWMTFdFT1U_KkDbxvPwljWp8vJ9fHOCr-   \n",
       "\n",
       "                                         p2_summonerId  \\\n",
       "39767  Rt6AIvrlOOT83S8vCW0HlkhDKI530UFAIlvRXwy1oZzQUvI   \n",
       "\n",
       "                                          p3_summonerId  \\\n",
       "39767  PL9F8Wir3p0GFIbS0fXlTLu1XfPfPbC6w3-p8KZBk9jYsTsP   \n",
       "\n",
       "                                         p4_summonerId  \\\n",
       "39767  riZReuqHA4MdPH7t9DDZjagdoXB5d4dhvWxawQrxNfZSIeI   \n",
       "\n",
       "                                         p5_summonerId  \\\n",
       "39767  WwPzERUXDYWsRTonndghd6wA2kI-9-I1ymSuMltlliMFqpg   \n",
       "\n",
       "                                         p6_summonerId  \\\n",
       "39767  iz80TA6UuzOH93qOhcFOKs8dIREqXa196vMniHX0Kp1lGQE   \n",
       "\n",
       "                                         p7_summonerId  \\\n",
       "39767  hpQ3suiurulv5b9VE9SjAmAfBDfiWymW8LllfoftCS-KEIM   \n",
       "\n",
       "                                         p8_summonerId  \\\n",
       "39767  O1F9xsbExZJhhXHFhqFDceALQE7FtDvElPLFuGS093s_Vow   \n",
       "\n",
       "                                          p9_summonerId  \\\n",
       "39767  IgY_jy8fXWrTqq__MnXxySyUFHykdKaFP_FCwbeBVMPZUspj   \n",
       "\n",
       "                                        p10_summonerId  \n",
       "39767  5a8noOVBzjEneWB3LWwYlBxPZuyJI1QN-yXY-TeMfssj1Vc  \n",
       "\n",
       "[1 rows x 498 columns]"
      ]
     },
     "execution_count": 46,
     "metadata": {},
     "output_type": "execute_result"
    }
   ],
   "source": [
    "dfDupe.append(d)"
   ]
  },
  {
   "cell_type": "code",
   "execution_count": 57,
   "metadata": {},
   "outputs": [],
   "source": [
    "temp = df"
   ]
  },
  {
   "cell_type": "code",
   "execution_count": null,
   "metadata": {},
   "outputs": [],
   "source": [
    "status = df['gameId'].duplicated()\n",
    "dupes = status[status==True]\n",
    "while len(dupes)>0:\n",
    "    \n",
    "    \n",
    "    \n",
    "    status = df['gameId'].duplicated()\n",
    "    dupes = status[status==True]"
   ]
  }
 ],
 "metadata": {
  "kernelspec": {
   "display_name": "Python 3",
   "language": "python",
   "name": "python3"
  },
  "language_info": {
   "codemirror_mode": {
    "name": "ipython",
    "version": 3
   },
   "file_extension": ".py",
   "mimetype": "text/x-python",
   "name": "python",
   "nbconvert_exporter": "python",
   "pygments_lexer": "ipython3",
   "version": "3.7.5"
  }
 },
 "nbformat": 4,
 "nbformat_minor": 4
}
