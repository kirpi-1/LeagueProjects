{
 "cells": [
  {
   "cell_type": "code",
   "execution_count": 56,
   "metadata": {},
   "outputs": [],
   "source": [
    "import requests\n",
    "import json\n",
    "import pandas as pd\n",
    "import time\n",
    "from IPython.display import clear_output, display\n",
    "import sys\n",
    "import random\n",
    "import numpy as np\n",
    "import os\n",
    "import psycopg2\n",
    "# Strategy\n",
    "# get list of players\n",
    "# from list of players, get list of games\n",
    "# from list of games, get game stats\n",
    "from utils import apikey, payload, rate, regions\n",
    "import utils\n",
    "from sqlalchemy import create_engine\n",
    "\n",
    "dbname = 'league'\n",
    "engine = create_engine(f\"postgresql+psycopg2://{utils.pgUsername}:{utils.pgPassword}@/{dbname}?host={utils.pgHost}\")\n",
    "#conn = psycopg2.connect(dbname=dbname,user=utils.pgUsername,password=utils.pgPassword,host=utils.pgHost)\n",
    "#cursor = conn.cursor()"
   ]
  },
  {
   "cell_type": "code",
   "execution_count": 48,
   "metadata": {},
   "outputs": [],
   "source": [
    "conn.commit()\n"
   ]
  },
  {
   "cell_type": "code",
   "execution_count": 50,
   "metadata": {},
   "outputs": [],
   "source": [
    "conn.close()\n"
   ]
  },
  {
   "cell_type": "code",
   "execution_count": 126,
   "metadata": {},
   "outputs": [],
   "source": [
    "def writeGameInit(pd_table, conn, keys, data_iter):\n",
    "    \"\"\"\n",
    "    Execute SQL statement inserting data\n",
    "\n",
    "    Parameters\n",
    "    ----------\n",
    "    table : pandas.io.sql.SQLTable\n",
    "    conn : sqlalchemy.engine.Engine or sqlalchemy.engine.Connection\n",
    "    keys : list of str\n",
    "        Column names\n",
    "    data_iter : Iterable that iterates the values to be inserted\n",
    "    \"\"\"    \n",
    "    print(keys)\n",
    "    # gets a DBAPI connection that can provide a cursor\n",
    "    dbapi_conn = conn.connection\n",
    "    with dbapi_conn.cursor() as cur:        \n",
    "        query = f\"INSERT INTO {pd_table.name} (gameid, gamecreation, queueid, platformid, region, tier) VALUES \"\n",
    "        vals = list()\n",
    "        for data in data_iter:\n",
    "            gameid = data[keys.index('gameid')]\n",
    "            gamecreation = data[keys.index('timestamp')]\n",
    "            queueid = data[keys.index('queue')]\n",
    "            platformid = data[keys.index('platformid')]\n",
    "            region = data[keys.index('region')]\n",
    "            tier = data[keys.index('tier')]\n",
    "            vals.append(f\"({gameid}, {gamecreation}, {queueid}, '{platformid}', '{region}', '{tier}')\")\n",
    "        query += \", \".join(vals) + \" ON CONFLICT ON CONSTRAINT games_gameid_key DO NOTHING;\n",
    "        display(query)\n",
    "        cur.execute(query)\n",
    "        "
   ]
  },
  {
   "cell_type": "code",
   "execution_count": 127,
   "metadata": {},
   "outputs": [
    {
     "name": "stdout",
     "output_type": "stream",
     "text": [
      "['index', 'gameid', 'queue', 'timestamp', 'platformid', 'tier', 'region']\n"
     ]
    },
    {
     "data": {
      "text/plain": [
       "\"INSERT INTO games_temp (gameid, gamecreation, queueid, platformid, region, tier) VALUES (3640364171, 1604096511411, 420, 'NA1', 'na1', 'GOLD'), (3640361136, 1604095205900, 420, 'NA1', 'na1', 'GOLD'), (3639806211, 1604053436032, 420, 'NA1', 'na1', 'GOLD'), (3638051956, 1603955769905, 420, 'NA1', 'na1', 'GOLD'), (3637954785, 1603952603352, 420, 'NA1', 'na1', 'GOLD'), (3637868432, 1603950046861, 420, 'NA1', 'na1', 'GOLD'), (3634845717, 1603781303647, 420, 'NA1', 'na1', 'GOLD'), (3634836839, 1603778527489, 420, 'NA1', 'na1', 'GOLD'), (3634791343, 1603775650292, 420, 'NA1', 'na1', 'GOLD'), (3633743604, 1603706136029, 420, 'NA1', 'na1', 'GOLD'), (3633770080, 1603703610938, 420, 'NA1', 'na1', 'GOLD'), (3632197251, 1603617214497, 420, 'NA1', 'na1', 'GOLD'), (3632241076, 1603614257080, 420, 'NA1', 'na1', 'GOLD'), (3632097606, 1603611868203, 420, 'NA1', 'na1', 'GOLD'), (3632100987, 1603609082146, 420, 'NA1', 'na1', 'GOLD'), (3632016040, 1603607229339, 420, 'NA1', 'na1', 'GOLD'), (3631958766, 1603604965948, 420, 'NA1', 'na1', 'GOLD'), (3631342147, 1603575213905, 420, 'NA1', 'na1', 'GOLD'), (3630872611, 1603533860872, 420, 'NA1', 'na1', 'GOLD'), (3630838012, 1603530754342, 420, 'NA1', 'na1', 'GOLD'), (3630794667, 1603528117921, 420, 'NA1', 'na1', 'GOLD'), (3630361288, 1603506272505, 420, 'NA1', 'na1', 'GOLD'), (3630353835, 1603504643076, 420, 'NA1', 'na1', 'GOLD'), (3629989486, 1603486359088, 420, 'NA1', 'na1', 'GOLD'), (3629985259, 1603484335087, 420, 'NA1', 'na1', 'GOLD'), (3629607961, 1603456142077, 420, 'NA1', 'na1', 'GOLD'), (3629567553, 1603454656832, 420, 'NA1', 'na1', 'GOLD'), (3629555535, 1603452785077, 420, 'NA1', 'na1', 'GOLD'), (3629582123, 1603450021627, 420, 'NA1', 'na1', 'GOLD'), (3629469581, 1603447578487, 420, 'NA1', 'na1', 'GOLD'), (3629506289, 1603445802307, 420, 'NA1', 'na1', 'GOLD'), (3629484371, 1603443834921, 420, 'NA1', 'na1', 'GOLD'), (3629460998, 1603441097702, 420, 'NA1', 'na1', 'GOLD'), (3628054814, 1603362453120, 420, 'NA1', 'na1', 'GOLD'), (3628110636, 1603360229915, 420, 'NA1', 'na1', 'GOLD'), (3628049887, 1603358090548, 420, 'NA1', 'na1', 'GOLD'), (3628016249, 1603355951633, 420, 'NA1', 'na1', 'GOLD'), (3628012162, 1603353376756, 420, 'NA1', 'na1', 'GOLD'), (3627918675, 1603350923062, 420, 'NA1', 'na1', 'GOLD'), (3627971521, 1603348413763, 420, 'NA1', 'na1', 'GOLD'), (3627868873, 1603346650076, 420, 'NA1', 'na1', 'GOLD'), (3627725640, 1603338807587, 420, 'NA1', 'na1', 'GOLD'), (3627655599, 1603335890363, 420, 'NA1', 'na1', 'GOLD'), (3627594600, 1603332910572, 420, 'NA1', 'na1', 'GOLD'), (3627478604, 1603328323146, 420, 'NA1', 'na1', 'GOLD'), (3627462190, 1603326141662, 420, 'NA1', 'na1', 'GOLD'), (3626860990, 1603280894897, 420, 'NA1', 'na1', 'GOLD'), (3626837121, 1603278494478, 420, 'NA1', 'na1', 'GOLD'), (3626824939, 1603276479385, 420, 'NA1', 'na1', 'GOLD'), (3626842784, 1603274528245, 420, 'NA1', 'na1', 'GOLD'), (3626840428, 1603272500941, 420, 'NA1', 'na1', 'GOLD'), (3626757603, 1603270268607, 420, 'NA1', 'na1', 'GOLD'), (3626734357, 1603267436379, 420, 'NA1', 'na1', 'GOLD'), (3626704484, 1603262904628, 420, 'NA1', 'na1', 'GOLD'), (3626647785, 1603260081870, 420, 'NA1', 'na1', 'GOLD'), (3626506217, 1603252686897, 420, 'NA1', 'na1', 'GOLD'), (3626378164, 1603250124048, 420, 'NA1', 'na1', 'GOLD'), (3626361681, 1603248126661, 420, 'NA1', 'na1', 'GOLD'), (3626175872, 1603246302585, 420, 'NA1', 'na1', 'GOLD'), (3626076582, 1603244016062, 420, 'NA1', 'na1', 'GOLD'), (3623970616, 1603102281214, 420, 'NA1', 'na1', 'GOLD'), (3623908667, 1603100527889, 420, 'NA1', 'na1', 'GOLD'), (3623903579, 1603096625473, 420, 'NA1', 'na1', 'GOLD'), (3623902840, 1603096089190, 420, 'NA1', 'na1', 'GOLD'), (3623859976, 1603093750062, 420, 'NA1', 'na1', 'GOLD'), (3623825633, 1603091888327, 420, 'NA1', 'na1', 'GOLD'), (3622317867, 1603017509080, 420, 'NA1', 'na1', 'GOLD'), (3622325261, 1603015377530, 420, 'NA1', 'na1', 'GOLD'), (3622361098, 1603012568332, 420, 'NA1', 'na1', 'GOLD'), (3622267270, 1603009988752, 420, 'NA1', 'na1', 'GOLD'), (3622280935, 1603006863603, 420, 'NA1', 'na1', 'GOLD'), (3622194988, 1603004178819, 420, 'NA1', 'na1', 'GOLD'), (3622112958, 1602999818142, 420, 'NA1', 'na1', 'GOLD'), (3620997972, 1602930380461, 420, 'NA1', 'na1', 'GOLD'), (3621041916, 1602926162693, 420, 'NA1', 'na1', 'GOLD'), (3620958041, 1602923640810, 420, 'NA1', 'na1', 'GOLD'), (3620961639, 1602920465988, 420, 'NA1', 'na1', 'GOLD'), (3620887261, 1602918478759, 420, 'NA1', 'na1', 'GOLD'), (3619421888, 1602838143869, 420, 'NA1', 'na1', 'GOLD'), (3619316825, 1602834868071, 420, 'NA1', 'na1', 'GOLD'), (3619004094, 1602816444063, 420, 'NA1', 'na1', 'GOLD'), (3618926115, 1602814203254, 420, 'NA1', 'na1', 'GOLD'), (3618707031, 1602804682114, 420, 'NA1', 'na1', 'GOLD'), (3618690757, 1602801927683, 420, 'NA1', 'na1', 'GOLD'), (3618614388, 1602799004397, 420, 'NA1', 'na1', 'GOLD'), (3618650301, 1602797355352, 420, 'NA1', 'na1', 'GOLD'), (3618154921, 1602759021686, 420, 'NA1', 'na1', 'GOLD'), (3618112888, 1602756816635, 420, 'NA1', 'na1', 'GOLD'), (3618059597, 1602754452448, 420, 'NA1', 'na1', 'GOLD'), (3618094585, 1602751663232, 420, 'NA1', 'na1', 'GOLD'), (3618041563, 1602749524943, 420, 'NA1', 'na1', 'GOLD'), (3618006519, 1602747127721, 420, 'NA1', 'na1', 'GOLD'), (3618021670, 1602745141280, 420, 'NA1', 'na1', 'GOLD'), (3617954625, 1602742159601, 420, 'NA1', 'na1', 'GOLD'), (3617877832, 1602739597077, 420, 'NA1', 'na1', 'GOLD'), (3617843382, 1602738018137, 420, 'NA1', 'na1', 'GOLD'), (3616476323, 1602662301805, 420, 'NA1', 'na1', 'GOLD'), (3616443578, 1602660004565, 420, 'NA1', 'na1', 'GOLD'), (3616406791, 1602657064508, 420, 'NA1', 'na1', 'GOLD'), (3615953109, 1602635305183, 420, 'NA1', 'na1', 'GOLD'), (3615713818, 1602622734894, 420, 'NA1', 'na1', 'GOLD'), (3613826361, 1602494912646, 420, 'NA1', 'na1', 'GOLD'), (3613774682, 1602492323022, 420, 'NA1', 'na1', 'GOLD'), (3613734904, 1602487012652, 420, 'NA1', 'na1', 'GOLD'), (3613750822, 1602485211000, 420, 'NA1', 'na1', 'GOLD'), (3613498278, 1602476193597, 420, 'NA1', 'na1', 'GOLD'), (3613448032, 1602473283127, 420, 'NA1', 'na1', 'GOLD'), (3613460821, 1602471272366, 420, 'NA1', 'na1', 'GOLD'), (3612133379, 1602396952117, 420, 'NA1', 'na1', 'GOLD'), (3611589997, 1602370279520, 420, 'NA1', 'na1', 'GOLD'), (3610355502, 1602290352157, 420, 'NA1', 'na1', 'GOLD'), (3610337917, 1602287998568, 420, 'NA1', 'na1', 'GOLD'), (3610166891, 1602278618577, 420, 'NA1', 'na1', 'GOLD'), (3609719839, 1602241855290, 420, 'NA1', 'na1', 'GOLD'), (3609509492, 1602239331150, 420, 'NA1', 'na1', 'GOLD'), (3609507049, 1602236714360, 420, 'NA1', 'na1', 'GOLD'), (3609504671, 1602234388868, 420, 'NA1', 'na1', 'GOLD'), (3609540751, 1602232188255, 420, 'NA1', 'na1', 'GOLD'), (3608657512, 1602187948283, 420, 'NA1', 'na1', 'GOLD'), (3608563903, 1602180310588, 420, 'NA1', 'na1', 'GOLD'), (3608281233, 1602145449566, 420, 'NA1', 'na1', 'GOLD'), (3608237803, 1602143228145, 420, 'NA1', 'na1', 'GOLD'), (3608174912, 1602140481731, 420, 'NA1', 'na1', 'GOLD'), (3608160069, 1602134736285, 420, 'NA1', 'na1', 'GOLD'), (3607577842, 1602109948345, 420, 'NA1', 'na1', 'GOLD'), (3607019127, 1602056667447, 420, 'NA1', 'na1', 'GOLD'), (3606277692, 1602030966418, 420, 'NA1', 'na1', 'GOLD'), (3605599371, 1601975664909, 420, 'NA1', 'na1', 'GOLD'), (3605604291, 1601971710853, 420, 'NA1', 'na1', 'GOLD'), (3605315341, 1601955351420, 420, 'NA1', 'na1', 'GOLD'), (3605257465, 1601952976811, 420, 'NA1', 'na1', 'GOLD'), (3605026443, 1601943025890, 420, 'NA1', 'na1', 'GOLD'), (3604939976, 1601932218805, 420, 'NA1', 'na1', 'GOLD'), (3604664640, 1601911976064, 420, 'NA1', 'na1', 'GOLD'), (3604621379, 1601909075049, 420, 'NA1', 'na1', 'GOLD'), (3604587801, 1601906829889, 420, 'NA1', 'na1', 'GOLD'), (3604563410, 1601902444560, 420, 'NA1', 'na1', 'GOLD'), (3604519563, 1601898531588, 420, 'NA1', 'na1', 'GOLD'), (3603941470, 1601857769405, 420, 'NA1', 'na1', 'GOLD'), (3603837021, 1601855916374, 420, 'NA1', 'na1', 'GOLD'), (3603762886, 1601850635846, 420, 'NA1', 'na1', 'GOLD'), (3603744180, 1601847406825, 420, 'NA1', 'na1', 'GOLD'), (3603638522, 1601845150692, 420, 'NA1', 'na1', 'GOLD'), (3603353491, 1601838376128, 420, 'NA1', 'na1', 'GOLD'), (3603258154, 1601835996829, 420, 'NA1', 'na1', 'GOLD'), (3602755070, 1601789017558, 420, 'NA1', 'na1', 'GOLD'), (3602706822, 1601786542115, 420, 'NA1', 'na1', 'GOLD'), (3602651637, 1601784910616, 420, 'NA1', 'na1', 'GOLD'), (3602286090, 1601767619555, 420, 'NA1', 'na1', 'GOLD'), (3601558913, 1601710402332, 420, 'NA1', 'na1', 'GOLD'), (3601504291, 1601704776409, 420, 'NA1', 'na1', 'GOLD'), (3600074803, 1601631190118, 420, 'NA1', 'na1', 'GOLD'), (3600062147, 1601628908195, 420, 'NA1', 'na1', 'GOLD'), (3600047897, 1601626252508, 420, 'NA1', 'na1', 'GOLD'), (3599760616, 1601608743498, 420, 'NA1', 'na1', 'GOLD'), (3599644364, 1601606816813, 420, 'NA1', 'na1', 'GOLD'), (3599047931, 1601572312038, 420, 'NA1', 'na1', 'GOLD')\""
      ]
     },
     "metadata": {},
     "output_type": "display_data"
    }
   ],
   "source": [
    "df.to_sql('games_temp', engine,if_exists='append',method=writeGameInit)"
   ]
  },
  {
   "cell_type": "code",
   "execution_count": 9,
   "metadata": {},
   "outputs": [],
   "source": [
    "result = None\n",
    "with engine.connect() as connection:\n",
    "    query = f\"SELECT * from summoners where region='{region}' and summonerid='DcqJLORFwEYSUuNlfxkSmNNVGX4DDAs3PQ-ffY8IixP3j33z'\"\n",
    "    result = connection.execute(query)\n",
    "records = result.fetchall()\n",
    "df = pd.DataFrame(records,columns=result.keys())"
   ]
  },
  {
   "cell_type": "code",
   "execution_count": 43,
   "metadata": {},
   "outputs": [
    {
     "name": "stdout",
     "output_type": "stream",
     "text": [
      "['summonerid', 'summonername', 'tier', 'rank', 'region', 'accountid', 'id', 'last_accessed', 'puuid']\n",
      "('U7d5Iw3xkzChNqCzKgT7q48ucGl6zDZvox0grlfiYjz5E1A', 'Just Stibi', 'MASTER', 'I', 'na1', 'tIs5yJ0qgQAGM6VTjKVxXSps9Y_QqNIA5uFWNkBhnNrlRRspJGqSLeJj', 1446459, datetime.datetime(2020, 10, 26, 18, 13, 6, 967488), 'RibKMg3wdgbuKxlpJLVBxotp_C_iItU8cvXEqSpvH8tCxBjsyKJRgoRFsx20Dt2f88b6yy5Q7P54aA')\n"
     ]
    }
   ],
   "source": [
    "summonerId = summonerids[0]\n",
    "query = f\"SELECT * FROM summoners WHERE summonerid='{summonerId}' and region='{region}'\"\n",
    "cursor.execute(query)\n",
    "result = cursor.fetchone()\n",
    "cols = [d[0] for d in cursor.description]\n",
    "print(cols)\n",
    "print(result)"
   ]
  },
  {
   "cell_type": "code",
   "execution_count": 58,
   "metadata": {},
   "outputs": [],
   "source": [
    "records = None\n",
    "with engine.connect() as connection:\n",
    "    result = engine.execute('SELECT * from summoners where last_accessed is not null')\n",
    "    records = result.fetchone()"
   ]
  },
  {
   "cell_type": "code",
   "execution_count": 59,
   "metadata": {},
   "outputs": [
    {
     "data": {
      "text/plain": [
       "('O8NK7bY6rTtglhoY1KQYCK1ro3FPMJPQK1iO6p-xaGoKyQ', '엉덩국 갱승제로', 'DIAMOND', 'I', 'kr', 'i3TMPWxUi5nP8k-Aj_jm1yVDI97VxvV_OXwgS-L0XEwg', 123397, datetime.datetime(2020, 11, 2, 19, 4, 38, 834799), 'a2NeaY7jTugAzkyROF1VOrVNPvK6WuUiveTEncrYsisEkiNwnDaacvqWJlwRyETcQWZ1zZ_oWW0AkA')"
      ]
     },
     "execution_count": 59,
     "metadata": {},
     "output_type": "execute_result"
    }
   ],
   "source": [
    "records"
   ]
  },
  {
   "cell_type": "code",
   "execution_count": 61,
   "metadata": {},
   "outputs": [
    {
     "data": {
      "text/plain": [
       "1604372678.834799"
      ]
     },
     "execution_count": 61,
     "metadata": {},
     "output_type": "execute_result"
    }
   ],
   "source": [
    "records['last_accessed'].timestamp()"
   ]
  },
  {
   "cell_type": "code",
   "execution_count": null,
   "metadata": {},
   "outputs": [],
   "source": []
  }
 ],
 "metadata": {
  "kernelspec": {
   "display_name": "Python 3",
   "language": "python",
   "name": "python3"
  },
  "language_info": {
   "codemirror_mode": {
    "name": "ipython",
    "version": 3
   },
   "file_extension": ".py",
   "mimetype": "text/x-python",
   "name": "python",
   "nbconvert_exporter": "python",
   "pygments_lexer": "ipython3",
   "version": "3.8.5"
  }
 },
 "nbformat": 4,
 "nbformat_minor": 4
}
